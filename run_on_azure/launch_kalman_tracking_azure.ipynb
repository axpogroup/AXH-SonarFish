{
 "cells": [
  {
   "cell_type": "code",
   "execution_count": 1,
   "metadata": {},
   "outputs": [],
   "source": [
    "import os\n",
    "import dotenv\n",
    "\n",
    "from azure.ai.ml import MLClient\n",
    "from azure.identity import AzureCliCredential\n",
    "\n",
    "dotenv.load_dotenv()\n",
    "subscription = os.getenv(f\"subscription_id\")\n",
    "resource_group = os.getenv(f\"resource_group\")\n",
    "workspace = os.getenv(f\"workspace_name\")\n",
    "\n",
    "ml_client = MLClient(\n",
    "    AzureCliCredential(), \n",
    "    subscription, \n",
    "    resource_group, \n",
    "    workspace,\n",
    ")"
   ]
  },
  {
   "cell_type": "code",
   "execution_count": 4,
   "metadata": {},
   "outputs": [],
   "source": [
    "from azure.ai.ml import command, Input, Output\n",
    "from azure.ai.ml.constants import AssetTypes, InputOutputModes\n",
    "from azure.ai.ml.dsl import pipeline\n",
    "\n",
    "\n",
    "datastore_name = 'workspaceblobstore'\n",
    "path_on_datastore = 'stroppel_videos/_test/'\n",
    "output_path_on_datastore = 'stroppel_tracking_output/_test_with_videos_2/'\n",
    "\n",
    "# long-form Datastore uri format:\n",
    "uri = f'azureml://subscriptions/{subscription}/resourcegroups/{resource_group}/workspaces/{workspace}/datastores/{datastore_name}/paths/'\n",
    "uri_input = f'{uri}{path_on_datastore}'\n",
    "uri_output = f'{uri}{output_path_on_datastore}'\n",
    "\n",
    "inputs = {\n",
    "    \"job_data_path\": Input(type=\"uri_file\",\n",
    "              path=uri_input + 'start_2023-03-28T00-25-10.036+00-00.mp4',\n",
    "              mode=InputOutputModes.DOWNLOAD,\n",
    "              )\n",
    "}\n",
    "outputs = {\n",
    "    \"job_output_path\": Output(type=\"uri_folder\",\n",
    "                path=uri_output,\n",
    "                mode=InputOutputModes.RW_MOUNT,\n",
    "                )\n",
    "}"
   ]
  },
  {
   "cell_type": "code",
   "execution_count": 3,
   "metadata": {},
   "outputs": [],
   "source": [
    "arguments = [\n",
    "    \"--tracking_config\", \"kalman_tracking_settings.yaml\",\n",
    "    \"--job_inputs_path\", \"${{inputs.job_data_path}}\",\n",
    "    \"--job_output_path\", \"${{outputs.job_output_path}}\",\n",
    "    \"--log_level\", \"INFO\",\n",
    "]\n",
    "\n",
    "job = command(\n",
    "    code=\"./components/kalman_tracking/src/\",\n",
    "    command=\"python kalman_tracking_azure.py \" + \" \".join(arguments),\n",
    "    environment=\"fishy_environment:6\",\n",
    "    compute=\"Standard-A1-v2\",\n",
    "    experiment_name=\"batch_tracking\",\n",
    "    inputs=inputs,\n",
    "    outputs=outputs,\n",
    ")"
   ]
  },
  {
   "cell_type": "code",
   "execution_count": 4,
   "metadata": {},
   "outputs": [
    {
     "name": "stderr",
     "output_type": "stream",
     "text": [
      "Class AutoDeleteSettingSchema: This is an experimental class, and may change at any time. Please see https://aka.ms/azuremlexperimental for more information.\n",
      "Class AutoDeleteConditionSchema: This is an experimental class, and may change at any time. Please see https://aka.ms/azuremlexperimental for more information.\n",
      "Class BaseAutoDeleteSettingSchema: This is an experimental class, and may change at any time. Please see https://aka.ms/azuremlexperimental for more information.\n",
      "Class IntellectualPropertySchema: This is an experimental class, and may change at any time. Please see https://aka.ms/azuremlexperimental for more information.\n",
      "Class ProtectionLevelSchema: This is an experimental class, and may change at any time. Please see https://aka.ms/azuremlexperimental for more information.\n",
      "Class BaseIntellectualPropertySchema: This is an experimental class, and may change at any time. Please see https://aka.ms/azuremlexperimental for more information.\n"
     ]
    }
   ],
   "source": [
    "import shutil\n",
    "# copy library files to job source directory temporarily\n",
    "pth = './components/kalman_tracking/src/algorithm/'\n",
    "shutil.copytree('../algorithm/', pth)\n",
    "\n",
    "returned_job = ml_client.create_or_update(job)\n",
    "\n",
    "shutil.rmtree(pth)"
   ]
  },
  {
   "cell_type": "markdown",
   "metadata": {},
   "source": [
    "# As normal pipeline"
   ]
  },
  {
   "cell_type": "code",
   "execution_count": 3,
   "metadata": {},
   "outputs": [],
   "source": [
    "from azure.ai.ml import load_component\n",
    "\n",
    "run_tracking = load_component(source=\"./components/kalman_tracking/tracking.yml\")"
   ]
  },
  {
   "cell_type": "code",
   "execution_count": 58,
   "metadata": {},
   "outputs": [],
   "source": [
    "from azure.ai.ml.dsl import pipeline\n",
    "\n",
    "\n",
    "@pipeline(\n",
    "    compute=\"Standard-A1-v2\",\n",
    ")\n",
    "def kalman_tracking_pipeline(\n",
    "    input_data: Input(type=AssetTypes.URI_FOLDER), \n",
    "    output_data: Output(type=AssetTypes.URI_FOLDER) = None,\n",
    "):\n",
    "    tracking_results = run_tracking(\n",
    "        data=input_data,\n",
    "    )\n",
    "    \n",
    "    # tracking_results.outputs.detections = Output(\n",
    "    #     type=\"uri_folder\",\n",
    "    #     path=output_uri,\n",
    "    #     mode=InputOutputModes.RW_MOUNT,\n",
    "    # )\n",
    "\n",
    "    return {\"detections\": tracking_results.outputs.detections}"
   ]
  },
  {
   "cell_type": "code",
   "execution_count": 10,
   "metadata": {},
   "outputs": [],
   "source": [
    "pipeline_input = Input(type=\"uri_folder\",\n",
    "    path=uri_input,\n",
    "    mode=InputOutputModes.DOWNLOAD,\n",
    ")"
   ]
  },
  {
   "cell_type": "code",
   "execution_count": null,
   "metadata": {},
   "outputs": [],
   "source": [
    "pipeline_job = kalman_tracking_pipeline(\n",
    "    input_data=pipeline_input,\n",
    ")\n",
    "\n",
    "import shutil\n",
    "# copy library files to job source directory temporarily\n",
    "pth = './components/kalman_tracking/src/algorithm/'\n",
    "shutil.copytree('../algorithm/', pth)\n",
    "\n",
    "pipeline_job_run = ml_client.jobs.create_or_update(\n",
    "    pipeline_job, experiment_name=\"pipeline-kalman-tracking\"\n",
    ")\n",
    "shutil.rmtree(pth)\n",
    "pipeline_job_run"
   ]
  },
  {
   "cell_type": "markdown",
   "metadata": {},
   "source": [
    "# Classify the Trajectories"
   ]
  },
  {
   "cell_type": "code",
   "execution_count": 4,
   "metadata": {},
   "outputs": [],
   "source": [
    "from azure.ai.ml import load_component\n",
    "\n",
    "run_classification = load_component(source=\"./components/classification/classification.yml\")"
   ]
  },
  {
   "cell_type": "code",
   "execution_count": 5,
   "metadata": {},
   "outputs": [],
   "source": [
    "from azure.ai.ml.dsl import pipeline\n",
    "from azure.ai.ml import command, Input, Output\n",
    "from azure.ai.ml.constants import AssetTypes, InputOutputModes\n",
    "\n",
    "\n",
    "@pipeline(\n",
    "    compute=\"Standard-A1-v2\",\n",
    ")\n",
    "def track_classification_pipeline(\n",
    "    train_val_data: Input(type=AssetTypes.URI_FOLDER), \n",
    "    train_val_gt_data: Input(type=AssetTypes.URI_FOLDER),\n",
    "    files_to_classify: Input(type=AssetTypes.URI_FOLDER),\n",
    "    classified_detections_dir: Output(type=AssetTypes.URI_FOLDER) = None,\n",
    "    log_level: str = \"INFO\",\n",
    "):\n",
    "    \n",
    "    classification_run_results = run_classification(\n",
    "        train_val_data=train_val_data,\n",
    "        train_val_gt_data=train_val_gt_data,\n",
    "        files_to_classify=files_to_classify,\n",
    "        log_level=log_level\n",
    "    )\n",
    "    \n",
    "\n",
    "\n",
    "    return {\"classified_detections_dir\": classification_run_results.outputs.classified_detections_dir}"
   ]
  },
  {
   "cell_type": "code",
   "execution_count": 71,
   "metadata": {},
   "outputs": [],
   "source": [
    "uri = f'azureml://subscriptions/{subscription}/resourcegroups/{resource_group}/workspaces/{workspace}/datastores/{datastore_name}/paths/'\n",
    "uri_train_val_data = f'{uri}stroppel_classification/train_data/cached_features/'\n",
    "uri_train_val_gt_data = f'{uri}stroppel_classification/train_data/ground_truth_tracks/'\n",
    "\n",
    "uri_files_to_classify = f'{uri}stroppel_tracking_output/_test_with_videos/'"
   ]
  },
  {
   "cell_type": "code",
   "execution_count": 72,
   "metadata": {},
   "outputs": [
    {
     "name": "stderr",
     "output_type": "stream",
     "text": [
      "Uploading src (4.49 MBs): 100%|##########| 4488338/4488338 [00:00<00:00, 4972237.76it/s]\n",
      "\n",
      "\n"
     ]
    },
    {
     "data": {
      "text/html": [
       "<table style=\"width:100%\"><tr><th>Experiment</th><th>Name</th><th>Type</th><th>Status</th><th>Details Page</th></tr><tr><td>pipeline-track-classification</td><td>jolly_yuca_kd7ftj93hl</td><td>pipeline</td><td>NotStarted</td><td><a href=\"https://ml.azure.com/runs/jolly_yuca_kd7ftj93hl?wsid=/subscriptions/e9eedc4b-b891-4bf4-a924-06b9c6e0f02f/resourcegroups/axsa-lab-appl-fishsonar-rg/workspaces/axsa-lab-appl-fishsonar-ml&amp;tid=8619c67c-945a-48ae-8e77-35b1b71c9b98\" target=\"_blank\" rel=\"noopener\">Link to Azure Machine Learning studio</a></td></tr></table>"
      ],
      "text/plain": [
       "PipelineJob({'inputs': {'train_val_data': <azure.ai.ml.entities._job.pipeline._io.base.PipelineInput object at 0x0000011063C97730>, 'train_val_gt_data': <azure.ai.ml.entities._job.pipeline._io.base.PipelineInput object at 0x0000011063C959C0>, 'files_to_classify': <azure.ai.ml.entities._job.pipeline._io.base.PipelineInput object at 0x0000011063C97DF0>, 'log_level': <azure.ai.ml.entities._job.pipeline._io.base.PipelineInput object at 0x0000011063C95930>}, 'outputs': {'classified_detections_dir': <azure.ai.ml.entities._job.pipeline._io.base.PipelineOutput object at 0x0000011063C95960>}, 'jobs': {}, 'component': PipelineComponent({'latest_version': None, 'intellectual_property': None, 'auto_increment_version': False, 'source': 'REMOTE.WORKSPACE.JOB', 'is_anonymous': True, 'auto_delete_setting': None, 'name': 'azureml_anonymous', 'description': None, 'tags': {}, 'properties': {}, 'print_as_yaml': False, 'id': None, 'Resource__source_path': None, 'base_path': 'c:\\\\Users\\\\Nicolas Pelzmann\\\\Documents\\\\Projects\\\\EAD\\\\AXH-SonarFish\\\\run_on_azure', 'creation_context': None, 'serialize': <msrest.serialization.Serializer object at 0x0000011063C95270>, 'version': '1', 'schema': None, 'type': 'pipeline', 'display_name': 'track_classification_pipeline', 'is_deterministic': None, 'inputs': {'train_val_data': {}, 'train_val_gt_data': {}, 'files_to_classify': {}, 'log_level': {}}, 'outputs': {'classified_detections_dir': {}}, 'yaml_str': None, 'other_parameter': {}, 'jobs': {'classification_run_results': Command({'parameters': {}, 'init': False, 'name': 'classification_run_results', 'type': 'command', 'status': None, 'log_files': None, 'description': None, 'tags': {}, 'properties': {}, 'print_as_yaml': False, 'id': None, 'Resource__source_path': '', 'base_path': 'c:\\\\Users\\\\Nicolas Pelzmann\\\\Documents\\\\Projects\\\\EAD\\\\AXH-SonarFish\\\\run_on_azure', 'creation_context': None, 'serialize': <msrest.serialization.Serializer object at 0x0000011063C94070>, 'allowed_keys': {}, 'key_restriction': False, 'logger': <TraceLogger attr_dict (WARNING)>, 'display_name': None, 'experiment_name': None, 'compute': None, 'services': None, 'comment': None, 'job_inputs': {'train_val_data': '${{parent.inputs.train_val_data}}', 'train_val_gt_data': '${{parent.inputs.train_val_gt_data}}', 'files_to_classify': '${{parent.inputs.files_to_classify}}', 'log_level': '${{parent.inputs.log_level}}'}, 'job_outputs': {'classified_detections_dir': '${{parent.outputs.classified_detections_dir}}'}, 'inputs': {'train_val_data': <azure.ai.ml.entities._job.pipeline._io.base.NodeInput object at 0x0000011063C95B10>, 'train_val_gt_data': <azure.ai.ml.entities._job.pipeline._io.base.NodeInput object at 0x0000011063C942B0>, 'files_to_classify': <azure.ai.ml.entities._job.pipeline._io.base.NodeInput object at 0x0000011063C94160>, 'log_level': <azure.ai.ml.entities._job.pipeline._io.base.NodeInput object at 0x0000011063C96890>}, 'outputs': {'classified_detections_dir': <azure.ai.ml.entities._job.pipeline._io.base.NodeOutput object at 0x0000011063C70BB0>}, 'component': 'azureml_anonymous:46143193-1233-4f89-a16e-57fb27c25aa2', 'referenced_control_flow_node_instance_id': None, 'kwargs': {'services': None}, 'instance_id': 'df3f6813-62be-49c1-9dbe-ce51ce1ce2db', 'source': 'YAML.COMPONENT', 'validate_required_input_not_provided': True, 'limits': None, 'identity': None, 'distribution': None, 'environment_variables': {}, 'environment': None, 'resources': None, 'queue_settings': None, 'swept': False})}, 'job_types': {'command': 1}, 'job_sources': {'YAML.COMPONENT': 1}, 'source_job_id': None}), 'type': 'pipeline', 'status': 'NotStarted', 'log_files': None, 'name': 'jolly_yuca_kd7ftj93hl', 'description': None, 'tags': {}, 'properties': {'mlflow.source.git.repoURL': 'https://Axpo-AXP@dev.azure.com/Axpo-AXP/AXH-Secret-Module-Development/_git/AXH-SonarFish', 'mlflow.source.git.branch': 'feature/MDS-383/historic-videos-kalman-tracking', 'mlflow.source.git.commit': 'd1e9ee5b8b95d9f4acfd939e00d231867c6befe8', 'azureml.git.dirty': 'True'}, 'print_as_yaml': False, 'id': '/subscriptions/e9eedc4b-b891-4bf4-a924-06b9c6e0f02f/resourceGroups/axsa-lab-appl-fishsonar-rg/providers/Microsoft.MachineLearningServices/workspaces/axsa-lab-appl-fishsonar-ml/jobs/jolly_yuca_kd7ftj93hl', 'Resource__source_path': '', 'base_path': 'c:\\\\Users\\\\Nicolas Pelzmann\\\\Documents\\\\Projects\\\\EAD\\\\AXH-SonarFish\\\\run_on_azure', 'creation_context': <azure.ai.ml.entities._system_data.SystemData object at 0x0000011063C95B40>, 'serialize': <msrest.serialization.Serializer object at 0x0000011063C95360>, 'display_name': 'track_classification_pipeline', 'experiment_name': 'pipeline-track-classification', 'compute': 'Standard-A1-v2', 'services': {'Tracking': {'endpoint': 'azureml://westeurope.api.azureml.ms/mlflow/v1.0/subscriptions/e9eedc4b-b891-4bf4-a924-06b9c6e0f02f/resourceGroups/axsa-lab-appl-fishsonar-rg/providers/Microsoft.MachineLearningServices/workspaces/axsa-lab-appl-fishsonar-ml?', 'type': 'Tracking'}, 'Studio': {'endpoint': 'https://ml.azure.com/runs/jolly_yuca_kd7ftj93hl?wsid=/subscriptions/e9eedc4b-b891-4bf4-a924-06b9c6e0f02f/resourcegroups/axsa-lab-appl-fishsonar-rg/workspaces/axsa-lab-appl-fishsonar-ml&tid=8619c67c-945a-48ae-8e77-35b1b71c9b98', 'type': 'Studio'}}, 'settings': {}, 'identity': None, 'default_code': None, 'default_environment': None})"
      ]
     },
     "execution_count": 72,
     "metadata": {},
     "output_type": "execute_result"
    }
   ],
   "source": [
    "pipeline_job = track_classification_pipeline(\n",
    "    train_val_data=Input(type=AssetTypes.URI_FOLDER, path=uri_train_val_data, mode=InputOutputModes.DOWNLOAD),\n",
    "    train_val_gt_data=Input(type=AssetTypes.URI_FOLDER, path=uri_train_val_gt_data, mode=InputOutputModes.DOWNLOAD),\n",
    "    files_to_classify=Input(type=AssetTypes.URI_FOLDER, path=uri_files_to_classify, mode=InputOutputModes.DOWNLOAD),\n",
    ")\n",
    "\n",
    "import shutil\n",
    "# copy library files to job source directory temporarily\n",
    "pth = './components/classification/src/analysis/classification_utils/'\n",
    "shutil.copytree('../analysis/classification_utils/', pth)\n",
    "\n",
    "pipeline_job_run = ml_client.jobs.create_or_update(\n",
    "    pipeline_job, experiment_name=\"pipeline-track-classification\"\n",
    ")\n",
    "shutil.rmtree(pth)\n",
    "pipeline_job_run"
   ]
  },
  {
   "cell_type": "markdown",
   "metadata": {},
   "source": [
    "# Generate Videos with Classifications"
   ]
  },
  {
   "cell_type": "code",
   "execution_count": 61,
   "metadata": {},
   "outputs": [],
   "source": [
    "from azure.ai.ml import load_component\n",
    "\n",
    "run_tracking = load_component(source=\"./components/kalman_tracking/tracking.yml\")"
   ]
  },
  {
   "cell_type": "code",
   "execution_count": 34,
   "metadata": {},
   "outputs": [],
   "source": [
    "label_files_path_on_datastore = 'azureml/578c4768-4789-4046-98a5-057188bc2662/classified_detections_dir/'\n",
    "uri_label_files = f'{uri}{label_files_path_on_datastore}'\n",
    "\n",
    "labels_dir_input = Input(\n",
    "    type=AssetTypes.URI_FOLDER,\n",
    "    path=uri_label_files,\n",
    "    mode=InputOutputModes.RO_MOUNT,\n",
    ")"
   ]
  },
  {
   "cell_type": "code",
   "execution_count": 35,
   "metadata": {},
   "outputs": [],
   "source": [
    "from azure.ai.ml.dsl import pipeline\n",
    "\n",
    "\n",
    "@pipeline(\n",
    "    compute=\"Standard-D1-v2\",\n",
    ")\n",
    "def track_labeling_pipeline(\n",
    "    input_data: Input(type=AssetTypes.URI_FOLDER), \n",
    "    labels_dir: Input(type=AssetTypes.URI_FOLDER),\n",
    "    output_data: Output(type=AssetTypes.URI_FOLDER) = None,\n",
    "    save_output_video: bool = True,\n",
    "):\n",
    "    tracking_results = run_tracking(\n",
    "        data=input_data,\n",
    "        labels_dir=labels_dir,\n",
    "        save_output_video=save_output_video,\n",
    "    )\n",
    "\n",
    "    return {\"detections\": tracking_results.outputs.detections}"
   ]
  },
  {
   "cell_type": "code",
   "execution_count": 36,
   "metadata": {},
   "outputs": [
    {
     "name": "stderr",
     "output_type": "stream",
     "text": [
      "\u001b[32mUploading src (4.56 MBs): 100%|##########| 4560902/4560902 [00:01<00:00, 2743127.63it/s]\n",
      "\u001b[39m\n",
      "\n"
     ]
    },
    {
     "data": {
      "text/html": [
       "<table style=\"width:100%\"><tr><th>Experiment</th><th>Name</th><th>Type</th><th>Status</th><th>Details Page</th></tr><tr><td>pipeline-kalman-labeling</td><td>sweet_tail_g4ydknpfcg</td><td>pipeline</td><td>NotStarted</td><td><a href=\"https://ml.azure.com/runs/sweet_tail_g4ydknpfcg?wsid=/subscriptions/e9eedc4b-b891-4bf4-a924-06b9c6e0f02f/resourcegroups/axsa-lab-appl-fishsonar-rg/workspaces/axsa-lab-appl-fishsonar-ml&amp;tid=8619c67c-945a-48ae-8e77-35b1b71c9b98\" target=\"_blank\" rel=\"noopener\">Link to Azure Machine Learning studio</a></td></tr></table>"
      ],
      "text/plain": [
       "PipelineJob({'inputs': {'input_data': <azure.ai.ml.entities._job.pipeline._io.base.PipelineInput object at 0x000002B6282FF490>, 'labels_dir': <azure.ai.ml.entities._job.pipeline._io.base.PipelineInput object at 0x000002B6282FCA90>, 'save_output_video': <azure.ai.ml.entities._job.pipeline._io.base.PipelineInput object at 0x000002B6282FEDD0>}, 'outputs': {'detections': <azure.ai.ml.entities._job.pipeline._io.base.PipelineOutput object at 0x000002B6282FFA90>}, 'jobs': {}, 'component': PipelineComponent({'latest_version': None, 'intellectual_property': None, 'auto_increment_version': False, 'source': 'REMOTE.WORKSPACE.JOB', 'is_anonymous': True, 'auto_delete_setting': None, 'name': 'azureml_anonymous', 'description': None, 'tags': {}, 'properties': {}, 'print_as_yaml': False, 'id': None, 'Resource__source_path': None, 'base_path': 'c:\\\\Users\\\\Nicolas Pelzmann\\\\Documents\\\\Projects\\\\EAD\\\\AXH-SonarFish\\\\run_on_azure', 'creation_context': None, 'serialize': <msrest.serialization.Serializer object at 0x000002B6282FCB50>, 'version': '1', 'schema': None, 'type': 'pipeline', 'display_name': 'track_labeling_pipeline', 'is_deterministic': None, 'inputs': {'input_data': {}, 'labels_dir': {}, 'save_output_video': {}}, 'outputs': {'detections': {}}, 'yaml_str': None, 'other_parameter': {}, 'jobs': {'tracking_results': Command({'parameters': {}, 'init': False, 'name': 'tracking_results', 'type': 'command', 'status': None, 'log_files': None, 'description': None, 'tags': {}, 'properties': {}, 'print_as_yaml': False, 'id': None, 'Resource__source_path': '', 'base_path': 'c:\\\\Users\\\\Nicolas Pelzmann\\\\Documents\\\\Projects\\\\EAD\\\\AXH-SonarFish\\\\run_on_azure', 'creation_context': None, 'serialize': <msrest.serialization.Serializer object at 0x000002B6282FF6D0>, 'allowed_keys': {}, 'key_restriction': False, 'logger': <TraceLogger attr_dict (WARNING)>, 'display_name': None, 'experiment_name': None, 'compute': None, 'services': None, 'comment': None, 'job_inputs': {'data': '${{parent.inputs.input_data}}', 'labels_dir': '${{parent.inputs.labels_dir}}', 'save_output_video': '${{parent.inputs.save_output_video}}'}, 'job_outputs': {'detections': '${{parent.outputs.detections}}'}, 'inputs': {'data': <azure.ai.ml.entities._job.pipeline._io.base.NodeInput object at 0x000002B6282FFA00>, 'labels_dir': <azure.ai.ml.entities._job.pipeline._io.base.NodeInput object at 0x000002B6282FD420>, 'save_output_video': <azure.ai.ml.entities._job.pipeline._io.base.NodeInput object at 0x000002B6282FF520>}, 'outputs': {'detections': <azure.ai.ml.entities._job.pipeline._io.base.NodeOutput object at 0x000002B6282FCA00>}, 'component': 'azureml_anonymous:4754701f-6c5b-4519-a461-2a1a0f142476', 'referenced_control_flow_node_instance_id': None, 'kwargs': {'services': None}, 'instance_id': '4bc3eaf2-1183-47d3-8c9f-4a0e5891540f', 'source': 'YAML.COMPONENT', 'validate_required_input_not_provided': True, 'limits': None, 'identity': None, 'distribution': None, 'environment_variables': {}, 'environment': None, 'resources': None, 'queue_settings': None, 'swept': False})}, 'job_types': {'command': 1}, 'job_sources': {'YAML.COMPONENT': 1}, 'source_job_id': None}), 'type': 'pipeline', 'status': 'NotStarted', 'log_files': None, 'name': 'sweet_tail_g4ydknpfcg', 'description': None, 'tags': {}, 'properties': {'mlflow.source.git.repoURL': 'https://Axpo-AXP@dev.azure.com/Axpo-AXP/AXH-Secret-Module-Development/_git/AXH-SonarFish', 'mlflow.source.git.branch': 'feature/MDS-383/historic-videos-kalman-tracking', 'mlflow.source.git.commit': '70a290c01995c8dce2183d85f696c588bb21eadc', 'azureml.git.dirty': 'True'}, 'print_as_yaml': False, 'id': '/subscriptions/e9eedc4b-b891-4bf4-a924-06b9c6e0f02f/resourceGroups/axsa-lab-appl-fishsonar-rg/providers/Microsoft.MachineLearningServices/workspaces/axsa-lab-appl-fishsonar-ml/jobs/sweet_tail_g4ydknpfcg', 'Resource__source_path': '', 'base_path': 'c:\\\\Users\\\\Nicolas Pelzmann\\\\Documents\\\\Projects\\\\EAD\\\\AXH-SonarFish\\\\run_on_azure', 'creation_context': <azure.ai.ml.entities._system_data.SystemData object at 0x000002B6282FE7A0>, 'serialize': <msrest.serialization.Serializer object at 0x000002B6282FF9A0>, 'display_name': 'track_labeling_pipeline', 'experiment_name': 'pipeline-kalman-labeling', 'compute': 'Standard-A1-v2', 'services': {'Tracking': {'endpoint': 'azureml://westeurope.api.azureml.ms/mlflow/v1.0/subscriptions/e9eedc4b-b891-4bf4-a924-06b9c6e0f02f/resourceGroups/axsa-lab-appl-fishsonar-rg/providers/Microsoft.MachineLearningServices/workspaces/axsa-lab-appl-fishsonar-ml?', 'type': 'Tracking'}, 'Studio': {'endpoint': 'https://ml.azure.com/runs/sweet_tail_g4ydknpfcg?wsid=/subscriptions/e9eedc4b-b891-4bf4-a924-06b9c6e0f02f/resourcegroups/axsa-lab-appl-fishsonar-rg/workspaces/axsa-lab-appl-fishsonar-ml&tid=8619c67c-945a-48ae-8e77-35b1b71c9b98', 'type': 'Studio'}}, 'settings': {}, 'identity': None, 'default_code': None, 'default_environment': None})"
      ]
     },
     "execution_count": 36,
     "metadata": {},
     "output_type": "execute_result"
    }
   ],
   "source": [
    "pipeline_job = track_labeling_pipeline(\n",
    "    input_data=pipeline_input,\n",
    "    labels_dir=labels_dir_input,\n",
    ")\n",
    "\n",
    "import shutil\n",
    "# copy library files to job source directory temporarily\n",
    "pth = './components/kalman_tracking/src/algorithm/'\n",
    "shutil.copytree('../algorithm/', pth)\n",
    "\n",
    "pipeline_job_run = ml_client.jobs.create_or_update(\n",
    "    pipeline_job, experiment_name=\"pipeline-kalman-labeling\"\n",
    ")\n",
    "shutil.rmtree(pth)\n",
    "pipeline_job_run"
   ]
  },
  {
   "cell_type": "markdown",
   "metadata": {},
   "source": [
    "# Run all steps in pipeline"
   ]
  },
  {
   "cell_type": "code",
   "execution_count": 6,
   "metadata": {},
   "outputs": [],
   "source": [
    "from azure.ai.ml import load_component\n",
    "\n",
    "run_tracking = load_component(source=\"./components/kalman_tracking/tracking.yml\")\n",
    "run_classification = load_component(source=\"./components/classification/classification.yml\")\n",
    "\n",
    "@pipeline(\n",
    "    compute=\"Standard-D1-v2\",\n",
    ")\n",
    "def tracking_all_steps(\n",
    "    input_data: Input(type=AssetTypes.URI_FOLDER), \n",
    "    train_val_data: Input(type=AssetTypes.URI_FOLDER), \n",
    "    train_val_gt_data: Input(type=AssetTypes.URI_FOLDER),\n",
    "    output_data_uri: str = None,\n",
    "    indermediate_data_uri: str = None,\n",
    "    log_level: str = \"INFO\",\n",
    "):\n",
    "    \n",
    "    tracking_results = run_tracking(\n",
    "        data=input_data,\n",
    "        save_output_video=False,\n",
    "    )\n",
    "    tracking_results.outputs.detections = Output(type=\"uri_folder\", path=indermediate_data_uri, mode=InputOutputModes.RW_MOUNT)\n",
    "    \n",
    "    classification_run_results = run_classification(\n",
    "        train_val_data=train_val_data,\n",
    "        train_val_gt_data=train_val_gt_data,\n",
    "        files_to_classify=tracking_results.outputs.detections,\n",
    "        log_level=log_level,\n",
    "    )\n",
    "    classification_run_results.outputs.classified_detections_dir = Output(\n",
    "        type=\"uri_folder\",\n",
    "        path=output_data_uri,\n",
    "        mode=InputOutputModes.RW_MOUNT,\n",
    "    )\n",
    "    classification_run_results.compute = \"Standard-A2m-v2\"\n",
    "    \n",
    "    labeling_results = run_tracking(\n",
    "        data=input_data,\n",
    "        labels_dir=classification_run_results.outputs.classified_detections_dir,\n",
    "        save_output_video=True,\n",
    "    )\n",
    "\n",
    "    return {\"detections\": labeling_results.outputs.detections}\n",
    "    \n",
    "\n",
    "@pipeline(\n",
    "    compute=\"Standard-D1-v2\",\n",
    ")\n",
    "def tracking_base_steps(\n",
    "    input_data: Input(type=AssetTypes.URI_FOLDER), \n",
    "    train_val_data: Input(type=AssetTypes.URI_FOLDER), \n",
    "    train_val_gt_data: Input(type=AssetTypes.URI_FOLDER),\n",
    "    indermediate_data_uri: str = None,\n",
    "    log_level: str = \"INFO\",\n",
    "):\n",
    "    \n",
    "    tracking_results = run_tracking(\n",
    "        data=input_data,\n",
    "        save_output_video=False,\n",
    "    )\n",
    "    tracking_results.outputs.detections = Output(type=\"uri_folder\", path=indermediate_data_uri, mode=InputOutputModes.RW_MOUNT)\n",
    "    \n",
    "    classification_run_results = run_classification(\n",
    "        train_val_data=train_val_data,\n",
    "        train_val_gt_data=train_val_gt_data,\n",
    "        files_to_classify=tracking_results.outputs.detections,\n",
    "        log_level=log_level,\n",
    "    )\n",
    "    classification_run_results.compute = \"Standard-A2m-v2\"\n",
    "    \n",
    "    return {\"classified_detection_videos_dir\": classification_run_results.outputs.classified_detections_dir}"
   ]
  },
  {
   "cell_type": "code",
   "execution_count": 8,
   "metadata": {},
   "outputs": [
    {
     "data": {
      "text/html": [
       "<table style=\"width:100%\"><tr><th>Experiment</th><th>Name</th><th>Type</th><th>Status</th><th>Details Page</th></tr><tr><td>pipeline-track-all-steps</td><td>honest_sun_4rgvjnvnxz</td><td>pipeline</td><td>NotStarted</td><td><a href=\"https://ml.azure.com/runs/honest_sun_4rgvjnvnxz?wsid=/subscriptions/e9eedc4b-b891-4bf4-a924-06b9c6e0f02f/resourcegroups/axsa-lab-appl-fishsonar-rg/workspaces/axsa-lab-appl-fishsonar-ml&amp;tid=8619c67c-945a-48ae-8e77-35b1b71c9b98\" target=\"_blank\" rel=\"noopener\">Link to Azure Machine Learning studio</a></td></tr></table>"
      ],
      "text/plain": [
       "PipelineJob({'inputs': {'input_data': <azure.ai.ml.entities._job.pipeline._io.base.PipelineInput object at 0x733c520b1d20>, 'train_val_data': <azure.ai.ml.entities._job.pipeline._io.base.PipelineInput object at 0x733c520b1d50>, 'train_val_gt_data': <azure.ai.ml.entities._job.pipeline._io.base.PipelineInput object at 0x733c520b1d80>, 'output_data_uri': <azure.ai.ml.entities._job.pipeline._io.base.PipelineInput object at 0x733c520b1db0>, 'indermediate_data_uri': <azure.ai.ml.entities._job.pipeline._io.base.PipelineInput object at 0x733c520b1de0>, 'log_level': <azure.ai.ml.entities._job.pipeline._io.base.PipelineInput object at 0x733c520b1e10>}, 'outputs': {'detections': <azure.ai.ml.entities._job.pipeline._io.base.PipelineOutput object at 0x733c520b1e70>}, 'jobs': {}, 'component': PipelineComponent({'latest_version': None, 'intellectual_property': None, 'auto_increment_version': False, 'source': 'REMOTE.WORKSPACE.JOB', 'is_anonymous': True, 'auto_delete_setting': None, 'name': 'azureml_anonymous', 'description': None, 'tags': {}, 'properties': {}, 'print_as_yaml': False, 'id': None, 'Resource__source_path': None, 'base_path': '/home/nicolaspelzmann/Documents/projects/MTA/AXH-SonarFish/run_on_azure', 'creation_context': None, 'serialize': <msrest.serialization.Serializer object at 0x733c520b1a50>, 'version': '1', 'schema': None, 'type': 'pipeline', 'display_name': 'tracking_all_steps', 'is_deterministic': None, 'inputs': {'input_data': {}, 'train_val_data': {}, 'train_val_gt_data': {}, 'output_data_uri': {}, 'indermediate_data_uri': {}, 'log_level': {}}, 'outputs': {'detections': {}}, 'yaml_str': None, 'other_parameter': {}, 'jobs': {'tracking_results': Command({'parameters': {}, 'init': False, 'name': 'tracking_results', 'type': 'command', 'status': None, 'log_files': None, 'description': None, 'tags': {}, 'properties': {}, 'print_as_yaml': False, 'id': None, 'Resource__source_path': '', 'base_path': '/home/nicolaspelzmann/Documents/projects/MTA/AXH-SonarFish/run_on_azure', 'creation_context': None, 'serialize': <msrest.serialization.Serializer object at 0x733c520b1450>, 'allowed_keys': {}, 'key_restriction': False, 'logger': <TraceLogger attr_dict (WARNING)>, 'display_name': None, 'experiment_name': None, 'compute': None, 'services': None, 'comment': None, 'job_inputs': {'save_output_video': 'False', 'data': '${{parent.inputs.input_data}}'}, 'job_outputs': {'detections': {'type': 'uri_folder', 'path': '${{parent.inputs.indermediate_data_uri}}', 'mode': 'rw_mount'}}, 'inputs': {'save_output_video': <azure.ai.ml.entities._job.pipeline._io.base.NodeInput object at 0x733c520b18a0>, 'data': <azure.ai.ml.entities._job.pipeline._io.base.NodeInput object at 0x733c520b1390>}, 'outputs': {'detections': <azure.ai.ml.entities._job.pipeline._io.base.NodeOutput object at 0x733c520b1300>}, 'component': 'azureml_anonymous:a5b6067c-4807-4e74-bbe9-cc3f63779ea9', 'referenced_control_flow_node_instance_id': None, 'kwargs': {'services': None}, 'instance_id': '139ee1d3-b229-435e-baf6-63c7c1a028e2', 'source': 'REMOTE.WORKSPACE.COMPONENT', 'validate_required_input_not_provided': True, 'limits': None, 'identity': None, 'distribution': None, 'environment_variables': {}, 'environment': None, 'resources': None, 'queue_settings': None, 'swept': False}), 'classification_run_results': Command({'parameters': {}, 'init': False, 'name': 'classification_run_results', 'type': 'command', 'status': None, 'log_files': None, 'description': None, 'tags': {}, 'properties': {}, 'print_as_yaml': False, 'id': None, 'Resource__source_path': '', 'base_path': '/home/nicolaspelzmann/Documents/projects/MTA/AXH-SonarFish/run_on_azure', 'creation_context': None, 'serialize': <msrest.serialization.Serializer object at 0x733c520b0fa0>, 'allowed_keys': {}, 'key_restriction': False, 'logger': <TraceLogger attr_dict (WARNING)>, 'display_name': None, 'experiment_name': None, 'compute': 'Standard-A2m-v2', 'services': None, 'comment': None, 'job_inputs': {'train_val_data': '${{parent.inputs.train_val_data}}', 'train_val_gt_data': '${{parent.inputs.train_val_gt_data}}', 'files_to_classify': '${{parent.jobs.tracking_results.outputs.detections}}', 'log_level': '${{parent.inputs.log_level}}'}, 'job_outputs': {'classified_detections_dir': {'type': 'uri_folder', 'path': '${{parent.inputs.output_data_uri}}', 'mode': 'rw_mount'}}, 'inputs': {'train_val_data': <azure.ai.ml.entities._job.pipeline._io.base.NodeInput object at 0x733c520b1270>, 'train_val_gt_data': <azure.ai.ml.entities._job.pipeline._io.base.NodeInput object at 0x733c520b11b0>, 'files_to_classify': <azure.ai.ml.entities._job.pipeline._io.base.NodeInput object at 0x733c520b12a0>, 'log_level': <azure.ai.ml.entities._job.pipeline._io.base.NodeInput object at 0x733c520b0f10>}, 'outputs': {'classified_detections_dir': <azure.ai.ml.entities._job.pipeline._io.base.NodeOutput object at 0x733c520b1240>}, 'component': 'azureml_anonymous:445938d1-4c0d-43a3-b246-606ec5e636f7', 'referenced_control_flow_node_instance_id': None, 'kwargs': {'services': None}, 'instance_id': 'cc6a44f3-5ba7-4991-9e2c-b86d2097be7d', 'source': 'REMOTE.WORKSPACE.COMPONENT', 'validate_required_input_not_provided': True, 'limits': None, 'identity': None, 'distribution': None, 'environment_variables': {}, 'environment': None, 'resources': None, 'queue_settings': None, 'swept': False}), 'labeling_results': Command({'parameters': {}, 'init': False, 'name': 'labeling_results', 'type': 'command', 'status': None, 'log_files': None, 'description': None, 'tags': {}, 'properties': {}, 'print_as_yaml': False, 'id': None, 'Resource__source_path': '', 'base_path': '/home/nicolaspelzmann/Documents/projects/MTA/AXH-SonarFish/run_on_azure', 'creation_context': None, 'serialize': <msrest.serialization.Serializer object at 0x733c520b1a20>, 'allowed_keys': {}, 'key_restriction': False, 'logger': <TraceLogger attr_dict (WARNING)>, 'display_name': None, 'experiment_name': None, 'compute': None, 'services': None, 'comment': None, 'job_inputs': {'save_output_video': 'True', 'data': '${{parent.inputs.input_data}}', 'labels_dir': '${{parent.jobs.classification_run_results.outputs.classified_detections_dir}}'}, 'job_outputs': {'detections': '${{parent.outputs.detections}}'}, 'inputs': {'save_output_video': <azure.ai.ml.entities._job.pipeline._io.base.NodeInput object at 0x733c520b17e0>, 'data': <azure.ai.ml.entities._job.pipeline._io.base.NodeInput object at 0x733c520b19c0>, 'labels_dir': <azure.ai.ml.entities._job.pipeline._io.base.NodeInput object at 0x733c520b1990>}, 'outputs': {'detections': <azure.ai.ml.entities._job.pipeline._io.base.NodeOutput object at 0x733c520b19f0>}, 'component': 'azureml_anonymous:a5b6067c-4807-4e74-bbe9-cc3f63779ea9', 'referenced_control_flow_node_instance_id': None, 'kwargs': {'services': None}, 'instance_id': 'e964a2c1-02e8-4658-8e01-bc74941b7a38', 'source': 'REMOTE.WORKSPACE.COMPONENT', 'validate_required_input_not_provided': True, 'limits': None, 'identity': None, 'distribution': None, 'environment_variables': {}, 'environment': None, 'resources': None, 'queue_settings': None, 'swept': False})}, 'job_types': {'command': 3}, 'job_sources': {'REMOTE.WORKSPACE.COMPONENT': 3}, 'source_job_id': None}), 'type': 'pipeline', 'status': 'NotStarted', 'log_files': None, 'name': 'honest_sun_4rgvjnvnxz', 'description': None, 'tags': {'date': '2023-03-28'}, 'properties': {'mlflow.source.git.repoURL': 'https://Axpo-AXP@dev.azure.com/Axpo-AXP/AXH-Secret-Module-Development/_git/AXH-SonarFish', 'mlflow.source.git.branch': 'feature/MDS-383/historic-videos-kalman-tracking', 'mlflow.source.git.commit': '356add9c02752d11d54ca24cf324306923747820', 'azureml.git.dirty': 'True'}, 'print_as_yaml': False, 'id': '/subscriptions/e9eedc4b-b891-4bf4-a924-06b9c6e0f02f/resourceGroups/axsa-lab-appl-fishsonar-rg/providers/Microsoft.MachineLearningServices/workspaces/axsa-lab-appl-fishsonar-ml/jobs/honest_sun_4rgvjnvnxz', 'Resource__source_path': '', 'base_path': '/home/nicolaspelzmann/Documents/projects/MTA/AXH-SonarFish/run_on_azure', 'creation_context': <azure.ai.ml.entities._system_data.SystemData object at 0x733c520b1c60>, 'serialize': <msrest.serialization.Serializer object at 0x733c520b1ea0>, 'display_name': 'tracking_all_steps', 'experiment_name': 'pipeline-track-all-steps', 'compute': 'Standard-D1-v2', 'services': {'Tracking': {'endpoint': 'azureml://westeurope.api.azureml.ms/mlflow/v1.0/subscriptions/e9eedc4b-b891-4bf4-a924-06b9c6e0f02f/resourceGroups/axsa-lab-appl-fishsonar-rg/providers/Microsoft.MachineLearningServices/workspaces/axsa-lab-appl-fishsonar-ml?', 'type': 'Tracking'}, 'Studio': {'endpoint': 'https://ml.azure.com/runs/honest_sun_4rgvjnvnxz?wsid=/subscriptions/e9eedc4b-b891-4bf4-a924-06b9c6e0f02f/resourcegroups/axsa-lab-appl-fishsonar-rg/workspaces/axsa-lab-appl-fishsonar-ml&tid=8619c67c-945a-48ae-8e77-35b1b71c9b98', 'type': 'Studio'}}, 'settings': {}, 'identity': None, 'default_code': None, 'default_environment': None})"
      ]
     },
     "execution_count": 8,
     "metadata": {},
     "output_type": "execute_result"
    }
   ],
   "source": [
    "import shutil\n",
    "from azure.ai.ml import load_component\n",
    "\n",
    "path_on_datastore = 'stroppel_videos/_sanity_check_one_file/'\n",
    "intermediate_path_on_datastore = 'stroppel_tracking_intermediate_data/_sanity_check_one_file/'\n",
    "output_path_on_datastore = 'stroppel_tracking_output/_sanity_check_one_file/'\n",
    "\n",
    "# path_on_datastore = 'stroppel_videos/_sanity_check_one_file/'\n",
    "# intermediate_path_on_datastore = 'stroppel_tracking_intermediate_data/_sanity_check_one_file/'\n",
    "# output_path_on_datastore = 'stroppel_tracking_output/_sanity_check_second_file/'\n",
    "\n",
    "# long-form Datastore uri format:\n",
    "uri_input = f'{uri}{path_on_datastore}'\n",
    "uri_intermediate_data = f'{uri}{intermediate_path_on_datastore}'\n",
    "uri_output = f'{uri}{output_path_on_datastore}'\n",
    "uri_train_val_data = f'{uri}stroppel_classification/train_data/cached_features/'\n",
    "uri_train_val_gt_data = f'{uri}stroppel_classification/train_data/ground_truth_tracks/'\n",
    "\n",
    "generate_videos_with_detections = True\n",
    "\n",
    "\n",
    "if generate_videos_with_detections:\n",
    "    pipeline_job = tracking_all_steps(\n",
    "        input_data=Input(type=AssetTypes.URI_FOLDER, path=uri_input, mode=InputOutputModes.DOWNLOAD),\n",
    "        train_val_data=Input(type=AssetTypes.URI_FOLDER, path=uri_train_val_data, mode=InputOutputModes.DOWNLOAD),\n",
    "        train_val_gt_data=Input(type=AssetTypes.URI_FOLDER, path=uri_train_val_gt_data, mode=InputOutputModes.DOWNLOAD),\n",
    "        output_data_uri=uri_output,\n",
    "        indermediate_data_uri=uri_intermediate_data,\n",
    "    )\n",
    "    pipeline_job.outputs.detections = Output(type=\"uri_folder\", path=uri_output, mode=InputOutputModes.RW_MOUNT)\n",
    "    pipeline_job.tags = {\"date\": \"2023-03-28\"}\n",
    "else:\n",
    "    pipeline_job = tracking_base_steps(\n",
    "        input_data=Input(type=AssetTypes.URI_FOLDER, path=uri_input, mode=InputOutputModes.DOWNLOAD),\n",
    "        train_val_data=Input(type=AssetTypes.URI_FOLDER, path=uri_train_val_data, mode=InputOutputModes.DOWNLOAD),\n",
    "        train_val_gt_data=Input(type=AssetTypes.URI_FOLDER, path=uri_train_val_gt_data, mode=InputOutputModes.DOWNLOAD),\n",
    "        indermediate_data_uri=uri_intermediate_data,\n",
    "    )\n",
    "    pipeline_job.outputs.classified_detection_videos_dir = Output(type=\"uri_folder\", path=uri_output, mode=InputOutputModes.RW_MOUNT)\n",
    "    pipeline_job.tags = {\"date\": \"2023-03-28\"}\n",
    "\n",
    "# copy library files to job source directory temporarily\n",
    "pth_cls = './components/classification/src/analysis/classification_utils/'\n",
    "shutil.copytree('../analysis/classification_utils/', pth_cls)\n",
    "pth = './components/kalman_tracking/src/algorithm/'\n",
    "shutil.copytree('../algorithm/', pth)\n",
    "\n",
    "pipeline_job_run = ml_client.jobs.create_or_update(\n",
    "    pipeline_job, experiment_name=\"pipeline-track-all-steps\"\n",
    ")\n",
    "\n",
    "shutil.rmtree(pth)\n",
    "shutil.rmtree(pth_cls)\n",
    "pipeline_job_run"
   ]
  },
  {
   "cell_type": "markdown",
   "metadata": {},
   "source": [
    "# Run Jobs for every day of the year"
   ]
  },
  {
   "cell_type": "code",
   "execution_count": 167,
   "metadata": {},
   "outputs": [],
   "source": [
    "from typing import Optional\n",
    "import pandas as pd\n",
    "\n",
    "\n",
    "def generate_paths(\n",
    "        datastore_uri: str,\n",
    "        start_date: Optional[str] = None,\n",
    "        end_date: Optional[str] = None,\n",
    "        base_path_on_datastore: str = 'stroppel_videos/',\n",
    "        base_intermediate_path_on_datastore: str = 'stroppel_tracking_intermediate_data/',\n",
    "        base_output_path_on_datastore: str = 'stroppel_tracking_output/',\n",
    "    ):\n",
    "    if start_date:\n",
    "        dates = pd.date_range(start=start_date, end=end_date)\n",
    "    else:\n",
    "        dates = ['_test']\n",
    "    for date in dates:\n",
    "        # Format the date as a string\n",
    "        date_str = date.strftime('%Y-%m-%d') if start_date else date\n",
    "\n",
    "        # Create the paths for the current date\n",
    "        path_on_datastore = f'{datastore_uri}{base_path_on_datastore}{date_str}/'\n",
    "        intermediate_path_on_datastore = f'{datastore_uri}{base_intermediate_path_on_datastore}{date_str}/'\n",
    "        output_path_on_datastore = f'{datastore_uri}{base_output_path_on_datastore}{date_str}/'\n",
    "\n",
    "        yield path_on_datastore, intermediate_path_on_datastore, output_path_on_datastore, date_str"
   ]
  },
  {
   "cell_type": "code",
   "execution_count": 172,
   "metadata": {},
   "outputs": [
    {
     "name": "stdout",
     "output_type": "stream",
     "text": [
      "submitted job with tags: {'date': '2023-03-29'}\n",
      "submitted job with tags: {'date': '2023-03-30'}\n",
      "submitted job with tags: {'date': '2023-03-31'}\n",
      "submitted job with tags: {'date': '2023-04-01'}\n",
      "submitted job with tags: {'date': '2023-04-02'}\n",
      "submitted job with tags: {'date': '2023-04-03'}\n",
      "submitted job with tags: {'date': '2023-04-04'}\n",
      "submitted job with tags: {'date': '2023-04-05'}\n",
      "submitted job with tags: {'date': '2023-04-06'}\n",
      "submitted job with tags: {'date': '2023-04-07'}\n",
      "submitted job with tags: {'date': '2023-04-08'}\n",
      "submitted job with tags: {'date': '2023-04-09'}\n",
      "submitted job with tags: {'date': '2023-04-10'}\n",
      "submitted job with tags: {'date': '2023-04-11'}\n",
      "submitted job with tags: {'date': '2023-04-12'}\n",
      "submitted job with tags: {'date': '2023-04-13'}\n",
      "submitted job with tags: {'date': '2023-04-14'}\n",
      "submitted job with tags: {'date': '2023-04-15'}\n",
      "submitted job with tags: {'date': '2023-04-16'}\n",
      "submitted job with tags: {'date': '2023-04-17'}\n",
      "submitted job with tags: {'date': '2023-04-18'}\n",
      "submitted job with tags: {'date': '2023-04-19'}\n",
      "submitted job with tags: {'date': '2023-04-20'}\n",
      "submitted job with tags: {'date': '2023-04-21'}\n",
      "submitted job with tags: {'date': '2023-04-22'}\n",
      "submitted job with tags: {'date': '2023-04-23'}\n",
      "submitted job with tags: {'date': '2023-04-24'}\n",
      "submitted job with tags: {'date': '2023-04-25'}\n",
      "submitted job with tags: {'date': '2023-04-26'}\n",
      "submitted job with tags: {'date': '2023-04-27'}\n",
      "submitted job with tags: {'date': '2023-04-28'}\n",
      "submitted job with tags: {'date': '2023-04-29'}\n",
      "submitted job with tags: {'date': '2023-04-30'}\n"
     ]
    }
   ],
   "source": [
    "start_date = '2023-03-29'\n",
    "end_date = '2023-04-30'\n",
    "\n",
    "# copy library files to job source directory temporarily\n",
    "pth_cls = './components/classification/src/analysis/classification_utils/'\n",
    "shutil.copytree('../analysis/classification_utils/', pth_cls)\n",
    "pth = './components/kalman_tracking/src/algorithm/'\n",
    "shutil.copytree('../algorithm/', pth)\n",
    "\n",
    "for raw_videos_dir_path, intermediate_path_on_datastore, output_path_on_datastore, date_str in generate_paths(uri, start_date, end_date):\n",
    "    pipeline_job = tracking_base_steps(\n",
    "        input_data=Input(type=AssetTypes.URI_FOLDER, path=raw_videos_dir_path, mode=InputOutputModes.DOWNLOAD),\n",
    "        train_val_data=Input(type=AssetTypes.URI_FOLDER, path=uri_train_val_data, mode=InputOutputModes.DOWNLOAD),\n",
    "        train_val_gt_data=Input(type=AssetTypes.URI_FOLDER, path=uri_train_val_gt_data, mode=InputOutputModes.DOWNLOAD),\n",
    "        indermediate_data_uri=intermediate_path_on_datastore,\n",
    "    )\n",
    "    pipeline_job.outputs.classified_detection_videos_dir = Output(type=\"uri_folder\", path=output_path_on_datastore, mode=InputOutputModes.RW_MOUNT)\n",
    "    pipeline_job.tags = {\"date\": date_str}\n",
    "    \n",
    "    pipeline_job_run = ml_client.jobs.create_or_update(\n",
    "        pipeline_job, \n",
    "        experiment_name=\"pipeline-track-all-steps\",\n",
    "    )\n",
    "    print(f'submitted job with tags: {pipeline_job_run.tags}')\n",
    "    \n",
    "shutil.rmtree(pth)\n",
    "shutil.rmtree(pth_cls)"
   ]
  },
  {
   "cell_type": "code",
   "execution_count": null,
   "metadata": {},
   "outputs": [],
   "source": []
  }
 ],
 "metadata": {
  "kernelspec": {
   "display_name": ".venv",
   "language": "python",
   "name": "python3"
  },
  "language_info": {
   "codemirror_mode": {
    "name": "ipython",
    "version": 3
   },
   "file_extension": ".py",
   "mimetype": "text/x-python",
   "name": "python",
   "nbconvert_exporter": "python",
   "pygments_lexer": "ipython3",
   "version": "3.10.12"
  }
 },
 "nbformat": 4,
 "nbformat_minor": 2
}
