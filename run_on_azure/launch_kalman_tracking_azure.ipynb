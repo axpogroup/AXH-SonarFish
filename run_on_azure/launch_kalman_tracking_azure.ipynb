{
 "cells": [
  {
   "cell_type": "code",
   "execution_count": 1,
   "metadata": {},
   "outputs": [],
   "source": [
    "import os\n",
    "import dotenv\n",
    "\n",
    "from azure.ai.ml import MLClient\n",
    "from azure.identity import AzureCliCredential\n",
    "\n",
    "dotenv.load_dotenv()\n",
    "subscription = os.getenv(f\"subscription_id\")\n",
    "resource_group = os.getenv(f\"resource_group\")\n",
    "workspace = os.getenv(f\"workspace_name\")\n",
    "\n",
    "ml_client = MLClient(\n",
    "    AzureCliCredential(), \n",
    "    subscription, \n",
    "    resource_group, \n",
    "    workspace,\n",
    ")"
   ]
  },
  {
   "cell_type": "code",
   "execution_count": 2,
   "metadata": {},
   "outputs": [],
   "source": [
    "from azure.ai.ml import command, Input, Output\n",
    "from azure.ai.ml.constants import AssetTypes, InputOutputModes\n",
    "\n",
    "\n",
    "# Azure Machine Learning workspace details:\n",
    "subscription = os.getenv(f\"subscription_id\")\n",
    "resource_group = os.getenv(f\"resource_group\")\n",
    "workspace = os.getenv(f\"workspace_name\")\n",
    "datastore_name = 'workspaceblobstore'\n",
    "path_on_datastore = 'stroppel_videos/_test/'\n",
    "output_path_on_datastore = 'stroppel_tracking_output/_test_with_videos_2/'\n",
    "\n",
    "# long-form Datastore uri format:\n",
    "uri = f'azureml://subscriptions/{subscription}/resourcegroups/{resource_group}/workspaces/{workspace}/datastores/{datastore_name}/paths/'\n",
    "uri_input = f'{uri}{path_on_datastore}'\n",
    "uri_output = f'{uri}{output_path_on_datastore}'\n",
    "\n",
    "inputs = {\n",
    "    \"job_data_path\": Input(type=\"uri_file\",\n",
    "              path=uri_input + 'start_2023-03-28T00-25-10.036+00-00.mp4',\n",
    "              mode=InputOutputModes.DOWNLOAD,\n",
    "              )\n",
    "}\n",
    "outputs = {\n",
    "    \"job_output_path\": Output(type=\"uri_folder\",\n",
    "                path=uri_output,\n",
    "                mode=InputOutputModes.RW_MOUNT,\n",
    "                )\n",
    "}"
   ]
  },
  {
   "cell_type": "code",
   "execution_count": 3,
   "metadata": {},
   "outputs": [],
   "source": [
    "arguments = [\n",
    "    \"--tracking_config\", \"kalman_tracking_settings.yaml\",\n",
    "    \"--job_inputs_path\", \"${{inputs.job_data_path}}\",\n",
    "    \"--job_output_path\", \"${{outputs.job_output_path}}\",\n",
    "    \"--log_level\", \"INFO\",\n",
    "]\n",
    "\n",
    "job = command(\n",
    "    code=\"./components/kalman_tracking/src/\",\n",
    "    command=\"python kalman_tracking_azure.py \" + \" \".join(arguments),\n",
    "    environment=\"fishy_environment:6\",\n",
    "    compute=\"Standard-A1-v2\",\n",
    "    experiment_name=\"batch_tracking\",\n",
    "    inputs=inputs,\n",
    "    outputs=outputs,\n",
    ")"
   ]
  },
  {
   "cell_type": "code",
   "execution_count": 4,
   "metadata": {},
   "outputs": [
    {
     "name": "stderr",
     "output_type": "stream",
     "text": [
      "Class AutoDeleteSettingSchema: This is an experimental class, and may change at any time. Please see https://aka.ms/azuremlexperimental for more information.\n",
      "Class AutoDeleteConditionSchema: This is an experimental class, and may change at any time. Please see https://aka.ms/azuremlexperimental for more information.\n",
      "Class BaseAutoDeleteSettingSchema: This is an experimental class, and may change at any time. Please see https://aka.ms/azuremlexperimental for more information.\n",
      "Class IntellectualPropertySchema: This is an experimental class, and may change at any time. Please see https://aka.ms/azuremlexperimental for more information.\n",
      "Class ProtectionLevelSchema: This is an experimental class, and may change at any time. Please see https://aka.ms/azuremlexperimental for more information.\n",
      "Class BaseIntellectualPropertySchema: This is an experimental class, and may change at any time. Please see https://aka.ms/azuremlexperimental for more information.\n"
     ]
    }
   ],
   "source": [
    "import shutil\n",
    "# copy library files to job source directory temporarily\n",
    "pth = './components/kalman_tracking/src/algorithm/'\n",
    "shutil.copytree('../algorithm/', pth)\n",
    "\n",
    "returned_job = ml_client.create_or_update(job)\n",
    "\n",
    "shutil.rmtree(pth)"
   ]
  },
  {
   "cell_type": "markdown",
   "metadata": {},
   "source": [
    "# As normal pipeline"
   ]
  },
  {
   "cell_type": "code",
   "execution_count": 3,
   "metadata": {},
   "outputs": [],
   "source": [
    "from azure.ai.ml import load_component\n",
    "\n",
    "run_tracking = load_component(source=\"./components/kalman_tracking/tracking.yml\")"
   ]
  },
  {
   "cell_type": "code",
   "execution_count": 4,
   "metadata": {},
   "outputs": [],
   "source": [
    "from azure.ai.ml.dsl import pipeline\n",
    "\n",
    "\n",
    "@pipeline(\n",
    "    compute=\"Standard-A1-v2\",\n",
    ")\n",
    "def kalman_tracking_pipeline(\n",
    "    input_data: Input(type=AssetTypes.URI_FOLDER), \n",
    "    output_data: Output(type=AssetTypes.URI_FOLDER) = None,\n",
    "):\n",
    "    tracking_results = run_tracking(\n",
    "        data=input_data,\n",
    "    )\n",
    "    \n",
    "    # tracking_results.outputs.detections = Output(\n",
    "    #     type=\"uri_folder\",\n",
    "    #     path=output_uri,\n",
    "    #     mode=InputOutputModes.RW_MOUNT,\n",
    "    # )\n",
    "\n",
    "    return {\"detections\": tracking_results.outputs.detections}"
   ]
  },
  {
   "cell_type": "code",
   "execution_count": 5,
   "metadata": {},
   "outputs": [
    {
     "name": "stderr",
     "output_type": "stream",
     "text": [
      "Class AutoDeleteSettingSchema: This is an experimental class, and may change at any time. Please see https://aka.ms/azuremlexperimental for more information.\n",
      "Class AutoDeleteConditionSchema: This is an experimental class, and may change at any time. Please see https://aka.ms/azuremlexperimental for more information.\n",
      "Class BaseAutoDeleteSettingSchema: This is an experimental class, and may change at any time. Please see https://aka.ms/azuremlexperimental for more information.\n",
      "Class IntellectualPropertySchema: This is an experimental class, and may change at any time. Please see https://aka.ms/azuremlexperimental for more information.\n",
      "Class ProtectionLevelSchema: This is an experimental class, and may change at any time. Please see https://aka.ms/azuremlexperimental for more information.\n",
      "Class BaseIntellectualPropertySchema: This is an experimental class, and may change at any time. Please see https://aka.ms/azuremlexperimental for more information.\n"
     ]
    },
    {
     "data": {
      "text/html": [
       "<table style=\"width:100%\"><tr><th>Experiment</th><th>Name</th><th>Type</th><th>Status</th><th>Details Page</th></tr><tr><td>pipeline-kalman-tracking</td><td>shy_vase_f6fs4hnyzt</td><td>pipeline</td><td>NotStarted</td><td><a href=\"https://ml.azure.com/runs/shy_vase_f6fs4hnyzt?wsid=/subscriptions/e9eedc4b-b891-4bf4-a924-06b9c6e0f02f/resourcegroups/axsa-lab-appl-fishsonar-rg/workspaces/axsa-lab-appl-fishsonar-ml&amp;tid=8619c67c-945a-48ae-8e77-35b1b71c9b98\" target=\"_blank\" rel=\"noopener\">Link to Azure Machine Learning studio</a></td></tr></table>"
      ],
      "text/plain": [
       "PipelineJob({'inputs': {'input_data': <azure.ai.ml.entities._job.pipeline._io.base.PipelineInput object at 0x00000274A74F3970>}, 'outputs': {'detections': <azure.ai.ml.entities._job.pipeline._io.base.PipelineOutput object at 0x00000274A74F3610>}, 'jobs': {}, 'component': PipelineComponent({'latest_version': None, 'intellectual_property': None, 'auto_increment_version': False, 'source': 'REMOTE.WORKSPACE.JOB', 'is_anonymous': True, 'auto_delete_setting': None, 'name': 'azureml_anonymous', 'description': None, 'tags': {}, 'properties': {}, 'print_as_yaml': False, 'id': None, 'Resource__source_path': None, 'base_path': 'c:\\\\Users\\\\Nicolas Pelzmann\\\\Documents\\\\Projects\\\\EAD\\\\AXH-SonarFish\\\\run_on_azure', 'creation_context': None, 'serialize': <msrest.serialization.Serializer object at 0x00000274A74F3730>, 'version': '1', 'schema': None, 'type': 'pipeline', 'display_name': 'kalman_tracking_pipeline', 'is_deterministic': None, 'inputs': {'input_data': {}}, 'outputs': {'detections': {}}, 'yaml_str': None, 'other_parameter': {}, 'jobs': {'tracking_results': Command({'parameters': {}, 'init': False, 'name': 'tracking_results', 'type': 'command', 'status': None, 'log_files': None, 'description': None, 'tags': {}, 'properties': {}, 'print_as_yaml': False, 'id': None, 'Resource__source_path': '', 'base_path': 'c:\\\\Users\\\\Nicolas Pelzmann\\\\Documents\\\\Projects\\\\EAD\\\\AXH-SonarFish\\\\run_on_azure', 'creation_context': None, 'serialize': <msrest.serialization.Serializer object at 0x00000274A74F35E0>, 'allowed_keys': {}, 'key_restriction': False, 'logger': <TraceLogger attr_dict (WARNING)>, 'display_name': None, 'experiment_name': None, 'compute': None, 'services': None, 'comment': None, 'job_inputs': {'data': '${{parent.inputs.input_data}}'}, 'job_outputs': {'detections': '${{parent.outputs.detections}}'}, 'inputs': {'data': <azure.ai.ml.entities._job.pipeline._io.base.NodeInput object at 0x00000274A74F35B0>}, 'outputs': {'detections': <azure.ai.ml.entities._job.pipeline._io.base.NodeOutput object at 0x00000274A74F36D0>}, 'component': 'azureml_anonymous:993541c6-5608-4df5-a476-fb671e3bed03', 'referenced_control_flow_node_instance_id': None, 'kwargs': {'services': None}, 'instance_id': 'e85c73f1-8d3c-4827-aae9-368c49ea2817', 'source': 'YAML.COMPONENT', 'validate_required_input_not_provided': True, 'limits': None, 'identity': None, 'distribution': None, 'environment_variables': {}, 'environment': None, 'resources': None, 'queue_settings': None, 'swept': False})}, 'job_types': {'command': 1}, 'job_sources': {'YAML.COMPONENT': 1}, 'source_job_id': None}), 'type': 'pipeline', 'status': 'NotStarted', 'log_files': None, 'name': 'shy_vase_f6fs4hnyzt', 'description': None, 'tags': {}, 'properties': {'mlflow.source.git.repoURL': 'https://Axpo-AXP@dev.azure.com/Axpo-AXP/AXH-Secret-Module-Development/_git/AXH-SonarFish', 'mlflow.source.git.branch': 'feature/MDS-383/historic-videos-kalman-tracking', 'mlflow.source.git.commit': '2f748ecf600fbad6a782f8b2a9855ba2c0480a10', 'azureml.git.dirty': 'True'}, 'print_as_yaml': False, 'id': '/subscriptions/e9eedc4b-b891-4bf4-a924-06b9c6e0f02f/resourceGroups/axsa-lab-appl-fishsonar-rg/providers/Microsoft.MachineLearningServices/workspaces/axsa-lab-appl-fishsonar-ml/jobs/shy_vase_f6fs4hnyzt', 'Resource__source_path': '', 'base_path': 'c:\\\\Users\\\\Nicolas Pelzmann\\\\Documents\\\\Projects\\\\EAD\\\\AXH-SonarFish\\\\run_on_azure', 'creation_context': <azure.ai.ml.entities._system_data.SystemData object at 0x00000274A74F3CA0>, 'serialize': <msrest.serialization.Serializer object at 0x00000274A74F3CD0>, 'display_name': 'kalman_tracking_pipeline', 'experiment_name': 'pipeline-kalman-tracking', 'compute': 'Standard-A1-v2', 'services': {'Tracking': {'endpoint': 'azureml://westeurope.api.azureml.ms/mlflow/v1.0/subscriptions/e9eedc4b-b891-4bf4-a924-06b9c6e0f02f/resourceGroups/axsa-lab-appl-fishsonar-rg/providers/Microsoft.MachineLearningServices/workspaces/axsa-lab-appl-fishsonar-ml?', 'type': 'Tracking'}, 'Studio': {'endpoint': 'https://ml.azure.com/runs/shy_vase_f6fs4hnyzt?wsid=/subscriptions/e9eedc4b-b891-4bf4-a924-06b9c6e0f02f/resourcegroups/axsa-lab-appl-fishsonar-rg/workspaces/axsa-lab-appl-fishsonar-ml&tid=8619c67c-945a-48ae-8e77-35b1b71c9b98', 'type': 'Studio'}}, 'settings': {}, 'identity': None, 'default_code': None, 'default_environment': None})"
      ]
     },
     "execution_count": 5,
     "metadata": {},
     "output_type": "execute_result"
    }
   ],
   "source": [
    "pipeline_input = Input(type=\"uri_file\",\n",
    "    path=uri_input,\n",
    "    mode=InputOutputModes.DOWNLOAD,\n",
    ")\n",
    "\n",
    "pipeline_job = kalman_tracking_pipeline(\n",
    "    input_data=pipeline_input,\n",
    ")\n",
    "\n",
    "import shutil\n",
    "# copy library files to job source directory temporarily\n",
    "pth = './components/kalman_tracking/src/algorithm/'\n",
    "shutil.copytree('../algorithm/', pth)\n",
    "\n",
    "pipeline_job_run = ml_client.jobs.create_or_update(\n",
    "    pipeline_job, experiment_name=\"pipeline-kalman-tracking\"\n",
    ")\n",
    "shutil.rmtree(pth)\n",
    "pipeline_job_run"
   ]
  },
  {
   "cell_type": "code",
   "execution_count": null,
   "metadata": {},
   "outputs": [],
   "source": []
  }
 ],
 "metadata": {
  "kernelspec": {
   "display_name": ".venv",
   "language": "python",
   "name": "python3"
  },
  "language_info": {
   "codemirror_mode": {
    "name": "ipython",
    "version": 3
   },
   "file_extension": ".py",
   "mimetype": "text/x-python",
   "name": "python",
   "nbconvert_exporter": "python",
   "pygments_lexer": "ipython3",
   "version": "3.10.10"
  }
 },
 "nbformat": 4,
 "nbformat_minor": 2
}
