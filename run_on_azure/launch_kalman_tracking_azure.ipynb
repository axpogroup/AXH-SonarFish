{
 "cells": [
  {
   "cell_type": "code",
   "execution_count": 3,
   "metadata": {},
   "outputs": [],
   "source": [
    "import os\n",
    "import dotenv\n",
    "\n",
    "from azure.ai.ml import MLClient\n",
    "from azure.identity import AzureCliCredential\n",
    "\n",
    "dotenv.load_dotenv()\n",
    "subscription = os.getenv(f\"subscription_id\")\n",
    "resource_group = os.getenv(f\"resource_group\")\n",
    "workspace = os.getenv(f\"workspace_name\")\n",
    "\n",
    "ml_client = MLClient(\n",
    "    AzureCliCredential(), \n",
    "    subscription, \n",
    "    resource_group, \n",
    "    workspace,\n",
    ")"
   ]
  },
  {
   "cell_type": "code",
   "execution_count": 4,
   "metadata": {},
   "outputs": [
    {
     "name": "stderr",
     "output_type": "stream",
     "text": [
      "AzureCliCredential.get_token failed: Azure CLI not found on path\n"
     ]
    },
    {
     "ename": "CredentialUnavailableError",
     "evalue": "Azure CLI not found on path",
     "output_type": "error",
     "traceback": [
      "\u001b[0;31m---------------------------------------------------------------------------\u001b[0m",
      "\u001b[0;31mCredentialUnavailableError\u001b[0m                Traceback (most recent call last)",
      "Cell \u001b[0;32mIn[4], line 1\u001b[0m\n\u001b[0;32m----> 1\u001b[0m \u001b[38;5;28;43mlist\u001b[39;49m\u001b[43m(\u001b[49m\u001b[43mml_client\u001b[49m\u001b[38;5;241;43m.\u001b[39;49m\u001b[43mcompute\u001b[49m\u001b[38;5;241;43m.\u001b[39;49m\u001b[43mlist\u001b[49m\u001b[43m(\u001b[49m\u001b[43m)\u001b[49m\u001b[43m)\u001b[49m\n",
      "File \u001b[0;32m~/Documents/projects/MTA/AXH-SonarFish/.venv/lib/python3.11/site-packages/azure/core/paging.py:123\u001b[0m, in \u001b[0;36mItemPaged.__next__\u001b[0;34m(self)\u001b[0m\n\u001b[1;32m    121\u001b[0m \u001b[38;5;28;01mif\u001b[39;00m \u001b[38;5;28mself\u001b[39m\u001b[38;5;241m.\u001b[39m_page_iterator \u001b[38;5;129;01mis\u001b[39;00m \u001b[38;5;28;01mNone\u001b[39;00m:\n\u001b[1;32m    122\u001b[0m     \u001b[38;5;28mself\u001b[39m\u001b[38;5;241m.\u001b[39m_page_iterator \u001b[38;5;241m=\u001b[39m itertools\u001b[38;5;241m.\u001b[39mchain\u001b[38;5;241m.\u001b[39mfrom_iterable(\u001b[38;5;28mself\u001b[39m\u001b[38;5;241m.\u001b[39mby_page())\n\u001b[0;32m--> 123\u001b[0m \u001b[38;5;28;01mreturn\u001b[39;00m \u001b[38;5;28;43mnext\u001b[39;49m\u001b[43m(\u001b[49m\u001b[38;5;28;43mself\u001b[39;49m\u001b[38;5;241;43m.\u001b[39;49m\u001b[43m_page_iterator\u001b[49m\u001b[43m)\u001b[49m\n",
      "File \u001b[0;32m~/Documents/projects/MTA/AXH-SonarFish/.venv/lib/python3.11/site-packages/azure/core/paging.py:75\u001b[0m, in \u001b[0;36mPageIterator.__next__\u001b[0;34m(self)\u001b[0m\n\u001b[1;32m     73\u001b[0m     \u001b[38;5;28;01mraise\u001b[39;00m \u001b[38;5;167;01mStopIteration\u001b[39;00m(\u001b[38;5;124m\"\u001b[39m\u001b[38;5;124mEnd of paging\u001b[39m\u001b[38;5;124m\"\u001b[39m)\n\u001b[1;32m     74\u001b[0m \u001b[38;5;28;01mtry\u001b[39;00m:\n\u001b[0;32m---> 75\u001b[0m     \u001b[38;5;28mself\u001b[39m\u001b[38;5;241m.\u001b[39m_response \u001b[38;5;241m=\u001b[39m \u001b[38;5;28;43mself\u001b[39;49m\u001b[38;5;241;43m.\u001b[39;49m\u001b[43m_get_next\u001b[49m\u001b[43m(\u001b[49m\u001b[38;5;28;43mself\u001b[39;49m\u001b[38;5;241;43m.\u001b[39;49m\u001b[43mcontinuation_token\u001b[49m\u001b[43m)\u001b[49m\n\u001b[1;32m     76\u001b[0m \u001b[38;5;28;01mexcept\u001b[39;00m AzureError \u001b[38;5;28;01mas\u001b[39;00m error:\n\u001b[1;32m     77\u001b[0m     \u001b[38;5;28;01mif\u001b[39;00m \u001b[38;5;129;01mnot\u001b[39;00m error\u001b[38;5;241m.\u001b[39mcontinuation_token:\n",
      "File \u001b[0;32m~/Documents/projects/MTA/AXH-SonarFish/.venv/lib/python3.11/site-packages/azure/ai/ml/_restclient/v2023_08_01_preview/operations/_compute_operations.py:692\u001b[0m, in \u001b[0;36mComputeOperations.list.<locals>.get_next\u001b[0;34m(next_link)\u001b[0m\n\u001b[1;32m    689\u001b[0m \u001b[38;5;28;01mdef\u001b[39;00m \u001b[38;5;21mget_next\u001b[39m(next_link\u001b[38;5;241m=\u001b[39m\u001b[38;5;28;01mNone\u001b[39;00m):\n\u001b[1;32m    690\u001b[0m     request \u001b[38;5;241m=\u001b[39m prepare_request(next_link)\n\u001b[0;32m--> 692\u001b[0m     pipeline_response \u001b[38;5;241m=\u001b[39m \u001b[38;5;28;43mself\u001b[39;49m\u001b[38;5;241;43m.\u001b[39;49m\u001b[43m_client\u001b[49m\u001b[38;5;241;43m.\u001b[39;49m\u001b[43m_pipeline\u001b[49m\u001b[38;5;241;43m.\u001b[39;49m\u001b[43mrun\u001b[49m\u001b[43m(\u001b[49m\u001b[43m  \u001b[49m\u001b[38;5;66;43;03m# pylint: disable=protected-access\u001b[39;49;00m\n\u001b[1;32m    693\u001b[0m \u001b[43m        \u001b[49m\u001b[43mrequest\u001b[49m\u001b[43m,\u001b[49m\n\u001b[1;32m    694\u001b[0m \u001b[43m        \u001b[49m\u001b[43mstream\u001b[49m\u001b[38;5;241;43m=\u001b[39;49m\u001b[38;5;28;43;01mFalse\u001b[39;49;00m\u001b[43m,\u001b[49m\n\u001b[1;32m    695\u001b[0m \u001b[43m        \u001b[49m\u001b[38;5;241;43m*\u001b[39;49m\u001b[38;5;241;43m*\u001b[39;49m\u001b[43mkwargs\u001b[49m\n\u001b[1;32m    696\u001b[0m \u001b[43m    \u001b[49m\u001b[43m)\u001b[49m\n\u001b[1;32m    697\u001b[0m     response \u001b[38;5;241m=\u001b[39m pipeline_response\u001b[38;5;241m.\u001b[39mhttp_response\n\u001b[1;32m    699\u001b[0m     \u001b[38;5;28;01mif\u001b[39;00m response\u001b[38;5;241m.\u001b[39mstatus_code \u001b[38;5;129;01mnot\u001b[39;00m \u001b[38;5;129;01min\u001b[39;00m [\u001b[38;5;241m200\u001b[39m]:\n",
      "File \u001b[0;32m~/Documents/projects/MTA/AXH-SonarFish/.venv/lib/python3.11/site-packages/azure/core/pipeline/_base.py:230\u001b[0m, in \u001b[0;36mPipeline.run\u001b[0;34m(self, request, **kwargs)\u001b[0m\n\u001b[1;32m    228\u001b[0m pipeline_request: PipelineRequest[HTTPRequestType] \u001b[38;5;241m=\u001b[39m PipelineRequest(request, context)\n\u001b[1;32m    229\u001b[0m first_node \u001b[38;5;241m=\u001b[39m \u001b[38;5;28mself\u001b[39m\u001b[38;5;241m.\u001b[39m_impl_policies[\u001b[38;5;241m0\u001b[39m] \u001b[38;5;28;01mif\u001b[39;00m \u001b[38;5;28mself\u001b[39m\u001b[38;5;241m.\u001b[39m_impl_policies \u001b[38;5;28;01melse\u001b[39;00m _TransportRunner(\u001b[38;5;28mself\u001b[39m\u001b[38;5;241m.\u001b[39m_transport)\n\u001b[0;32m--> 230\u001b[0m \u001b[38;5;28;01mreturn\u001b[39;00m \u001b[43mfirst_node\u001b[49m\u001b[38;5;241;43m.\u001b[39;49m\u001b[43msend\u001b[49m\u001b[43m(\u001b[49m\u001b[43mpipeline_request\u001b[49m\u001b[43m)\u001b[49m\n",
      "File \u001b[0;32m~/Documents/projects/MTA/AXH-SonarFish/.venv/lib/python3.11/site-packages/azure/core/pipeline/_base.py:86\u001b[0m, in \u001b[0;36m_SansIOHTTPPolicyRunner.send\u001b[0;34m(self, request)\u001b[0m\n\u001b[1;32m     84\u001b[0m _await_result(\u001b[38;5;28mself\u001b[39m\u001b[38;5;241m.\u001b[39m_policy\u001b[38;5;241m.\u001b[39mon_request, request)\n\u001b[1;32m     85\u001b[0m \u001b[38;5;28;01mtry\u001b[39;00m:\n\u001b[0;32m---> 86\u001b[0m     response \u001b[38;5;241m=\u001b[39m \u001b[38;5;28;43mself\u001b[39;49m\u001b[38;5;241;43m.\u001b[39;49m\u001b[43mnext\u001b[49m\u001b[38;5;241;43m.\u001b[39;49m\u001b[43msend\u001b[49m\u001b[43m(\u001b[49m\u001b[43mrequest\u001b[49m\u001b[43m)\u001b[49m\n\u001b[1;32m     87\u001b[0m \u001b[38;5;28;01mexcept\u001b[39;00m \u001b[38;5;167;01mException\u001b[39;00m:  \u001b[38;5;66;03m# pylint: disable=broad-except\u001b[39;00m\n\u001b[1;32m     88\u001b[0m     _await_result(\u001b[38;5;28mself\u001b[39m\u001b[38;5;241m.\u001b[39m_policy\u001b[38;5;241m.\u001b[39mon_exception, request)\n",
      "File \u001b[0;32m~/Documents/projects/MTA/AXH-SonarFish/.venv/lib/python3.11/site-packages/azure/core/pipeline/_base.py:86\u001b[0m, in \u001b[0;36m_SansIOHTTPPolicyRunner.send\u001b[0;34m(self, request)\u001b[0m\n\u001b[1;32m     84\u001b[0m _await_result(\u001b[38;5;28mself\u001b[39m\u001b[38;5;241m.\u001b[39m_policy\u001b[38;5;241m.\u001b[39mon_request, request)\n\u001b[1;32m     85\u001b[0m \u001b[38;5;28;01mtry\u001b[39;00m:\n\u001b[0;32m---> 86\u001b[0m     response \u001b[38;5;241m=\u001b[39m \u001b[38;5;28;43mself\u001b[39;49m\u001b[38;5;241;43m.\u001b[39;49m\u001b[43mnext\u001b[49m\u001b[38;5;241;43m.\u001b[39;49m\u001b[43msend\u001b[49m\u001b[43m(\u001b[49m\u001b[43mrequest\u001b[49m\u001b[43m)\u001b[49m\n\u001b[1;32m     87\u001b[0m \u001b[38;5;28;01mexcept\u001b[39;00m \u001b[38;5;167;01mException\u001b[39;00m:  \u001b[38;5;66;03m# pylint: disable=broad-except\u001b[39;00m\n\u001b[1;32m     88\u001b[0m     _await_result(\u001b[38;5;28mself\u001b[39m\u001b[38;5;241m.\u001b[39m_policy\u001b[38;5;241m.\u001b[39mon_exception, request)\n",
      "    \u001b[0;31m[... skipping similar frames: _SansIOHTTPPolicyRunner.send at line 86 (2 times)]\u001b[0m\n",
      "File \u001b[0;32m~/Documents/projects/MTA/AXH-SonarFish/.venv/lib/python3.11/site-packages/azure/core/pipeline/_base.py:86\u001b[0m, in \u001b[0;36m_SansIOHTTPPolicyRunner.send\u001b[0;34m(self, request)\u001b[0m\n\u001b[1;32m     84\u001b[0m _await_result(\u001b[38;5;28mself\u001b[39m\u001b[38;5;241m.\u001b[39m_policy\u001b[38;5;241m.\u001b[39mon_request, request)\n\u001b[1;32m     85\u001b[0m \u001b[38;5;28;01mtry\u001b[39;00m:\n\u001b[0;32m---> 86\u001b[0m     response \u001b[38;5;241m=\u001b[39m \u001b[38;5;28;43mself\u001b[39;49m\u001b[38;5;241;43m.\u001b[39;49m\u001b[43mnext\u001b[49m\u001b[38;5;241;43m.\u001b[39;49m\u001b[43msend\u001b[49m\u001b[43m(\u001b[49m\u001b[43mrequest\u001b[49m\u001b[43m)\u001b[49m\n\u001b[1;32m     87\u001b[0m \u001b[38;5;28;01mexcept\u001b[39;00m \u001b[38;5;167;01mException\u001b[39;00m:  \u001b[38;5;66;03m# pylint: disable=broad-except\u001b[39;00m\n\u001b[1;32m     88\u001b[0m     _await_result(\u001b[38;5;28mself\u001b[39m\u001b[38;5;241m.\u001b[39m_policy\u001b[38;5;241m.\u001b[39mon_exception, request)\n",
      "File \u001b[0;32m~/Documents/projects/MTA/AXH-SonarFish/.venv/lib/python3.11/site-packages/azure/mgmt/core/policies/_base.py:46\u001b[0m, in \u001b[0;36mARMAutoResourceProviderRegistrationPolicy.send\u001b[0;34m(self, request)\u001b[0m\n\u001b[1;32m     43\u001b[0m \u001b[38;5;28;01mdef\u001b[39;00m \u001b[38;5;21msend\u001b[39m(\u001b[38;5;28mself\u001b[39m, request):\n\u001b[1;32m     44\u001b[0m     \u001b[38;5;66;03m# type: (PipelineRequest[HTTPRequestType], Any) -> PipelineResponse[HTTPRequestType, HTTPResponseType]\u001b[39;00m\n\u001b[1;32m     45\u001b[0m     http_request \u001b[38;5;241m=\u001b[39m request\u001b[38;5;241m.\u001b[39mhttp_request\n\u001b[0;32m---> 46\u001b[0m     response \u001b[38;5;241m=\u001b[39m \u001b[38;5;28;43mself\u001b[39;49m\u001b[38;5;241;43m.\u001b[39;49m\u001b[43mnext\u001b[49m\u001b[38;5;241;43m.\u001b[39;49m\u001b[43msend\u001b[49m\u001b[43m(\u001b[49m\u001b[43mrequest\u001b[49m\u001b[43m)\u001b[49m\n\u001b[1;32m     47\u001b[0m     \u001b[38;5;28;01mif\u001b[39;00m response\u001b[38;5;241m.\u001b[39mhttp_response\u001b[38;5;241m.\u001b[39mstatus_code \u001b[38;5;241m==\u001b[39m \u001b[38;5;241m409\u001b[39m:\n\u001b[1;32m     48\u001b[0m         rp_name \u001b[38;5;241m=\u001b[39m \u001b[38;5;28mself\u001b[39m\u001b[38;5;241m.\u001b[39m_check_rp_not_registered_err(response)\n",
      "File \u001b[0;32m~/Documents/projects/MTA/AXH-SonarFish/.venv/lib/python3.11/site-packages/azure/core/pipeline/policies/_redirect.py:197\u001b[0m, in \u001b[0;36mRedirectPolicy.send\u001b[0;34m(self, request)\u001b[0m\n\u001b[1;32m    195\u001b[0m original_domain \u001b[38;5;241m=\u001b[39m get_domain(request\u001b[38;5;241m.\u001b[39mhttp_request\u001b[38;5;241m.\u001b[39murl) \u001b[38;5;28;01mif\u001b[39;00m redirect_settings[\u001b[38;5;124m\"\u001b[39m\u001b[38;5;124mallow\u001b[39m\u001b[38;5;124m\"\u001b[39m] \u001b[38;5;28;01melse\u001b[39;00m \u001b[38;5;28;01mNone\u001b[39;00m\n\u001b[1;32m    196\u001b[0m \u001b[38;5;28;01mwhile\u001b[39;00m retryable:\n\u001b[0;32m--> 197\u001b[0m     response \u001b[38;5;241m=\u001b[39m \u001b[38;5;28;43mself\u001b[39;49m\u001b[38;5;241;43m.\u001b[39;49m\u001b[43mnext\u001b[49m\u001b[38;5;241;43m.\u001b[39;49m\u001b[43msend\u001b[49m\u001b[43m(\u001b[49m\u001b[43mrequest\u001b[49m\u001b[43m)\u001b[49m\n\u001b[1;32m    198\u001b[0m     redirect_location \u001b[38;5;241m=\u001b[39m \u001b[38;5;28mself\u001b[39m\u001b[38;5;241m.\u001b[39mget_redirect_location(response)\n\u001b[1;32m    199\u001b[0m     \u001b[38;5;28;01mif\u001b[39;00m redirect_location \u001b[38;5;129;01mand\u001b[39;00m redirect_settings[\u001b[38;5;124m\"\u001b[39m\u001b[38;5;124mallow\u001b[39m\u001b[38;5;124m\"\u001b[39m]:\n",
      "File \u001b[0;32m~/Documents/projects/MTA/AXH-SonarFish/.venv/lib/python3.11/site-packages/azure/core/pipeline/policies/_retry.py:531\u001b[0m, in \u001b[0;36mRetryPolicy.send\u001b[0;34m(self, request)\u001b[0m\n\u001b[1;32m    529\u001b[0m \u001b[38;5;28;01mtry\u001b[39;00m:\n\u001b[1;32m    530\u001b[0m     \u001b[38;5;28mself\u001b[39m\u001b[38;5;241m.\u001b[39m_configure_timeout(request, absolute_timeout, is_response_error)\n\u001b[0;32m--> 531\u001b[0m     response \u001b[38;5;241m=\u001b[39m \u001b[38;5;28;43mself\u001b[39;49m\u001b[38;5;241;43m.\u001b[39;49m\u001b[43mnext\u001b[49m\u001b[38;5;241;43m.\u001b[39;49m\u001b[43msend\u001b[49m\u001b[43m(\u001b[49m\u001b[43mrequest\u001b[49m\u001b[43m)\u001b[49m\n\u001b[1;32m    532\u001b[0m     \u001b[38;5;28;01mif\u001b[39;00m \u001b[38;5;28mself\u001b[39m\u001b[38;5;241m.\u001b[39mis_retry(retry_settings, response):\n\u001b[1;32m    533\u001b[0m         retry_active \u001b[38;5;241m=\u001b[39m \u001b[38;5;28mself\u001b[39m\u001b[38;5;241m.\u001b[39mincrement(retry_settings, response\u001b[38;5;241m=\u001b[39mresponse)\n",
      "File \u001b[0;32m~/Documents/projects/MTA/AXH-SonarFish/.venv/lib/python3.11/site-packages/azure/core/pipeline/policies/_authentication.py:124\u001b[0m, in \u001b[0;36mBearerTokenCredentialPolicy.send\u001b[0;34m(self, request)\u001b[0m\n\u001b[1;32m    116\u001b[0m \u001b[38;5;28;01mdef\u001b[39;00m \u001b[38;5;21msend\u001b[39m(\u001b[38;5;28mself\u001b[39m, request: PipelineRequest[HTTPRequestType]) \u001b[38;5;241m-\u001b[39m\u001b[38;5;241m>\u001b[39m PipelineResponse[HTTPRequestType, HTTPResponseType]:\n\u001b[1;32m    117\u001b[0m \u001b[38;5;250m    \u001b[39m\u001b[38;5;124;03m\"\"\"Authorize request with a bearer token and send it to the next policy\u001b[39;00m\n\u001b[1;32m    118\u001b[0m \n\u001b[1;32m    119\u001b[0m \u001b[38;5;124;03m    :param request: The pipeline request object\u001b[39;00m\n\u001b[0;32m   (...)\u001b[0m\n\u001b[1;32m    122\u001b[0m \u001b[38;5;124;03m    :rtype: ~azure.core.pipeline.PipelineResponse\u001b[39;00m\n\u001b[1;32m    123\u001b[0m \u001b[38;5;124;03m    \"\"\"\u001b[39;00m\n\u001b[0;32m--> 124\u001b[0m     \u001b[38;5;28;43mself\u001b[39;49m\u001b[38;5;241;43m.\u001b[39;49m\u001b[43mon_request\u001b[49m\u001b[43m(\u001b[49m\u001b[43mrequest\u001b[49m\u001b[43m)\u001b[49m\n\u001b[1;32m    125\u001b[0m     \u001b[38;5;28;01mtry\u001b[39;00m:\n\u001b[1;32m    126\u001b[0m         response \u001b[38;5;241m=\u001b[39m \u001b[38;5;28mself\u001b[39m\u001b[38;5;241m.\u001b[39mnext\u001b[38;5;241m.\u001b[39msend(request)\n",
      "File \u001b[0;32m~/Documents/projects/MTA/AXH-SonarFish/.venv/lib/python3.11/site-packages/azure/core/pipeline/policies/_authentication.py:99\u001b[0m, in \u001b[0;36mBearerTokenCredentialPolicy.on_request\u001b[0;34m(self, request)\u001b[0m\n\u001b[1;32m     97\u001b[0m         \u001b[38;5;28mself\u001b[39m\u001b[38;5;241m.\u001b[39m_token \u001b[38;5;241m=\u001b[39m \u001b[38;5;28mself\u001b[39m\u001b[38;5;241m.\u001b[39m_credential\u001b[38;5;241m.\u001b[39mget_token(\u001b[38;5;241m*\u001b[39m\u001b[38;5;28mself\u001b[39m\u001b[38;5;241m.\u001b[39m_scopes, enable_cae\u001b[38;5;241m=\u001b[39m\u001b[38;5;28mself\u001b[39m\u001b[38;5;241m.\u001b[39m_enable_cae)\n\u001b[1;32m     98\u001b[0m     \u001b[38;5;28;01melse\u001b[39;00m:\n\u001b[0;32m---> 99\u001b[0m         \u001b[38;5;28mself\u001b[39m\u001b[38;5;241m.\u001b[39m_token \u001b[38;5;241m=\u001b[39m \u001b[38;5;28;43mself\u001b[39;49m\u001b[38;5;241;43m.\u001b[39;49m\u001b[43m_credential\u001b[49m\u001b[38;5;241;43m.\u001b[39;49m\u001b[43mget_token\u001b[49m\u001b[43m(\u001b[49m\u001b[38;5;241;43m*\u001b[39;49m\u001b[38;5;28;43mself\u001b[39;49m\u001b[38;5;241;43m.\u001b[39;49m\u001b[43m_scopes\u001b[49m\u001b[43m)\u001b[49m\n\u001b[1;32m    100\u001b[0m \u001b[38;5;28mself\u001b[39m\u001b[38;5;241m.\u001b[39m_update_headers(request\u001b[38;5;241m.\u001b[39mhttp_request\u001b[38;5;241m.\u001b[39mheaders, \u001b[38;5;28mself\u001b[39m\u001b[38;5;241m.\u001b[39m_token\u001b[38;5;241m.\u001b[39mtoken)\n",
      "File \u001b[0;32m~/Documents/projects/MTA/AXH-SonarFish/.venv/lib/python3.11/site-packages/azure/identity/_internal/decorators.py:33\u001b[0m, in \u001b[0;36mlog_get_token.<locals>.decorator.<locals>.wrapper\u001b[0;34m(*args, **kwargs)\u001b[0m\n\u001b[1;32m     30\u001b[0m \u001b[38;5;129m@functools\u001b[39m\u001b[38;5;241m.\u001b[39mwraps(fn)\n\u001b[1;32m     31\u001b[0m \u001b[38;5;28;01mdef\u001b[39;00m \u001b[38;5;21mwrapper\u001b[39m(\u001b[38;5;241m*\u001b[39margs, \u001b[38;5;241m*\u001b[39m\u001b[38;5;241m*\u001b[39mkwargs):\n\u001b[1;32m     32\u001b[0m     \u001b[38;5;28;01mtry\u001b[39;00m:\n\u001b[0;32m---> 33\u001b[0m         token \u001b[38;5;241m=\u001b[39m \u001b[43mfn\u001b[49m\u001b[43m(\u001b[49m\u001b[38;5;241;43m*\u001b[39;49m\u001b[43margs\u001b[49m\u001b[43m,\u001b[49m\u001b[43m \u001b[49m\u001b[38;5;241;43m*\u001b[39;49m\u001b[38;5;241;43m*\u001b[39;49m\u001b[43mkwargs\u001b[49m\u001b[43m)\u001b[49m\n\u001b[1;32m     34\u001b[0m         _LOGGER\u001b[38;5;241m.\u001b[39mlog(\n\u001b[1;32m     35\u001b[0m             logging\u001b[38;5;241m.\u001b[39mDEBUG \u001b[38;5;28;01mif\u001b[39;00m within_credential_chain\u001b[38;5;241m.\u001b[39mget() \u001b[38;5;28;01melse\u001b[39;00m logging\u001b[38;5;241m.\u001b[39mINFO, \u001b[38;5;124m\"\u001b[39m\u001b[38;5;132;01m%s\u001b[39;00m\u001b[38;5;124m succeeded\u001b[39m\u001b[38;5;124m\"\u001b[39m, qualified_name\n\u001b[1;32m     36\u001b[0m         )\n\u001b[1;32m     37\u001b[0m         \u001b[38;5;28;01mif\u001b[39;00m _LOGGER\u001b[38;5;241m.\u001b[39misEnabledFor(logging\u001b[38;5;241m.\u001b[39mDEBUG):\n",
      "File \u001b[0;32m~/Documents/projects/MTA/AXH-SonarFish/.venv/lib/python3.11/site-packages/azure/identity/_credentials/azure_cli.py:113\u001b[0m, in \u001b[0;36mAzureCliCredential.get_token\u001b[0;34m(self, claims, tenant_id, *scopes, **kwargs)\u001b[0m\n\u001b[1;32m    111\u001b[0m \u001b[38;5;28;01mif\u001b[39;00m tenant:\n\u001b[1;32m    112\u001b[0m     command \u001b[38;5;241m+\u001b[39m\u001b[38;5;241m=\u001b[39m \u001b[38;5;124m\"\u001b[39m\u001b[38;5;124m --tenant \u001b[39m\u001b[38;5;124m\"\u001b[39m \u001b[38;5;241m+\u001b[39m tenant\n\u001b[0;32m--> 113\u001b[0m output \u001b[38;5;241m=\u001b[39m \u001b[43m_run_command\u001b[49m\u001b[43m(\u001b[49m\u001b[43mcommand\u001b[49m\u001b[43m,\u001b[49m\u001b[43m \u001b[49m\u001b[38;5;28;43mself\u001b[39;49m\u001b[38;5;241;43m.\u001b[39;49m\u001b[43m_process_timeout\u001b[49m\u001b[43m)\u001b[49m\n\u001b[1;32m    115\u001b[0m token \u001b[38;5;241m=\u001b[39m parse_token(output)\n\u001b[1;32m    116\u001b[0m \u001b[38;5;28;01mif\u001b[39;00m \u001b[38;5;129;01mnot\u001b[39;00m token:\n",
      "File \u001b[0;32m~/Documents/projects/MTA/AXH-SonarFish/.venv/lib/python3.11/site-packages/azure/identity/_credentials/azure_cli.py:184\u001b[0m, in \u001b[0;36m_run_command\u001b[0;34m(command, timeout)\u001b[0m\n\u001b[1;32m    181\u001b[0m \u001b[38;5;28;01mdef\u001b[39;00m \u001b[38;5;21m_run_command\u001b[39m(command: \u001b[38;5;28mstr\u001b[39m, timeout: \u001b[38;5;28mint\u001b[39m) \u001b[38;5;241m-\u001b[39m\u001b[38;5;241m>\u001b[39m \u001b[38;5;28mstr\u001b[39m:\n\u001b[1;32m    182\u001b[0m     \u001b[38;5;66;03m# Ensure executable exists in PATH first. This avoids a subprocess call that would fail anyway.\u001b[39;00m\n\u001b[1;32m    183\u001b[0m     \u001b[38;5;28;01mif\u001b[39;00m shutil\u001b[38;5;241m.\u001b[39mwhich(EXECUTABLE_NAME) \u001b[38;5;129;01mis\u001b[39;00m \u001b[38;5;28;01mNone\u001b[39;00m:\n\u001b[0;32m--> 184\u001b[0m         \u001b[38;5;28;01mraise\u001b[39;00m CredentialUnavailableError(message\u001b[38;5;241m=\u001b[39mCLI_NOT_FOUND)\n\u001b[1;32m    186\u001b[0m     \u001b[38;5;28;01mif\u001b[39;00m sys\u001b[38;5;241m.\u001b[39mplatform\u001b[38;5;241m.\u001b[39mstartswith(\u001b[38;5;124m\"\u001b[39m\u001b[38;5;124mwin\u001b[39m\u001b[38;5;124m\"\u001b[39m):\n\u001b[1;32m    187\u001b[0m         args \u001b[38;5;241m=\u001b[39m [\u001b[38;5;124m\"\u001b[39m\u001b[38;5;124mcmd\u001b[39m\u001b[38;5;124m\"\u001b[39m, \u001b[38;5;124m\"\u001b[39m\u001b[38;5;124m/c\u001b[39m\u001b[38;5;124m\"\u001b[39m, command]\n",
      "\u001b[0;31mCredentialUnavailableError\u001b[0m: Azure CLI not found on path"
     ]
    }
   ],
   "source": [
    "list(ml_client.compute.list())"
   ]
  },
  {
   "cell_type": "code",
   "execution_count": 60,
   "metadata": {},
   "outputs": [],
   "source": [
    "from azure.ai.ml import command, Input, Output\n",
    "from azure.ai.ml.constants import AssetTypes, InputOutputModes\n",
    "from azure.ai.ml.dsl import pipeline\n",
    "\n",
    "\n",
    "\n",
    "# Azure Machine Learning workspace details:\n",
    "subscription = os.getenv(f\"subscription_id\")\n",
    "resource_group = os.getenv(f\"resource_group\")\n",
    "workspace = os.getenv(f\"workspace_name\")\n",
    "datastore_name = 'workspaceblobstore'\n",
    "path_on_datastore = 'stroppel_videos/_test/'\n",
    "output_path_on_datastore = 'stroppel_tracking_output/_test_with_videos_2/'\n",
    "\n",
    "# long-form Datastore uri format:\n",
    "uri = f'azureml://subscriptions/{subscription}/resourcegroups/{resource_group}/workspaces/{workspace}/datastores/{datastore_name}/paths/'\n",
    "uri_input = f'{uri}{path_on_datastore}'\n",
    "uri_output = f'{uri}{output_path_on_datastore}'\n",
    "\n",
    "inputs = {\n",
    "    \"job_data_path\": Input(type=\"uri_file\",\n",
    "              path=uri_input + 'start_2023-03-28T00-25-10.036+00-00.mp4',\n",
    "              mode=InputOutputModes.DOWNLOAD,\n",
    "              )\n",
    "}\n",
    "outputs = {\n",
    "    \"job_output_path\": Output(type=\"uri_folder\",\n",
    "                path=uri_output,\n",
    "                mode=InputOutputModes.RW_MOUNT,\n",
    "                )\n",
    "}"
   ]
  },
  {
   "cell_type": "code",
   "execution_count": 3,
   "metadata": {},
   "outputs": [],
   "source": [
    "arguments = [\n",
    "    \"--tracking_config\", \"kalman_tracking_settings.yaml\",\n",
    "    \"--job_inputs_path\", \"${{inputs.job_data_path}}\",\n",
    "    \"--job_output_path\", \"${{outputs.job_output_path}}\",\n",
    "    \"--log_level\", \"INFO\",\n",
    "]\n",
    "\n",
    "job = command(\n",
    "    code=\"./components/kalman_tracking/src/\",\n",
    "    command=\"python kalman_tracking_azure.py \" + \" \".join(arguments),\n",
    "    environment=\"fishy_environment:6\",\n",
    "    compute=\"Standard-A1-v2\",\n",
    "    experiment_name=\"batch_tracking\",\n",
    "    inputs=inputs,\n",
    "    outputs=outputs,\n",
    ")"
   ]
  },
  {
   "cell_type": "code",
   "execution_count": 4,
   "metadata": {},
   "outputs": [
    {
     "name": "stderr",
     "output_type": "stream",
     "text": [
      "Class AutoDeleteSettingSchema: This is an experimental class, and may change at any time. Please see https://aka.ms/azuremlexperimental for more information.\n",
      "Class AutoDeleteConditionSchema: This is an experimental class, and may change at any time. Please see https://aka.ms/azuremlexperimental for more information.\n",
      "Class BaseAutoDeleteSettingSchema: This is an experimental class, and may change at any time. Please see https://aka.ms/azuremlexperimental for more information.\n",
      "Class IntellectualPropertySchema: This is an experimental class, and may change at any time. Please see https://aka.ms/azuremlexperimental for more information.\n",
      "Class ProtectionLevelSchema: This is an experimental class, and may change at any time. Please see https://aka.ms/azuremlexperimental for more information.\n",
      "Class BaseIntellectualPropertySchema: This is an experimental class, and may change at any time. Please see https://aka.ms/azuremlexperimental for more information.\n"
     ]
    }
   ],
   "source": [
    "import shutil\n",
    "# copy library files to job source directory temporarily\n",
    "pth = './components/kalman_tracking/src/algorithm/'\n",
    "shutil.copytree('../algorithm/', pth)\n",
    "\n",
    "returned_job = ml_client.create_or_update(job)\n",
    "\n",
    "shutil.rmtree(pth)"
   ]
  },
  {
   "cell_type": "markdown",
   "metadata": {},
   "source": [
    "# As normal pipeline"
   ]
  },
  {
   "cell_type": "code",
   "execution_count": 3,
   "metadata": {},
   "outputs": [],
   "source": [
    "from azure.ai.ml import load_component\n",
    "\n",
    "run_tracking = load_component(source=\"./components/kalman_tracking/tracking.yml\")"
   ]
  },
  {
   "cell_type": "code",
   "execution_count": 58,
   "metadata": {},
   "outputs": [],
   "source": [
    "from azure.ai.ml.dsl import pipeline\n",
    "\n",
    "\n",
    "@pipeline(\n",
    "    compute=\"Standard-A1-v2\",\n",
    ")\n",
    "def kalman_tracking_pipeline(\n",
    "    input_data: Input(type=AssetTypes.URI_FOLDER), \n",
    "    output_data: Output(type=AssetTypes.URI_FOLDER) = None,\n",
    "):\n",
    "    tracking_results = run_tracking(\n",
    "        data=input_data,\n",
    "    )\n",
    "    \n",
    "    # tracking_results.outputs.detections = Output(\n",
    "    #     type=\"uri_folder\",\n",
    "    #     path=output_uri,\n",
    "    #     mode=InputOutputModes.RW_MOUNT,\n",
    "    # )\n",
    "\n",
    "    return {\"detections\": tracking_results.outputs.detections}"
   ]
  },
  {
   "cell_type": "code",
   "execution_count": 10,
   "metadata": {},
   "outputs": [],
   "source": [
    "pipeline_input = Input(type=\"uri_folder\",\n",
    "    path=uri_input,\n",
    "    mode=InputOutputModes.DOWNLOAD,\n",
    ")"
   ]
  },
  {
   "cell_type": "code",
   "execution_count": 59,
   "metadata": {},
   "outputs": [
    {
     "ename": "KeyboardInterrupt",
     "evalue": "",
     "output_type": "error",
     "traceback": [
      "\u001b[1;31m---------------------------------------------------------------------------\u001b[0m",
      "\u001b[1;31mKeyboardInterrupt\u001b[0m                         Traceback (most recent call last)",
      "Cell \u001b[1;32mIn[59], line 15\u001b[0m\n\u001b[0;32m     12\u001b[0m pth \u001b[38;5;241m=\u001b[39m \u001b[38;5;124m'\u001b[39m\u001b[38;5;124m./components/kalman_tracking/src/algorithm/\u001b[39m\u001b[38;5;124m'\u001b[39m\n\u001b[0;32m     13\u001b[0m shutil\u001b[38;5;241m.\u001b[39mcopytree(\u001b[38;5;124m'\u001b[39m\u001b[38;5;124m../algorithm/\u001b[39m\u001b[38;5;124m'\u001b[39m, pth)\n\u001b[1;32m---> 15\u001b[0m pipeline_job_run \u001b[38;5;241m=\u001b[39m \u001b[43mml_client\u001b[49m\u001b[38;5;241;43m.\u001b[39;49m\u001b[43mjobs\u001b[49m\u001b[38;5;241;43m.\u001b[39;49m\u001b[43mcreate_or_update\u001b[49m\u001b[43m(\u001b[49m\n\u001b[0;32m     16\u001b[0m \u001b[43m    \u001b[49m\u001b[43mpipeline_job\u001b[49m\u001b[43m,\u001b[49m\u001b[43m \u001b[49m\u001b[43mexperiment_name\u001b[49m\u001b[38;5;241;43m=\u001b[39;49m\u001b[38;5;124;43m\"\u001b[39;49m\u001b[38;5;124;43mpipeline-kalman-tracking\u001b[39;49m\u001b[38;5;124;43m\"\u001b[39;49m\n\u001b[0;32m     17\u001b[0m \u001b[43m)\u001b[49m\n\u001b[0;32m     18\u001b[0m shutil\u001b[38;5;241m.\u001b[39mrmtree(pth)\n\u001b[0;32m     19\u001b[0m pipeline_job_run\n",
      "File \u001b[1;32mc:\\Users\\Nicolas Pelzmann\\Documents\\Projects\\EAD\\AXH-SonarFish\\.venv\\lib\\site-packages\\azure\\core\\tracing\\decorator.py:78\u001b[0m, in \u001b[0;36mdistributed_trace.<locals>.decorator.<locals>.wrapper_use_tracer\u001b[1;34m(*args, **kwargs)\u001b[0m\n\u001b[0;32m     76\u001b[0m span_impl_type \u001b[38;5;241m=\u001b[39m settings\u001b[38;5;241m.\u001b[39mtracing_implementation()\n\u001b[0;32m     77\u001b[0m \u001b[38;5;28;01mif\u001b[39;00m span_impl_type \u001b[38;5;129;01mis\u001b[39;00m \u001b[38;5;28;01mNone\u001b[39;00m:\n\u001b[1;32m---> 78\u001b[0m     \u001b[38;5;28;01mreturn\u001b[39;00m func(\u001b[38;5;241m*\u001b[39margs, \u001b[38;5;241m*\u001b[39m\u001b[38;5;241m*\u001b[39mkwargs)\n\u001b[0;32m     80\u001b[0m \u001b[38;5;66;03m# Merge span is parameter is set, but only if no explicit parent are passed\u001b[39;00m\n\u001b[0;32m     81\u001b[0m \u001b[38;5;28;01mif\u001b[39;00m merge_span \u001b[38;5;129;01mand\u001b[39;00m \u001b[38;5;129;01mnot\u001b[39;00m passed_in_parent:\n",
      "File \u001b[1;32mc:\\Users\\Nicolas Pelzmann\\Documents\\Projects\\EAD\\AXH-SonarFish\\.venv\\lib\\site-packages\\azure\\ai\\ml\\_telemetry\\activity.py:368\u001b[0m, in \u001b[0;36mmonitor_with_telemetry_mixin.<locals>.monitor.<locals>.wrapper\u001b[1;34m(*args, **kwargs)\u001b[0m\n\u001b[0;32m    366\u001b[0m dimensions \u001b[38;5;241m=\u001b[39m {\u001b[38;5;241m*\u001b[39m\u001b[38;5;241m*\u001b[39mparameter_dimensions, \u001b[38;5;241m*\u001b[39m\u001b[38;5;241m*\u001b[39m(custom_dimensions \u001b[38;5;129;01mor\u001b[39;00m {})}\n\u001b[0;32m    367\u001b[0m \u001b[38;5;28;01mwith\u001b[39;00m log_activity(logger, activity_name \u001b[38;5;129;01mor\u001b[39;00m f\u001b[38;5;241m.\u001b[39m\u001b[38;5;18m__name__\u001b[39m, activity_type, dimensions) \u001b[38;5;28;01mas\u001b[39;00m activityLogger:\n\u001b[1;32m--> 368\u001b[0m     return_value \u001b[38;5;241m=\u001b[39m f(\u001b[38;5;241m*\u001b[39margs, \u001b[38;5;241m*\u001b[39m\u001b[38;5;241m*\u001b[39mkwargs)\n\u001b[0;32m    369\u001b[0m     \u001b[38;5;28;01mif\u001b[39;00m \u001b[38;5;129;01mnot\u001b[39;00m parameter_dimensions:\n\u001b[0;32m    370\u001b[0m         \u001b[38;5;66;03m# collect from return if no dimensions from parameter\u001b[39;00m\n\u001b[0;32m    371\u001b[0m         activityLogger\u001b[38;5;241m.\u001b[39mactivity_info\u001b[38;5;241m.\u001b[39mupdate(_collect_from_return_value(return_value))\n",
      "File \u001b[1;32mc:\\Users\\Nicolas Pelzmann\\Documents\\Projects\\EAD\\AXH-SonarFish\\.venv\\lib\\site-packages\\azure\\ai\\ml\\operations\\_job_operations.py:663\u001b[0m, in \u001b[0;36mJobOperations.create_or_update\u001b[1;34m(self, job, description, compute, tags, experiment_name, skip_validation, **kwargs)\u001b[0m\n\u001b[0;32m    660\u001b[0m         \u001b[38;5;28mself\u001b[39m\u001b[38;5;241m.\u001b[39m_validate(job, raise_on_failure\u001b[38;5;241m=\u001b[39m\u001b[38;5;28;01mTrue\u001b[39;00m)\n\u001b[0;32m    662\u001b[0m     \u001b[38;5;66;03m# Create all dependent resources\u001b[39;00m\n\u001b[1;32m--> 663\u001b[0m     \u001b[38;5;28;43mself\u001b[39;49m\u001b[38;5;241;43m.\u001b[39;49m\u001b[43m_resolve_arm_id_or_upload_dependencies\u001b[49m\u001b[43m(\u001b[49m\u001b[43mjob\u001b[49m\u001b[43m)\u001b[49m\n\u001b[0;32m    664\u001b[0m \u001b[38;5;28;01mexcept\u001b[39;00m (ValidationException, ValidationError) \u001b[38;5;28;01mas\u001b[39;00m ex:  \u001b[38;5;66;03m# pylint: disable=broad-except\u001b[39;00m\n\u001b[0;32m    665\u001b[0m     log_and_raise_error(ex)\n",
      "File \u001b[1;32mc:\\Users\\Nicolas Pelzmann\\Documents\\Projects\\EAD\\AXH-SonarFish\\.venv\\lib\\site-packages\\azure\\ai\\ml\\operations\\_job_operations.py:1071\u001b[0m, in \u001b[0;36mJobOperations._resolve_arm_id_or_upload_dependencies\u001b[1;34m(self, job)\u001b[0m\n\u001b[0;32m   1061\u001b[0m \u001b[38;5;28;01mdef\u001b[39;00m \u001b[38;5;21m_resolve_arm_id_or_upload_dependencies\u001b[39m(\u001b[38;5;28mself\u001b[39m, job: Job) \u001b[38;5;241m-\u001b[39m\u001b[38;5;241m>\u001b[39m \u001b[38;5;28;01mNone\u001b[39;00m:\n\u001b[0;32m   1062\u001b[0m \u001b[38;5;250m    \u001b[39m\u001b[38;5;124;03m\"\"\"This method converts name or name:version to ARM id. Or it\u001b[39;00m\n\u001b[0;32m   1063\u001b[0m \u001b[38;5;124;03m    registers/uploads nested dependencies.\u001b[39;00m\n\u001b[0;32m   1064\u001b[0m \n\u001b[1;32m   (...)\u001b[0m\n\u001b[0;32m   1068\u001b[0m \u001b[38;5;124;03m    :rtype: Job\u001b[39;00m\n\u001b[0;32m   1069\u001b[0m \u001b[38;5;124;03m    \"\"\"\u001b[39;00m\n\u001b[1;32m-> 1071\u001b[0m     \u001b[38;5;28;43mself\u001b[39;49m\u001b[38;5;241;43m.\u001b[39;49m\u001b[43m_resolve_arm_id_or_azureml_id\u001b[49m\u001b[43m(\u001b[49m\u001b[43mjob\u001b[49m\u001b[43m,\u001b[49m\u001b[43m \u001b[49m\u001b[38;5;28;43mself\u001b[39;49m\u001b[38;5;241;43m.\u001b[39;49m\u001b[43m_orchestrators\u001b[49m\u001b[38;5;241;43m.\u001b[39;49m\u001b[43mget_asset_arm_id\u001b[49m\u001b[43m)\u001b[49m\n\u001b[0;32m   1073\u001b[0m     \u001b[38;5;28;01mif\u001b[39;00m \u001b[38;5;28misinstance\u001b[39m(job, PipelineJob):\n\u001b[0;32m   1074\u001b[0m         \u001b[38;5;66;03m# Resolve top-level inputs\u001b[39;00m\n\u001b[0;32m   1075\u001b[0m         \u001b[38;5;28mself\u001b[39m\u001b[38;5;241m.\u001b[39m_resolve_job_inputs(\u001b[38;5;28mself\u001b[39m\u001b[38;5;241m.\u001b[39m_flatten_group_inputs(job\u001b[38;5;241m.\u001b[39minputs), job\u001b[38;5;241m.\u001b[39m_base_path)\n",
      "File \u001b[1;32mc:\\Users\\Nicolas Pelzmann\\Documents\\Projects\\EAD\\AXH-SonarFish\\.venv\\lib\\site-packages\\azure\\ai\\ml\\operations\\_job_operations.py:1348\u001b[0m, in \u001b[0;36mJobOperations._resolve_arm_id_or_azureml_id\u001b[1;34m(self, job, resolver)\u001b[0m\n\u001b[0;32m   1346\u001b[0m     job \u001b[38;5;241m=\u001b[39m \u001b[38;5;28mself\u001b[39m\u001b[38;5;241m.\u001b[39m_resolve_arm_id_for_automl_job(job, resolver, inside_pipeline\u001b[38;5;241m=\u001b[39m\u001b[38;5;28;01mFalse\u001b[39;00m)\n\u001b[0;32m   1347\u001b[0m \u001b[38;5;28;01melif\u001b[39;00m \u001b[38;5;28misinstance\u001b[39m(job, PipelineJob):\n\u001b[1;32m-> 1348\u001b[0m     job \u001b[38;5;241m=\u001b[39m \u001b[38;5;28;43mself\u001b[39;49m\u001b[38;5;241;43m.\u001b[39;49m\u001b[43m_resolve_arm_id_for_pipeline_job\u001b[49m\u001b[43m(\u001b[49m\u001b[43mjob\u001b[49m\u001b[43m,\u001b[49m\u001b[43m \u001b[49m\u001b[43mresolver\u001b[49m\u001b[43m)\u001b[49m\n\u001b[0;32m   1349\u001b[0m \u001b[38;5;28;01melif\u001b[39;00m \u001b[38;5;28misinstance\u001b[39m(job, FineTuningJob):\n\u001b[0;32m   1350\u001b[0m     \u001b[38;5;28;01mpass\u001b[39;00m\n",
      "File \u001b[1;32mc:\\Users\\Nicolas Pelzmann\\Documents\\Projects\\EAD\\AXH-SonarFish\\.venv\\lib\\site-packages\\azure\\ai\\ml\\operations\\_job_operations.py:1531\u001b[0m, in \u001b[0;36mJobOperations._resolve_arm_id_for_pipeline_job\u001b[1;34m(self, pipeline_job, resolver)\u001b[0m\n\u001b[0;32m   1529\u001b[0m \u001b[38;5;66;03m# Process each component job\u001b[39;00m\n\u001b[0;32m   1530\u001b[0m \u001b[38;5;28;01mtry\u001b[39;00m:\n\u001b[1;32m-> 1531\u001b[0m     \u001b[38;5;28;43mself\u001b[39;49m\u001b[38;5;241;43m.\u001b[39;49m\u001b[43m_component_operations\u001b[49m\u001b[38;5;241;43m.\u001b[39;49m\u001b[43m_resolve_dependencies_for_pipeline_component_jobs\u001b[49m\u001b[43m(\u001b[49m\n\u001b[0;32m   1532\u001b[0m \u001b[43m        \u001b[49m\u001b[43mpipeline_job\u001b[49m\u001b[38;5;241;43m.\u001b[39;49m\u001b[43mcomponent\u001b[49m\u001b[43m,\u001b[49m\u001b[43m \u001b[49m\u001b[43mresolver\u001b[49m\n\u001b[0;32m   1533\u001b[0m \u001b[43m    \u001b[49m\u001b[43m)\u001b[49m\n\u001b[0;32m   1534\u001b[0m \u001b[38;5;28;01mexcept\u001b[39;00m ComponentException \u001b[38;5;28;01mas\u001b[39;00m e:\n\u001b[0;32m   1535\u001b[0m     \u001b[38;5;28;01mraise\u001b[39;00m JobException(\n\u001b[0;32m   1536\u001b[0m         message\u001b[38;5;241m=\u001b[39me\u001b[38;5;241m.\u001b[39mmessage,\n\u001b[0;32m   1537\u001b[0m         target\u001b[38;5;241m=\u001b[39mErrorTarget\u001b[38;5;241m.\u001b[39mJOB,\n\u001b[0;32m   1538\u001b[0m         no_personal_data_message\u001b[38;5;241m=\u001b[39me\u001b[38;5;241m.\u001b[39mno_personal_data_message,\n\u001b[0;32m   1539\u001b[0m         error_category\u001b[38;5;241m=\u001b[39me\u001b[38;5;241m.\u001b[39merror_category,\n\u001b[0;32m   1540\u001b[0m     ) \u001b[38;5;28;01mfrom\u001b[39;00m \u001b[38;5;21;01me\u001b[39;00m\n",
      "File \u001b[1;32mc:\\Users\\Nicolas Pelzmann\\Documents\\Projects\\EAD\\AXH-SonarFish\\.venv\\lib\\site-packages\\azure\\ai\\ml\\operations\\_component_operations.py:1137\u001b[0m, in \u001b[0;36mComponentOperations._resolve_dependencies_for_pipeline_component_jobs\u001b[1;34m(self, component, resolver)\u001b[0m\n\u001b[0;32m   1129\u001b[0m         msg \u001b[38;5;241m=\u001b[39m \u001b[38;5;124mf\u001b[39m\u001b[38;5;124m\"\u001b[39m\u001b[38;5;124mNon supported job type in Pipeline: \u001b[39m\u001b[38;5;132;01m{\u001b[39;00m\u001b[38;5;28mtype\u001b[39m(job_instance)\u001b[38;5;132;01m}\u001b[39;00m\u001b[38;5;124m\"\u001b[39m\n\u001b[0;32m   1130\u001b[0m         \u001b[38;5;28;01mraise\u001b[39;00m ComponentException(\n\u001b[0;32m   1131\u001b[0m             message\u001b[38;5;241m=\u001b[39mmsg,\n\u001b[0;32m   1132\u001b[0m             target\u001b[38;5;241m=\u001b[39mErrorTarget\u001b[38;5;241m.\u001b[39mCOMPONENT,\n\u001b[0;32m   1133\u001b[0m             no_personal_data_message\u001b[38;5;241m=\u001b[39mmsg,\n\u001b[0;32m   1134\u001b[0m             error_category\u001b[38;5;241m=\u001b[39mErrorCategory\u001b[38;5;241m.\u001b[39mUSER_ERROR,\n\u001b[0;32m   1135\u001b[0m         )\n\u001b[1;32m-> 1137\u001b[0m \u001b[43mcomponent_cache\u001b[49m\u001b[38;5;241;43m.\u001b[39;49m\u001b[43mresolve_nodes\u001b[49m\u001b[43m(\u001b[49m\u001b[43m)\u001b[49m\n",
      "File \u001b[1;32mc:\\Users\\Nicolas Pelzmann\\Documents\\Projects\\EAD\\AXH-SonarFish\\.venv\\lib\\site-packages\\azure\\ai\\ml\\_utils\\_cache_utils.py:434\u001b[0m, in \u001b[0;36mCachedNodeResolver.resolve_nodes\u001b[1;34m(self)\u001b[0m\n\u001b[0;32m    432\u001b[0m \u001b[38;5;28mself\u001b[39m\u001b[38;5;241m.\u001b[39m_lock\u001b[38;5;241m.\u001b[39macquire()\n\u001b[0;32m    433\u001b[0m \u001b[38;5;28;01mtry\u001b[39;00m:\n\u001b[1;32m--> 434\u001b[0m     \u001b[38;5;28;43mself\u001b[39;49m\u001b[38;5;241;43m.\u001b[39;49m\u001b[43m_resolve_nodes\u001b[49m\u001b[43m(\u001b[49m\u001b[43m)\u001b[49m\n\u001b[0;32m    435\u001b[0m \u001b[38;5;28;01mfinally\u001b[39;00m:\n\u001b[0;32m    436\u001b[0m     \u001b[38;5;66;03m# release lock even if exception happens\u001b[39;00m\n\u001b[0;32m    437\u001b[0m     \u001b[38;5;28mself\u001b[39m\u001b[38;5;241m.\u001b[39m_lock\u001b[38;5;241m.\u001b[39mrelease()\n",
      "File \u001b[1;32mc:\\Users\\Nicolas Pelzmann\\Documents\\Projects\\EAD\\AXH-SonarFish\\.venv\\lib\\site-packages\\azure\\ai\\ml\\_utils\\_cache_utils.py:394\u001b[0m, in \u001b[0;36mCachedNodeResolver._resolve_nodes\u001b[1;34m(self)\u001b[0m\n\u001b[0;32m    391\u001b[0m \u001b[38;5;28;01mif\u001b[39;00m is_on_disk_cache_enabled() \u001b[38;5;129;01mand\u001b[39;00m is_private_preview_enabled():\n\u001b[0;32m    392\u001b[0m     cache_contents_to_resolve \u001b[38;5;241m=\u001b[39m \u001b[38;5;28mself\u001b[39m\u001b[38;5;241m.\u001b[39m_resolve_cache_contents_from_disk(cache_contents_to_resolve)\n\u001b[1;32m--> 394\u001b[0m \u001b[38;5;28;43mself\u001b[39;49m\u001b[38;5;241;43m.\u001b[39;49m\u001b[43m_resolve_cache_contents\u001b[49m\u001b[43m(\u001b[49m\u001b[43mcache_contents_to_resolve\u001b[49m\u001b[43m,\u001b[49m\u001b[43m \u001b[49m\u001b[43mresolver\u001b[49m\u001b[38;5;241;43m=\u001b[39;49m\u001b[38;5;28;43mself\u001b[39;49m\u001b[38;5;241;43m.\u001b[39;49m\u001b[43m_resolver\u001b[49m\u001b[43m)\u001b[49m\n\u001b[0;32m    396\u001b[0m \u001b[38;5;28mself\u001b[39m\u001b[38;5;241m.\u001b[39m_fill_back_component_to_nodes(dict_of_nodes_to_resolve)\n",
      "File \u001b[1;32mc:\\Users\\Nicolas Pelzmann\\Documents\\Projects\\EAD\\AXH-SonarFish\\.venv\\lib\\site-packages\\azure\\ai\\ml\\_utils\\_cache_utils.py:310\u001b[0m, in \u001b[0;36mCachedNodeResolver._resolve_cache_contents\u001b[1;34m(self, cache_contents_to_resolve, resolver)\u001b[0m\n\u001b[0;32m    308\u001b[0m         \u001b[38;5;28mlist\u001b[39m(executor\u001b[38;5;241m.\u001b[39mmap(_map_func, cache_contents_to_resolve))\n\u001b[0;32m    309\u001b[0m \u001b[38;5;28;01melse\u001b[39;00m:\n\u001b[1;32m--> 310\u001b[0m     \u001b[38;5;28;43mlist\u001b[39;49m\u001b[43m(\u001b[49m\u001b[38;5;28;43mmap\u001b[39;49m\u001b[43m(\u001b[49m\u001b[43m_map_func\u001b[49m\u001b[43m,\u001b[49m\u001b[43m \u001b[49m\u001b[43mcache_contents_to_resolve\u001b[49m\u001b[43m)\u001b[49m\u001b[43m)\u001b[49m\n",
      "File \u001b[1;32mc:\\Users\\Nicolas Pelzmann\\Documents\\Projects\\EAD\\AXH-SonarFish\\.venv\\lib\\site-packages\\azure\\ai\\ml\\_utils\\_cache_utils.py:296\u001b[0m, in \u001b[0;36mCachedNodeResolver._resolve_cache_contents.<locals>._map_func\u001b[1;34m(_cache_content)\u001b[0m\n\u001b[0;32m    295\u001b[0m \u001b[38;5;28;01mdef\u001b[39;00m \u001b[38;5;21m_map_func\u001b[39m(_cache_content: _CacheContent):\n\u001b[1;32m--> 296\u001b[0m     _cache_content\u001b[38;5;241m.\u001b[39marm_id \u001b[38;5;241m=\u001b[39m \u001b[43mresolver\u001b[49m\u001b[43m(\u001b[49m\u001b[43m_cache_content\u001b[49m\u001b[38;5;241;43m.\u001b[39;49m\u001b[43mcomponent_ref\u001b[49m\u001b[43m,\u001b[49m\u001b[43m \u001b[49m\u001b[43mazureml_type\u001b[49m\u001b[38;5;241;43m=\u001b[39;49m\u001b[43mAzureMLResourceType\u001b[49m\u001b[38;5;241;43m.\u001b[39;49m\u001b[43mCOMPONENT\u001b[49m\u001b[43m)\u001b[49m\n\u001b[0;32m    297\u001b[0m     \u001b[38;5;28;01mif\u001b[39;00m is_on_disk_cache_enabled() \u001b[38;5;129;01mand\u001b[39;00m is_private_preview_enabled():\n\u001b[0;32m    298\u001b[0m         \u001b[38;5;28mself\u001b[39m\u001b[38;5;241m.\u001b[39m_save_to_on_disk_cache(_cache_content\u001b[38;5;241m.\u001b[39mon_disk_hash, _cache_content\u001b[38;5;241m.\u001b[39marm_id)\n",
      "File \u001b[1;32mc:\\Users\\Nicolas Pelzmann\\Documents\\Projects\\EAD\\AXH-SonarFish\\.venv\\lib\\site-packages\\azure\\ai\\ml\\operations\\_operation_orchestrator.py:246\u001b[0m, in \u001b[0;36mOperationOrchestrator.get_asset_arm_id\u001b[1;34m(self, asset, azureml_type, register_asset, sub_workspace_resource)\u001b[0m\n\u001b[0;32m    244\u001b[0m     result \u001b[38;5;241m=\u001b[39m \u001b[38;5;28mself\u001b[39m\u001b[38;5;241m.\u001b[39m_get_data_arm_id(asset, register_asset\u001b[38;5;241m=\u001b[39mregister_asset)\n\u001b[0;32m    245\u001b[0m \u001b[38;5;28;01melif\u001b[39;00m azureml_type \u001b[38;5;241m==\u001b[39m AzureMLResourceType\u001b[38;5;241m.\u001b[39mCOMPONENT \u001b[38;5;129;01mand\u001b[39;00m \u001b[38;5;28misinstance\u001b[39m(asset, Component):\n\u001b[1;32m--> 246\u001b[0m     result \u001b[38;5;241m=\u001b[39m \u001b[38;5;28;43mself\u001b[39;49m\u001b[38;5;241;43m.\u001b[39;49m\u001b[43m_get_component_arm_id\u001b[49m\u001b[43m(\u001b[49m\u001b[43masset\u001b[49m\u001b[43m)\u001b[49m\n\u001b[0;32m    247\u001b[0m \u001b[38;5;28;01melse\u001b[39;00m:\n\u001b[0;32m    248\u001b[0m     msg \u001b[38;5;241m=\u001b[39m \u001b[38;5;124m\"\u001b[39m\u001b[38;5;124mUnsupported azureml type \u001b[39m\u001b[38;5;132;01m{}\u001b[39;00m\u001b[38;5;124m for asset: \u001b[39m\u001b[38;5;132;01m{}\u001b[39;00m\u001b[38;5;124m\"\u001b[39m\n",
      "File \u001b[1;32mc:\\Users\\Nicolas Pelzmann\\Documents\\Projects\\EAD\\AXH-SonarFish\\.venv\\lib\\site-packages\\azure\\ai\\ml\\operations\\_operation_orchestrator.py:390\u001b[0m, in \u001b[0;36mOperationOrchestrator._get_component_arm_id\u001b[1;34m(self, component)\u001b[0m\n\u001b[0;32m    387\u001b[0m \u001b[38;5;66;03m# If component arm id is already resolved, return the id otherwise get arm id via remote call.\u001b[39;00m\n\u001b[0;32m    388\u001b[0m \u001b[38;5;66;03m# Register the component if necessary, and FILL BACK the arm id to component to reduce remote call.\u001b[39;00m\n\u001b[0;32m    389\u001b[0m \u001b[38;5;28;01mif\u001b[39;00m \u001b[38;5;129;01mnot\u001b[39;00m component\u001b[38;5;241m.\u001b[39mid:\n\u001b[1;32m--> 390\u001b[0m     component\u001b[38;5;241m.\u001b[39m_id \u001b[38;5;241m=\u001b[39m \u001b[38;5;28;43mself\u001b[39;49m\u001b[38;5;241;43m.\u001b[39;49m\u001b[43m_component\u001b[49m\u001b[38;5;241;43m.\u001b[39;49m\u001b[43mcreate_or_update\u001b[49m\u001b[43m(\u001b[49m\u001b[43m  \u001b[49m\u001b[38;5;66;43;03m# type: ignore[attr-defined]\u001b[39;49;00m\n\u001b[0;32m    391\u001b[0m \u001b[43m        \u001b[49m\u001b[43mcomponent\u001b[49m\u001b[43m,\u001b[49m\u001b[43m \u001b[49m\u001b[43mis_anonymous\u001b[49m\u001b[38;5;241;43m=\u001b[39;49m\u001b[38;5;28;43;01mTrue\u001b[39;49;00m\u001b[43m,\u001b[49m\u001b[43m \u001b[49m\u001b[43mshow_progress\u001b[49m\u001b[38;5;241;43m=\u001b[39;49m\u001b[38;5;28;43mself\u001b[39;49m\u001b[38;5;241;43m.\u001b[39;49m\u001b[43m_operation_config\u001b[49m\u001b[38;5;241;43m.\u001b[39;49m\u001b[43mshow_progress\u001b[49m\n\u001b[0;32m    392\u001b[0m \u001b[43m    \u001b[49m\u001b[43m)\u001b[49m\u001b[38;5;241m.\u001b[39mid\n\u001b[0;32m    393\u001b[0m \u001b[38;5;28;01mreturn\u001b[39;00m \u001b[38;5;28mstr\u001b[39m(component\u001b[38;5;241m.\u001b[39mid)\n",
      "File \u001b[1;32mc:\\Users\\Nicolas Pelzmann\\Documents\\Projects\\EAD\\AXH-SonarFish\\.venv\\lib\\site-packages\\azure\\ai\\ml\\_telemetry\\activity.py:368\u001b[0m, in \u001b[0;36mmonitor_with_telemetry_mixin.<locals>.monitor.<locals>.wrapper\u001b[1;34m(*args, **kwargs)\u001b[0m\n\u001b[0;32m    366\u001b[0m dimensions \u001b[38;5;241m=\u001b[39m {\u001b[38;5;241m*\u001b[39m\u001b[38;5;241m*\u001b[39mparameter_dimensions, \u001b[38;5;241m*\u001b[39m\u001b[38;5;241m*\u001b[39m(custom_dimensions \u001b[38;5;129;01mor\u001b[39;00m {})}\n\u001b[0;32m    367\u001b[0m \u001b[38;5;28;01mwith\u001b[39;00m log_activity(logger, activity_name \u001b[38;5;129;01mor\u001b[39;00m f\u001b[38;5;241m.\u001b[39m\u001b[38;5;18m__name__\u001b[39m, activity_type, dimensions) \u001b[38;5;28;01mas\u001b[39;00m activityLogger:\n\u001b[1;32m--> 368\u001b[0m     return_value \u001b[38;5;241m=\u001b[39m f(\u001b[38;5;241m*\u001b[39margs, \u001b[38;5;241m*\u001b[39m\u001b[38;5;241m*\u001b[39mkwargs)\n\u001b[0;32m    369\u001b[0m     \u001b[38;5;28;01mif\u001b[39;00m \u001b[38;5;129;01mnot\u001b[39;00m parameter_dimensions:\n\u001b[0;32m    370\u001b[0m         \u001b[38;5;66;03m# collect from return if no dimensions from parameter\u001b[39;00m\n\u001b[0;32m    371\u001b[0m         activityLogger\u001b[38;5;241m.\u001b[39mactivity_info\u001b[38;5;241m.\u001b[39mupdate(_collect_from_return_value(return_value))\n",
      "File \u001b[1;32mc:\\Users\\Nicolas Pelzmann\\Documents\\Projects\\EAD\\AXH-SonarFish\\.venv\\lib\\site-packages\\azure\\ai\\ml\\operations\\_component_operations.py:619\u001b[0m, in \u001b[0;36mComponentOperations.create_or_update\u001b[1;34m(self, component, version, skip_validation, **kwargs)\u001b[0m\n\u001b[0;32m    616\u001b[0m \u001b[38;5;66;03m# Create all dependent resources\u001b[39;00m\n\u001b[0;32m    617\u001b[0m \u001b[38;5;66;03m# Only upload dependencies if component is NOT IPP\u001b[39;00m\n\u001b[0;32m    618\u001b[0m \u001b[38;5;28;01mif\u001b[39;00m \u001b[38;5;129;01mnot\u001b[39;00m component\u001b[38;5;241m.\u001b[39m_intellectual_property:\n\u001b[1;32m--> 619\u001b[0m     \u001b[38;5;28;43mself\u001b[39;49m\u001b[38;5;241;43m.\u001b[39;49m\u001b[43m_resolve_arm_id_or_upload_dependencies\u001b[49m\u001b[43m(\u001b[49m\u001b[43mcomponent\u001b[49m\u001b[43m)\u001b[49m\n\u001b[0;32m    621\u001b[0m name, version \u001b[38;5;241m=\u001b[39m component\u001b[38;5;241m.\u001b[39m_get_rest_name_version()\n\u001b[0;32m    622\u001b[0m \u001b[38;5;28;01mif\u001b[39;00m \u001b[38;5;129;01mnot\u001b[39;00m component\u001b[38;5;241m.\u001b[39m_is_anonymous \u001b[38;5;129;01mand\u001b[39;00m kwargs\u001b[38;5;241m.\u001b[39mget(\u001b[38;5;124m\"\u001b[39m\u001b[38;5;124mskip_if_no_change\u001b[39m\u001b[38;5;124m\"\u001b[39m):\n",
      "File \u001b[1;32mc:\\Users\\Nicolas Pelzmann\\Documents\\Projects\\EAD\\AXH-SonarFish\\.venv\\lib\\site-packages\\azure\\ai\\ml\\operations\\_component_operations.py:795\u001b[0m, in \u001b[0;36mComponentOperations._resolve_arm_id_or_upload_dependencies\u001b[1;34m(self, component)\u001b[0m\n\u001b[0;32m    790\u001b[0m \u001b[38;5;28;01mdef\u001b[39;00m \u001b[38;5;21m_resolve_arm_id_or_upload_dependencies\u001b[39m(\u001b[38;5;28mself\u001b[39m, component: Component) \u001b[38;5;241m-\u001b[39m\u001b[38;5;241m>\u001b[39m \u001b[38;5;28;01mNone\u001b[39;00m:\n\u001b[0;32m    791\u001b[0m     resolver \u001b[38;5;241m=\u001b[39m OperationOrchestrator(\n\u001b[0;32m    792\u001b[0m         \u001b[38;5;28mself\u001b[39m\u001b[38;5;241m.\u001b[39m_all_operations, \u001b[38;5;28mself\u001b[39m\u001b[38;5;241m.\u001b[39m_operation_scope, \u001b[38;5;28mself\u001b[39m\u001b[38;5;241m.\u001b[39m_operation_config\n\u001b[0;32m    793\u001b[0m     )\u001b[38;5;241m.\u001b[39mget_asset_arm_id\n\u001b[1;32m--> 795\u001b[0m     \u001b[38;5;28;43mself\u001b[39;49m\u001b[38;5;241;43m.\u001b[39;49m\u001b[43m_resolve_dependencies_for_component\u001b[49m\u001b[43m(\u001b[49m\u001b[43mcomponent\u001b[49m\u001b[43m,\u001b[49m\u001b[43m \u001b[49m\u001b[43mresolver\u001b[49m\u001b[43m)\u001b[49m\n",
      "File \u001b[1;32mc:\\Users\\Nicolas Pelzmann\\Documents\\Projects\\EAD\\AXH-SonarFish\\.venv\\lib\\site-packages\\azure\\ai\\ml\\operations\\_component_operations.py:821\u001b[0m, in \u001b[0;36mComponentOperations._resolve_dependencies_for_component\u001b[1;34m(self, component, resolver, jobs_only)\u001b[0m\n\u001b[0;32m    813\u001b[0m     \u001b[38;5;28;01mraise\u001b[39;00m ValidationException(\n\u001b[0;32m    814\u001b[0m         message\u001b[38;5;241m=\u001b[39mmsg,\n\u001b[0;32m    815\u001b[0m         target\u001b[38;5;241m=\u001b[39mErrorTarget\u001b[38;5;241m.\u001b[39mCOMPONENT,\n\u001b[0;32m    816\u001b[0m         no_personal_data_message\u001b[38;5;241m=\u001b[39mmsg,\n\u001b[0;32m    817\u001b[0m         error_category\u001b[38;5;241m=\u001b[39mErrorCategory\u001b[38;5;241m.\u001b[39mUSER_ERROR,\n\u001b[0;32m    818\u001b[0m     )\n\u001b[0;32m    820\u001b[0m \u001b[38;5;66;03m# resolve component's code\u001b[39;00m\n\u001b[1;32m--> 821\u001b[0m \u001b[43m_try_resolve_code_for_component\u001b[49m\u001b[43m(\u001b[49m\u001b[43mcomponent\u001b[49m\u001b[38;5;241;43m=\u001b[39;49m\u001b[43mcomponent\u001b[49m\u001b[43m,\u001b[49m\u001b[43m \u001b[49m\u001b[43mresolver\u001b[49m\u001b[38;5;241;43m=\u001b[39;49m\u001b[43mresolver\u001b[49m\u001b[43m)\u001b[49m\n\u001b[0;32m    822\u001b[0m \u001b[38;5;66;03m# resolve component's environment\u001b[39;00m\n\u001b[0;32m    823\u001b[0m \u001b[38;5;28mself\u001b[39m\u001b[38;5;241m.\u001b[39m_try_resolve_environment_for_component(\n\u001b[0;32m    824\u001b[0m     component\u001b[38;5;241m=\u001b[39mcomponent,  \u001b[38;5;66;03m# type: ignore\u001b[39;00m\n\u001b[0;32m    825\u001b[0m     resolver\u001b[38;5;241m=\u001b[39mresolver,\n\u001b[0;32m    826\u001b[0m     _\u001b[38;5;241m=\u001b[39m\u001b[38;5;124m\"\u001b[39m\u001b[38;5;124m\"\u001b[39m,\n\u001b[0;32m    827\u001b[0m )\n",
      "File \u001b[1;32mc:\\Users\\Nicolas Pelzmann\\Documents\\Projects\\EAD\\AXH-SonarFish\\.venv\\lib\\site-packages\\azure\\ai\\ml\\operations\\_component_operations.py:1228\u001b[0m, in \u001b[0;36m_try_resolve_code_for_component\u001b[1;34m(component, resolver)\u001b[0m\n\u001b[0;32m   1226\u001b[0m \u001b[38;5;28;01mif\u001b[39;00m code \u001b[38;5;129;01mis\u001b[39;00m \u001b[38;5;28;01mNone\u001b[39;00m:\n\u001b[0;32m   1227\u001b[0m     \u001b[38;5;28;01mreturn\u001b[39;00m\n\u001b[1;32m-> 1228\u001b[0m component\u001b[38;5;241m.\u001b[39m_fill_back_code_value(\u001b[43mresolver\u001b[49m\u001b[43m(\u001b[49m\u001b[43mcode\u001b[49m\u001b[43m,\u001b[49m\u001b[43m \u001b[49m\u001b[43mazureml_type\u001b[49m\u001b[38;5;241;43m=\u001b[39;49m\u001b[43mAzureMLResourceType\u001b[49m\u001b[38;5;241;43m.\u001b[39;49m\u001b[43mCODE\u001b[49m\u001b[43m)\u001b[49m)\n",
      "File \u001b[1;32mc:\\Users\\Nicolas Pelzmann\\Documents\\Projects\\EAD\\AXH-SonarFish\\.venv\\lib\\site-packages\\azure\\ai\\ml\\operations\\_operation_orchestrator.py:238\u001b[0m, in \u001b[0;36mOperationOrchestrator.get_asset_arm_id\u001b[1;34m(self, asset, azureml_type, register_asset, sub_workspace_resource)\u001b[0m\n\u001b[0;32m    236\u001b[0m \u001b[38;5;66;03m# TODO: once the asset redesign is finished, this logic can be replaced with unified API\u001b[39;00m\n\u001b[0;32m    237\u001b[0m \u001b[38;5;28;01mif\u001b[39;00m azureml_type \u001b[38;5;241m==\u001b[39m AzureMLResourceType\u001b[38;5;241m.\u001b[39mCODE \u001b[38;5;129;01mand\u001b[39;00m \u001b[38;5;28misinstance\u001b[39m(asset, Code):\n\u001b[1;32m--> 238\u001b[0m     result \u001b[38;5;241m=\u001b[39m \u001b[38;5;28;43mself\u001b[39;49m\u001b[38;5;241;43m.\u001b[39;49m\u001b[43m_get_code_asset_arm_id\u001b[49m\u001b[43m(\u001b[49m\u001b[43masset\u001b[49m\u001b[43m,\u001b[49m\u001b[43m \u001b[49m\u001b[43mregister_asset\u001b[49m\u001b[38;5;241;43m=\u001b[39;49m\u001b[43mregister_asset\u001b[49m\u001b[43m)\u001b[49m\n\u001b[0;32m    239\u001b[0m \u001b[38;5;28;01melif\u001b[39;00m azureml_type \u001b[38;5;241m==\u001b[39m AzureMLResourceType\u001b[38;5;241m.\u001b[39mENVIRONMENT \u001b[38;5;129;01mand\u001b[39;00m \u001b[38;5;28misinstance\u001b[39m(asset, Environment):\n\u001b[0;32m    240\u001b[0m     result \u001b[38;5;241m=\u001b[39m \u001b[38;5;28mself\u001b[39m\u001b[38;5;241m.\u001b[39m_get_environment_arm_id(asset, register_asset\u001b[38;5;241m=\u001b[39mregister_asset)\n",
      "File \u001b[1;32mc:\\Users\\Nicolas Pelzmann\\Documents\\Projects\\EAD\\AXH-SonarFish\\.venv\\lib\\site-packages\\azure\\ai\\ml\\operations\\_operation_orchestrator.py:279\u001b[0m, in \u001b[0;36mOperationOrchestrator._get_code_asset_arm_id\u001b[1;34m(self, code_asset, register_asset)\u001b[0m\n\u001b[0;32m    277\u001b[0m \u001b[38;5;28mself\u001b[39m\u001b[38;5;241m.\u001b[39m_validate_datastore_name(code_asset\u001b[38;5;241m.\u001b[39mpath)\n\u001b[0;32m    278\u001b[0m \u001b[38;5;28;01mif\u001b[39;00m register_asset:\n\u001b[1;32m--> 279\u001b[0m     code_asset \u001b[38;5;241m=\u001b[39m \u001b[38;5;28;43mself\u001b[39;49m\u001b[38;5;241;43m.\u001b[39;49m\u001b[43m_code_assets\u001b[49m\u001b[38;5;241;43m.\u001b[39;49m\u001b[43mcreate_or_update\u001b[49m\u001b[43m(\u001b[49m\u001b[43mcode_asset\u001b[49m\u001b[43m)\u001b[49m  \u001b[38;5;66;03m# type: ignore[attr-defined]\u001b[39;00m\n\u001b[0;32m    280\u001b[0m     \u001b[38;5;28;01mreturn\u001b[39;00m \u001b[38;5;28mstr\u001b[39m(code_asset\u001b[38;5;241m.\u001b[39mid)\n\u001b[0;32m    281\u001b[0m sas_info \u001b[38;5;241m=\u001b[39m get_storage_info_for_non_registry_asset(\n\u001b[0;32m    282\u001b[0m     service_client\u001b[38;5;241m=\u001b[39m\u001b[38;5;28mself\u001b[39m\u001b[38;5;241m.\u001b[39m_code_assets\u001b[38;5;241m.\u001b[39m_service_client,  \u001b[38;5;66;03m# type: ignore[attr-defined]\u001b[39;00m\n\u001b[0;32m    283\u001b[0m     workspace_name\u001b[38;5;241m=\u001b[39m\u001b[38;5;28mself\u001b[39m\u001b[38;5;241m.\u001b[39m_operation_scope\u001b[38;5;241m.\u001b[39mworkspace_name,\n\u001b[1;32m   (...)\u001b[0m\n\u001b[0;32m    286\u001b[0m     resource_group\u001b[38;5;241m=\u001b[39m\u001b[38;5;28mself\u001b[39m\u001b[38;5;241m.\u001b[39m_operation_scope\u001b[38;5;241m.\u001b[39mresource_group_name,\n\u001b[0;32m    287\u001b[0m )\n",
      "File \u001b[1;32mc:\\Users\\Nicolas Pelzmann\\Documents\\Projects\\EAD\\AXH-SonarFish\\.venv\\lib\\site-packages\\azure\\ai\\ml\\_telemetry\\activity.py:285\u001b[0m, in \u001b[0;36mmonitor_with_activity.<locals>.monitor.<locals>.wrapper\u001b[1;34m(*args, **kwargs)\u001b[0m\n\u001b[0;32m    281\u001b[0m     \u001b[38;5;28;01mwith\u001b[39;00m tracer\u001b[38;5;241m.\u001b[39mspan():\n\u001b[0;32m    282\u001b[0m         \u001b[38;5;28;01mwith\u001b[39;00m log_activity(\n\u001b[0;32m    283\u001b[0m             logger\u001b[38;5;241m.\u001b[39mpackage_logger, activity_name \u001b[38;5;129;01mor\u001b[39;00m f\u001b[38;5;241m.\u001b[39m\u001b[38;5;18m__name__\u001b[39m, activity_type, custom_dimensions\n\u001b[0;32m    284\u001b[0m         ):\n\u001b[1;32m--> 285\u001b[0m             \u001b[38;5;28;01mreturn\u001b[39;00m f(\u001b[38;5;241m*\u001b[39margs, \u001b[38;5;241m*\u001b[39m\u001b[38;5;241m*\u001b[39mkwargs)\n\u001b[0;32m    286\u001b[0m \u001b[38;5;28;01melif\u001b[39;00m \u001b[38;5;28mhasattr\u001b[39m(logger, \u001b[38;5;124m\"\u001b[39m\u001b[38;5;124mpackage_logger\u001b[39m\u001b[38;5;124m\"\u001b[39m):\n\u001b[0;32m    287\u001b[0m     \u001b[38;5;28;01mwith\u001b[39;00m log_activity(logger\u001b[38;5;241m.\u001b[39mpackage_logger, activity_name \u001b[38;5;129;01mor\u001b[39;00m f\u001b[38;5;241m.\u001b[39m\u001b[38;5;18m__name__\u001b[39m, activity_type, custom_dimensions):\n",
      "File \u001b[1;32mc:\\Users\\Nicolas Pelzmann\\Documents\\Projects\\EAD\\AXH-SonarFish\\.venv\\lib\\site-packages\\azure\\ai\\ml\\operations\\_code_operations.py:160\u001b[0m, in \u001b[0;36mCodeOperations.create_or_update\u001b[1;34m(self, code)\u001b[0m\n\u001b[0;32m    157\u001b[0m         sas_uri \u001b[38;5;241m=\u001b[39m sas_info[\u001b[38;5;124m\"\u001b[39m\u001b[38;5;124msas_uri\u001b[39m\u001b[38;5;124m\"\u001b[39m]\n\u001b[0;32m    158\u001b[0m         blob_uri \u001b[38;5;241m=\u001b[39m sas_info[\u001b[38;5;124m\"\u001b[39m\u001b[38;5;124mblob_uri\u001b[39m\u001b[38;5;124m\"\u001b[39m]\n\u001b[1;32m--> 160\u001b[0m code, _ \u001b[38;5;241m=\u001b[39m \u001b[43m_check_and_upload_path\u001b[49m\u001b[43m(\u001b[49m\n\u001b[0;32m    161\u001b[0m \u001b[43m    \u001b[49m\u001b[43martifact\u001b[49m\u001b[38;5;241;43m=\u001b[39;49m\u001b[43mcode\u001b[49m\u001b[43m,\u001b[49m\n\u001b[0;32m    162\u001b[0m \u001b[43m    \u001b[49m\u001b[43masset_operations\u001b[49m\u001b[38;5;241;43m=\u001b[39;49m\u001b[38;5;28;43mself\u001b[39;49m\u001b[43m,\u001b[49m\n\u001b[0;32m    163\u001b[0m \u001b[43m    \u001b[49m\u001b[43msas_uri\u001b[49m\u001b[38;5;241;43m=\u001b[39;49m\u001b[43msas_uri\u001b[49m\u001b[43m,\u001b[49m\n\u001b[0;32m    164\u001b[0m \u001b[43m    \u001b[49m\u001b[43martifact_type\u001b[49m\u001b[38;5;241;43m=\u001b[39;49m\u001b[43mErrorTarget\u001b[49m\u001b[38;5;241;43m.\u001b[39;49m\u001b[43mCODE\u001b[49m\u001b[43m,\u001b[49m\n\u001b[0;32m    165\u001b[0m \u001b[43m    \u001b[49m\u001b[43mshow_progress\u001b[49m\u001b[38;5;241;43m=\u001b[39;49m\u001b[38;5;28;43mself\u001b[39;49m\u001b[38;5;241;43m.\u001b[39;49m\u001b[43m_show_progress\u001b[49m\u001b[43m,\u001b[49m\n\u001b[0;32m    166\u001b[0m \u001b[43m    \u001b[49m\u001b[43mblob_uri\u001b[49m\u001b[38;5;241;43m=\u001b[39;49m\u001b[43mblob_uri\u001b[49m\u001b[43m,\u001b[49m\n\u001b[0;32m    167\u001b[0m \u001b[43m\u001b[49m\u001b[43m)\u001b[49m\n\u001b[0;32m    169\u001b[0m \u001b[38;5;66;03m# For anonymous code, if the code already exists in storage, we reuse the name,\u001b[39;00m\n\u001b[0;32m    170\u001b[0m \u001b[38;5;66;03m# version stored in the storage metadata so the same anonymous code won't be created again.\u001b[39;00m\n\u001b[0;32m    171\u001b[0m \u001b[38;5;28;01mif\u001b[39;00m code\u001b[38;5;241m.\u001b[39m_is_anonymous:\n",
      "File \u001b[1;32mc:\\Users\\Nicolas Pelzmann\\Documents\\Projects\\EAD\\AXH-SonarFish\\.venv\\lib\\site-packages\\azure\\ai\\ml\\_artifacts\\_artifact_utilities.py:502\u001b[0m, in \u001b[0;36m_check_and_upload_path\u001b[1;34m(artifact, asset_operations, artifact_type, datastore_name, sas_uri, show_progress, blob_uri)\u001b[0m\n\u001b[0;32m    500\u001b[0m \u001b[38;5;28;01mif\u001b[39;00m \u001b[38;5;129;01mnot\u001b[39;00m path\u001b[38;5;241m.\u001b[39mis_absolute():\n\u001b[0;32m    501\u001b[0m     path \u001b[38;5;241m=\u001b[39m Path(artifact\u001b[38;5;241m.\u001b[39mbase_path, path)\u001b[38;5;241m.\u001b[39mresolve()\n\u001b[1;32m--> 502\u001b[0m uploaded_artifact \u001b[38;5;241m=\u001b[39m \u001b[43m_upload_to_datastore\u001b[49m\u001b[43m(\u001b[49m\n\u001b[0;32m    503\u001b[0m \u001b[43m    \u001b[49m\u001b[43masset_operations\u001b[49m\u001b[38;5;241;43m.\u001b[39;49m\u001b[43m_operation_scope\u001b[49m\u001b[43m,\u001b[49m\n\u001b[0;32m    504\u001b[0m \u001b[43m    \u001b[49m\u001b[43masset_operations\u001b[49m\u001b[38;5;241;43m.\u001b[39;49m\u001b[43m_datastore_operation\u001b[49m\u001b[43m,\u001b[49m\n\u001b[0;32m    505\u001b[0m \u001b[43m    \u001b[49m\u001b[43mpath\u001b[49m\u001b[43m,\u001b[49m\n\u001b[0;32m    506\u001b[0m \u001b[43m    \u001b[49m\u001b[43mdatastore_name\u001b[49m\u001b[38;5;241;43m=\u001b[39;49m\u001b[43mdatastore_name\u001b[49m\u001b[43m,\u001b[49m\n\u001b[0;32m    507\u001b[0m \u001b[43m    \u001b[49m\u001b[43masset_name\u001b[49m\u001b[38;5;241;43m=\u001b[39;49m\u001b[43martifact\u001b[49m\u001b[38;5;241;43m.\u001b[39;49m\u001b[43mname\u001b[49m\u001b[43m,\u001b[49m\n\u001b[0;32m    508\u001b[0m \u001b[43m    \u001b[49m\u001b[43masset_version\u001b[49m\u001b[38;5;241;43m=\u001b[39;49m\u001b[38;5;28;43mstr\u001b[39;49m\u001b[43m(\u001b[49m\u001b[43martifact\u001b[49m\u001b[38;5;241;43m.\u001b[39;49m\u001b[43mversion\u001b[49m\u001b[43m)\u001b[49m\u001b[43m,\u001b[49m\n\u001b[0;32m    509\u001b[0m \u001b[43m    \u001b[49m\u001b[43masset_hash\u001b[49m\u001b[38;5;241;43m=\u001b[39;49m\u001b[38;5;28;43mgetattr\u001b[39;49m\u001b[43m(\u001b[49m\u001b[43martifact\u001b[49m\u001b[43m,\u001b[49m\u001b[43m \u001b[49m\u001b[38;5;124;43m\"\u001b[39;49m\u001b[38;5;124;43m_upload_hash\u001b[39;49m\u001b[38;5;124;43m\"\u001b[39;49m\u001b[43m,\u001b[49m\u001b[43m \u001b[49m\u001b[38;5;28;43;01mNone\u001b[39;49;00m\u001b[43m)\u001b[49m\u001b[43m,\u001b[49m\n\u001b[0;32m    510\u001b[0m \u001b[43m    \u001b[49m\u001b[43msas_uri\u001b[49m\u001b[38;5;241;43m=\u001b[39;49m\u001b[43msas_uri\u001b[49m\u001b[43m,\u001b[49m\n\u001b[0;32m    511\u001b[0m \u001b[43m    \u001b[49m\u001b[43martifact_type\u001b[49m\u001b[38;5;241;43m=\u001b[39;49m\u001b[43martifact_type\u001b[49m\u001b[43m,\u001b[49m\n\u001b[0;32m    512\u001b[0m \u001b[43m    \u001b[49m\u001b[43mshow_progress\u001b[49m\u001b[38;5;241;43m=\u001b[39;49m\u001b[43mshow_progress\u001b[49m\u001b[43m,\u001b[49m\n\u001b[0;32m    513\u001b[0m \u001b[43m    \u001b[49m\u001b[43mignore_file\u001b[49m\u001b[38;5;241;43m=\u001b[39;49m\u001b[38;5;28;43mgetattr\u001b[39;49m\u001b[43m(\u001b[49m\u001b[43martifact\u001b[49m\u001b[43m,\u001b[49m\u001b[43m \u001b[49m\u001b[38;5;124;43m\"\u001b[39;49m\u001b[38;5;124;43m_ignore_file\u001b[39;49m\u001b[38;5;124;43m\"\u001b[39;49m\u001b[43m,\u001b[49m\u001b[43m \u001b[49m\u001b[38;5;28;43;01mNone\u001b[39;49;00m\u001b[43m)\u001b[49m\u001b[43m,\u001b[49m\n\u001b[0;32m    514\u001b[0m \u001b[43m    \u001b[49m\u001b[43mblob_uri\u001b[49m\u001b[38;5;241;43m=\u001b[39;49m\u001b[43mblob_uri\u001b[49m\u001b[43m,\u001b[49m\n\u001b[0;32m    515\u001b[0m \u001b[43m\u001b[49m\u001b[43m)\u001b[49m\n\u001b[0;32m    516\u001b[0m indicator_file \u001b[38;5;241m=\u001b[39m uploaded_artifact\u001b[38;5;241m.\u001b[39mindicator_file  \u001b[38;5;66;03m# reference to storage contents\u001b[39;00m\n\u001b[0;32m    517\u001b[0m \u001b[38;5;28;01mif\u001b[39;00m artifact\u001b[38;5;241m.\u001b[39m_is_anonymous:\n",
      "File \u001b[1;32mc:\\Users\\Nicolas Pelzmann\\Documents\\Projects\\EAD\\AXH-SonarFish\\.venv\\lib\\site-packages\\azure\\ai\\ml\\_artifacts\\_artifact_utilities.py:387\u001b[0m, in \u001b[0;36m_upload_to_datastore\u001b[1;34m(operation_scope, datastore_operation, path, artifact_type, datastore_name, show_progress, asset_name, asset_version, asset_hash, ignore_file, sas_uri, blob_uri)\u001b[0m\n\u001b[0;32m    385\u001b[0m \u001b[38;5;28;01mif\u001b[39;00m \u001b[38;5;129;01mnot\u001b[39;00m asset_hash:\n\u001b[0;32m    386\u001b[0m     asset_hash \u001b[38;5;241m=\u001b[39m get_object_hash(path, ignore_file)\n\u001b[1;32m--> 387\u001b[0m artifact \u001b[38;5;241m=\u001b[39m \u001b[43mupload_artifact\u001b[49m\u001b[43m(\u001b[49m\n\u001b[0;32m    388\u001b[0m \u001b[43m    \u001b[49m\u001b[38;5;28;43mstr\u001b[39;49m\u001b[43m(\u001b[49m\u001b[43mpath\u001b[49m\u001b[43m)\u001b[49m\u001b[43m,\u001b[49m\n\u001b[0;32m    389\u001b[0m \u001b[43m    \u001b[49m\u001b[43mdatastore_operation\u001b[49m\u001b[43m,\u001b[49m\n\u001b[0;32m    390\u001b[0m \u001b[43m    \u001b[49m\u001b[43moperation_scope\u001b[49m\u001b[43m,\u001b[49m\n\u001b[0;32m    391\u001b[0m \u001b[43m    \u001b[49m\u001b[43mdatastore_name\u001b[49m\u001b[43m,\u001b[49m\n\u001b[0;32m    392\u001b[0m \u001b[43m    \u001b[49m\u001b[43mshow_progress\u001b[49m\u001b[38;5;241;43m=\u001b[39;49m\u001b[43mshow_progress\u001b[49m\u001b[43m,\u001b[49m\n\u001b[0;32m    393\u001b[0m \u001b[43m    \u001b[49m\u001b[43masset_hash\u001b[49m\u001b[38;5;241;43m=\u001b[39;49m\u001b[43masset_hash\u001b[49m\u001b[43m,\u001b[49m\n\u001b[0;32m    394\u001b[0m \u001b[43m    \u001b[49m\u001b[43masset_name\u001b[49m\u001b[38;5;241;43m=\u001b[39;49m\u001b[43masset_name\u001b[49m\u001b[43m,\u001b[49m\n\u001b[0;32m    395\u001b[0m \u001b[43m    \u001b[49m\u001b[43masset_version\u001b[49m\u001b[38;5;241;43m=\u001b[39;49m\u001b[43masset_version\u001b[49m\u001b[43m,\u001b[49m\n\u001b[0;32m    396\u001b[0m \u001b[43m    \u001b[49m\u001b[43mignore_file\u001b[49m\u001b[38;5;241;43m=\u001b[39;49m\u001b[43mignore_file\u001b[49m\u001b[43m,\u001b[49m\n\u001b[0;32m    397\u001b[0m \u001b[43m    \u001b[49m\u001b[43msas_uri\u001b[49m\u001b[38;5;241;43m=\u001b[39;49m\u001b[43msas_uri\u001b[49m\u001b[43m,\u001b[49m\n\u001b[0;32m    398\u001b[0m \u001b[43m\u001b[49m\u001b[43m)\u001b[49m\n\u001b[0;32m    399\u001b[0m \u001b[38;5;28;01mif\u001b[39;00m blob_uri:\n\u001b[0;32m    400\u001b[0m     artifact\u001b[38;5;241m.\u001b[39mstorage_account_url \u001b[38;5;241m=\u001b[39m blob_uri\n",
      "File \u001b[1;32mc:\\Users\\Nicolas Pelzmann\\Documents\\Projects\\EAD\\AXH-SonarFish\\.venv\\lib\\site-packages\\azure\\ai\\ml\\_artifacts\\_artifact_utilities.py:246\u001b[0m, in \u001b[0;36mupload_artifact\u001b[1;34m(local_path, datastore_operation, operation_scope, datastore_name, asset_hash, show_progress, asset_name, asset_version, ignore_file, sas_uri)\u001b[0m\n\u001b[0;32m    243\u001b[0m     datastore_info \u001b[38;5;241m=\u001b[39m get_datastore_info(datastore_operation, datastore_name)\n\u001b[0;32m    244\u001b[0m     storage_client \u001b[38;5;241m=\u001b[39m get_storage_client(\u001b[38;5;241m*\u001b[39m\u001b[38;5;241m*\u001b[39mdatastore_info)\n\u001b[1;32m--> 246\u001b[0m artifact_info \u001b[38;5;241m=\u001b[39m \u001b[43mstorage_client\u001b[49m\u001b[38;5;241;43m.\u001b[39;49m\u001b[43mupload\u001b[49m\u001b[43m(\u001b[49m\n\u001b[0;32m    247\u001b[0m \u001b[43m    \u001b[49m\u001b[43mlocal_path\u001b[49m\u001b[43m,\u001b[49m\n\u001b[0;32m    248\u001b[0m \u001b[43m    \u001b[49m\u001b[43masset_hash\u001b[49m\u001b[38;5;241;43m=\u001b[39;49m\u001b[43masset_hash\u001b[49m\u001b[43m,\u001b[49m\n\u001b[0;32m    249\u001b[0m \u001b[43m    \u001b[49m\u001b[43mshow_progress\u001b[49m\u001b[38;5;241;43m=\u001b[39;49m\u001b[43mshow_progress\u001b[49m\u001b[43m,\u001b[49m\n\u001b[0;32m    250\u001b[0m \u001b[43m    \u001b[49m\u001b[43mname\u001b[49m\u001b[38;5;241;43m=\u001b[39;49m\u001b[43masset_name\u001b[49m\u001b[43m,\u001b[49m\n\u001b[0;32m    251\u001b[0m \u001b[43m    \u001b[49m\u001b[43mversion\u001b[49m\u001b[38;5;241;43m=\u001b[39;49m\u001b[43masset_version\u001b[49m\u001b[43m,\u001b[49m\n\u001b[0;32m    252\u001b[0m \u001b[43m    \u001b[49m\u001b[43mignore_file\u001b[49m\u001b[38;5;241;43m=\u001b[39;49m\u001b[43mignore_file\u001b[49m\u001b[43m,\u001b[49m\n\u001b[0;32m    253\u001b[0m \u001b[43m\u001b[49m\u001b[43m)\u001b[49m\n\u001b[0;32m    255\u001b[0m artifact \u001b[38;5;241m=\u001b[39m ArtifactStorageInfo(\n\u001b[0;32m    256\u001b[0m     name\u001b[38;5;241m=\u001b[39martifact_info[\u001b[38;5;124m\"\u001b[39m\u001b[38;5;124mname\u001b[39m\u001b[38;5;124m\"\u001b[39m],\n\u001b[0;32m    257\u001b[0m     version\u001b[38;5;241m=\u001b[39martifact_info[\u001b[38;5;124m\"\u001b[39m\u001b[38;5;124mversion\u001b[39m\u001b[38;5;124m\"\u001b[39m],\n\u001b[1;32m   (...)\u001b[0m\n\u001b[0;32m    265\u001b[0m     is_file\u001b[38;5;241m=\u001b[39mPath(local_path)\u001b[38;5;241m.\u001b[39mis_file(),\n\u001b[0;32m    266\u001b[0m )\n\u001b[0;32m    267\u001b[0m \u001b[38;5;28;01mreturn\u001b[39;00m artifact\n",
      "File \u001b[1;32mc:\\Users\\Nicolas Pelzmann\\Documents\\Projects\\EAD\\AXH-SonarFish\\.venv\\lib\\site-packages\\azure\\ai\\ml\\_artifacts\\_blob_storage_helper.py:120\u001b[0m, in \u001b[0;36mBlobStorageClient.upload\u001b[1;34m(self, source, name, version, ignore_file, asset_hash, show_progress)\u001b[0m\n\u001b[0;32m    118\u001b[0m \u001b[38;5;66;03m# start upload\u001b[39;00m\n\u001b[0;32m    119\u001b[0m \u001b[38;5;28;01mif\u001b[39;00m os\u001b[38;5;241m.\u001b[39mpath\u001b[38;5;241m.\u001b[39misdir(source):\n\u001b[1;32m--> 120\u001b[0m     \u001b[43mupload_directory\u001b[49m\u001b[43m(\u001b[49m\n\u001b[0;32m    121\u001b[0m \u001b[43m        \u001b[49m\u001b[43mstorage_client\u001b[49m\u001b[38;5;241;43m=\u001b[39;49m\u001b[38;5;28;43mself\u001b[39;49m\u001b[43m,\u001b[49m\n\u001b[0;32m    122\u001b[0m \u001b[43m        \u001b[49m\u001b[43msource\u001b[49m\u001b[38;5;241;43m=\u001b[39;49m\u001b[43msource\u001b[49m\u001b[43m,\u001b[49m\n\u001b[0;32m    123\u001b[0m \u001b[43m        \u001b[49m\u001b[43mdest\u001b[49m\u001b[38;5;241;43m=\u001b[39;49m\u001b[43masset_id\u001b[49m\u001b[43m,\u001b[49m\n\u001b[0;32m    124\u001b[0m \u001b[43m        \u001b[49m\u001b[43mmsg\u001b[49m\u001b[38;5;241;43m=\u001b[39;49m\u001b[43mmsg\u001b[49m\u001b[43m,\u001b[49m\n\u001b[0;32m    125\u001b[0m \u001b[43m        \u001b[49m\u001b[43mshow_progress\u001b[49m\u001b[38;5;241;43m=\u001b[39;49m\u001b[43mshow_progress\u001b[49m\u001b[43m,\u001b[49m\n\u001b[0;32m    126\u001b[0m \u001b[43m        \u001b[49m\u001b[43mignore_file\u001b[49m\u001b[38;5;241;43m=\u001b[39;49m\u001b[43mignore_file\u001b[49m\u001b[43m,\u001b[49m\n\u001b[0;32m    127\u001b[0m \u001b[43m    \u001b[49m\u001b[43m)\u001b[49m\n\u001b[0;32m    128\u001b[0m \u001b[38;5;28;01melse\u001b[39;00m:\n\u001b[0;32m    129\u001b[0m     \u001b[38;5;28mself\u001b[39m\u001b[38;5;241m.\u001b[39mindicator_file \u001b[38;5;241m=\u001b[39m dest\n",
      "File \u001b[1;32mc:\\Users\\Nicolas Pelzmann\\Documents\\Projects\\EAD\\AXH-SonarFish\\.venv\\lib\\site-packages\\azure\\ai\\ml\\_utils\\_asset_utils.py:617\u001b[0m, in \u001b[0;36mupload_directory\u001b[1;34m(storage_client, source, dest, msg, show_progress, ignore_file)\u001b[0m\n\u001b[0;32m    612\u001b[0m     storage_client\u001b[38;5;241m.\u001b[39msub_directory_client \u001b[38;5;241m=\u001b[39m storage_client\u001b[38;5;241m.\u001b[39mdirectory_client\u001b[38;5;241m.\u001b[39mcreate_sub_directory(\n\u001b[0;32m    613\u001b[0m         prefix\u001b[38;5;241m.\u001b[39mstrip(\u001b[38;5;124m\"\u001b[39m\u001b[38;5;124m/\u001b[39m\u001b[38;5;124m\"\u001b[39m)\u001b[38;5;241m.\u001b[39msplit(\u001b[38;5;124m\"\u001b[39m\u001b[38;5;124m/\u001b[39m\u001b[38;5;124m\"\u001b[39m)[\u001b[38;5;241m-\u001b[39m\u001b[38;5;241m1\u001b[39m]\n\u001b[0;32m    614\u001b[0m     )\n\u001b[0;32m    616\u001b[0m \u001b[38;5;66;03m# Enumerate all files in the given directory and compose paths for them to be uploaded to in the remote storage\u001b[39;00m\n\u001b[1;32m--> 617\u001b[0m upload_paths \u001b[38;5;241m=\u001b[39m \u001b[43mget_upload_files_from_folder\u001b[49m\u001b[43m(\u001b[49m\n\u001b[0;32m    618\u001b[0m \u001b[43m    \u001b[49m\u001b[43msource_path\u001b[49m\u001b[43m,\u001b[49m\n\u001b[0;32m    619\u001b[0m \u001b[43m    \u001b[49m\u001b[43mprefix\u001b[49m\u001b[38;5;241;43m=\u001b[39;49m\u001b[43mprefix\u001b[49m\u001b[43m,\u001b[49m\n\u001b[0;32m    620\u001b[0m \u001b[43m    \u001b[49m\u001b[43mignore_file\u001b[49m\u001b[38;5;241;43m=\u001b[39;49m\u001b[43mignore_file\u001b[49m\u001b[43m,\u001b[49m\n\u001b[0;32m    621\u001b[0m \u001b[43m\u001b[49m\u001b[43m)\u001b[49m\n\u001b[0;32m    622\u001b[0m size_dict \u001b[38;5;241m=\u001b[39m {}\n\u001b[0;32m    623\u001b[0m total_size \u001b[38;5;241m=\u001b[39m \u001b[38;5;241m0\u001b[39m\n",
      "File \u001b[1;32mc:\\Users\\Nicolas Pelzmann\\Documents\\Projects\\EAD\\AXH-SonarFish\\.venv\\lib\\site-packages\\azure\\ai\\ml\\_utils\\_asset_utils.py:350\u001b[0m, in \u001b[0;36mget_upload_files_from_folder\u001b[1;34m(path, prefix, ignore_file)\u001b[0m\n\u001b[0;32m    348\u001b[0m path \u001b[38;5;241m=\u001b[39m Path(path)\n\u001b[0;32m    349\u001b[0m upload_paths \u001b[38;5;241m=\u001b[39m []\n\u001b[1;32m--> 350\u001b[0m \u001b[38;5;28;01mfor\u001b[39;00m root, _, files \u001b[38;5;129;01min\u001b[39;00m os\u001b[38;5;241m.\u001b[39mwalk(path, followlinks\u001b[38;5;241m=\u001b[39m\u001b[38;5;28;01mTrue\u001b[39;00m):\n\u001b[0;32m    351\u001b[0m     upload_paths \u001b[38;5;241m+\u001b[39m\u001b[38;5;241m=\u001b[39m \u001b[38;5;28mlist\u001b[39m(\n\u001b[0;32m    352\u001b[0m         traverse_directory(\n\u001b[0;32m    353\u001b[0m             root,\n\u001b[1;32m   (...)\u001b[0m\n\u001b[0;32m    357\u001b[0m         )\n\u001b[0;32m    358\u001b[0m     )\n\u001b[0;32m    359\u001b[0m \u001b[38;5;28;01mreturn\u001b[39;00m upload_paths\n",
      "File \u001b[1;32mC:\\Python310\\lib\\os.py:419\u001b[0m, in \u001b[0;36m_walk\u001b[1;34m(top, topdown, onerror, followlinks)\u001b[0m\n\u001b[0;32m    414\u001b[0m         \u001b[38;5;66;03m# Issue #23605: os.path.islink() is used instead of caching\u001b[39;00m\n\u001b[0;32m    415\u001b[0m         \u001b[38;5;66;03m# entry.is_symlink() result during the loop on os.scandir() because\u001b[39;00m\n\u001b[0;32m    416\u001b[0m         \u001b[38;5;66;03m# the caller can replace the directory entry during the \"yield\"\u001b[39;00m\n\u001b[0;32m    417\u001b[0m         \u001b[38;5;66;03m# above.\u001b[39;00m\n\u001b[0;32m    418\u001b[0m         \u001b[38;5;28;01mif\u001b[39;00m followlinks \u001b[38;5;129;01mor\u001b[39;00m \u001b[38;5;129;01mnot\u001b[39;00m islink(new_path):\n\u001b[1;32m--> 419\u001b[0m             \u001b[38;5;28;01myield from\u001b[39;00m _walk(new_path, topdown, onerror, followlinks)\n\u001b[0;32m    420\u001b[0m \u001b[38;5;28;01melse\u001b[39;00m:\n\u001b[0;32m    421\u001b[0m     \u001b[38;5;66;03m# Recurse into sub-directories\u001b[39;00m\n\u001b[0;32m    422\u001b[0m     \u001b[38;5;28;01mfor\u001b[39;00m new_path \u001b[38;5;129;01min\u001b[39;00m walk_dirs:\n",
      "File \u001b[1;32mC:\\Python310\\lib\\os.py:419\u001b[0m, in \u001b[0;36m_walk\u001b[1;34m(top, topdown, onerror, followlinks)\u001b[0m\n\u001b[0;32m    414\u001b[0m         \u001b[38;5;66;03m# Issue #23605: os.path.islink() is used instead of caching\u001b[39;00m\n\u001b[0;32m    415\u001b[0m         \u001b[38;5;66;03m# entry.is_symlink() result during the loop on os.scandir() because\u001b[39;00m\n\u001b[0;32m    416\u001b[0m         \u001b[38;5;66;03m# the caller can replace the directory entry during the \"yield\"\u001b[39;00m\n\u001b[0;32m    417\u001b[0m         \u001b[38;5;66;03m# above.\u001b[39;00m\n\u001b[0;32m    418\u001b[0m         \u001b[38;5;28;01mif\u001b[39;00m followlinks \u001b[38;5;129;01mor\u001b[39;00m \u001b[38;5;129;01mnot\u001b[39;00m islink(new_path):\n\u001b[1;32m--> 419\u001b[0m             \u001b[38;5;28;01myield from\u001b[39;00m _walk(new_path, topdown, onerror, followlinks)\n\u001b[0;32m    420\u001b[0m \u001b[38;5;28;01melse\u001b[39;00m:\n\u001b[0;32m    421\u001b[0m     \u001b[38;5;66;03m# Recurse into sub-directories\u001b[39;00m\n\u001b[0;32m    422\u001b[0m     \u001b[38;5;28;01mfor\u001b[39;00m new_path \u001b[38;5;129;01min\u001b[39;00m walk_dirs:\n",
      "File \u001b[1;32mC:\\Python310\\lib\\os.py:358\u001b[0m, in \u001b[0;36m_walk\u001b[1;34m(top, topdown, onerror, followlinks)\u001b[0m\n\u001b[0;32m    350\u001b[0m \u001b[38;5;66;03m# We may not have read permission for top, in which case we can't\u001b[39;00m\n\u001b[0;32m    351\u001b[0m \u001b[38;5;66;03m# get a list of the files the directory contains.  os.walk\u001b[39;00m\n\u001b[0;32m    352\u001b[0m \u001b[38;5;66;03m# always suppressed the exception then, rather than blow up for a\u001b[39;00m\n\u001b[0;32m    353\u001b[0m \u001b[38;5;66;03m# minor reason when (say) a thousand readable directories are still\u001b[39;00m\n\u001b[0;32m    354\u001b[0m \u001b[38;5;66;03m# left to visit.  That logic is copied here.\u001b[39;00m\n\u001b[0;32m    355\u001b[0m \u001b[38;5;28;01mtry\u001b[39;00m:\n\u001b[0;32m    356\u001b[0m     \u001b[38;5;66;03m# Note that scandir is global in this module due\u001b[39;00m\n\u001b[0;32m    357\u001b[0m     \u001b[38;5;66;03m# to earlier import-*.\u001b[39;00m\n\u001b[1;32m--> 358\u001b[0m     scandir_it \u001b[38;5;241m=\u001b[39m \u001b[43mscandir\u001b[49m\u001b[43m(\u001b[49m\u001b[43mtop\u001b[49m\u001b[43m)\u001b[49m\n\u001b[0;32m    359\u001b[0m \u001b[38;5;28;01mexcept\u001b[39;00m \u001b[38;5;167;01mOSError\u001b[39;00m \u001b[38;5;28;01mas\u001b[39;00m error:\n\u001b[0;32m    360\u001b[0m     \u001b[38;5;28;01mif\u001b[39;00m onerror \u001b[38;5;129;01mis\u001b[39;00m \u001b[38;5;129;01mnot\u001b[39;00m \u001b[38;5;28;01mNone\u001b[39;00m:\n",
      "\u001b[1;31mKeyboardInterrupt\u001b[0m: "
     ]
    }
   ],
   "source": [
    "pipeline_job = kalman_tracking_pipeline(\n",
    "    input_data=pipeline_input,\n",
    ")\n",
    "\n",
    "import shutil\n",
    "# copy library files to job source directory temporarily\n",
    "pth = './components/kalman_tracking/src/algorithm/'\n",
    "shutil.copytree('../algorithm/', pth)\n",
    "\n",
    "pipeline_job_run = ml_client.jobs.create_or_update(\n",
    "    pipeline_job, experiment_name=\"pipeline-kalman-tracking\"\n",
    ")\n",
    "shutil.rmtree(pth)\n",
    "pipeline_job_run"
   ]
  },
  {
   "cell_type": "markdown",
   "metadata": {},
   "source": [
    "# Classify the Trajectories"
   ]
  },
  {
   "cell_type": "code",
   "execution_count": 4,
   "metadata": {},
   "outputs": [],
   "source": [
    "from azure.ai.ml import load_component\n",
    "\n",
    "run_classification = load_component(source=\"./components/classification/classification.yml\")"
   ]
  },
  {
   "cell_type": "code",
   "execution_count": 5,
   "metadata": {},
   "outputs": [],
   "source": [
    "from azure.ai.ml.dsl import pipeline\n",
    "from azure.ai.ml import command, Input, Output\n",
    "from azure.ai.ml.constants import AssetTypes, InputOutputModes\n",
    "\n",
    "\n",
    "@pipeline(\n",
    "    compute=\"Standard-A1-v2\",\n",
    ")\n",
    "def track_classification_pipeline(\n",
    "    train_val_data: Input(type=AssetTypes.URI_FOLDER), \n",
    "    train_val_gt_data: Input(type=AssetTypes.URI_FOLDER),\n",
    "    files_to_classify: Input(type=AssetTypes.URI_FOLDER),\n",
    "    classified_detections_dir: Output(type=AssetTypes.URI_FOLDER) = None,\n",
    "    log_level: str = \"INFO\",\n",
    "):\n",
    "    \n",
    "    classification_run_results = run_classification(\n",
    "        train_val_data=train_val_data,\n",
    "        train_val_gt_data=train_val_gt_data,\n",
    "        files_to_classify=files_to_classify,\n",
    "        log_level=log_level\n",
    "    )\n",
    "    \n",
    "\n",
    "\n",
    "    return {\"classified_detections_dir\": classification_run_results.outputs.classified_detections_dir}"
   ]
  },
  {
   "cell_type": "code",
   "execution_count": 71,
   "metadata": {},
   "outputs": [],
   "source": [
    "uri = f'azureml://subscriptions/{subscription}/resourcegroups/{resource_group}/workspaces/{workspace}/datastores/{datastore_name}/paths/'\n",
    "uri_train_val_data = f'{uri}stroppel_classification/train_data/cached_features/'\n",
    "uri_train_val_gt_data = f'{uri}stroppel_classification/train_data/ground_truth_tracks/'\n",
    "\n",
    "uri_files_to_classify = f'{uri}stroppel_tracking_output/_test_with_videos/'"
   ]
  },
  {
   "cell_type": "code",
   "execution_count": 72,
   "metadata": {},
   "outputs": [
    {
     "name": "stderr",
     "output_type": "stream",
     "text": [
      "Uploading src (4.49 MBs): 100%|##########| 4488338/4488338 [00:00<00:00, 4972237.76it/s]\n",
      "\n",
      "\n"
     ]
    },
    {
     "data": {
      "text/html": [
       "<table style=\"width:100%\"><tr><th>Experiment</th><th>Name</th><th>Type</th><th>Status</th><th>Details Page</th></tr><tr><td>pipeline-track-classification</td><td>jolly_yuca_kd7ftj93hl</td><td>pipeline</td><td>NotStarted</td><td><a href=\"https://ml.azure.com/runs/jolly_yuca_kd7ftj93hl?wsid=/subscriptions/your-azure-subscription-id/resourcegroups/axsa-lab-appl-fishsonar-rg/workspaces/axsa-lab-appl-fishsonar-ml&amp;tid=8619c67c-945a-48ae-8e77-35b1b71c9b98\" target=\"_blank\" rel=\"noopener\">Link to Azure Machine Learning studio</a></td></tr></table>"
      ],
      "text/plain": [
       "PipelineJob({'inputs': {'train_val_data': <azure.ai.ml.entities._job.pipeline._io.base.PipelineInput object at 0x0000011063C97730>, 'train_val_gt_data': <azure.ai.ml.entities._job.pipeline._io.base.PipelineInput object at 0x0000011063C959C0>, 'files_to_classify': <azure.ai.ml.entities._job.pipeline._io.base.PipelineInput object at 0x0000011063C97DF0>, 'log_level': <azure.ai.ml.entities._job.pipeline._io.base.PipelineInput object at 0x0000011063C95930>}, 'outputs': {'classified_detections_dir': <azure.ai.ml.entities._job.pipeline._io.base.PipelineOutput object at 0x0000011063C95960>}, 'jobs': {}, 'component': PipelineComponent({'latest_version': None, 'intellectual_property': None, 'auto_increment_version': False, 'source': 'REMOTE.WORKSPACE.JOB', 'is_anonymous': True, 'auto_delete_setting': None, 'name': 'azureml_anonymous', 'description': None, 'tags': {}, 'properties': {}, 'print_as_yaml': False, 'id': None, 'Resource__source_path': None, 'base_path': 'c:\\\\Users\\\\Nicolas Pelzmann\\\\Documents\\\\Projects\\\\EAD\\\\AXH-SonarFish\\\\run_on_azure', 'creation_context': None, 'serialize': <msrest.serialization.Serializer object at 0x0000011063C95270>, 'version': '1', 'schema': None, 'type': 'pipeline', 'display_name': 'track_classification_pipeline', 'is_deterministic': None, 'inputs': {'train_val_data': {}, 'train_val_gt_data': {}, 'files_to_classify': {}, 'log_level': {}}, 'outputs': {'classified_detections_dir': {}}, 'yaml_str': None, 'other_parameter': {}, 'jobs': {'classification_run_results': Command({'parameters': {}, 'init': False, 'name': 'classification_run_results', 'type': 'command', 'status': None, 'log_files': None, 'description': None, 'tags': {}, 'properties': {}, 'print_as_yaml': False, 'id': None, 'Resource__source_path': '', 'base_path': 'c:\\\\Users\\\\Nicolas Pelzmann\\\\Documents\\\\Projects\\\\EAD\\\\AXH-SonarFish\\\\run_on_azure', 'creation_context': None, 'serialize': <msrest.serialization.Serializer object at 0x0000011063C94070>, 'allowed_keys': {}, 'key_restriction': False, 'logger': <TraceLogger attr_dict (WARNING)>, 'display_name': None, 'experiment_name': None, 'compute': None, 'services': None, 'comment': None, 'job_inputs': {'train_val_data': '${{parent.inputs.train_val_data}}', 'train_val_gt_data': '${{parent.inputs.train_val_gt_data}}', 'files_to_classify': '${{parent.inputs.files_to_classify}}', 'log_level': '${{parent.inputs.log_level}}'}, 'job_outputs': {'classified_detections_dir': '${{parent.outputs.classified_detections_dir}}'}, 'inputs': {'train_val_data': <azure.ai.ml.entities._job.pipeline._io.base.NodeInput object at 0x0000011063C95B10>, 'train_val_gt_data': <azure.ai.ml.entities._job.pipeline._io.base.NodeInput object at 0x0000011063C942B0>, 'files_to_classify': <azure.ai.ml.entities._job.pipeline._io.base.NodeInput object at 0x0000011063C94160>, 'log_level': <azure.ai.ml.entities._job.pipeline._io.base.NodeInput object at 0x0000011063C96890>}, 'outputs': {'classified_detections_dir': <azure.ai.ml.entities._job.pipeline._io.base.NodeOutput object at 0x0000011063C70BB0>}, 'component': 'azureml_anonymous:46143193-1233-4f89-a16e-57fb27c25aa2', 'referenced_control_flow_node_instance_id': None, 'kwargs': {'services': None}, 'instance_id': 'df3f6813-62be-49c1-9dbe-ce51ce1ce2db', 'source': 'YAML.COMPONENT', 'validate_required_input_not_provided': True, 'limits': None, 'identity': None, 'distribution': None, 'environment_variables': {}, 'environment': None, 'resources': None, 'queue_settings': None, 'swept': False})}, 'job_types': {'command': 1}, 'job_sources': {'YAML.COMPONENT': 1}, 'source_job_id': None}), 'type': 'pipeline', 'status': 'NotStarted', 'log_files': None, 'name': 'jolly_yuca_kd7ftj93hl', 'description': None, 'tags': {}, 'properties': {'mlflow.source.git.repoURL': 'https://Axpo-AXP@dev.azure.com/Axpo-AXP/AXH-Secret-Module-Development/_git/AXH-SonarFish', 'mlflow.source.git.branch': 'feature/MDS-383/historic-videos-kalman-tracking', 'mlflow.source.git.commit': 'd1e9ee5b8b95d9f4acfd939e00d231867c6befe8', 'azureml.git.dirty': 'True'}, 'print_as_yaml': False, 'id': '/subscriptions/your-azure-subscription-id/resourceGroups/axsa-lab-appl-fishsonar-rg/providers/Microsoft.MachineLearningServices/workspaces/axsa-lab-appl-fishsonar-ml/jobs/jolly_yuca_kd7ftj93hl', 'Resource__source_path': '', 'base_path': 'c:\\\\Users\\\\Nicolas Pelzmann\\\\Documents\\\\Projects\\\\EAD\\\\AXH-SonarFish\\\\run_on_azure', 'creation_context': <azure.ai.ml.entities._system_data.SystemData object at 0x0000011063C95B40>, 'serialize': <msrest.serialization.Serializer object at 0x0000011063C95360>, 'display_name': 'track_classification_pipeline', 'experiment_name': 'pipeline-track-classification', 'compute': 'Standard-A1-v2', 'services': {'Tracking': {'endpoint': 'azureml://westeurope.api.azureml.ms/mlflow/v1.0/subscriptions/your-azure-subscription-id/resourceGroups/axsa-lab-appl-fishsonar-rg/providers/Microsoft.MachineLearningServices/workspaces/axsa-lab-appl-fishsonar-ml?', 'type': 'Tracking'}, 'Studio': {'endpoint': 'https://ml.azure.com/runs/jolly_yuca_kd7ftj93hl?wsid=/subscriptions/your-azure-subscription-id/resourcegroups/axsa-lab-appl-fishsonar-rg/workspaces/axsa-lab-appl-fishsonar-ml&tid=8619c67c-945a-48ae-8e77-35b1b71c9b98', 'type': 'Studio'}}, 'settings': {}, 'identity': None, 'default_code': None, 'default_environment': None})"
      ]
     },
     "execution_count": 72,
     "metadata": {},
     "output_type": "execute_result"
    }
   ],
   "source": [
    "pipeline_job = track_classification_pipeline(\n",
    "    train_val_data=Input(type=AssetTypes.URI_FOLDER, path=uri_train_val_data, mode=InputOutputModes.DOWNLOAD),\n",
    "    train_val_gt_data=Input(type=AssetTypes.URI_FOLDER, path=uri_train_val_gt_data, mode=InputOutputModes.DOWNLOAD),\n",
    "    files_to_classify=Input(type=AssetTypes.URI_FOLDER, path=uri_files_to_classify, mode=InputOutputModes.DOWNLOAD),\n",
    ")\n",
    "\n",
    "import shutil\n",
    "# copy library files to job source directory temporarily\n",
    "pth = './components/classification/src/analysis/classification_utils/'\n",
    "shutil.copytree('../analysis/classification_utils/', pth)\n",
    "\n",
    "pipeline_job_run = ml_client.jobs.create_or_update(\n",
    "    pipeline_job, experiment_name=\"pipeline-track-classification\"\n",
    ")\n",
    "shutil.rmtree(pth)\n",
    "pipeline_job_run"
   ]
  },
  {
   "cell_type": "markdown",
   "metadata": {},
   "source": [
    "# Generate Videos with Classifications"
   ]
  },
  {
   "cell_type": "code",
   "execution_count": 61,
   "metadata": {},
   "outputs": [],
   "source": [
    "from azure.ai.ml import load_component\n",
    "\n",
    "run_tracking = load_component(source=\"./components/kalman_tracking/tracking.yml\")"
   ]
  },
  {
   "cell_type": "code",
   "execution_count": 34,
   "metadata": {},
   "outputs": [],
   "source": [
    "label_files_path_on_datastore = 'azureml/578c4768-4789-4046-98a5-057188bc2662/classified_detections_dir/'\n",
    "uri_label_files = f'{uri}{label_files_path_on_datastore}'\n",
    "\n",
    "labels_dir_input = Input(\n",
    "    type=AssetTypes.URI_FOLDER,\n",
    "    path=uri_label_files,\n",
    "    mode=InputOutputModes.RO_MOUNT,\n",
    ")"
   ]
  },
  {
   "cell_type": "code",
   "execution_count": 35,
   "metadata": {},
   "outputs": [],
   "source": [
    "from azure.ai.ml.dsl import pipeline\n",
    "\n",
    "\n",
    "@pipeline(\n",
    "    compute=\"Standard-D1-v2\",\n",
    ")\n",
    "def track_labeling_pipeline(\n",
    "    input_data: Input(type=AssetTypes.URI_FOLDER), \n",
    "    labels_dir: Input(type=AssetTypes.URI_FOLDER),\n",
    "    output_data: Output(type=AssetTypes.URI_FOLDER) = None,\n",
    "    save_output_video: bool = True,\n",
    "):\n",
    "    tracking_results = run_tracking(\n",
    "        data=input_data,\n",
    "        labels_dir=labels_dir,\n",
    "        save_output_video=save_output_video,\n",
    "    )\n",
    "\n",
    "    return {\"detections\": tracking_results.outputs.detections}"
   ]
  },
  {
   "cell_type": "code",
   "execution_count": 36,
   "metadata": {},
   "outputs": [
    {
     "name": "stderr",
     "output_type": "stream",
     "text": [
      "\u001b[32mUploading src (4.56 MBs): 100%|##########| 4560902/4560902 [00:01<00:00, 2743127.63it/s]\n",
      "\u001b[39m\n",
      "\n"
     ]
    },
    {
     "data": {
      "text/html": [
       "<table style=\"width:100%\"><tr><th>Experiment</th><th>Name</th><th>Type</th><th>Status</th><th>Details Page</th></tr><tr><td>pipeline-kalman-labeling</td><td>sweet_tail_g4ydknpfcg</td><td>pipeline</td><td>NotStarted</td><td><a href=\"https://ml.azure.com/runs/sweet_tail_g4ydknpfcg?wsid=/subscriptions/your-azure-subscription-id/resourcegroups/axsa-lab-appl-fishsonar-rg/workspaces/axsa-lab-appl-fishsonar-ml&amp;tid=8619c67c-945a-48ae-8e77-35b1b71c9b98\" target=\"_blank\" rel=\"noopener\">Link to Azure Machine Learning studio</a></td></tr></table>"
      ],
      "text/plain": [
       "PipelineJob({'inputs': {'input_data': <azure.ai.ml.entities._job.pipeline._io.base.PipelineInput object at 0x000002B6282FF490>, 'labels_dir': <azure.ai.ml.entities._job.pipeline._io.base.PipelineInput object at 0x000002B6282FCA90>, 'save_output_video': <azure.ai.ml.entities._job.pipeline._io.base.PipelineInput object at 0x000002B6282FEDD0>}, 'outputs': {'detections': <azure.ai.ml.entities._job.pipeline._io.base.PipelineOutput object at 0x000002B6282FFA90>}, 'jobs': {}, 'component': PipelineComponent({'latest_version': None, 'intellectual_property': None, 'auto_increment_version': False, 'source': 'REMOTE.WORKSPACE.JOB', 'is_anonymous': True, 'auto_delete_setting': None, 'name': 'azureml_anonymous', 'description': None, 'tags': {}, 'properties': {}, 'print_as_yaml': False, 'id': None, 'Resource__source_path': None, 'base_path': 'c:\\\\Users\\\\Nicolas Pelzmann\\\\Documents\\\\Projects\\\\EAD\\\\AXH-SonarFish\\\\run_on_azure', 'creation_context': None, 'serialize': <msrest.serialization.Serializer object at 0x000002B6282FCB50>, 'version': '1', 'schema': None, 'type': 'pipeline', 'display_name': 'track_labeling_pipeline', 'is_deterministic': None, 'inputs': {'input_data': {}, 'labels_dir': {}, 'save_output_video': {}}, 'outputs': {'detections': {}}, 'yaml_str': None, 'other_parameter': {}, 'jobs': {'tracking_results': Command({'parameters': {}, 'init': False, 'name': 'tracking_results', 'type': 'command', 'status': None, 'log_files': None, 'description': None, 'tags': {}, 'properties': {}, 'print_as_yaml': False, 'id': None, 'Resource__source_path': '', 'base_path': 'c:\\\\Users\\\\Nicolas Pelzmann\\\\Documents\\\\Projects\\\\EAD\\\\AXH-SonarFish\\\\run_on_azure', 'creation_context': None, 'serialize': <msrest.serialization.Serializer object at 0x000002B6282FF6D0>, 'allowed_keys': {}, 'key_restriction': False, 'logger': <TraceLogger attr_dict (WARNING)>, 'display_name': None, 'experiment_name': None, 'compute': None, 'services': None, 'comment': None, 'job_inputs': {'data': '${{parent.inputs.input_data}}', 'labels_dir': '${{parent.inputs.labels_dir}}', 'save_output_video': '${{parent.inputs.save_output_video}}'}, 'job_outputs': {'detections': '${{parent.outputs.detections}}'}, 'inputs': {'data': <azure.ai.ml.entities._job.pipeline._io.base.NodeInput object at 0x000002B6282FFA00>, 'labels_dir': <azure.ai.ml.entities._job.pipeline._io.base.NodeInput object at 0x000002B6282FD420>, 'save_output_video': <azure.ai.ml.entities._job.pipeline._io.base.NodeInput object at 0x000002B6282FF520>}, 'outputs': {'detections': <azure.ai.ml.entities._job.pipeline._io.base.NodeOutput object at 0x000002B6282FCA00>}, 'component': 'azureml_anonymous:4754701f-6c5b-4519-a461-2a1a0f142476', 'referenced_control_flow_node_instance_id': None, 'kwargs': {'services': None}, 'instance_id': '4bc3eaf2-1183-47d3-8c9f-4a0e5891540f', 'source': 'YAML.COMPONENT', 'validate_required_input_not_provided': True, 'limits': None, 'identity': None, 'distribution': None, 'environment_variables': {}, 'environment': None, 'resources': None, 'queue_settings': None, 'swept': False})}, 'job_types': {'command': 1}, 'job_sources': {'YAML.COMPONENT': 1}, 'source_job_id': None}), 'type': 'pipeline', 'status': 'NotStarted', 'log_files': None, 'name': 'sweet_tail_g4ydknpfcg', 'description': None, 'tags': {}, 'properties': {'mlflow.source.git.repoURL': 'https://Axpo-AXP@dev.azure.com/Axpo-AXP/AXH-Secret-Module-Development/_git/AXH-SonarFish', 'mlflow.source.git.branch': 'feature/MDS-383/historic-videos-kalman-tracking', 'mlflow.source.git.commit': '70a290c01995c8dce2183d85f696c588bb21eadc', 'azureml.git.dirty': 'True'}, 'print_as_yaml': False, 'id': '/subscriptions/your-azure-subscription-id/resourceGroups/axsa-lab-appl-fishsonar-rg/providers/Microsoft.MachineLearningServices/workspaces/axsa-lab-appl-fishsonar-ml/jobs/sweet_tail_g4ydknpfcg', 'Resource__source_path': '', 'base_path': 'c:\\\\Users\\\\Nicolas Pelzmann\\\\Documents\\\\Projects\\\\EAD\\\\AXH-SonarFish\\\\run_on_azure', 'creation_context': <azure.ai.ml.entities._system_data.SystemData object at 0x000002B6282FE7A0>, 'serialize': <msrest.serialization.Serializer object at 0x000002B6282FF9A0>, 'display_name': 'track_labeling_pipeline', 'experiment_name': 'pipeline-kalman-labeling', 'compute': 'Standard-A1-v2', 'services': {'Tracking': {'endpoint': 'azureml://westeurope.api.azureml.ms/mlflow/v1.0/subscriptions/your-azure-subscription-id/resourceGroups/axsa-lab-appl-fishsonar-rg/providers/Microsoft.MachineLearningServices/workspaces/axsa-lab-appl-fishsonar-ml?', 'type': 'Tracking'}, 'Studio': {'endpoint': 'https://ml.azure.com/runs/sweet_tail_g4ydknpfcg?wsid=/subscriptions/your-azure-subscription-id/resourcegroups/axsa-lab-appl-fishsonar-rg/workspaces/axsa-lab-appl-fishsonar-ml&tid=8619c67c-945a-48ae-8e77-35b1b71c9b98', 'type': 'Studio'}}, 'settings': {}, 'identity': None, 'default_code': None, 'default_environment': None})"
      ]
     },
     "execution_count": 36,
     "metadata": {},
     "output_type": "execute_result"
    }
   ],
   "source": [
    "pipeline_job = track_labeling_pipeline(\n",
    "    input_data=pipeline_input,\n",
    "    labels_dir=labels_dir_input,\n",
    ")\n",
    "\n",
    "import shutil\n",
    "# copy library files to job source directory temporarily\n",
    "pth = './components/kalman_tracking/src/algorithm/'\n",
    "shutil.copytree('../algorithm/', pth)\n",
    "\n",
    "pipeline_job_run = ml_client.jobs.create_or_update(\n",
    "    pipeline_job, experiment_name=\"pipeline-kalman-labeling\"\n",
    ")\n",
    "shutil.rmtree(pth)\n",
    "pipeline_job_run"
   ]
  },
  {
   "cell_type": "markdown",
   "metadata": {},
   "source": [
    "# Run all steps in pipeline"
   ]
  },
  {
   "cell_type": "code",
   "execution_count": 154,
   "metadata": {},
   "outputs": [],
   "source": [
    "run_tracking = load_component(source=\"./components/kalman_tracking/tracking.yml\")\n",
    "run_classification = load_component(source=\"./components/classification/classification.yml\")\n",
    "\n",
    "@pipeline(\n",
    "    compute=\"Standard-D1-v2\",\n",
    ")\n",
    "def tracking_all_steps(\n",
    "    input_data: Input(type=AssetTypes.URI_FOLDER), \n",
    "    train_val_data: Input(type=AssetTypes.URI_FOLDER), \n",
    "    train_val_gt_data: Input(type=AssetTypes.URI_FOLDER),\n",
    "    output_data_uri: str = None,\n",
    "    indermediate_data_uri: str = None,\n",
    "    log_level: str = \"INFO\",\n",
    "):\n",
    "    \n",
    "    tracking_results = run_tracking(\n",
    "        data=input_data,\n",
    "        save_output_video=False,\n",
    "    )\n",
    "    tracking_results.outputs.detections = Output(type=\"uri_folder\", path=indermediate_data_uri, mode=InputOutputModes.RW_MOUNT)\n",
    "    \n",
    "    classification_run_results = run_classification(\n",
    "        train_val_data=train_val_data,\n",
    "        train_val_gt_data=train_val_gt_data,\n",
    "        files_to_classify=tracking_results.outputs.detections,\n",
    "        log_level=log_level,\n",
    "    )\n",
    "    classification_run_results.outputs.classified_detections_dir = Output(\n",
    "        type=\"uri_folder\",\n",
    "        path=output_data_uri,\n",
    "        mode=InputOutputModes.RW_MOUNT,\n",
    "    )\n",
    "    classification_run_results.compute = \"Standard-A2m-v2\"\n",
    "    \n",
    "    labeling_results = run_tracking(\n",
    "        data=input_data,\n",
    "        labels_dir=classification_run_results.outputs.classified_detections_dir,\n",
    "        save_output_video=True,\n",
    "    )\n",
    "\n",
    "    return {\"detections\": labeling_results.outputs.detections}\n",
    "    \n",
    "\n",
    "@pipeline(\n",
    "    compute=\"Standard-D1-v2\",\n",
    ")\n",
    "def tracking_base_steps(\n",
    "    input_data: Input(type=AssetTypes.URI_FOLDER), \n",
    "    train_val_data: Input(type=AssetTypes.URI_FOLDER), \n",
    "    train_val_gt_data: Input(type=AssetTypes.URI_FOLDER),\n",
    "    indermediate_data_uri: str = None,\n",
    "    log_level: str = \"INFO\",\n",
    "):\n",
    "    \n",
    "    tracking_results = run_tracking(\n",
    "        data=input_data,\n",
    "        save_output_video=False,\n",
    "    )\n",
    "    tracking_results.outputs.detections = Output(type=\"uri_folder\", path=indermediate_data_uri, mode=InputOutputModes.RW_MOUNT)\n",
    "    \n",
    "    classification_run_results = run_classification(\n",
    "        train_val_data=train_val_data,\n",
    "        train_val_gt_data=train_val_gt_data,\n",
    "        files_to_classify=tracking_results.outputs.detections,\n",
    "        log_level=log_level,\n",
    "    )\n",
    "    classification_run_results.compute = \"Standard-A2m-v2\"\n",
    "    \n",
    "    return {\"classified_detection_videos_dir\": classification_run_results.outputs.classified_detections_dir}"
   ]
  },
  {
   "cell_type": "code",
   "execution_count": 127,
   "metadata": {},
   "outputs": [
    {
     "data": {
      "text/html": [
       "<table style=\"width:100%\"><tr><th>Experiment</th><th>Name</th><th>Type</th><th>Status</th><th>Details Page</th></tr><tr><td>pipeline-track-all-steps</td><td>maroon_cherry_bwgknljgnv</td><td>pipeline</td><td>NotStarted</td><td><a href=\"https://ml.azure.com/runs/maroon_cherry_bwgknljgnv?wsid=/subscriptions/your-azure-subscription-id/resourcegroups/axsa-lab-appl-fishsonar-rg/workspaces/axsa-lab-appl-fishsonar-ml&amp;tid=8619c67c-945a-48ae-8e77-35b1b71c9b98\" target=\"_blank\" rel=\"noopener\">Link to Azure Machine Learning studio</a></td></tr></table>"
      ],
      "text/plain": [
       "PipelineJob({'inputs': {'input_data': <azure.ai.ml.entities._job.pipeline._io.base.PipelineInput object at 0x0000014D29F6A8F0>, 'train_val_data': <azure.ai.ml.entities._job.pipeline._io.base.PipelineInput object at 0x0000014D29F6A7D0>, 'train_val_gt_data': <azure.ai.ml.entities._job.pipeline._io.base.PipelineInput object at 0x0000014D29F6A920>, 'indermediate_data_uri': <azure.ai.ml.entities._job.pipeline._io.base.PipelineInput object at 0x0000014D29F6A7A0>, 'log_level': <azure.ai.ml.entities._job.pipeline._io.base.PipelineInput object at 0x0000014D29F6AB00>}, 'outputs': {'classified_detection_videos_dir': <azure.ai.ml.entities._job.pipeline._io.base.PipelineOutput object at 0x0000014D29F6ADA0>}, 'jobs': {}, 'component': PipelineComponent({'latest_version': None, 'intellectual_property': None, 'auto_increment_version': False, 'source': 'REMOTE.WORKSPACE.JOB', 'is_anonymous': True, 'auto_delete_setting': None, 'name': 'azureml_anonymous', 'description': None, 'tags': {}, 'properties': {}, 'print_as_yaml': False, 'id': None, 'Resource__source_path': None, 'base_path': 'c:\\\\Users\\\\Nicolas Pelzmann\\\\Documents\\\\Projects\\\\EAD\\\\AXH-SonarFish\\\\run_on_azure', 'creation_context': None, 'serialize': <msrest.serialization.Serializer object at 0x0000014D29F6A020>, 'version': '1', 'schema': None, 'type': 'pipeline', 'display_name': 'tracking_base_steps', 'is_deterministic': None, 'inputs': {'input_data': {}, 'train_val_data': {}, 'train_val_gt_data': {}, 'indermediate_data_uri': {}, 'log_level': {}}, 'outputs': {'classified_detection_videos_dir': {}}, 'yaml_str': None, 'other_parameter': {}, 'jobs': {'tracking_results': Command({'parameters': {}, 'init': False, 'name': 'tracking_results', 'type': 'command', 'status': None, 'log_files': None, 'description': None, 'tags': {}, 'properties': {}, 'print_as_yaml': False, 'id': None, 'Resource__source_path': '', 'base_path': 'c:\\\\Users\\\\Nicolas Pelzmann\\\\Documents\\\\Projects\\\\EAD\\\\AXH-SonarFish\\\\run_on_azure', 'creation_context': None, 'serialize': <msrest.serialization.Serializer object at 0x0000014D29F6A320>, 'allowed_keys': {}, 'key_restriction': False, 'logger': <TraceLogger attr_dict (WARNING)>, 'display_name': None, 'experiment_name': None, 'compute': None, 'services': None, 'comment': None, 'job_inputs': {'save_output_video': 'False', 'data': '${{parent.inputs.input_data}}'}, 'job_outputs': {}, 'inputs': {'save_output_video': <azure.ai.ml.entities._job.pipeline._io.base.NodeInput object at 0x0000014D29F6A200>, 'data': <azure.ai.ml.entities._job.pipeline._io.base.NodeInput object at 0x0000014D29F69F30>}, 'outputs': {}, 'component': 'azureml_anonymous:01bd862d-7555-4dc3-af9b-253b2094e7b2', 'referenced_control_flow_node_instance_id': None, 'kwargs': {'services': None}, 'instance_id': '8b339927-1a0e-4909-823b-68fd59a00f16', 'source': 'YAML.COMPONENT', 'validate_required_input_not_provided': True, 'limits': None, 'identity': None, 'distribution': None, 'environment_variables': {}, 'environment': None, 'resources': None, 'queue_settings': None, 'swept': False}), 'classification_run_results': Command({'parameters': {}, 'init': False, 'name': 'classification_run_results', 'type': 'command', 'status': None, 'log_files': None, 'description': None, 'tags': {}, 'properties': {}, 'print_as_yaml': False, 'id': None, 'Resource__source_path': '', 'base_path': 'c:\\\\Users\\\\Nicolas Pelzmann\\\\Documents\\\\Projects\\\\EAD\\\\AXH-SonarFish\\\\run_on_azure', 'creation_context': None, 'serialize': <msrest.serialization.Serializer object at 0x0000014D29F6A170>, 'allowed_keys': {}, 'key_restriction': False, 'logger': <TraceLogger attr_dict (WARNING)>, 'display_name': None, 'experiment_name': None, 'compute': None, 'services': None, 'comment': None, 'job_inputs': {'train_val_data': '${{parent.inputs.train_val_data}}', 'train_val_gt_data': '${{parent.inputs.train_val_gt_data}}', 'files_to_classify': '${{parent.jobs.tracking_results.outputs.detections}}', 'log_level': '${{parent.inputs.log_level}}'}, 'job_outputs': {'classified_detections_dir': '${{parent.outputs.classified_detection_videos_dir}}'}, 'inputs': {'train_val_data': <azure.ai.ml.entities._job.pipeline._io.base.NodeInput object at 0x0000014D29F69F60>, 'train_val_gt_data': <azure.ai.ml.entities._job.pipeline._io.base.NodeInput object at 0x0000014D29F69F90>, 'files_to_classify': <azure.ai.ml.entities._job.pipeline._io.base.NodeInput object at 0x0000014D29F69FF0>, 'log_level': <azure.ai.ml.entities._job.pipeline._io.base.NodeInput object at 0x0000014D29F6A140>}, 'outputs': {'classified_detections_dir': <azure.ai.ml.entities._job.pipeline._io.base.NodeOutput object at 0x0000014D29F69F00>}, 'component': 'azureml_anonymous:126a9970-9501-4717-9df1-ecb28ec06552', 'referenced_control_flow_node_instance_id': None, 'kwargs': {'services': None}, 'instance_id': '10e5ff2a-c1c7-458c-b956-3e6eb4a02167', 'source': 'YAML.COMPONENT', 'validate_required_input_not_provided': True, 'limits': None, 'identity': None, 'distribution': None, 'environment_variables': {}, 'environment': None, 'resources': None, 'queue_settings': None, 'swept': False})}, 'job_types': {'command': 2}, 'job_sources': {'YAML.COMPONENT': 2}, 'source_job_id': None}), 'type': 'pipeline', 'status': 'NotStarted', 'log_files': None, 'name': 'maroon_cherry_bwgknljgnv', 'description': None, 'tags': {'date': '2023-03-28'}, 'properties': {'mlflow.source.git.repoURL': 'https://Axpo-AXP@dev.azure.com/Axpo-AXP/AXH-Secret-Module-Development/_git/AXH-SonarFish', 'mlflow.source.git.branch': 'feature/MDS-383/historic-videos-kalman-tracking', 'mlflow.source.git.commit': '70a290c01995c8dce2183d85f696c588bb21eadc', 'azureml.git.dirty': 'True'}, 'print_as_yaml': False, 'id': '/subscriptions/your-azure-subscription-id/resourceGroups/axsa-lab-appl-fishsonar-rg/providers/Microsoft.MachineLearningServices/workspaces/axsa-lab-appl-fishsonar-ml/jobs/maroon_cherry_bwgknljgnv', 'Resource__source_path': '', 'base_path': 'c:\\\\Users\\\\Nicolas Pelzmann\\\\Documents\\\\Projects\\\\EAD\\\\AXH-SonarFish\\\\run_on_azure', 'creation_context': <azure.ai.ml.entities._system_data.SystemData object at 0x0000014D29F6AD70>, 'serialize': <msrest.serialization.Serializer object at 0x0000014D29F6ABF0>, 'display_name': 'tracking_base_steps', 'experiment_name': 'pipeline-track-all-steps', 'compute': 'Standard-D1-v2', 'services': {'Tracking': {'endpoint': 'azureml://westeurope.api.azureml.ms/mlflow/v1.0/subscriptions/your-azure-subscription-id/resourceGroups/axsa-lab-appl-fishsonar-rg/providers/Microsoft.MachineLearningServices/workspaces/axsa-lab-appl-fishsonar-ml?', 'type': 'Tracking'}, 'Studio': {'endpoint': 'https://ml.azure.com/runs/maroon_cherry_bwgknljgnv?wsid=/subscriptions/your-azure-subscription-id/resourcegroups/axsa-lab-appl-fishsonar-rg/workspaces/axsa-lab-appl-fishsonar-ml&tid=8619c67c-945a-48ae-8e77-35b1b71c9b98', 'type': 'Studio'}}, 'settings': {}, 'identity': None, 'default_code': None, 'default_environment': None})"
      ]
     },
     "execution_count": 127,
     "metadata": {},
     "output_type": "execute_result"
    }
   ],
   "source": [
    "import shutil\n",
    "from azure.ai.ml import load_component\n",
    "\n",
    "path_on_datastore = 'stroppel_videos/2023-03-28/'\n",
    "intermediate_path_on_datastore = 'stroppel_tracking_intermediate_data/2023-03-28/'\n",
    "output_path_on_datastore = 'stroppel_tracking_output/2023-03-28/'\n",
    "\n",
    "# path_on_datastore = 'stroppel_videos/_sanity_check_one_file/'\n",
    "# intermediate_path_on_datastore = 'stroppel_tracking_intermediate_data/_sanity_check_one_file/'\n",
    "# output_path_on_datastore = 'stroppel_tracking_output/_sanity_check_second_file/'\n",
    "\n",
    "# long-form Datastore uri format:\n",
    "uri_input = f'{uri}{path_on_datastore}'\n",
    "uri_intermediate_data = f'{uri}{intermediate_path_on_datastore}'\n",
    "uri_output = f'{uri}{output_path_on_datastore}'\n",
    "uri_train_val_data = f'{uri}stroppel_classification/train_data/cached_features/'\n",
    "uri_train_val_gt_data = f'{uri}stroppel_classification/train_data/ground_truth_tracks/'\n",
    "\n",
    "generate_videos_with_detections = False\n",
    "\n",
    "\n",
    "if generate_videos_with_detections:\n",
    "    pipeline_job = tracking_all_steps(\n",
    "        input_data=Input(type=AssetTypes.URI_FOLDER, path=uri_input, mode=InputOutputModes.DOWNLOAD),\n",
    "        train_val_data=Input(type=AssetTypes.URI_FOLDER, path=uri_train_val_data, mode=InputOutputModes.DOWNLOAD),\n",
    "        train_val_gt_data=Input(type=AssetTypes.URI_FOLDER, path=uri_train_val_gt_data, mode=InputOutputModes.DOWNLOAD),\n",
    "        output_data_uri=uri_output,\n",
    "        indermediate_data_uri=uri_intermediate_data,\n",
    "    )\n",
    "    pipeline_job.outputs.detections = Output(type=\"uri_folder\", path=uri_output, mode=InputOutputModes.RW_MOUNT)\n",
    "    pipeline_job.tags = {\"date\": \"2023-03-28\"}\n",
    "else:\n",
    "    pipeline_job = tracking_base_steps(\n",
    "        input_data=Input(type=AssetTypes.URI_FOLDER, path=uri_input, mode=InputOutputModes.DOWNLOAD),\n",
    "        train_val_data=Input(type=AssetTypes.URI_FOLDER, path=uri_train_val_data, mode=InputOutputModes.DOWNLOAD),\n",
    "        train_val_gt_data=Input(type=AssetTypes.URI_FOLDER, path=uri_train_val_gt_data, mode=InputOutputModes.DOWNLOAD),\n",
    "        indermediate_data_uri=uri_intermediate_data,\n",
    "    )\n",
    "    pipeline_job.outputs.classified_detection_videos_dir = Output(type=\"uri_folder\", path=uri_output, mode=InputOutputModes.RW_MOUNT)\n",
    "    pipeline_job.tags = {\"date\": \"2023-03-28\"}\n",
    "\n",
    "# copy library files to job source directory temporarily\n",
    "pth_cls = './components/classification/src/analysis/classification_utils/'\n",
    "shutil.copytree('../analysis/classification_utils/', pth_cls)\n",
    "pth = './components/kalman_tracking/src/algorithm/'\n",
    "shutil.copytree('../algorithm/', pth)\n",
    "\n",
    "pipeline_job_run = ml_client.jobs.create_or_update(\n",
    "    pipeline_job, experiment_name=\"pipeline-track-all-steps\"\n",
    ")\n",
    "\n",
    "shutil.rmtree(pth)\n",
    "shutil.rmtree(pth_cls)\n",
    "pipeline_job_run"
   ]
  },
  {
   "cell_type": "markdown",
   "metadata": {},
   "source": [
    "# Run Jobs for every day of the year"
   ]
  },
  {
   "cell_type": "code",
   "execution_count": 167,
   "metadata": {},
   "outputs": [],
   "source": [
    "from typing import Optional\n",
    "import pandas as pd\n",
    "\n",
    "\n",
    "def generate_paths(\n",
    "        datastore_uri: str,\n",
    "        start_date: Optional[str] = None,\n",
    "        end_date: Optional[str] = None,\n",
    "        base_path_on_datastore: str = 'stroppel_videos/',\n",
    "        base_intermediate_path_on_datastore: str = 'stroppel_tracking_intermediate_data/',\n",
    "        base_output_path_on_datastore: str = 'stroppel_tracking_output/',\n",
    "    ):\n",
    "    if start_date:\n",
    "        dates = pd.date_range(start=start_date, end=end_date)\n",
    "    else:\n",
    "        dates = ['_test']\n",
    "    for date in dates:\n",
    "        # Format the date as a string\n",
    "        date_str = date.strftime('%Y-%m-%d') if start_date else date\n",
    "\n",
    "        # Create the paths for the current date\n",
    "        path_on_datastore = f'{datastore_uri}{base_path_on_datastore}{date_str}/'\n",
    "        intermediate_path_on_datastore = f'{datastore_uri}{base_intermediate_path_on_datastore}{date_str}/'\n",
    "        output_path_on_datastore = f'{datastore_uri}{base_output_path_on_datastore}{date_str}/'\n",
    "\n",
    "        yield path_on_datastore, intermediate_path_on_datastore, output_path_on_datastore, date_str"
   ]
  },
  {
   "cell_type": "code",
   "execution_count": 172,
   "metadata": {},
   "outputs": [
    {
     "name": "stdout",
     "output_type": "stream",
     "text": [
      "submitted job with tags: {'date': '2023-03-29'}\n",
      "submitted job with tags: {'date': '2023-03-30'}\n",
      "submitted job with tags: {'date': '2023-03-31'}\n",
      "submitted job with tags: {'date': '2023-04-01'}\n",
      "submitted job with tags: {'date': '2023-04-02'}\n",
      "submitted job with tags: {'date': '2023-04-03'}\n",
      "submitted job with tags: {'date': '2023-04-04'}\n",
      "submitted job with tags: {'date': '2023-04-05'}\n",
      "submitted job with tags: {'date': '2023-04-06'}\n",
      "submitted job with tags: {'date': '2023-04-07'}\n",
      "submitted job with tags: {'date': '2023-04-08'}\n",
      "submitted job with tags: {'date': '2023-04-09'}\n",
      "submitted job with tags: {'date': '2023-04-10'}\n",
      "submitted job with tags: {'date': '2023-04-11'}\n",
      "submitted job with tags: {'date': '2023-04-12'}\n",
      "submitted job with tags: {'date': '2023-04-13'}\n",
      "submitted job with tags: {'date': '2023-04-14'}\n",
      "submitted job with tags: {'date': '2023-04-15'}\n",
      "submitted job with tags: {'date': '2023-04-16'}\n",
      "submitted job with tags: {'date': '2023-04-17'}\n",
      "submitted job with tags: {'date': '2023-04-18'}\n",
      "submitted job with tags: {'date': '2023-04-19'}\n",
      "submitted job with tags: {'date': '2023-04-20'}\n",
      "submitted job with tags: {'date': '2023-04-21'}\n",
      "submitted job with tags: {'date': '2023-04-22'}\n",
      "submitted job with tags: {'date': '2023-04-23'}\n",
      "submitted job with tags: {'date': '2023-04-24'}\n",
      "submitted job with tags: {'date': '2023-04-25'}\n",
      "submitted job with tags: {'date': '2023-04-26'}\n",
      "submitted job with tags: {'date': '2023-04-27'}\n",
      "submitted job with tags: {'date': '2023-04-28'}\n",
      "submitted job with tags: {'date': '2023-04-29'}\n",
      "submitted job with tags: {'date': '2023-04-30'}\n"
     ]
    }
   ],
   "source": [
    "start_date = '2023-03-29'\n",
    "end_date = '2023-04-30'\n",
    "\n",
    "# copy library files to job source directory temporarily\n",
    "pth_cls = './components/classification/src/analysis/classification_utils/'\n",
    "shutil.copytree('../analysis/classification_utils/', pth_cls)\n",
    "pth = './components/kalman_tracking/src/algorithm/'\n",
    "shutil.copytree('../algorithm/', pth)\n",
    "\n",
    "for raw_videos_dir_path, intermediate_path_on_datastore, output_path_on_datastore, date_str in generate_paths(uri, start_date, end_date):\n",
    "    pipeline_job = tracking_base_steps(\n",
    "        input_data=Input(type=AssetTypes.URI_FOLDER, path=raw_videos_dir_path, mode=InputOutputModes.DOWNLOAD),\n",
    "        train_val_data=Input(type=AssetTypes.URI_FOLDER, path=uri_train_val_data, mode=InputOutputModes.DOWNLOAD),\n",
    "        train_val_gt_data=Input(type=AssetTypes.URI_FOLDER, path=uri_train_val_gt_data, mode=InputOutputModes.DOWNLOAD),\n",
    "        indermediate_data_uri=intermediate_path_on_datastore,\n",
    "    )\n",
    "    pipeline_job.outputs.classified_detection_videos_dir = Output(type=\"uri_folder\", path=output_path_on_datastore, mode=InputOutputModes.RW_MOUNT)\n",
    "    pipeline_job.tags = {\"date\": date_str}\n",
    "    \n",
    "    pipeline_job_run = ml_client.jobs.create_or_update(\n",
    "        pipeline_job, \n",
    "        experiment_name=\"pipeline-track-all-steps\",\n",
    "    )\n",
    "    print(f'submitted job with tags: {pipeline_job_run.tags}')\n",
    "    \n",
    "shutil.rmtree(pth)\n",
    "shutil.rmtree(pth_cls)"
   ]
  },
  {
   "cell_type": "code",
   "execution_count": null,
   "metadata": {},
   "outputs": [],
   "source": []
  }
 ],
 "metadata": {
  "kernelspec": {
   "display_name": ".venv",
   "language": "python",
   "name": "python3"
  },
  "language_info": {
   "codemirror_mode": {
    "name": "ipython",
    "version": 3
   },
   "file_extension": ".py",
   "mimetype": "text/x-python",
   "name": "python",
   "nbconvert_exporter": "python",
   "pygments_lexer": "ipython3",
   "version": "3.11.9"
  }
 },
 "nbformat": 4,
 "nbformat_minor": 2
}
