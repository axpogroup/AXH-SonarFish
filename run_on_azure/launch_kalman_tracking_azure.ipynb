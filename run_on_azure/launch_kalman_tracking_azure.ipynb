{
 "cells": [
  {
   "cell_type": "code",
   "execution_count": 7,
   "metadata": {},
   "outputs": [],
   "source": [
    "import os\n",
    "import dotenv\n",
    "\n",
    "from azure.ai.ml import MLClient\n",
    "from azure.identity import AzureCliCredential\n",
    "\n",
    "dotenv.load_dotenv()\n",
    "subscription = os.getenv(f\"subscription_id\")\n",
    "resource_group = os.getenv(f\"resource_group\")\n",
    "workspace = os.getenv(f\"workspace_name\")\n",
    "\n",
    "ml_client = MLClient(\n",
    "    AzureCliCredential(), \n",
    "    subscription, \n",
    "    resource_group, \n",
    "    workspace,\n",
    ")"
   ]
  },
  {
   "cell_type": "code",
   "execution_count": 36,
   "metadata": {},
   "outputs": [],
   "source": [
    "from azure.ai.ml import command, Input, Output\n",
    "from azure.ai.ml.constants import AssetTypes, InputOutputModes\n",
    "\n",
    "\n",
    "# Azure Machine Learning workspace details:\n",
    "subscription = os.getenv(f\"subscription_id\")\n",
    "resource_group = os.getenv(f\"resource_group\")\n",
    "workspace = os.getenv(f\"workspace_name\")\n",
    "datastore_name = 'workspaceblobstore'\n",
    "path_on_datastore = 'stroppel_videos/2023-03-28/'\n",
    "output_path_on_datastore = 'stroppel_tracking_output/2023-03-28/'\n",
    "\n",
    "# long-form Datastore uri format:\n",
    "uri = f'azureml://subscriptions/{subscription}/resourcegroups/{resource_group}/workspaces/{workspace}/datastores/{datastore_name}/paths/'\n",
    "uri_input = f'{uri}{path_on_datastore}'\n",
    "uri_output = f'{uri}{output_path_on_datastore}'\n",
    "\n",
    "inputs = {\n",
    "    \"input_data\": Input(type=\"uri_folder\",\n",
    "              path=uri_input,\n",
    "              mode=InputOutputModes.RO_MOUNT,\n",
    "              )\n",
    "}\n",
    "outputs = {\n",
    "    \"output_data\": Output(type=\"uri_folder\",\n",
    "                path=uri_output,\n",
    "                mode=InputOutputModes.RW_MOUNT,\n",
    "                # name=\"stroppel_tracking_output\"\n",
    "                )\n",
    "}\n",
    "\n",
    "arguments = [\n",
    "    \"--tracking_config\", \"kalman_tracking_settings.yaml\",\n",
    "    \"--dataset\", \"${{inputs.input_data}}\",\n",
    "    \"--output\", \"${{outputs.output_data}}\",\n",
    "]\n",
    "\n",
    "job = command(\n",
    "    code=\".\",\n",
    "    command=\"python run_on_azure/kalman_tracking_azure.py \" + \" \".join(arguments),\n",
    "    environment=\"fishy_environment@latest\",\n",
    "    compute=\"Standard-A1-v2\",\n",
    "    experiment_name=\"batch_tracking\",\n",
    "    inputs=inputs,\n",
    "    outputs=outputs,\n",
    ")"
   ]
  },
  {
   "cell_type": "code",
   "execution_count": 37,
   "metadata": {},
   "outputs": [
    {
     "name": "stderr",
     "output_type": "stream",
     "text": [
      "\u001b[32mUploading run_on_azure (3.58 MBs): 100%|##########| 3583798/3583798 [00:00<00:00, 4397059.88it/s]\n",
      "\u001b[39m\n",
      "\n"
     ]
    }
   ],
   "source": [
    "import shutil\n",
    "# copy library files to job source directory temporarily\n",
    "pth = './algorithm/'\n",
    "shutil.copytree('../algorithm/', pth)\n",
    "\n",
    "returned_job = ml_client.create_or_update(job)\n",
    "\n",
    "shutil.rmtree(pth)"
   ]
  }
 ],
 "metadata": {
  "kernelspec": {
   "display_name": ".venv",
   "language": "python",
   "name": "python3"
  },
  "language_info": {
   "codemirror_mode": {
    "name": "ipython",
    "version": 3
   },
   "file_extension": ".py",
   "mimetype": "text/x-python",
   "name": "python",
   "nbconvert_exporter": "python",
   "pygments_lexer": "ipython3",
   "version": "3.10.10"
  }
 },
 "nbformat": 4,
 "nbformat_minor": 2
}
