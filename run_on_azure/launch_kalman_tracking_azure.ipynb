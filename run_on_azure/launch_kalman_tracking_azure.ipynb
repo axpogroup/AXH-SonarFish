{
 "cells": [
  {
   "cell_type": "code",
   "execution_count": 2,
   "metadata": {},
   "outputs": [],
   "source": [
    "import os\n",
    "import dotenv\n",
    "\n",
    "from azure.ai.ml import MLClient\n",
    "from azure.identity import AzureCliCredential\n",
    "\n",
    "dotenv.load_dotenv()\n",
    "subscription = os.getenv(f\"subscription_id\")\n",
    "resource_group = os.getenv(f\"resource_group\")\n",
    "workspace = os.getenv(f\"workspace_name\")\n",
    "\n",
    "ml_client = MLClient(\n",
    "    AzureCliCredential(), \n",
    "    subscription, \n",
    "    resource_group, \n",
    "    workspace,\n",
    ")"
   ]
  },
  {
   "cell_type": "code",
   "execution_count": 3,
   "metadata": {},
   "outputs": [],
   "source": [
    "from azure.ai.ml import command, Input, Output\n",
    "from azure.ai.ml.constants import AssetTypes, InputOutputModes\n",
    "from azure.ai.ml.dsl import pipeline\n",
    "\n",
    "\n",
    "datastore_name = 'workspaceblobstore'\n",
    "path_on_datastore = 'stroppel_videos/_test/'\n",
    "output_path_on_datastore = 'stroppel_tracking_output/_test_with_videos_2/'\n",
    "\n",
    "# long-form Datastore uri format:\n",
    "uri = f'azureml://subscriptions/{subscription}/resourcegroups/{resource_group}/workspaces/{workspace}/datastores/{datastore_name}/paths/'\n",
    "uri_input = f'{uri}{path_on_datastore}'\n",
    "uri_output = f'{uri}{output_path_on_datastore}'\n",
    "\n",
    "inputs = {\n",
    "    \"job_data_path\": Input(type=\"uri_file\",\n",
    "              path=uri_input + 'start_2023-03-28T00-25-10.036+00-00.mp4',\n",
    "              mode=InputOutputModes.DOWNLOAD,\n",
    "              )\n",
    "}\n",
    "outputs = {\n",
    "    \"job_output_path\": Output(type=\"uri_folder\",\n",
    "                path=uri_output,\n",
    "                mode=InputOutputModes.RW_MOUNT,\n",
    "                )\n",
    "}"
   ]
  },
  {
   "cell_type": "markdown",
   "metadata": {},
   "source": [
    "# Run Command Job for Tracking Only"
   ]
  },
  {
   "cell_type": "code",
   "execution_count": 4,
   "metadata": {},
   "outputs": [
    {
     "name": "stderr",
     "output_type": "stream",
     "text": [
      "Class AutoDeleteSettingSchema: This is an experimental class, and may change at any time. Please see https://aka.ms/azuremlexperimental for more information.\n",
      "Class AutoDeleteConditionSchema: This is an experimental class, and may change at any time. Please see https://aka.ms/azuremlexperimental for more information.\n",
      "Class BaseAutoDeleteSettingSchema: This is an experimental class, and may change at any time. Please see https://aka.ms/azuremlexperimental for more information.\n",
      "Class IntellectualPropertySchema: This is an experimental class, and may change at any time. Please see https://aka.ms/azuremlexperimental for more information.\n",
      "Class ProtectionLevelSchema: This is an experimental class, and may change at any time. Please see https://aka.ms/azuremlexperimental for more information.\n",
      "Class BaseIntellectualPropertySchema: This is an experimental class, and may change at any time. Please see https://aka.ms/azuremlexperimental for more information.\n"
     ]
    }
   ],
   "source": [
    "arguments = [\n",
    "    \"--tracking_config\", \"kalman_tracking_settings.yaml\",\n",
    "    \"--job_inputs_path\", \"${{inputs.job_data_path}}\",\n",
    "    \"--job_output_path\", \"${{outputs.job_output_path}}\",\n",
    "    \"--log_level\", \"INFO\",\n",
    "]\n",
    "\n",
    "job = command(\n",
    "    code=\"./components/kalman_tracking/src/\",\n",
    "    command=\"python kalman_tracking_azure.py \" + \" \".join(arguments),\n",
    "    environment=\"fishy_environment:6\",\n",
    "    compute=\"Standard-A1-v2\",\n",
    "    experiment_name=\"batch_tracking\",\n",
    "    inputs=inputs,\n",
    "    outputs=outputs,\n",
    ")\n",
    "\n",
    "import shutil\n",
    "# copy library files to job source directory temporarily\n",
    "pth = './components/kalman_tracking/src/algorithm/'\n",
    "shutil.copytree('../algorithm/', pth)\n",
    "\n",
    "returned_job = ml_client.create_or_update(job)\n",
    "\n",
    "shutil.rmtree(pth)"
   ]
  },
  {
   "cell_type": "markdown",
   "metadata": {},
   "source": [
    "# Only Tracking as Pipeline"
   ]
  },
  {
   "cell_type": "code",
   "execution_count": 20,
   "metadata": {},
   "outputs": [],
   "source": [
    "uri = f'azureml://subscriptions/{subscription}/resourcegroups/{resource_group}/workspaces/{workspace}/datastores/{datastore_name}/paths/'\n",
    "uri_train_val_data = f'{uri}stroppel_classification/train_data/cached_features/'\n",
    "uri_train_val_gt_data = f'{uri}stroppel_classification/train_data/ground_truth_tracks/'\n",
    "\n",
    "uri_files_to_classify = f'{uri}stroppel_tracking_output/_test_with_videos/'"
   ]
  },
  {
   "cell_type": "code",
   "execution_count": 3,
   "metadata": {},
   "outputs": [],
   "source": [
    "from azure.ai.ml import load_component\n",
    "\n",
    "run_tracking = load_component(source=\"./components/kalman_tracking/tracking.yml\")"
   ]
  },
  {
   "cell_type": "code",
   "execution_count": 58,
   "metadata": {},
   "outputs": [],
   "source": [
    "from azure.ai.ml.dsl import pipeline\n",
    "\n",
    "\n",
    "@pipeline(\n",
    "    compute=\"Standard-A1-v2\",\n",
    ")\n",
    "def kalman_tracking_pipeline(\n",
    "    input_data: Input(type=AssetTypes.URI_FOLDER), \n",
    "    output_data: Output(type=AssetTypes.URI_FOLDER) = None,\n",
    "):\n",
    "    tracking_results = run_tracking(\n",
    "        data=input_data,\n",
    "    )\n",
    "    \n",
    "    # tracking_results.outputs.detections = Output(\n",
    "    #     type=\"uri_folder\",\n",
    "    #     path=output_uri,\n",
    "    #     mode=InputOutputModes.RW_MOUNT,\n",
    "    # )\n",
    "\n",
    "    return {\"detections\": tracking_results.outputs.detections}"
   ]
  },
  {
   "cell_type": "code",
   "execution_count": 10,
   "metadata": {},
   "outputs": [],
   "source": [
    "pipeline_input = Input(type=\"uri_folder\",\n",
    "    path=uri_input,\n",
    "    mode=InputOutputModes.DOWNLOAD,\n",
    ")"
   ]
  },
  {
   "cell_type": "code",
   "execution_count": null,
   "metadata": {},
   "outputs": [],
   "source": [
    "pipeline_job = kalman_tracking_pipeline(\n",
    "    input_data=pipeline_input,\n",
    ")\n",
    "\n",
    "import shutil\n",
    "# copy library files to job source directory temporarily\n",
    "pth = './components/kalman_tracking/src/algorithm/'\n",
    "shutil.copytree('../algorithm/', pth)\n",
    "\n",
    "pipeline_job_run = ml_client.jobs.create_or_update(\n",
    "    pipeline_job, experiment_name=\"pipeline-kalman-tracking\"\n",
    ")\n",
    "shutil.rmtree(pth)\n",
    "pipeline_job_run"
   ]
  },
  {
   "cell_type": "markdown",
   "metadata": {},
   "source": [
    "# Classify the Trajectories"
   ]
  },
  {
   "cell_type": "code",
   "execution_count": 7,
   "metadata": {},
   "outputs": [],
   "source": [
    "from azure.ai.ml import load_component\n",
    "\n",
    "run_classification = load_component(source=\"./components/classification/classification.yml\")\n",
    "\n",
    "path_on_datastore = 'stroppel_videos/_sanity_check_one_file/'\n",
    "intermediate_path_on_datastore = 'stroppel_tracking_intermediate_data/_sanity_check_one_file/'\n",
    "output_path_on_datastore = 'stroppel_tracking_output/_sanity_check_one_file/'\n",
    "\n",
    "# long-form Datastore uri format:\n",
    "uri_input = f'{uri}{path_on_datastore}'\n",
    "uri_intermediate_data = f'{uri}{intermediate_path_on_datastore}'\n",
    "uri_output = f'{uri}{output_path_on_datastore}'\n",
    "uri_train_val_data = f'{uri}stroppel_classification/train_data/cached_features/'\n",
    "uri_train_val_gt_data = f'{uri}stroppel_classification/train_data/ground_truth_tracks/'"
   ]
  },
  {
   "cell_type": "code",
   "execution_count": 5,
   "metadata": {},
   "outputs": [],
   "source": [
    "from azure.ai.ml.dsl import pipeline\n",
    "from azure.ai.ml import command, Input, Output\n",
    "from azure.ai.ml.constants import AssetTypes, InputOutputModes\n",
    "\n",
    "\n",
    "@pipeline(\n",
    "    compute=\"Standard-A2m-v2\",\n",
    ")\n",
    "def track_classification_pipeline(\n",
    "    train_val_data: Input(type=AssetTypes.URI_FOLDER), \n",
    "    train_val_gt_data: Input(type=AssetTypes.URI_FOLDER),\n",
    "    files_to_classify: Input(type=AssetTypes.URI_FOLDER),\n",
    "    classified_detections_dir: Output(type=AssetTypes.URI_FOLDER),\n",
    "    log_level: str = \"INFO\",\n",
    "):\n",
    "    \n",
    "    classification_run_results = run_classification(\n",
    "        train_val_data=train_val_data,\n",
    "        train_val_gt_data=train_val_gt_data,\n",
    "        files_to_classify=files_to_classify,\n",
    "        log_level=log_level\n",
    "    )\n",
    "\n",
    "    return {\"classified_detections_dir\": classification_run_results.outputs.classified_detections_dir}"
   ]
  },
  {
   "cell_type": "code",
   "execution_count": 6,
   "metadata": {},
   "outputs": [
    {
     "name": "stderr",
     "output_type": "stream",
     "text": [
      "Class AutoDeleteSettingSchema: This is an experimental class, and may change at any time. Please see https://aka.ms/azuremlexperimental for more information.\n",
      "Class AutoDeleteConditionSchema: This is an experimental class, and may change at any time. Please see https://aka.ms/azuremlexperimental for more information.\n",
      "Class BaseAutoDeleteSettingSchema: This is an experimental class, and may change at any time. Please see https://aka.ms/azuremlexperimental for more information.\n",
      "Class IntellectualPropertySchema: This is an experimental class, and may change at any time. Please see https://aka.ms/azuremlexperimental for more information.\n",
      "Class ProtectionLevelSchema: This is an experimental class, and may change at any time. Please see https://aka.ms/azuremlexperimental for more information.\n",
      "Class BaseIntellectualPropertySchema: This is an experimental class, and may change at any time. Please see https://aka.ms/azuremlexperimental for more information.\n",
      "\u001b[32mUploading src (4.49 MBs): 100%|██████████| 4487428/4487428 [00:00<00:00, 9399154.25it/s] \n",
      "\u001b[39m\n",
      "\n"
     ]
    },
    {
     "data": {
      "text/html": [
       "<table style=\"width:100%\"><tr><th>Experiment</th><th>Name</th><th>Type</th><th>Status</th><th>Details Page</th></tr><tr><td>pipeline-track-classification</td><td>plum_shark_1dltll06xs</td><td>pipeline</td><td>NotStarted</td><td><a href=\"https://ml.azure.com/runs/plum_shark_1dltll06xs?wsid=/subscriptions/your-azure-subscription-id/resourcegroups/axsa-lab-appl-fishsonar-rg/workspaces/axsa-lab-appl-fishsonar-ml&amp;tid=8619c67c-945a-48ae-8e77-35b1b71c9b98\" target=\"_blank\" rel=\"noopener\">Link to Azure Machine Learning studio</a></td></tr></table>"
      ],
      "text/plain": [
       "PipelineJob({'inputs': {'train_val_data': <azure.ai.ml.entities._job.pipeline._io.base.PipelineInput object at 0x7c9c8883f550>, 'train_val_gt_data': <azure.ai.ml.entities._job.pipeline._io.base.PipelineInput object at 0x7c9c8883cdc0>, 'files_to_classify': <azure.ai.ml.entities._job.pipeline._io.base.PipelineInput object at 0x7c9c8883d480>, 'log_level': <azure.ai.ml.entities._job.pipeline._io.base.PipelineInput object at 0x7c9c8883df90>}, 'outputs': {'classified_detections_dir': <azure.ai.ml.entities._job.pipeline._io.base.PipelineOutput object at 0x7c9c8883fd90>}, 'jobs': {}, 'component': PipelineComponent({'latest_version': None, 'intellectual_property': None, 'auto_increment_version': False, 'source': 'REMOTE.WORKSPACE.JOB', 'is_anonymous': True, 'auto_delete_setting': None, 'name': 'azureml_anonymous', 'description': None, 'tags': {}, 'properties': {}, 'print_as_yaml': False, 'id': None, 'Resource__source_path': None, 'base_path': '/home/nicolaspelzmann/Documents/projects/MTA/AXH-SonarFish/run_on_azure', 'creation_context': None, 'serialize': <msrest.serialization.Serializer object at 0x7c9c8883de10>, 'version': '1', 'schema': None, 'type': 'pipeline', 'display_name': 'track_classification_pipeline', 'is_deterministic': None, 'inputs': {'train_val_data': {}, 'train_val_gt_data': {}, 'files_to_classify': {}, 'log_level': {}}, 'outputs': {'classified_detections_dir': {}}, 'yaml_str': None, 'other_parameter': {}, 'jobs': {'classification_run_results': Command({'parameters': {}, 'init': False, 'name': 'classification_run_results', 'type': 'command', 'status': None, 'log_files': None, 'description': None, 'tags': {}, 'properties': {}, 'print_as_yaml': False, 'id': None, 'Resource__source_path': '', 'base_path': '/home/nicolaspelzmann/Documents/projects/MTA/AXH-SonarFish/run_on_azure', 'creation_context': None, 'serialize': <msrest.serialization.Serializer object at 0x7c9c8883ce50>, 'allowed_keys': {}, 'key_restriction': False, 'logger': <TraceLogger attr_dict (WARNING)>, 'display_name': None, 'experiment_name': None, 'compute': None, 'services': None, 'comment': None, 'job_inputs': {'train_val_data': '${{parent.inputs.train_val_data}}', 'train_val_gt_data': '${{parent.inputs.train_val_gt_data}}', 'files_to_classify': '${{parent.inputs.files_to_classify}}', 'log_level': '${{parent.inputs.log_level}}'}, 'job_outputs': {'classified_detections_dir': '${{parent.outputs.classified_detections_dir}}'}, 'inputs': {'train_val_data': <azure.ai.ml.entities._job.pipeline._io.base.NodeInput object at 0x7c9c8883dde0>, 'train_val_gt_data': <azure.ai.ml.entities._job.pipeline._io.base.NodeInput object at 0x7c9c8883ead0>, 'files_to_classify': <azure.ai.ml.entities._job.pipeline._io.base.NodeInput object at 0x7c9c8883f160>, 'log_level': <azure.ai.ml.entities._job.pipeline._io.base.NodeInput object at 0x7c9c8883cac0>}, 'outputs': {'classified_detections_dir': <azure.ai.ml.entities._job.pipeline._io.base.NodeOutput object at 0x7c9c8883d900>}, 'component': 'azureml_anonymous:afbb2b56-4ca1-424c-9b3d-f65950f8634e', 'referenced_control_flow_node_instance_id': None, 'kwargs': {'services': None}, 'instance_id': 'cee38f31-ba23-4616-9110-c0c73b488e89', 'source': 'REMOTE.WORKSPACE.COMPONENT', 'validate_required_input_not_provided': True, 'limits': None, 'identity': None, 'distribution': None, 'environment_variables': {}, 'environment': None, 'resources': None, 'queue_settings': None, 'swept': False})}, 'job_types': {'command': 1}, 'job_sources': {'REMOTE.WORKSPACE.COMPONENT': 1}, 'source_job_id': None}), 'type': 'pipeline', 'status': 'NotStarted', 'log_files': None, 'name': 'plum_shark_1dltll06xs', 'description': None, 'tags': {}, 'properties': {'mlflow.source.git.repoURL': 'https://github.com/axpogroup/AXH-SonarFish.git', 'mlflow.source.git.branch': 'feature/MDS-622/reprocess-stroppel-with-short-burn-in', 'mlflow.source.git.commit': '71043f2d6a7023632c67ce1aa564e1ccb7ffd2de', 'azureml.git.dirty': 'True'}, 'print_as_yaml': False, 'id': '/subscriptions/your-azure-subscription-id/resourceGroups/axsa-lab-appl-fishsonar-rg/providers/Microsoft.MachineLearningServices/workspaces/axsa-lab-appl-fishsonar-ml/jobs/plum_shark_1dltll06xs', 'Resource__source_path': '', 'base_path': '/home/nicolaspelzmann/Documents/projects/MTA/AXH-SonarFish/run_on_azure', 'creation_context': <azure.ai.ml.entities._system_data.SystemData object at 0x7c9c8883c160>, 'serialize': <msrest.serialization.Serializer object at 0x7c9c8883e290>, 'display_name': 'track_classification_pipeline', 'experiment_name': 'pipeline-track-classification', 'compute': 'Standard-A2m-v2', 'services': {'Tracking': {'endpoint': 'azureml://westeurope.api.azureml.ms/mlflow/v1.0/subscriptions/your-azure-subscription-id/resourceGroups/axsa-lab-appl-fishsonar-rg/providers/Microsoft.MachineLearningServices/workspaces/axsa-lab-appl-fishsonar-ml?', 'type': 'Tracking'}, 'Studio': {'endpoint': 'https://ml.azure.com/runs/plum_shark_1dltll06xs?wsid=/subscriptions/your-azure-subscription-id/resourcegroups/axsa-lab-appl-fishsonar-rg/workspaces/axsa-lab-appl-fishsonar-ml&tid=8619c67c-945a-48ae-8e77-35b1b71c9b98', 'type': 'Studio'}}, 'settings': {}, 'identity': None, 'default_code': None, 'default_environment': None})"
      ]
     },
     "execution_count": 6,
     "metadata": {},
     "output_type": "execute_result"
    }
   ],
   "source": [
    "pipeline_job = track_classification_pipeline(\n",
    "    train_val_data=Input(type=AssetTypes.URI_FOLDER, path=uri_train_val_data, mode=InputOutputModes.DOWNLOAD),\n",
    "    train_val_gt_data=Input(type=AssetTypes.URI_FOLDER, path=uri_train_val_gt_data, mode=InputOutputModes.DOWNLOAD),\n",
    "    files_to_classify=Input(type=AssetTypes.URI_FOLDER, path=uri_intermediate_data, mode=InputOutputModes.DOWNLOAD),\n",
    ")\n",
    "\n",
    "import shutil\n",
    "# copy library files to job source directory temporarily\n",
    "pth = './components/classification/src/analysis/classification_utils/'\n",
    "shutil.copytree('../analysis/classification_utils/', pth)\n",
    "\n",
    "pipeline_job_run = ml_client.jobs.create_or_update(\n",
    "    pipeline_job, experiment_name=\"pipeline-track-classification\"\n",
    ")\n",
    "shutil.rmtree(pth)\n",
    "pipeline_job_run"
   ]
  },
  {
   "cell_type": "markdown",
   "metadata": {},
   "source": [
    "# Generate Videos with Classifications"
   ]
  },
  {
   "cell_type": "code",
   "execution_count": 36,
   "metadata": {},
   "outputs": [],
   "source": [
    "from azure.ai.ml import load_component\n",
    "\n",
    "run_tracking = load_component(source=\"./components/kalman_tracking/tracking.yml\")\n",
    "\n",
    "# label_files_path_on_datastore = 'azureml/578c4768-4789-4046-98a5-057188bc2662/classified_detections_dir/'\n",
    "# uri_label_files = f'{uri}{label_files_path_on_datastore}'"
   ]
  },
  {
   "cell_type": "code",
   "execution_count": 37,
   "metadata": {},
   "outputs": [],
   "source": [
    "from azure.ai.ml.dsl import pipeline\n",
    "\n",
    "\n",
    "@pipeline(\n",
    "    compute=\"Standard-D1-v2\",\n",
    ")\n",
    "def track_labeling_pipeline(\n",
    "    input_data: Input(type=AssetTypes.URI_FOLDER), \n",
    "    labels_dir: Input(type=AssetTypes.URI_FOLDER),\n",
    "):\n",
    "    tracking_results = run_tracking(\n",
    "        data=input_data,\n",
    "        labels_dir=labels_dir,\n",
    "        tracking_config=\"annotate_video_settings.yaml\",\n",
    "        video_annotation_only=True,\n",
    "    )\n",
    "\n",
    "    return {\"detections\": tracking_results.outputs.detections}\n",
    "\n",
    "\n",
    "pipeline_job = track_labeling_pipeline(\n",
    "    input_data=Input(type=AssetTypes.URI_FOLDER, path=uri_input, mode=InputOutputModes.DOWNLOAD),\n",
    "    labels_dir=Input(type=AssetTypes.URI_FOLDER, path=uri_output, mode=InputOutputModes.DOWNLOAD),\n",
    ")"
   ]
  },
  {
   "cell_type": "code",
   "execution_count": 38,
   "metadata": {},
   "outputs": [
    {
     "data": {
      "text/html": [
       "<table style=\"width:100%\"><tr><th>Experiment</th><th>Name</th><th>Type</th><th>Status</th><th>Details Page</th></tr><tr><td>pipeline-video-labeling</td><td>dreamy_shampoo_wb6cp6n8t9</td><td>pipeline</td><td>NotStarted</td><td><a href=\"https://ml.azure.com/runs/dreamy_shampoo_wb6cp6n8t9?wsid=/subscriptions/your-azure-subscription-id/resourcegroups/axsa-lab-appl-fishsonar-rg/workspaces/axsa-lab-appl-fishsonar-ml&amp;tid=8619c67c-945a-48ae-8e77-35b1b71c9b98\" target=\"_blank\" rel=\"noopener\">Link to Azure Machine Learning studio</a></td></tr></table>"
      ],
      "text/plain": [
       "PipelineJob({'inputs': {'input_data': <azure.ai.ml.entities._job.pipeline._io.base.PipelineInput object at 0x7c9c887b5ea0>, 'labels_dir': <azure.ai.ml.entities._job.pipeline._io.base.PipelineInput object at 0x7c9c887b6ef0>}, 'outputs': {'detections': <azure.ai.ml.entities._job.pipeline._io.base.PipelineOutput object at 0x7c9c887b6e00>}, 'jobs': {}, 'component': PipelineComponent({'latest_version': None, 'intellectual_property': None, 'auto_increment_version': False, 'source': 'REMOTE.WORKSPACE.JOB', 'is_anonymous': True, 'auto_delete_setting': None, 'name': 'azureml_anonymous', 'description': None, 'tags': {}, 'properties': {}, 'print_as_yaml': False, 'id': None, 'Resource__source_path': None, 'base_path': '/home/nicolaspelzmann/Documents/projects/MTA/AXH-SonarFish/run_on_azure', 'creation_context': None, 'serialize': <msrest.serialization.Serializer object at 0x7c9c887b5c00>, 'version': '1', 'schema': None, 'type': 'pipeline', 'display_name': 'track_labeling_pipeline', 'is_deterministic': None, 'inputs': {'input_data': {}, 'labels_dir': {}}, 'outputs': {'detections': {}}, 'yaml_str': None, 'other_parameter': {}, 'jobs': {'tracking_results': Command({'parameters': {}, 'init': False, 'name': 'tracking_results', 'type': 'command', 'status': None, 'log_files': None, 'description': None, 'tags': {}, 'properties': {}, 'print_as_yaml': False, 'id': None, 'Resource__source_path': '', 'base_path': '/home/nicolaspelzmann/Documents/projects/MTA/AXH-SonarFish/run_on_azure', 'creation_context': None, 'serialize': <msrest.serialization.Serializer object at 0x7c9c887b6380>, 'allowed_keys': {}, 'key_restriction': False, 'logger': <TraceLogger attr_dict (WARNING)>, 'display_name': None, 'experiment_name': None, 'compute': None, 'services': None, 'comment': None, 'job_inputs': {'tracking_config': 'annotate_video_settings.yaml', 'video_annotation_only': 'True', 'data': '${{parent.inputs.input_data}}', 'labels_dir': '${{parent.inputs.labels_dir}}'}, 'job_outputs': {'detections': '${{parent.outputs.detections}}'}, 'inputs': {'tracking_config': <azure.ai.ml.entities._job.pipeline._io.base.NodeInput object at 0x7c9c887b5f00>, 'video_annotation_only': <azure.ai.ml.entities._job.pipeline._io.base.NodeInput object at 0x7c9c887b5c60>, 'data': <azure.ai.ml.entities._job.pipeline._io.base.NodeInput object at 0x7c9c887b6f20>, 'labels_dir': <azure.ai.ml.entities._job.pipeline._io.base.NodeInput object at 0x7c9c887b6f80>}, 'outputs': {'detections': <azure.ai.ml.entities._job.pipeline._io.base.NodeOutput object at 0x7c9c887b5e10>}, 'component': 'azureml_anonymous:8aa7ffc6-16c5-447c-90a8-d838c516bbbe', 'referenced_control_flow_node_instance_id': None, 'kwargs': {'services': None}, 'instance_id': 'a4fb2350-0719-4c03-8903-8fcce94b32ca', 'source': 'REMOTE.WORKSPACE.COMPONENT', 'validate_required_input_not_provided': True, 'limits': None, 'identity': None, 'distribution': None, 'environment_variables': {}, 'environment': None, 'resources': None, 'queue_settings': None, 'swept': False})}, 'job_types': {'command': 1}, 'job_sources': {'REMOTE.WORKSPACE.COMPONENT': 1}, 'source_job_id': None}), 'type': 'pipeline', 'status': 'NotStarted', 'log_files': None, 'name': 'dreamy_shampoo_wb6cp6n8t9', 'description': None, 'tags': {}, 'properties': {'mlflow.source.git.repoURL': 'https://github.com/axpogroup/AXH-SonarFish.git', 'mlflow.source.git.branch': 'feature/MDS-622/reprocess-stroppel-with-short-burn-in', 'mlflow.source.git.commit': '71043f2d6a7023632c67ce1aa564e1ccb7ffd2de', 'azureml.git.dirty': 'True'}, 'print_as_yaml': False, 'id': '/subscriptions/your-azure-subscription-id/resourceGroups/axsa-lab-appl-fishsonar-rg/providers/Microsoft.MachineLearningServices/workspaces/axsa-lab-appl-fishsonar-ml/jobs/dreamy_shampoo_wb6cp6n8t9', 'Resource__source_path': '', 'base_path': '/home/nicolaspelzmann/Documents/projects/MTA/AXH-SonarFish/run_on_azure', 'creation_context': <azure.ai.ml.entities._system_data.SystemData object at 0x7c9c887b77c0>, 'serialize': <msrest.serialization.Serializer object at 0x7c9c887b6b30>, 'display_name': 'track_labeling_pipeline', 'experiment_name': 'pipeline-video-labeling', 'compute': 'Standard-D1-v2', 'services': {'Tracking': {'endpoint': 'azureml://westeurope.api.azureml.ms/mlflow/v1.0/subscriptions/your-azure-subscription-id/resourceGroups/axsa-lab-appl-fishsonar-rg/providers/Microsoft.MachineLearningServices/workspaces/axsa-lab-appl-fishsonar-ml?', 'type': 'Tracking'}, 'Studio': {'endpoint': 'https://ml.azure.com/runs/dreamy_shampoo_wb6cp6n8t9?wsid=/subscriptions/your-azure-subscription-id/resourcegroups/axsa-lab-appl-fishsonar-rg/workspaces/axsa-lab-appl-fishsonar-ml&tid=8619c67c-945a-48ae-8e77-35b1b71c9b98', 'type': 'Studio'}}, 'settings': {}, 'identity': None, 'default_code': None, 'default_environment': None})"
      ]
     },
     "execution_count": 38,
     "metadata": {},
     "output_type": "execute_result"
    }
   ],
   "source": [
    "import shutil\n",
    "# copy library files to job source directory temporarily\n",
    "pth = './components/kalman_tracking/src/algorithm/'\n",
    "shutil.copytree('../algorithm/', pth)\n",
    "\n",
    "pipeline_job_run = ml_client.jobs.create_or_update(\n",
    "    pipeline_job, experiment_name=\"pipeline-video-labeling\"\n",
    ")\n",
    "shutil.rmtree(pth)\n",
    "pipeline_job_run"
   ]
  },
  {
   "cell_type": "markdown",
   "metadata": {},
   "source": [
    "# Run all steps in pipeline"
   ]
  },
  {
   "cell_type": "code",
   "execution_count": 48,
   "metadata": {},
   "outputs": [],
   "source": [
    "from azure.ai.ml import load_component\n",
    "\n",
    "run_tracking = load_component(source=\"./components/kalman_tracking/tracking.yml\")\n",
    "run_classification = load_component(source=\"./components/classification/classification.yml\")\n",
    "\n",
    "@pipeline(\n",
    "    compute=\"Standard-D1-v2\",\n",
    ")\n",
    "def tracking_all_steps(\n",
    "    input_data: Input(type=AssetTypes.URI_FOLDER), \n",
    "    train_val_data: Input(type=AssetTypes.URI_FOLDER), \n",
    "    train_val_gt_data: Input(type=AssetTypes.URI_FOLDER),\n",
    "    output_data_uri: str = None,\n",
    "    indermediate_data_uri: str = None,\n",
    "    log_level: str = \"INFO\",\n",
    "):\n",
    "    \n",
    "    tracking_results = run_tracking(\n",
    "        data=input_data,\n",
    "        tracking_config=\"kalman_tracking_settings.yaml\",\n",
    "    )\n",
    "    tracking_results.outputs.detections = Output(type=\"uri_folder\", path=indermediate_data_uri, mode=InputOutputModes.RW_MOUNT)\n",
    "    \n",
    "    classification_run_results = run_classification(\n",
    "        train_val_data=train_val_data,\n",
    "        train_val_gt_data=train_val_gt_data,\n",
    "        files_to_classify=tracking_results.outputs.detections,\n",
    "        log_level=log_level,\n",
    "    )\n",
    "    classification_run_results.outputs.classified_detections_dir = Output(\n",
    "        type=\"uri_folder\",\n",
    "        path=output_data_uri,\n",
    "        mode=InputOutputModes.RW_MOUNT,\n",
    "    )\n",
    "    classification_run_results.compute = \"Standard-A2m-v2\"\n",
    "    \n",
    "    labeling_results = run_tracking(\n",
    "        data=input_data,\n",
    "        labels_dir=classification_run_results.outputs.classified_detections_dir,\n",
    "        tracking_config=\"annotate_video_settings.yaml\",\n",
    "    )\n",
    "\n",
    "    return {\"detections\": labeling_results.outputs.detections}\n",
    "    \n",
    "\n",
    "@pipeline(\n",
    "    compute=\"Standard-D1-v2\",\n",
    ")\n",
    "def tracking_base_steps(\n",
    "    input_data: Input(type=AssetTypes.URI_FOLDER), \n",
    "    train_val_data: Input(type=AssetTypes.URI_FOLDER), \n",
    "    train_val_gt_data: Input(type=AssetTypes.URI_FOLDER),\n",
    "    indermediate_data_uri: str = None,\n",
    "    log_level: str = \"INFO\",\n",
    "):\n",
    "    \n",
    "    tracking_results = run_tracking(\n",
    "        data=input_data,\n",
    "        tracking_config=\"kalman_tracking_settings.yaml\",\n",
    "    )\n",
    "    tracking_results.outputs.detections = Output(type=\"uri_folder\", path=indermediate_data_uri, mode=InputOutputModes.RW_MOUNT)\n",
    "    \n",
    "    classification_run_results = run_classification(\n",
    "        train_val_data=train_val_data,\n",
    "        train_val_gt_data=train_val_gt_data,\n",
    "        files_to_classify=tracking_results.outputs.detections,\n",
    "        log_level=log_level,\n",
    "    )\n",
    "    classification_run_results.compute = \"Standard-A2m-v2\"\n",
    "    \n",
    "    return {\"classified_detection_videos_dir\": classification_run_results.outputs.classified_detections_dir}"
   ]
  },
  {
   "cell_type": "code",
   "execution_count": 49,
   "metadata": {},
   "outputs": [
    {
     "name": "stderr",
     "output_type": "stream",
     "text": [
      "\u001b[32mUploading src (4.57 MBs): 100%|██████████| 4572715/4572715 [00:00<00:00, 12264756.77it/s]\n",
      "\u001b[39m\n",
      "\n"
     ]
    },
    {
     "data": {
      "text/html": [
       "<table style=\"width:100%\"><tr><th>Experiment</th><th>Name</th><th>Type</th><th>Status</th><th>Details Page</th></tr><tr><td>pipeline-track-all-steps</td><td>maroon_lunch_lx7vsgxc6h</td><td>pipeline</td><td>NotStarted</td><td><a href=\"https://ml.azure.com/runs/maroon_lunch_lx7vsgxc6h?wsid=/subscriptions/your-azure-subscription-id/resourcegroups/axsa-lab-appl-fishsonar-rg/workspaces/axsa-lab-appl-fishsonar-ml&amp;tid=8619c67c-945a-48ae-8e77-35b1b71c9b98\" target=\"_blank\" rel=\"noopener\">Link to Azure Machine Learning studio</a></td></tr></table>"
      ],
      "text/plain": [
       "PipelineJob({'inputs': {'input_data': <azure.ai.ml.entities._job.pipeline._io.base.PipelineInput object at 0x7c9c7e151a50>, 'train_val_data': <azure.ai.ml.entities._job.pipeline._io.base.PipelineInput object at 0x7c9c7e151840>, 'train_val_gt_data': <azure.ai.ml.entities._job.pipeline._io.base.PipelineInput object at 0x7c9c7e151a80>, 'output_data_uri': <azure.ai.ml.entities._job.pipeline._io.base.PipelineInput object at 0x7c9c7e153640>, 'indermediate_data_uri': <azure.ai.ml.entities._job.pipeline._io.base.PipelineInput object at 0x7c9c7e151270>, 'log_level': <azure.ai.ml.entities._job.pipeline._io.base.PipelineInput object at 0x7c9c7e1525c0>}, 'outputs': {'detections': <azure.ai.ml.entities._job.pipeline._io.base.PipelineOutput object at 0x7c9c7e152a40>}, 'jobs': {}, 'component': PipelineComponent({'latest_version': None, 'intellectual_property': None, 'auto_increment_version': False, 'source': 'REMOTE.WORKSPACE.JOB', 'is_anonymous': True, 'auto_delete_setting': None, 'name': 'azureml_anonymous', 'description': None, 'tags': {}, 'properties': {}, 'print_as_yaml': False, 'id': None, 'Resource__source_path': None, 'base_path': '/home/nicolaspelzmann/Documents/projects/MTA/AXH-SonarFish/run_on_azure', 'creation_context': None, 'serialize': <msrest.serialization.Serializer object at 0x7c9c7f565720>, 'version': '1', 'schema': None, 'type': 'pipeline', 'display_name': 'tracking_all_steps', 'is_deterministic': None, 'inputs': {'input_data': {}, 'train_val_data': {}, 'train_val_gt_data': {}, 'output_data_uri': {}, 'indermediate_data_uri': {}, 'log_level': {}}, 'outputs': {'detections': {}}, 'yaml_str': None, 'other_parameter': {}, 'jobs': {'tracking_results': Command({'parameters': {}, 'init': False, 'name': 'tracking_results', 'type': 'command', 'status': None, 'log_files': None, 'description': None, 'tags': {}, 'properties': {}, 'print_as_yaml': False, 'id': None, 'Resource__source_path': '', 'base_path': '/home/nicolaspelzmann/Documents/projects/MTA/AXH-SonarFish/run_on_azure', 'creation_context': None, 'serialize': <msrest.serialization.Serializer object at 0x7c9c7f5982e0>, 'allowed_keys': {}, 'key_restriction': False, 'logger': <TraceLogger attr_dict (WARNING)>, 'display_name': None, 'experiment_name': None, 'compute': None, 'services': None, 'comment': None, 'job_inputs': {'tracking_config': 'kalman_tracking_settings.yaml', 'data': '${{parent.inputs.input_data}}'}, 'job_outputs': {'detections': {'type': 'uri_folder', 'path': '${{parent.inputs.indermediate_data_uri}}', 'mode': 'rw_mount'}}, 'inputs': {'tracking_config': <azure.ai.ml.entities._job.pipeline._io.base.NodeInput object at 0x7c9c7f598280>, 'data': <azure.ai.ml.entities._job.pipeline._io.base.NodeInput object at 0x7c9c7f59be50>}, 'outputs': {'detections': <azure.ai.ml.entities._job.pipeline._io.base.NodeOutput object at 0x7c9c7f59a1a0>}, 'component': 'azureml_anonymous:0a15dc7b-dd24-4e11-a2b0-c653dea77bbe', 'referenced_control_flow_node_instance_id': None, 'kwargs': {'services': None}, 'instance_id': 'fa93d658-a0a5-460b-8c12-69e09ab658b4', 'source': 'REMOTE.WORKSPACE.COMPONENT', 'validate_required_input_not_provided': True, 'limits': None, 'identity': None, 'distribution': None, 'environment_variables': {}, 'environment': None, 'resources': None, 'queue_settings': None, 'swept': False}), 'classification_run_results': Command({'parameters': {}, 'init': False, 'name': 'classification_run_results', 'type': 'command', 'status': None, 'log_files': None, 'description': None, 'tags': {}, 'properties': {}, 'print_as_yaml': False, 'id': None, 'Resource__source_path': '', 'base_path': '/home/nicolaspelzmann/Documents/projects/MTA/AXH-SonarFish/run_on_azure', 'creation_context': None, 'serialize': <msrest.serialization.Serializer object at 0x7c9c7f59a170>, 'allowed_keys': {}, 'key_restriction': False, 'logger': <TraceLogger attr_dict (WARNING)>, 'display_name': None, 'experiment_name': None, 'compute': 'Standard-A2m-v2', 'services': None, 'comment': None, 'job_inputs': {'train_val_data': '${{parent.inputs.train_val_data}}', 'train_val_gt_data': '${{parent.inputs.train_val_gt_data}}', 'files_to_classify': '${{parent.jobs.tracking_results.outputs.detections}}', 'log_level': '${{parent.inputs.log_level}}'}, 'job_outputs': {'classified_detections_dir': {'type': 'uri_folder', 'path': '${{parent.inputs.output_data_uri}}', 'mode': 'rw_mount'}}, 'inputs': {'train_val_data': <azure.ai.ml.entities._job.pipeline._io.base.NodeInput object at 0x7c9c7f59ab00>, 'train_val_gt_data': <azure.ai.ml.entities._job.pipeline._io.base.NodeInput object at 0x7c9c7f59bc70>, 'files_to_classify': <azure.ai.ml.entities._job.pipeline._io.base.NodeInput object at 0x7c9c7ebb66b0>, 'log_level': <azure.ai.ml.entities._job.pipeline._io.base.NodeInput object at 0x7c9c7f566680>}, 'outputs': {'classified_detections_dir': <azure.ai.ml.entities._job.pipeline._io.base.NodeOutput object at 0x7c9c7f599a50>}, 'component': 'azureml_anonymous:afbb2b56-4ca1-424c-9b3d-f65950f8634e', 'referenced_control_flow_node_instance_id': None, 'kwargs': {'services': None}, 'instance_id': 'b6a2027a-fd4f-48d6-96e0-3f6b873ec2b9', 'source': 'REMOTE.WORKSPACE.COMPONENT', 'validate_required_input_not_provided': True, 'limits': None, 'identity': None, 'distribution': None, 'environment_variables': {}, 'environment': None, 'resources': None, 'queue_settings': None, 'swept': False}), 'labeling_results': Command({'parameters': {}, 'init': False, 'name': 'labeling_results', 'type': 'command', 'status': None, 'log_files': None, 'description': None, 'tags': {}, 'properties': {}, 'print_as_yaml': False, 'id': None, 'Resource__source_path': '', 'base_path': '/home/nicolaspelzmann/Documents/projects/MTA/AXH-SonarFish/run_on_azure', 'creation_context': None, 'serialize': <msrest.serialization.Serializer object at 0x7c9c7f5655a0>, 'allowed_keys': {}, 'key_restriction': False, 'logger': <TraceLogger attr_dict (WARNING)>, 'display_name': None, 'experiment_name': None, 'compute': None, 'services': None, 'comment': None, 'job_inputs': {'tracking_config': 'annotate_video_settings.yaml', 'data': '${{parent.inputs.input_data}}', 'labels_dir': '${{parent.jobs.classification_run_results.outputs.classified_detections_dir}}'}, 'job_outputs': {'detections': '${{parent.outputs.detections}}'}, 'inputs': {'tracking_config': <azure.ai.ml.entities._job.pipeline._io.base.NodeInput object at 0x7c9c7f564820>, 'data': <azure.ai.ml.entities._job.pipeline._io.base.NodeInput object at 0x7c9c7f5642b0>, 'labels_dir': <azure.ai.ml.entities._job.pipeline._io.base.NodeInput object at 0x7c9c7f567550>}, 'outputs': {'detections': <azure.ai.ml.entities._job.pipeline._io.base.NodeOutput object at 0x7c9c7f566170>}, 'component': 'azureml_anonymous:0a15dc7b-dd24-4e11-a2b0-c653dea77bbe', 'referenced_control_flow_node_instance_id': None, 'kwargs': {'services': None}, 'instance_id': '1dabb6f7-add6-4a5b-af34-82400ff2b90f', 'source': 'REMOTE.WORKSPACE.COMPONENT', 'validate_required_input_not_provided': True, 'limits': None, 'identity': None, 'distribution': None, 'environment_variables': {}, 'environment': None, 'resources': None, 'queue_settings': None, 'swept': False})}, 'job_types': {'command': 3}, 'job_sources': {'REMOTE.WORKSPACE.COMPONENT': 3}, 'source_job_id': None}), 'type': 'pipeline', 'status': 'NotStarted', 'log_files': None, 'name': 'maroon_lunch_lx7vsgxc6h', 'description': None, 'tags': {'date': 'sanity check'}, 'properties': {'mlflow.source.git.repoURL': 'https://github.com/axpogroup/AXH-SonarFish.git', 'mlflow.source.git.branch': 'feature/MDS-622/reprocess-stroppel-with-short-burn-in', 'mlflow.source.git.commit': 'dcfd7c6f05d962a28becc46dd3146041484b2e45', 'azureml.git.dirty': 'True'}, 'print_as_yaml': False, 'id': '/subscriptions/your-azure-subscription-id/resourceGroups/axsa-lab-appl-fishsonar-rg/providers/Microsoft.MachineLearningServices/workspaces/axsa-lab-appl-fishsonar-ml/jobs/maroon_lunch_lx7vsgxc6h', 'Resource__source_path': '', 'base_path': '/home/nicolaspelzmann/Documents/projects/MTA/AXH-SonarFish/run_on_azure', 'creation_context': <azure.ai.ml.entities._system_data.SystemData object at 0x7c9c7e153130>, 'serialize': <msrest.serialization.Serializer object at 0x7c9c7e153cd0>, 'display_name': 'tracking_all_steps', 'experiment_name': 'pipeline-track-all-steps', 'compute': 'Standard-D1-v2', 'services': {'Tracking': {'endpoint': 'azureml://westeurope.api.azureml.ms/mlflow/v1.0/subscriptions/your-azure-subscription-id/resourceGroups/axsa-lab-appl-fishsonar-rg/providers/Microsoft.MachineLearningServices/workspaces/axsa-lab-appl-fishsonar-ml?', 'type': 'Tracking'}, 'Studio': {'endpoint': 'https://ml.azure.com/runs/maroon_lunch_lx7vsgxc6h?wsid=/subscriptions/your-azure-subscription-id/resourcegroups/axsa-lab-appl-fishsonar-rg/workspaces/axsa-lab-appl-fishsonar-ml&tid=8619c67c-945a-48ae-8e77-35b1b71c9b98', 'type': 'Studio'}}, 'settings': {}, 'identity': None, 'default_code': None, 'default_environment': None})"
      ]
     },
     "execution_count": 49,
     "metadata": {},
     "output_type": "execute_result"
    }
   ],
   "source": [
    "import shutil\n",
    "\n",
    "path_on_datastore = 'stroppel_videos/_sanity_check_one_file/'\n",
    "intermediate_path_on_datastore = 'stroppel_tracking_intermediate_data/_sanity_check_one_file/'\n",
    "output_path_on_datastore = 'stroppel_tracking_output/_sanity_check_one_file/'\n",
    "\n",
    "# long-form Datastore uri format:\n",
    "uri_input = f'{uri}{path_on_datastore}'\n",
    "uri_intermediate_data = f'{uri}{intermediate_path_on_datastore}'\n",
    "uri_output = f'{uri}{output_path_on_datastore}'\n",
    "uri_train_val_data = f'{uri}stroppel_classification/train_data/cached_features/'\n",
    "uri_train_val_gt_data = f'{uri}stroppel_classification/train_data/ground_truth_tracks/'\n",
    "\n",
    "generate_videos_with_detections = True\n",
    "\n",
    "\n",
    "if generate_videos_with_detections:\n",
    "    pipeline_job = tracking_all_steps(\n",
    "        input_data=Input(type=AssetTypes.URI_FOLDER, path=uri_input, mode=InputOutputModes.DOWNLOAD),\n",
    "        train_val_data=Input(type=AssetTypes.URI_FOLDER, path=uri_train_val_data, mode=InputOutputModes.DOWNLOAD),\n",
    "        train_val_gt_data=Input(type=AssetTypes.URI_FOLDER, path=uri_train_val_gt_data, mode=InputOutputModes.DOWNLOAD),\n",
    "        output_data_uri=uri_output,\n",
    "        indermediate_data_uri=uri_intermediate_data,\n",
    "    )\n",
    "    pipeline_job.outputs.detections = Output(type=\"uri_folder\", path=uri_output, mode=InputOutputModes.RW_MOUNT)\n",
    "    pipeline_job.tags = {\"date\": \"sanity check\"}\n",
    "else:\n",
    "    pipeline_job = tracking_base_steps(\n",
    "        input_data=Input(type=AssetTypes.URI_FOLDER, path=uri_input, mode=InputOutputModes.DOWNLOAD),\n",
    "        train_val_data=Input(type=AssetTypes.URI_FOLDER, path=uri_train_val_data, mode=InputOutputModes.DOWNLOAD),\n",
    "        train_val_gt_data=Input(type=AssetTypes.URI_FOLDER, path=uri_train_val_gt_data, mode=InputOutputModes.DOWNLOAD),\n",
    "        indermediate_data_uri=uri_intermediate_data,\n",
    "    )\n",
    "    pipeline_job.outputs.classified_detection_videos_dir = Output(type=\"uri_folder\", path=uri_output, mode=InputOutputModes.RW_MOUNT)\n",
    "    pipeline_job.tags = {\"date\": \"sanity check\"}\n",
    "\n",
    "# copy library files to job source directory temporarily\n",
    "pth_cls = './components/classification/src/analysis/classification_utils/'\n",
    "shutil.copytree('../analysis/classification_utils/', pth_cls, dirs_exist_ok=True)\n",
    "pth = './components/kalman_tracking/src/algorithm/'\n",
    "shutil.copytree('../algorithm/', pth, dirs_exist_ok=True)\n",
    "\n",
    "pipeline_job_run = ml_client.jobs.create_or_update(\n",
    "    pipeline_job, experiment_name=\"pipeline-track-all-steps\"\n",
    ")\n",
    "\n",
    "shutil.rmtree(pth)\n",
    "shutil.rmtree(pth_cls)\n",
    "pipeline_job_run"
   ]
  },
  {
   "cell_type": "markdown",
   "metadata": {},
   "source": [
    "# Run Jobs for every day of the year"
   ]
  },
  {
   "cell_type": "code",
   "execution_count": 21,
   "metadata": {},
   "outputs": [],
   "source": [
    "from typing import Optional\n",
    "import pandas as pd\n",
    "import shutil\n",
    "\n",
    "\n",
    "def generate_paths(\n",
    "        datastore_uri: str,\n",
    "        start_date: Optional[str] = None,\n",
    "        end_date: Optional[str] = None,\n",
    "        base_path_on_datastore: str = 'stroppel_videos/',\n",
    "        base_intermediate_path_on_datastore: str = 'stroppel_tracking_intermediate_data/',\n",
    "        base_output_path_on_datastore: str = 'stroppel_tracking_output/',\n",
    "    ):\n",
    "    if start_date:\n",
    "        dates = pd.date_range(start=start_date, end=end_date)\n",
    "    else:\n",
    "        dates = ['_test']\n",
    "    for date in dates:\n",
    "        # Format the date as a string\n",
    "        date_str = date.strftime('%Y-%m-%d') if start_date else date\n",
    "\n",
    "        # Create the paths for the current date\n",
    "        path_on_datastore = f'{datastore_uri}{base_path_on_datastore}{date_str}/'\n",
    "        intermediate_path_on_datastore = f'{datastore_uri}{base_intermediate_path_on_datastore}{date_str}/'\n",
    "        output_path_on_datastore = f'{datastore_uri}{base_output_path_on_datastore}{date_str}/'\n",
    "\n",
    "        yield path_on_datastore, intermediate_path_on_datastore, output_path_on_datastore, date_str"
   ]
  },
  {
   "cell_type": "code",
   "execution_count": 24,
   "metadata": {},
   "outputs": [
    {
     "name": "stdout",
     "output_type": "stream",
     "text": [
      "submitted job with tags: {'date': '2023-12-30', 'location': 'stroppel'}\n",
      "submitted job with tags: {'date': '2023-12-31', 'location': 'stroppel'}\n"
     ]
    }
   ],
   "source": [
    "start_date = '2023-12-30'\n",
    "end_date = '2023-12-31'\n",
    "\n",
    "# copy library files to job source directory temporarily\n",
    "pth_cls = './components/classification/src/analysis/classification_utils/'\n",
    "shutil.copytree('../analysis/classification_utils/', pth_cls)\n",
    "pth = './components/kalman_tracking/src/algorithm/'\n",
    "shutil.copytree('../algorithm/', pth)\n",
    "\n",
    "for raw_videos_dir_path, intermediate_path_on_datastore, output_path_on_datastore, date_str in generate_paths(uri, start_date, end_date):\n",
    "    pipeline_job = tracking_base_steps(\n",
    "        input_data=Input(type=AssetTypes.URI_FOLDER, path=raw_videos_dir_path, mode=InputOutputModes.DOWNLOAD),\n",
    "        train_val_data=Input(type=AssetTypes.URI_FOLDER, path=uri_train_val_data, mode=InputOutputModes.DOWNLOAD),\n",
    "        train_val_gt_data=Input(type=AssetTypes.URI_FOLDER, path=uri_train_val_gt_data, mode=InputOutputModes.DOWNLOAD),\n",
    "        indermediate_data_uri=intermediate_path_on_datastore,\n",
    "    )\n",
    "    pipeline_job.outputs.classified_detection_videos_dir = Output(type=\"uri_folder\", path=output_path_on_datastore, mode=InputOutputModes.RW_MOUNT)\n",
    "    pipeline_job.tags = {\"date\": date_str, \"location\": \"stroppel\"}\n",
    "    \n",
    "    pipeline_job_run = ml_client.jobs.create_or_update(\n",
    "        pipeline_job, \n",
    "        experiment_name=\"pipeline-track-all-steps\",\n",
    "    )\n",
    "    print(f'submitted job with tags: {pipeline_job_run.tags}')\n",
    "    \n",
    "shutil.rmtree(pth)\n",
    "shutil.rmtree(pth_cls)"
   ]
  },
  {
   "cell_type": "code",
   "execution_count": null,
   "metadata": {},
   "outputs": [],
   "source": []
  }
 ],
 "metadata": {
  "kernelspec": {
   "display_name": ".venv",
   "language": "python",
   "name": "python3"
  },
  "language_info": {
   "codemirror_mode": {
    "name": "ipython",
    "version": 3
   },
   "file_extension": ".py",
   "mimetype": "text/x-python",
   "name": "python",
   "nbconvert_exporter": "python",
   "pygments_lexer": "ipython3",
   "version": "3.10.12"
  }
 },
 "nbformat": 4,
 "nbformat_minor": 2
}
