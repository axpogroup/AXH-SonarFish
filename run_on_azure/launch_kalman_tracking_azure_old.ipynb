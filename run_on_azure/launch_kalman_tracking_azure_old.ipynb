{
 "cells": [
  {
   "cell_type": "code",
   "execution_count": 47,
   "metadata": {},
   "outputs": [],
   "source": [
    "import os\n",
    "import dotenv\n",
    "\n",
    "from azure.ai.ml import MLClient\n",
    "from azure.identity import AzureCliCredential\n",
    "\n",
    "dotenv.load_dotenv()\n",
    "subscription = os.getenv(f\"subscription_id\")\n",
    "resource_group = os.getenv(f\"resource_group\")\n",
    "workspace = os.getenv(f\"workspace_name\")\n",
    "\n",
    "ml_client = MLClient(\n",
    "    AzureCliCredential(), \n",
    "    subscription, \n",
    "    resource_group, \n",
    "    workspace,\n",
    ")"
   ]
  },
  {
   "cell_type": "code",
   "execution_count": 49,
   "metadata": {},
   "outputs": [],
   "source": [
    "from azure.ai.ml import command, Input, Output\n",
    "from azure.ai.ml.constants import AssetTypes, InputOutputModes\n",
    "\n",
    "\n",
    "# Azure Machine Learning workspace details:\n",
    "subscription = os.getenv(f\"subscription_id\")\n",
    "resource_group = os.getenv(f\"resource_group\")\n",
    "workspace = os.getenv(f\"workspace_name\")\n",
    "datastore_name = 'workspaceblobstore'\n",
    "path_on_datastore = 'stroppel_videos/_test/'\n",
    "output_path_on_datastore = 'stroppel_tracking_output/_test/'\n",
    "\n",
    "# long-form Datastore uri format:\n",
    "uri = f'azureml://subscriptions/{subscription}/resourcegroups/{resource_group}/workspaces/{workspace}/datastores/{datastore_name}/paths/'\n",
    "uri_input = f'{uri}{path_on_datastore}'\n",
    "uri_output = f'{uri}{output_path_on_datastore}'\n",
    "\n",
    "inputs = {\n",
    "    \"job_data_path\": Input(type=\"uri_folder\",\n",
    "              path=uri_input,\n",
    "              mode=InputOutputModes.RO_MOUNT,\n",
    "              )\n",
    "}\n",
    "outputs = {\n",
    "    \"job_output_path\": Output(type=\"uri_folder\",\n",
    "                path=uri_output,\n",
    "                mode=InputOutputModes.RW_MOUNT,\n",
    "                # name=\"stroppel_tracking_output\"\n",
    "                )\n",
    "}\n",
    "\n",
    "arguments = [\n",
    "    \"--tracking_config\", \"kalman_tracking_settings.yaml\",\n",
    "    \"--job_inputs_path\", \"${{inputs.job_data_path}}\",\n",
    "    \"--job_output_path\", \"${{outputs.job_output_path}}\",\n",
    "    \"--log_level\", \"INFO\",\n",
    "]\n",
    "\n",
    "job = command(\n",
    "    code=\".\",\n",
    "    command=\"python kalman_tracking_azure.py \" + \" \".join(arguments),\n",
    "    environment=\"fishy_environment@latest\",\n",
    "    compute=\"Standard-A1-v2\",\n",
    "    experiment_name=\"batch_tracking\",\n",
    "    inputs=inputs,\n",
    "    outputs=outputs,\n",
    ")"
   ]
  },
  {
   "cell_type": "code",
   "execution_count": 50,
   "metadata": {},
   "outputs": [
    {
     "name": "stderr",
     "output_type": "stream",
     "text": [
      "\u001b[32mUploading run_on_azure (4.66 MBs): 100%|##########| 4662837/4662837 [00:01<00:00, 3822332.10it/s]\n",
      "\u001b[39m\n",
      "\n"
     ]
    }
   ],
   "source": [
    "import shutil\n",
    "# copy library files to job source directory temporarily\n",
    "pth = './algorithm/'\n",
    "shutil.copytree('../algorithm/', pth)\n",
    "\n",
    "returned_job = ml_client.create_or_update(job)\n",
    "\n",
    "shutil.rmtree(pth)"
   ]
  },
  {
   "cell_type": "markdown",
   "metadata": {},
   "source": [
    "# Large Scale Parallel Job"
   ]
  },
  {
   "cell_type": "code",
   "execution_count": 127,
   "metadata": {},
   "outputs": [],
   "source": [
    "from azure.identity import DefaultAzureCredential, InteractiveBrowserCredential\n",
    "from azure.ai.ml import MLClient, Input, Output, load_component\n",
    "from azure.ai.ml.dsl import pipeline\n",
    "from azure.ai.ml.entities import Environment\n",
    "from azure.ai.ml.constants import AssetTypes, InputOutputModes\n",
    "from azure.ai.ml.parallel import parallel_run_function, RunFunction"
   ]
  },
  {
   "cell_type": "code",
   "execution_count": 128,
   "metadata": {},
   "outputs": [],
   "source": [
    "# parallel task to process file data\n",
    "file_batch_inference = parallel_run_function(\n",
    "    name=\"batch_run_kalman_tracking\",\n",
    "    display_name=\"Batch Run Kalman Tracking\",\n",
    "    description=\"parallel component for batch tracking on videos\",\n",
    "    inputs=inputs,\n",
    "    outputs=outputs,\n",
    "    input_data=\"${{inputs.job_data_path}}\",\n",
    "    instance_count=2,\n",
    "    max_concurrency_per_instance=1,\n",
    "    mini_batch_size=\"1\",\n",
    "    mini_batch_error_threshold=1,\n",
    "    retry_settings=dict(max_retries=2, timeout=60),\n",
    "    logging_level=\"DEBUG\",\n",
    "    task=RunFunction(\n",
    "        code=\".\",\n",
    "        entry_script=\"kalman_tracking_azure.py\",\n",
    "        program_arguments=\" \".join(arguments),\n",
    "        environment=\"fishy_environment@latest\",\n",
    "    ),\n",
    ")"
   ]
  },
  {
   "cell_type": "code",
   "execution_count": 135,
   "metadata": {},
   "outputs": [],
   "source": [
    "@pipeline()\n",
    "def parallel_in_pipeline(input_data_path: Input):\n",
    "\n",
    "    batch_inference_with_file_data = file_batch_inference(job_data_path=input_data_path)\n",
    "\n",
    "    return {\n",
    "        \"pipeline_job_out_file\": batch_inference_with_file_data.outputs.job_output_path,\n",
    "    }\n",
    "\n",
    "# create a pipeline\n",
    "pipeline_job = parallel_in_pipeline(\n",
    "    input_data_path=inputs['job_data_path'],\n",
    ")\n",
    "pipeline_job.outputs.pipeline_job_out_file.type = AssetTypes.URI_FILE\n",
    "\n",
    "# set pipeline level compute\n",
    "pipeline_job.settings.default_compute = \"Standard-A1-v2\""
   ]
  },
  {
   "cell_type": "code",
   "execution_count": 136,
   "metadata": {},
   "outputs": [
    {
     "name": "stderr",
     "output_type": "stream",
     "text": [
      "\u001b[32mUploading run_on_azure (3.49 MBs): 100%|##########| 3486555/3486555 [00:01<00:00, 2032259.73it/s]\n",
      "\u001b[39m\n",
      "\n"
     ]
    }
   ],
   "source": [
    "import shutil\n",
    "\n",
    "pth = './algorithm/'\n",
    "shutil.copytree('../algorithm/', pth)\n",
    "\n",
    "pipeline_job = ml_client.jobs.create_or_update(\n",
    "    pipeline_job, experiment_name=\"parallel_pipeline_kalman_tracking\"\n",
    ")\n",
    "\n",
    "shutil.rmtree(pth)"
   ]
  },
  {
   "cell_type": "markdown",
   "metadata": {},
   "source": [
    "# SDK V1"
   ]
  },
  {
   "cell_type": "code",
   "execution_count": 110,
   "metadata": {},
   "outputs": [],
   "source": [
    "from azureml.core.workspace import Workspace, Dataset\n",
    "\n",
    "ws = Workspace(\n",
    "    subscription_id=subscription,\n",
    "    resource_group=resource_group,\n",
    "    workspace_name=workspace,\n",
    ")"
   ]
  },
  {
   "cell_type": "code",
   "execution_count": 119,
   "metadata": {},
   "outputs": [],
   "source": [
    "from azureml.pipeline.steps import ParallelRunConfig\n",
    "from azureml.core import Environment, ComputeTarget, Experiment\n",
    "\n",
    "\n",
    "parallel_run_config = ParallelRunConfig(\n",
    "    source_directory='.',\n",
    "    entry_script='kalman_tracking_azure.py',\n",
    "    mini_batch_size='1',\n",
    "    error_threshold=10,\n",
    "    output_action='summary_only',\n",
    "    environment=Environment.get(workspace=ws, name='fishy_environment', label='latest'),\n",
    "    compute_target=ComputeTarget(workspace=ws, name='Standard-A1-v2'),\n",
    "    node_count=2,\n",
    ")"
   ]
  },
  {
   "cell_type": "code",
   "execution_count": 120,
   "metadata": {},
   "outputs": [],
   "source": [
    "from azureml.pipeline.steps import ParallelRunStep\n",
    "from azureml.pipeline.core import PipelineData\n",
    "from azureml.data import OutputFileDatasetConfig\n",
    "\n",
    "input_data = Dataset.get_by_name(ws, name='test_videos', version=1)\n",
    "output_data = OutputFileDatasetConfig('output_data').register_on_complete('azure blob storage output directory')\n",
    "\n",
    "parallel_run_step = ParallelRunStep(\n",
    "    name='parallel_pipeline_kalman_tracking',\n",
    "    parallel_run_config=parallel_run_config,\n",
    "    inputs=[input_data.as_named_input('input_data')],\n",
    "    output=output_data,\n",
    "    arguments=arguments,\n",
    "    allow_reuse=False,\n",
    ")\n",
    "\n",
    "exp = Experiment(workspace=ws, name=\"test_parallel_pipeline\")"
   ]
  },
  {
   "cell_type": "code",
   "execution_count": 121,
   "metadata": {},
   "outputs": [
    {
     "name": "stdout",
     "output_type": "stream",
     "text": [
      "Created step parallel_pipeline_kalman_tracking [9d55c335][ba9a33c9-a5fd-4356-8eaf-b0f449d4c736], (This step will run and generate new outputs)\n",
      "Submitted PipelineRun ec069bf1-8eb6-4268-9421-0b79cec8bb5f\n",
      "Link to Azure Machine Learning Portal: https://ml.azure.com/runs/ec069bf1-8eb6-4268-9421-0b79cec8bb5f?wsid=/subscriptions/e9eedc4b-b891-4bf4-a924-06b9c6e0f02f/resourcegroups/axsa-lab-appl-fishsonar-rg/workspaces/axsa-lab-appl-fishsonar-ml&tid=8619c67c-945a-48ae-8e77-35b1b71c9b98\n"
     ]
    }
   ],
   "source": [
    "from azureml.pipeline.core import Pipeline\n",
    "import shutil\n",
    "\n",
    "pth = './algorithm/'\n",
    "shutil.copytree('../algorithm/', pth)\n",
    "\n",
    "pipeline = Pipeline(workspace=ws, steps=[parallel_run_step])\n",
    "pipeline_run = exp.submit(pipeline)\n",
    "\n",
    "shutil.rmtree(pth)"
   ]
  },
  {
   "cell_type": "code",
   "execution_count": null,
   "metadata": {},
   "outputs": [],
   "source": [
    "import cv2\n",
    "\n",
    "def save_first_frame(video_path, output_path):\n",
    "    vidcap = cv2.VideoCapture(video_path)\n",
    "    success, image = vidcap.read()\n",
    "    if success:\n",
    "        cv2.imwrite(output_path, image)  # save frame as PNG file\n",
    "    else:\n",
    "        print(f\"Failed to open video file at {video_path}\")\n",
    "        \n",
    "save_first_frame(\"../data/raw/videos/Passe3_Mar11_12-37-58.mp4\", \"./masks/lavey_flow_area_mask.png\")"
   ]
  }
 ],
 "metadata": {
  "kernelspec": {
   "display_name": ".venv",
   "language": "python",
   "name": "python3"
  },
  "language_info": {
   "codemirror_mode": {
    "name": "ipython",
    "version": 3
   },
   "file_extension": ".py",
   "mimetype": "text/x-python",
   "name": "python",
   "nbconvert_exporter": "python",
   "pygments_lexer": "ipython3",
   "version": "3.10.10"
  }
 },
 "nbformat": 4,
 "nbformat_minor": 2
}
