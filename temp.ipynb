{
 "cells": [
  {
   "cell_type": "code",
   "execution_count": 10,
   "metadata": {},
   "outputs": [
    {
     "name": "stderr",
     "output_type": "stream",
     "text": [
      "t:   1%|▏         | 14/960 [2:28:38<167:24:10, 637.05s/it, now=None]"
     ]
    },
    {
     "name": "stdout",
     "output_type": "stream",
     "text": [
      "Moviepy - Building video ./analysis/labeling/start_2023-11-16T19-50-24.725+00-00/2024-01-26T16-39+00-00_label/original_binary_output.mov.\n",
      "Moviepy - Writing video ./analysis/labeling/start_2023-11-16T19-50-24.725+00-00/2024-01-26T16-39+00-00_label/original_binary_output.mov\n",
      "\n"
     ]
    },
    {
     "name": "stderr",
     "output_type": "stream",
     "text": [
      "t:   1%|▏         | 14/960 [2:28:44<167:30:30, 637.45s/it, now=None]"
     ]
    },
    {
     "name": "stdout",
     "output_type": "stream",
     "text": [
      "Moviepy - Done !\n",
      "Moviepy - video ready ./analysis/labeling/start_2023-11-16T19-50-24.725+00-00/2024-01-26T16-39+00-00_label/original_binary_output.mov\n"
     ]
    },
    {
     "name": "stderr",
     "output_type": "stream",
     "text": [
      "t:   1%|▏         | 14/960 [2:28:44<167:30:43, 637.47s/it, now=None]"
     ]
    },
    {
     "name": "stdout",
     "output_type": "stream",
     "text": [
      "Moviepy - Building video ./analysis/labeling/start_2023-11-16T19-50-24.725+00-00/2024-01-26T16-39+00-00_label/binary_output_120s.mov.\n",
      "Moviepy - Writing video ./analysis/labeling/start_2023-11-16T19-50-24.725+00-00/2024-01-26T16-39+00-00_label/binary_output_120s.mov\n",
      "\n"
     ]
    },
    {
     "name": "stderr",
     "output_type": "stream",
     "text": [
      "t:   1%|▏         | 14/960 [2:28:49<167:36:40, 637.84s/it, now=None]"
     ]
    },
    {
     "name": "stdout",
     "output_type": "stream",
     "text": [
      "Moviepy - Done !\n",
      "Moviepy - video ready ./analysis/labeling/start_2023-11-16T19-50-24.725+00-00/2024-01-26T16-39+00-00_label/binary_output_120s.mov\n"
     ]
    }
   ],
   "source": [
    "import moviepy.editor as mp\n",
    "import os\n",
    "\n",
    "def extract_video_segment(video_path, start_time, end_time=None, fps=None, save_path=\"output.mov\"):\n",
    "    # Check if the input file is .mp4\n",
    "    filename, file_extension = os.path.splitext(video_path)\n",
    "    if file_extension == \".mp4\":\n",
    "        # Convert .mp4 to .mov\n",
    "        clip = mp.VideoFileClip(video_path)\n",
    "        video_path = filename + \".mov\"\n",
    "        clip.write_videofile(video_path, codec=\"libx264\", audio_codec=\"aac\")\n",
    "\n",
    "    video = mp.VideoFileClip(video_path)\n",
    "    if end_time is None:\n",
    "        end_time = video.duration\n",
    "    segment = video.subclip(start_time, end_time)\n",
    "    if fps is None:\n",
    "        fps = video.fps\n",
    "    segment.write_videofile(save_path, codec=\"libx264\", audio_codec=\"aac\", fps=fps)\n",
    "\n",
    "video_dir = \"./analysis/labeling/start_2023-11-16T19-50-24.725+00-00/2024-01-26T16-39+00-00_label/\"\n",
    "video_path = video_dir + \"original_binary_output.mp4\"\n",
    "save_path = video_path.replace(\"original_binary_output.mp4\", \"binary_output_120s.mov\")\n",
    "extract_video_segment(video_path, start_time=120, save_path=save_path)"
   ]
  },
  {
   "cell_type": "code",
   "execution_count": null,
   "metadata": {},
   "outputs": [],
   "source": [
    "import glob\n",
    "import yaml\n",
    "\n",
    "import yaml\n",
    "from algorithm.FishDetector import FishDetector\n",
    "from algorithm.InputOutputHandler import InputOutputHandler\n",
    "\n",
    "video_dirs = glob.glob(\"./analysis/labeling/*\")\n",
    "yaml_file = './analysis/demo/demo_settings.yaml'\n",
    "\n",
    "for video_dir in video_dirs:\n",
    "    video_dir = video_dir.replace(\"\\\\\", \"/\")\n",
    "    input_file = video_dir + \"/original.mp4\"\n",
    "    with open(yaml_file) as f:\n",
    "        settings_dict = yaml.load(f, Loader=yaml.SafeLoader)\n",
    "        if input_file is not None:\n",
    "            settings_dict[\"input_file\"] = input_file\n",
    "            settings_dict['output_directory'] = video_dir\n",
    "            print(\"replacing input file with: \", input_file)\n",
    "\n",
    "    input_output_handler = InputOutputHandler(settings_dict)\n",
    "    detector = FishDetector(settings_dict)\n",
    "    object_history = {}\n",
    "\n",
    "    while input_output_handler.get_new_frame():\n",
    "        if float(input_output_handler.frame_no) / 2 % 1 != 0:\n",
    "            continue\n",
    "        detections, processed_frame_dict, runtimes = detector.detect_objects(\n",
    "            input_output_handler.current_raw_frame\n",
    "        )\n",
    "        object_history = detector.associate_detections(detections, object_history)\n",
    "        input_output_handler.handle_output(\n",
    "            processed_frame_dict, object_history, runtimes, detector=detector\n",
    "        )\n",
    "\n",
    "    if input_output_handler.output_csv_name is not None:\n",
    "        detections = input_output_handler.get_detections_pd(object_history)\n",
    "        detections = detector.classify_detections(detections)\n",
    "        detections.to_csv(input_output_handler.output_csv_name, index=False)\n",
    "        \n",
    "    # cut off the first 120 seconds as burn-in and convert to mov for roboflow\n",
    "    record_processing_frame = settings_dict[\"record_processing_frame\"]\n",
    "    out_dir = next(d for d in os.listdir(video_dir) if os.path.isdir(os.path.join(video_dir, d)))\n",
    "    base_name = os.path.basename(video_dir)\n",
    "\n",
    "    out_video_path = os.path.join(video_dir, out_dir, f\"original_{record_processing_frame}_output.mp4\")\n",
    "    save_binary_path = os.path.join(video_dir, out_dir, f\"{base_name}_{record_processing_frame}_output_120s.mov\")\n",
    "    extract_video_segment(out_video_path, start_time=120, save_path=save_binary_path)\n",
    "    print(f\"Saved {save_binary_path}\")"
   ]
  },
  {
   "cell_type": "markdown",
   "metadata": {},
   "source": [
    "1:\n",
    "<algorithm.DetectedObject.DetectedObject object at 0x0000027337D4E200>\n",
    "special variables\n",
    "function variables\n",
    "ID:\n",
    "1\n",
    "areas:\n",
    "[321.0, 353.0]\n",
    "bounding_boxes:\n",
    "[(24, 19), (26, 20)]\n",
    "deepsort_detection:\n",
    "<algorithm.DetectedObject.MyDeepSortDetection object at 0x0000027337D4E260>\n",
    "frames_observed:\n",
    "[410, 411]\n",
    "midpoints:\n",
    "[(309, 207), (302, 206)]\n",
    "velocities:\n",
    "[array([nan, nan]), array([nan, nan])]"
   ]
  },
  {
   "cell_type": "code",
   "execution_count": 11,
   "metadata": {},
   "outputs": [
    {
     "data": {
      "image/png": "[encoded data removed]",
      "text/plain": [
       "<Figure size 640x480 with 2 Axes>"
      ]
     },
     "metadata": {},
     "output_type": "display_data"
    },
    {
     "name": "stdout",
     "output_type": "stream",
     "text": [
      "[[23.    0.35]\n",
      " [-9.    0.93]]\n"
     ]
    },
    {
     "ename": "",
     "evalue": "",
     "output_type": "error",
     "traceback": [
      "\u001b[1;31mThe Kernel crashed while executing code in the the current cell or a previous cell. Please review the code in the cell(s) to identify a possible cause of the failure. Click <a href='https://aka.ms/vscodeJupyterKernelCrash'>here</a> for more info. View Jupyter <a href='command:jupyter.viewOutput'>log</a> for further details."
     ]
    }
   ],
   "source": [
    "import numpy as np\n",
    "import matplotlib.pyplot as plt\n",
    "from matplotlib import cm\n",
    "from mpl_toolkits.mplot3d import Axes3D\n",
    "\n",
    "# Our 2-dimensional distribution will be over variables X and Y\n",
    "N = 40\n",
    "X = np.linspace(-2, 2, N)\n",
    "Y = np.linspace(-2, 2, N)\n",
    "X, Y = np.meshgrid(X, Y)\n",
    "\n",
    "# Mean vector and covariance matrix\n",
    "mu = np.array([0., 0.])\n",
    "Sigma = np.array([[23., 0.35], [-9, 0.93]])\n",
    "\n",
    "# Pack X and Y into a single 3-dimensional array\n",
    "pos = np.empty(X.shape + (2,))\n",
    "pos[:, :, 0] = X\n",
    "pos[:, :, 1] = Y\n",
    "\n",
    "def multivariate_gaussian(pos, mu, Sigma):\n",
    "    \"\"\"Return the multivariate Gaussian distribution on array pos.\"\"\"\n",
    "\n",
    "    n = mu.shape[0]\n",
    "    Sigma_det = np.linalg.det(Sigma)\n",
    "    Sigma_inv = np.linalg.inv(Sigma)\n",
    "    N = np.sqrt((2*np.pi)**n * Sigma_det)\n",
    "    # This einsum call calculates (x-mu)T.Sigma-1.(x-mu) in a vectorized\n",
    "    # way across all the input variables.\n",
    "    fac = np.einsum('...k,kl,...l->...', pos-mu, Sigma_inv, pos-mu)\n",
    "\n",
    "    return np.exp(-fac / 2) / N\n",
    "\n",
    "# The distribution on the variables X, Y packed into pos.\n",
    "Z = multivariate_gaussian(pos, mu, Sigma)\n",
    "\n",
    "# plot using subplots\n",
    "fig = plt.figure()\n",
    "ax1 = fig.add_subplot(2,1,1,projection='3d')\n",
    "\n",
    "ax1.plot_surface(X, Y, Z, rstride=3, cstride=3, linewidth=1, antialiased=True,\n",
    "                cmap=cm.viridis)\n",
    "ax1.view_init(55,-70)\n",
    "ax1.set_xticks([])\n",
    "ax1.set_yticks([])\n",
    "ax1.set_zticks([])\n",
    "ax1.set_xlabel(r'$x_1$')\n",
    "ax1.set_ylabel(r'$x_2$')\n",
    "\n",
    "ax2 = fig.add_subplot(2,1,2,projection='3d')\n",
    "ax2.contourf(X, Y, Z, zdir='z', offset=0, cmap=cm.viridis)\n",
    "ax2.view_init(90, 270)\n",
    "\n",
    "ax2.grid(False)\n",
    "ax2.set_xticks([])\n",
    "ax2.set_yticks([])\n",
    "ax2.set_zticks([])\n",
    "ax2.set_xlabel(r'$x_1$')\n",
    "ax2.set_ylabel(r'$x_2$')\n",
    "\n",
    "plt.show()\n",
    "print(Sigma)"
   ]
  }
 ],
 "metadata": {
  "kernelspec": {
   "display_name": ".venv",
   "language": "python",
   "name": "python3"
  },
  "language_info": {
   "codemirror_mode": {
    "name": "ipython",
    "version": 3
   },
   "file_extension": ".py",
   "mimetype": "text/x-python",
   "name": "python",
   "nbconvert_exporter": "python",
   "pygments_lexer": "ipython3",
   "version": "3.10.10"
  }
 },
 "nbformat": 4,
 "nbformat_minor": 2
}
