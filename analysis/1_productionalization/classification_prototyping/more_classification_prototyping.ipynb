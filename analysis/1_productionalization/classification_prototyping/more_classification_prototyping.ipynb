{
 "cells": [
  {
   "cell_type": "code",
   "execution_count": 3,
   "metadata": {
    "ExecuteTime": {
     "end_time": "2024-02-14T09:10:55.369023Z",
     "start_time": "2024-02-14T09:10:55.362209Z"
    }
   },
   "outputs": [
    {
     "name": "stdout",
     "output_type": "stream",
     "text": [
      "Collecting dtaidistance\r\n",
      "  Downloading dtaidistance-2.3.11.tar.gz (9.0 MB)\r\n",
      "\u001B[2K     \u001B[90m━━━━━━━━━━━━━━━━━━━━━━━━━━━━━━━━━━━━━━━━\u001B[0m \u001B[32m9.0/9.0 MB\u001B[0m \u001B[31m12.6 MB/s\u001B[0m eta \u001B[36m0:00:00\u001B[0ma \u001B[36m0:00:01\u001B[0m\r\n",
      "\u001B[?25h  Installing build dependencies ... \u001B[?25ldone\r\n",
      "\u001B[?25h  Getting requirements to build wheel ... \u001B[?25ldone\r\n",
      "\u001B[?25h  Preparing metadata (pyproject.toml) ... \u001B[?25ldone\r\n",
      "\u001B[?25hRequirement already satisfied: numpy in /Users/chris/Documents/Axpo/AXH-SonarFish/venv/lib/python3.9/site-packages (from dtaidistance) (1.25.2)\r\n",
      "Building wheels for collected packages: dtaidistance\r\n",
      "  Building wheel for dtaidistance (pyproject.toml) ... \u001B[?25ldone\r\n",
      "\u001B[?25h  Created wheel for dtaidistance: filename=dtaidistance-2.3.11-py3-none-any.whl size=877927 sha256=da03beb0628072fbdedcb7e2633be202f17769920ccaf1f3a34618d49460807f\r\n",
      "  Stored in directory: /Users/chris/Library/Caches/pip/wheels/a2/16/09/5986d85379b357bdca7e2f0ce44856fd7559f59e9c1c437a1a\r\n",
      "Successfully built dtaidistance\r\n",
      "Installing collected packages: dtaidistance\r\n",
      "Successfully installed dtaidistance-2.3.11\r\n",
      "\r\n",
      "\u001B[1m[\u001B[0m\u001B[34;49mnotice\u001B[0m\u001B[1;39;49m]\u001B[0m\u001B[39;49m A new release of pip available: \u001B[0m\u001B[31;49m22.3.1\u001B[0m\u001B[39;49m -> \u001B[0m\u001B[32;49m24.0\u001B[0m\r\n",
      "\u001B[1m[\u001B[0m\u001B[34;49mnotice\u001B[0m\u001B[1;39;49m]\u001B[0m\u001B[39;49m To update, run: \u001B[0m\u001B[32;49mpip install --upgrade pip\u001B[0m\r\n"
     ]
    }
   ],
   "source": [
    "!pip install dtaidistance\n",
    "import sys\n",
    "\n",
    "import numpy as np\n",
    "import pandas as pd\n",
    "from dtaidistance import dtw\n",
    "from matplotlib import pyplot as plt\n",
    "\n",
    "sys.path.append('../../../')"
   ]
  },
  {
   "cell_type": "markdown",
   "metadata": {},
   "source": [
    "**Import Files**"
   ]
  },
  {
   "cell_type": "code",
   "execution_count": 4,
   "metadata": {
    "ExecuteTime": {
     "end_time": "2024-02-14T09:10:56.998827Z",
     "start_time": "2024-02-14T09:10:56.972947Z"
    }
   },
   "outputs": [],
   "source": [
    "model_output_csv_path = \"../../../data/model_output/start_2023-11-21T17-37-01.696+00-00.csv\"\n",
    "\n",
    "model_detections = pd.read_csv(model_output_csv_path, delimiter=\",\")\n",
    "\n",
    "ground_truth_csv = \"../../../data/labels/start_2023-11-21T17-37-01.696+00-00_ground_truth.csv\"\n",
    "\n",
    "ground_truth = pd.read_csv(ground_truth_csv, delimiter=\",\")\n",
    "\n",
    "value_counts_model = pd.DataFrame(model_detections.id.value_counts()).reset_index().rename(columns={\"index\": \"id\", \"id\": \"occurences\"})\n",
    "\n",
    "value_counts_truth =  pd.DataFrame(ground_truth.id.value_counts()).reset_index().rename(columns={\"index\": \"id\", \"id\": \"occurences\"})"
   ]
  },
  {
   "cell_type": "code",
   "execution_count": 6,
   "metadata": {},
   "outputs": [
    {
     "name": "stdout",
     "output_type": "stream",
     "text": [
      "The autoreload extension is already loaded. To reload it, use:\n",
      "  %reload_ext autoreload\n"
     ]
    },
    {
     "name": "stderr",
     "output_type": "stream",
     "text": [
      "/Users/chris/Documents/Axpo/AXH-SonarFish/analysis/features_utils.py:39: RuntimeWarning: invalid value encountered in divide\n",
      "  curvature = np.abs(dx_dt * d2y_dt2 - dy_dt * d2x_dt2) / (dx_dt**2 + dy_dt**2) ** (3 / 2)\n",
      "/Users/chris/Documents/Axpo/AXH-SonarFish/analysis/features_utils.py:39: RuntimeWarning: invalid value encountered in divide\n",
      "  curvature = np.abs(dx_dt * d2y_dt2 - dy_dt * d2x_dt2) / (dx_dt**2 + dy_dt**2) ** (3 / 2)\n",
      "/Users/chris/Documents/Axpo/AXH-SonarFish/analysis/features_utils.py:39: RuntimeWarning: invalid value encountered in divide\n",
      "  curvature = np.abs(dx_dt * d2y_dt2 - dy_dt * d2x_dt2) / (dx_dt**2 + dy_dt**2) ** (3 / 2)\n",
      "/Users/chris/Documents/Axpo/AXH-SonarFish/analysis/features_utils.py:39: RuntimeWarning: invalid value encountered in divide\n",
      "  curvature = np.abs(dx_dt * d2y_dt2 - dy_dt * d2x_dt2) / (dx_dt**2 + dy_dt**2) ** (3 / 2)\n",
      "/Users/chris/Documents/Axpo/AXH-SonarFish/analysis/features_utils.py:39: RuntimeWarning: invalid value encountered in divide\n",
      "  curvature = np.abs(dx_dt * d2y_dt2 - dy_dt * d2x_dt2) / (dx_dt**2 + dy_dt**2) ** (3 / 2)\n",
      "/Users/chris/Documents/Axpo/AXH-SonarFish/analysis/features_utils.py:39: RuntimeWarning: invalid value encountered in divide\n",
      "  curvature = np.abs(dx_dt * d2y_dt2 - dy_dt * d2x_dt2) / (dx_dt**2 + dy_dt**2) ** (3 / 2)\n",
      "/Users/chris/Documents/Axpo/AXH-SonarFish/analysis/features_utils.py:39: RuntimeWarning: invalid value encountered in divide\n",
      "  curvature = np.abs(dx_dt * d2y_dt2 - dy_dt * d2x_dt2) / (dx_dt**2 + dy_dt**2) ** (3 / 2)\n",
      "/Users/chris/Documents/Axpo/AXH-SonarFish/analysis/features_utils.py:39: RuntimeWarning: invalid value encountered in divide\n",
      "  curvature = np.abs(dx_dt * d2y_dt2 - dy_dt * d2x_dt2) / (dx_dt**2 + dy_dt**2) ** (3 / 2)\n",
      "/Users/chris/Documents/Axpo/AXH-SonarFish/analysis/features_utils.py:39: RuntimeWarning: invalid value encountered in divide\n",
      "  curvature = np.abs(dx_dt * d2y_dt2 - dy_dt * d2x_dt2) / (dx_dt**2 + dy_dt**2) ** (3 / 2)\n",
      "/Users/chris/Documents/Axpo/AXH-SonarFish/analysis/features_utils.py:39: RuntimeWarning: invalid value encountered in divide\n",
      "  curvature = np.abs(dx_dt * d2y_dt2 - dy_dt * d2x_dt2) / (dx_dt**2 + dy_dt**2) ** (3 / 2)\n",
      "/Users/chris/Documents/Axpo/AXH-SonarFish/analysis/features_utils.py:39: RuntimeWarning: invalid value encountered in divide\n",
      "  curvature = np.abs(dx_dt * d2y_dt2 - dy_dt * d2x_dt2) / (dx_dt**2 + dy_dt**2) ** (3 / 2)\n",
      "/Users/chris/Documents/Axpo/AXH-SonarFish/analysis/features_utils.py:39: RuntimeWarning: invalid value encountered in divide\n",
      "  curvature = np.abs(dx_dt * d2y_dt2 - dy_dt * d2x_dt2) / (dx_dt**2 + dy_dt**2) ** (3 / 2)\n",
      "/Users/chris/Documents/Axpo/AXH-SonarFish/analysis/features_utils.py:39: RuntimeWarning: invalid value encountered in divide\n",
      "  curvature = np.abs(dx_dt * d2y_dt2 - dy_dt * d2x_dt2) / (dx_dt**2 + dy_dt**2) ** (3 / 2)\n",
      "/Users/chris/Documents/Axpo/AXH-SonarFish/analysis/features_utils.py:39: RuntimeWarning: invalid value encountered in divide\n",
      "  curvature = np.abs(dx_dt * d2y_dt2 - dy_dt * d2x_dt2) / (dx_dt**2 + dy_dt**2) ** (3 / 2)\n",
      "/Users/chris/Documents/Axpo/AXH-SonarFish/analysis/features_utils.py:39: RuntimeWarning: invalid value encountered in divide\n",
      "  curvature = np.abs(dx_dt * d2y_dt2 - dy_dt * d2x_dt2) / (dx_dt**2 + dy_dt**2) ** (3 / 2)\n",
      "/Users/chris/Documents/Axpo/AXH-SonarFish/analysis/features_utils.py:39: RuntimeWarning: invalid value encountered in divide\n",
      "  curvature = np.abs(dx_dt * d2y_dt2 - dy_dt * d2x_dt2) / (dx_dt**2 + dy_dt**2) ** (3 / 2)\n"
     ]
    },
    {
     "name": "stdout",
     "output_type": "stream",
     "text": [
      "Average Curvature: 0.4859799899813747 ['fish']\n",
      "Average Curvature: 0.27051454247165313 ['fish']\n",
      "Average Curvature: 0.20326987440811817 ['fish']\n",
      "Average Curvature: 0.290906921344548 ['fish']\n",
      "Average Curvature: 0.6157989908922857 ['fish']\n",
      "Average Curvature: 0.6023417829254901 ['fish']\n",
      "Average Curvature: 0.4329836802981079 ['fish']\n",
      "Average Curvature: 0.5218422220565292 ['fish']\n",
      "Average Curvature: 0.5969855234342211 ['fish']\n",
      "Average Curvature: 0.5497704858835016 ['fish']\n",
      "Average Curvature: 0.38304968443005366 ['fish']\n",
      "Average Curvature: 0.28400687941854147 ['fish']\n",
      "Average Curvature: 0.6318839182426182 ['fish']\n",
      "Average Curvature: 0.4605117809054709 ['fish']\n",
      "Average Curvature: 0.49187432835800826 ['fish']\n",
      "Average Curvature: 0.4315343517219797 ['fish']\n"
     ]
    },
    {
     "name": "stderr",
     "output_type": "stream",
     "text": [
      "/Users/chris/Documents/Axpo/AXH-SonarFish/analysis/features_utils.py:39: RuntimeWarning: invalid value encountered in divide\n",
      "  curvature = np.abs(dx_dt * d2y_dt2 - dy_dt * d2x_dt2) / (dx_dt**2 + dy_dt**2) ** (3 / 2)\n",
      "/Users/chris/Documents/Axpo/AXH-SonarFish/analysis/features_utils.py:39: RuntimeWarning: invalid value encountered in divide\n",
      "  curvature = np.abs(dx_dt * d2y_dt2 - dy_dt * d2x_dt2) / (dx_dt**2 + dy_dt**2) ** (3 / 2)\n",
      "/Users/chris/Documents/Axpo/AXH-SonarFish/analysis/features_utils.py:39: RuntimeWarning: invalid value encountered in divide\n",
      "  curvature = np.abs(dx_dt * d2y_dt2 - dy_dt * d2x_dt2) / (dx_dt**2 + dy_dt**2) ** (3 / 2)\n",
      "/Users/chris/Documents/Axpo/AXH-SonarFish/analysis/features_utils.py:39: RuntimeWarning: invalid value encountered in divide\n",
      "  curvature = np.abs(dx_dt * d2y_dt2 - dy_dt * d2x_dt2) / (dx_dt**2 + dy_dt**2) ** (3 / 2)\n",
      "/Users/chris/Documents/Axpo/AXH-SonarFish/analysis/features_utils.py:39: RuntimeWarning: invalid value encountered in divide\n",
      "  curvature = np.abs(dx_dt * d2y_dt2 - dy_dt * d2x_dt2) / (dx_dt**2 + dy_dt**2) ** (3 / 2)\n",
      "/Users/chris/Documents/Axpo/AXH-SonarFish/analysis/features_utils.py:39: RuntimeWarning: invalid value encountered in divide\n",
      "  curvature = np.abs(dx_dt * d2y_dt2 - dy_dt * d2x_dt2) / (dx_dt**2 + dy_dt**2) ** (3 / 2)\n",
      "/Users/chris/Documents/Axpo/AXH-SonarFish/analysis/features_utils.py:39: RuntimeWarning: invalid value encountered in divide\n",
      "  curvature = np.abs(dx_dt * d2y_dt2 - dy_dt * d2x_dt2) / (dx_dt**2 + dy_dt**2) ** (3 / 2)\n",
      "/Users/chris/Documents/Axpo/AXH-SonarFish/analysis/features_utils.py:39: RuntimeWarning: invalid value encountered in divide\n",
      "  curvature = np.abs(dx_dt * d2y_dt2 - dy_dt * d2x_dt2) / (dx_dt**2 + dy_dt**2) ** (3 / 2)\n",
      "/Users/chris/Documents/Axpo/AXH-SonarFish/analysis/features_utils.py:39: RuntimeWarning: invalid value encountered in divide\n",
      "  curvature = np.abs(dx_dt * d2y_dt2 - dy_dt * d2x_dt2) / (dx_dt**2 + dy_dt**2) ** (3 / 2)\n",
      "/Users/chris/Documents/Axpo/AXH-SonarFish/analysis/features_utils.py:39: RuntimeWarning: invalid value encountered in divide\n",
      "  curvature = np.abs(dx_dt * d2y_dt2 - dy_dt * d2x_dt2) / (dx_dt**2 + dy_dt**2) ** (3 / 2)\n",
      "/Users/chris/Documents/Axpo/AXH-SonarFish/analysis/features_utils.py:39: RuntimeWarning: invalid value encountered in divide\n",
      "  curvature = np.abs(dx_dt * d2y_dt2 - dy_dt * d2x_dt2) / (dx_dt**2 + dy_dt**2) ** (3 / 2)\n",
      "/Users/chris/Documents/Axpo/AXH-SonarFish/analysis/features_utils.py:39: RuntimeWarning: invalid value encountered in divide\n",
      "  curvature = np.abs(dx_dt * d2y_dt2 - dy_dt * d2x_dt2) / (dx_dt**2 + dy_dt**2) ** (3 / 2)\n",
      "/Users/chris/Documents/Axpo/AXH-SonarFish/analysis/features_utils.py:39: RuntimeWarning: invalid value encountered in divide\n",
      "  curvature = np.abs(dx_dt * d2y_dt2 - dy_dt * d2x_dt2) / (dx_dt**2 + dy_dt**2) ** (3 / 2)\n",
      "/Users/chris/Documents/Axpo/AXH-SonarFish/analysis/features_utils.py:39: RuntimeWarning: invalid value encountered in divide\n",
      "  curvature = np.abs(dx_dt * d2y_dt2 - dy_dt * d2x_dt2) / (dx_dt**2 + dy_dt**2) ** (3 / 2)\n",
      "/Users/chris/Documents/Axpo/AXH-SonarFish/analysis/features_utils.py:39: RuntimeWarning: invalid value encountered in divide\n",
      "  curvature = np.abs(dx_dt * d2y_dt2 - dy_dt * d2x_dt2) / (dx_dt**2 + dy_dt**2) ** (3 / 2)\n",
      "/Users/chris/Documents/Axpo/AXH-SonarFish/analysis/features_utils.py:39: RuntimeWarning: invalid value encountered in divide\n",
      "  curvature = np.abs(dx_dt * d2y_dt2 - dy_dt * d2x_dt2) / (dx_dt**2 + dy_dt**2) ** (3 / 2)\n",
      "/Users/chris/Documents/Axpo/AXH-SonarFish/analysis/features_utils.py:39: RuntimeWarning: invalid value encountered in divide\n",
      "  curvature = np.abs(dx_dt * d2y_dt2 - dy_dt * d2x_dt2) / (dx_dt**2 + dy_dt**2) ** (3 / 2)\n"
     ]
    },
    {
     "name": "stdout",
     "output_type": "stream",
     "text": [
      "Average Curvature: 0.5730516273316437 ['fish']\n",
      "Average Curvature: 0.43119970650913514 ['fish']\n",
      "Average Curvature: 0.5752138420950661 ['fish']\n",
      "Average Curvature: 0.45938237343049787 ['fish']\n",
      "Average Curvature: 0.39716539580070254 ['fish']\n",
      "Average Curvature: 0.3514285385551873 ['fish']\n",
      "Average Curvature: 0.40821944410823935 ['fish']\n",
      "Average Curvature: 0.390674540355655 ['fish']\n",
      "Average Curvature: 0.48553627137250244 ['fish']\n",
      "Average Curvature: 0.38540316502700633 ['fish']\n",
      "Average Curvature: 0.5522523055303413 ['fish']\n",
      "Average Curvature: 0.44509056435620115 ['fish']\n",
      "Average Curvature: 0.5060113779183754 ['fish']\n",
      "Average Curvature: 0.5561151419774429 ['fish']\n",
      "Average Curvature: 0.5363514714965816 ['fish']\n",
      "Average Curvature: 0.4513238542831331 ['fish']\n",
      "Average Curvature: 0.5068015649789871 ['fish']\n"
     ]
    },
    {
     "name": "stderr",
     "output_type": "stream",
     "text": [
      "/Users/chris/Documents/Axpo/AXH-SonarFish/analysis/features_utils.py:39: RuntimeWarning: invalid value encountered in divide\n",
      "  curvature = np.abs(dx_dt * d2y_dt2 - dy_dt * d2x_dt2) / (dx_dt**2 + dy_dt**2) ** (3 / 2)\n",
      "/Users/chris/Documents/Axpo/AXH-SonarFish/analysis/features_utils.py:39: RuntimeWarning: invalid value encountered in divide\n",
      "  curvature = np.abs(dx_dt * d2y_dt2 - dy_dt * d2x_dt2) / (dx_dt**2 + dy_dt**2) ** (3 / 2)\n",
      "/Users/chris/Documents/Axpo/AXH-SonarFish/analysis/features_utils.py:39: RuntimeWarning: invalid value encountered in divide\n",
      "  curvature = np.abs(dx_dt * d2y_dt2 - dy_dt * d2x_dt2) / (dx_dt**2 + dy_dt**2) ** (3 / 2)\n",
      "/Users/chris/Documents/Axpo/AXH-SonarFish/analysis/features_utils.py:39: RuntimeWarning: invalid value encountered in divide\n",
      "  curvature = np.abs(dx_dt * d2y_dt2 - dy_dt * d2x_dt2) / (dx_dt**2 + dy_dt**2) ** (3 / 2)\n",
      "/Users/chris/Documents/Axpo/AXH-SonarFish/analysis/features_utils.py:39: RuntimeWarning: invalid value encountered in divide\n",
      "  curvature = np.abs(dx_dt * d2y_dt2 - dy_dt * d2x_dt2) / (dx_dt**2 + dy_dt**2) ** (3 / 2)\n",
      "/Users/chris/Documents/Axpo/AXH-SonarFish/analysis/features_utils.py:39: RuntimeWarning: invalid value encountered in divide\n",
      "  curvature = np.abs(dx_dt * d2y_dt2 - dy_dt * d2x_dt2) / (dx_dt**2 + dy_dt**2) ** (3 / 2)\n",
      "/Users/chris/Documents/Axpo/AXH-SonarFish/analysis/features_utils.py:39: RuntimeWarning: invalid value encountered in divide\n",
      "  curvature = np.abs(dx_dt * d2y_dt2 - dy_dt * d2x_dt2) / (dx_dt**2 + dy_dt**2) ** (3 / 2)\n",
      "/Users/chris/Documents/Axpo/AXH-SonarFish/analysis/features_utils.py:39: RuntimeWarning: invalid value encountered in divide\n",
      "  curvature = np.abs(dx_dt * d2y_dt2 - dy_dt * d2x_dt2) / (dx_dt**2 + dy_dt**2) ** (3 / 2)\n",
      "/Users/chris/Documents/Axpo/AXH-SonarFish/analysis/features_utils.py:39: RuntimeWarning: invalid value encountered in divide\n",
      "  curvature = np.abs(dx_dt * d2y_dt2 - dy_dt * d2x_dt2) / (dx_dt**2 + dy_dt**2) ** (3 / 2)\n",
      "/Users/chris/Documents/Axpo/AXH-SonarFish/analysis/features_utils.py:39: RuntimeWarning: invalid value encountered in divide\n",
      "  curvature = np.abs(dx_dt * d2y_dt2 - dy_dt * d2x_dt2) / (dx_dt**2 + dy_dt**2) ** (3 / 2)\n",
      "/Users/chris/Documents/Axpo/AXH-SonarFish/analysis/features_utils.py:39: RuntimeWarning: invalid value encountered in divide\n",
      "  curvature = np.abs(dx_dt * d2y_dt2 - dy_dt * d2x_dt2) / (dx_dt**2 + dy_dt**2) ** (3 / 2)\n",
      "/Users/chris/Documents/Axpo/AXH-SonarFish/analysis/features_utils.py:39: RuntimeWarning: invalid value encountered in divide\n",
      "  curvature = np.abs(dx_dt * d2y_dt2 - dy_dt * d2x_dt2) / (dx_dt**2 + dy_dt**2) ** (3 / 2)\n",
      "/Users/chris/Documents/Axpo/AXH-SonarFish/analysis/features_utils.py:39: RuntimeWarning: invalid value encountered in divide\n",
      "  curvature = np.abs(dx_dt * d2y_dt2 - dy_dt * d2x_dt2) / (dx_dt**2 + dy_dt**2) ** (3 / 2)\n",
      "/Users/chris/Documents/Axpo/AXH-SonarFish/analysis/features_utils.py:39: RuntimeWarning: invalid value encountered in divide\n",
      "  curvature = np.abs(dx_dt * d2y_dt2 - dy_dt * d2x_dt2) / (dx_dt**2 + dy_dt**2) ** (3 / 2)\n",
      "/Users/chris/Documents/Axpo/AXH-SonarFish/analysis/features_utils.py:39: RuntimeWarning: invalid value encountered in divide\n",
      "  curvature = np.abs(dx_dt * d2y_dt2 - dy_dt * d2x_dt2) / (dx_dt**2 + dy_dt**2) ** (3 / 2)\n",
      "/Users/chris/Documents/Axpo/AXH-SonarFish/analysis/features_utils.py:39: RuntimeWarning: invalid value encountered in divide\n",
      "  curvature = np.abs(dx_dt * d2y_dt2 - dy_dt * d2x_dt2) / (dx_dt**2 + dy_dt**2) ** (3 / 2)\n"
     ]
    },
    {
     "name": "stdout",
     "output_type": "stream",
     "text": [
      "Average Curvature: 0.46105328006579466 ['fish']\n",
      "Average Curvature: 0.1891381010809463 ['fish']\n",
      "Average Curvature: 0.4430109133234404 ['fish']\n",
      "Average Curvature: 0.49806685519513233 ['fish']\n",
      "Average Curvature: 0.5738018981513906 ['fish']\n",
      "Average Curvature: 0.5416169761706986 ['fish']\n",
      "Average Curvature: 0.5844340475920997 ['fish']\n",
      "Average Curvature: 0.27156385276076234 ['fish']\n",
      "Average Curvature: 0.44559627217960884 ['fish']\n",
      "Average Curvature: 0.3857720942555836 ['fish']\n",
      "Average Curvature: 0.5291753824534182 ['fish']\n",
      "Average Curvature: 0.5601192432973865 ['fish']\n",
      "Average Curvature: 0.3897224240571896 ['fish']\n",
      "Average Curvature: 0.27539995904735454 ['fish']\n",
      "Average Curvature: 0.43711324938080676 ['fish']\n",
      "Average Curvature: 0.5798130682997206 ['fish']\n"
     ]
    },
    {
     "name": "stderr",
     "output_type": "stream",
     "text": [
      "/Users/chris/Documents/Axpo/AXH-SonarFish/analysis/features_utils.py:39: RuntimeWarning: invalid value encountered in divide\n",
      "  curvature = np.abs(dx_dt * d2y_dt2 - dy_dt * d2x_dt2) / (dx_dt**2 + dy_dt**2) ** (3 / 2)\n",
      "/Users/chris/Documents/Axpo/AXH-SonarFish/analysis/features_utils.py:39: RuntimeWarning: invalid value encountered in divide\n",
      "  curvature = np.abs(dx_dt * d2y_dt2 - dy_dt * d2x_dt2) / (dx_dt**2 + dy_dt**2) ** (3 / 2)\n",
      "/Users/chris/Documents/Axpo/AXH-SonarFish/analysis/features_utils.py:39: RuntimeWarning: invalid value encountered in divide\n",
      "  curvature = np.abs(dx_dt * d2y_dt2 - dy_dt * d2x_dt2) / (dx_dt**2 + dy_dt**2) ** (3 / 2)\n",
      "/Users/chris/Documents/Axpo/AXH-SonarFish/analysis/features_utils.py:39: RuntimeWarning: invalid value encountered in divide\n",
      "  curvature = np.abs(dx_dt * d2y_dt2 - dy_dt * d2x_dt2) / (dx_dt**2 + dy_dt**2) ** (3 / 2)\n",
      "/Users/chris/Documents/Axpo/AXH-SonarFish/analysis/features_utils.py:39: RuntimeWarning: invalid value encountered in divide\n",
      "  curvature = np.abs(dx_dt * d2y_dt2 - dy_dt * d2x_dt2) / (dx_dt**2 + dy_dt**2) ** (3 / 2)\n",
      "/Users/chris/Documents/Axpo/AXH-SonarFish/analysis/features_utils.py:39: RuntimeWarning: invalid value encountered in divide\n",
      "  curvature = np.abs(dx_dt * d2y_dt2 - dy_dt * d2x_dt2) / (dx_dt**2 + dy_dt**2) ** (3 / 2)\n",
      "/Users/chris/Documents/Axpo/AXH-SonarFish/analysis/features_utils.py:39: RuntimeWarning: invalid value encountered in divide\n",
      "  curvature = np.abs(dx_dt * d2y_dt2 - dy_dt * d2x_dt2) / (dx_dt**2 + dy_dt**2) ** (3 / 2)\n",
      "/Users/chris/Documents/Axpo/AXH-SonarFish/analysis/features_utils.py:39: RuntimeWarning: invalid value encountered in divide\n",
      "  curvature = np.abs(dx_dt * d2y_dt2 - dy_dt * d2x_dt2) / (dx_dt**2 + dy_dt**2) ** (3 / 2)\n",
      "/Users/chris/Documents/Axpo/AXH-SonarFish/analysis/features_utils.py:39: RuntimeWarning: invalid value encountered in divide\n",
      "  curvature = np.abs(dx_dt * d2y_dt2 - dy_dt * d2x_dt2) / (dx_dt**2 + dy_dt**2) ** (3 / 2)\n",
      "/Users/chris/Documents/Axpo/AXH-SonarFish/analysis/features_utils.py:39: RuntimeWarning: invalid value encountered in divide\n",
      "  curvature = np.abs(dx_dt * d2y_dt2 - dy_dt * d2x_dt2) / (dx_dt**2 + dy_dt**2) ** (3 / 2)\n",
      "/Users/chris/Documents/Axpo/AXH-SonarFish/analysis/features_utils.py:39: RuntimeWarning: invalid value encountered in divide\n",
      "  curvature = np.abs(dx_dt * d2y_dt2 - dy_dt * d2x_dt2) / (dx_dt**2 + dy_dt**2) ** (3 / 2)\n",
      "/Users/chris/Documents/Axpo/AXH-SonarFish/analysis/features_utils.py:39: RuntimeWarning: invalid value encountered in divide\n",
      "  curvature = np.abs(dx_dt * d2y_dt2 - dy_dt * d2x_dt2) / (dx_dt**2 + dy_dt**2) ** (3 / 2)\n",
      "/Users/chris/Documents/Axpo/AXH-SonarFish/analysis/features_utils.py:39: RuntimeWarning: invalid value encountered in divide\n",
      "  curvature = np.abs(dx_dt * d2y_dt2 - dy_dt * d2x_dt2) / (dx_dt**2 + dy_dt**2) ** (3 / 2)\n",
      "/Users/chris/Documents/Axpo/AXH-SonarFish/analysis/features_utils.py:39: RuntimeWarning: invalid value encountered in divide\n",
      "  curvature = np.abs(dx_dt * d2y_dt2 - dy_dt * d2x_dt2) / (dx_dt**2 + dy_dt**2) ** (3 / 2)\n"
     ]
    },
    {
     "name": "stdout",
     "output_type": "stream",
     "text": [
      "Average Curvature: 0.19047619047619047 ['fish']\n",
      "Average Curvature: 0.5167391392181331 ['fish']\n",
      "Average Curvature: 0.4559577474864511 ['fish']\n",
      "Average Curvature: 0.5766960892586865 ['fish']\n",
      "Average Curvature: 0.42734596232059013 ['fish']\n",
      "Average Curvature: 0.4904251864145178 ['fish']\n",
      "Average Curvature: 0.39102563625384607 ['fish']\n",
      "Average Curvature: 0.46141305732134147 ['fish']\n",
      "Average Curvature: 0.46838322699560436 ['fish']\n",
      "Average Curvature: 0.7718741770846248 ['fish']\n",
      "Average Curvature: 0.6257531225705769 ['fish']\n",
      "Average Curvature: 0.4525038023545752 ['fish']\n",
      "Average Curvature: 0.21005831569752056 ['fish']\n",
      "Average Curvature: 0.548205240514836 ['fish']\n",
      "Average Curvature: 0.4399951602481549 ['fish']\n"
     ]
    },
    {
     "name": "stderr",
     "output_type": "stream",
     "text": [
      "64it [00:00, 115.17it/s]\n"
     ]
    },
    {
     "data": {
      "text/plain": "<Figure size 1000x1000 with 1 Axes>",
      "image/png": "[encoded data removed]"
     },
     "metadata": {},
     "output_type": "display_data"
    },
    {
     "data": {
      "text/plain": "<Figure size 1000x1000 with 1 Axes>",
      "image/png": "[encoded data removed]"
     },
     "metadata": {},
     "output_type": "display_data"
    },
    {
     "data": {
      "text/plain": "({111: 278,\n  963: 279,\n  2087: 280,\n  3574: 283,\n  3586: 282,\n  3935: 284,\n  4095: 285,\n  4119: 287,\n  5291: 289,\n  6621: 290,\n  7330: 291,\n  8050: 293,\n  9088: 294,\n  9284: 295,\n  9548: 296,\n  10597: 297},\n {367: 278,\n  634: 279,\n  3825: 285,\n  4644: 287,\n  6922: 291,\n  8239: 293,\n  8509: 294,\n  9867: 296})"
     },
     "execution_count": 6,
     "metadata": {},
     "output_type": "execute_result"
    }
   ],
   "source": [
    "%load_ext autoreload\n",
    "%autoreload 2\n",
    "from sklearn.cluster import KMeans\n",
    "\n",
    "from analysis.features import FeatureGenerator\n",
    "\n",
    "gen = FeatureGenerator(measurements_csv_paths=[model_output_csv_path], gt_csv_paths=[ground_truth_csv], min_track_length=60, force_feature_recalc=True)\n",
    "gen.do_clustering(features=['traversed_distance', 'frame_diff'], clustering_method=KMeans, n_clusters=3)\n",
    "gen.plot_track_pairings()"
   ]
  },
  {
   "cell_type": "code",
   "execution_count": 63,
   "metadata": {},
   "outputs": [
    {
     "data": {
      "text/html": [
       "<div>\n",
       "<style scoped>\n",
       "    .dataframe tbody tr th:only-of-type {\n",
       "        vertical-align: middle;\n",
       "    }\n",
       "\n",
       "    .dataframe tbody tr th {\n",
       "        vertical-align: top;\n",
       "    }\n",
       "\n",
       "    .dataframe thead th {\n",
       "        text-align: right;\n",
       "    }\n",
       "</style>\n",
       "<table border=\"1\" class=\"dataframe\">\n",
       "  <thead>\n",
       "    <tr style=\"text-align: right;\">\n",
       "      <th></th>\n",
       "      <th>frame</th>\n",
       "      <th>id</th>\n",
       "      <th>x</th>\n",
       "      <th>y</th>\n",
       "      <th>w</th>\n",
       "      <th>h</th>\n",
       "      <th>v_x</th>\n",
       "      <th>v_y</th>\n",
       "      <th>contour_area</th>\n",
       "      <th>image_tile</th>\n",
       "      <th>v_xr</th>\n",
       "      <th>v_yr</th>\n",
       "      <th>classification</th>\n",
       "      <th>traversed_distance</th>\n",
       "      <th>frame_diff</th>\n",
       "      <th>cluster</th>\n",
       "      <th>gt_label</th>\n",
       "    </tr>\n",
       "  </thead>\n",
       "  <tbody>\n",
       "    <tr>\n",
       "      <th>72</th>\n",
       "      <td>411</td>\n",
       "      <td>7</td>\n",
       "      <td>445</td>\n",
       "      <td>36</td>\n",
       "      <td>16</td>\n",
       "      <td>16</td>\n",
       "      <td>0.000000</td>\n",
       "      <td>-1.000000</td>\n",
       "      <td>256</td>\n",
       "      <td>[[127, 127, 127, 127, 127, 127, 127, 127, 127,...</td>\n",
       "      <td>0.357647</td>\n",
       "      <td>-0.933857</td>\n",
       "      <td>fish</td>\n",
       "      <td>40.155328</td>\n",
       "      <td>122.0</td>\n",
       "      <td>0</td>\n",
       "      <td>noise</td>\n",
       "    </tr>\n",
       "    <tr>\n",
       "      <th>73</th>\n",
       "      <td>412</td>\n",
       "      <td>7</td>\n",
       "      <td>446</td>\n",
       "      <td>36</td>\n",
       "      <td>15</td>\n",
       "      <td>15</td>\n",
       "      <td>9.000000</td>\n",
       "      <td>9.000000</td>\n",
       "      <td>225</td>\n",
       "      <td>[[[127, 127, 127, 127, 127, 127, 127, 127, 127...</td>\n",
       "      <td>5.185885</td>\n",
       "      <td>11.623536</td>\n",
       "      <td>fish</td>\n",
       "      <td>40.155328</td>\n",
       "      <td>122.0</td>\n",
       "      <td>0</td>\n",
       "      <td>noise</td>\n",
       "    </tr>\n",
       "    <tr>\n",
       "      <th>74</th>\n",
       "      <td>413</td>\n",
       "      <td>7</td>\n",
       "      <td>445</td>\n",
       "      <td>35</td>\n",
       "      <td>16</td>\n",
       "      <td>15</td>\n",
       "      <td>0.500000</td>\n",
       "      <td>0.000000</td>\n",
       "      <td>240</td>\n",
       "      <td>[[[127, 127, 127, 127, 127, 127, 127, 127, 127...</td>\n",
       "      <td>0.466928</td>\n",
       "      <td>0.178824</td>\n",
       "      <td>fish</td>\n",
       "      <td>40.155328</td>\n",
       "      <td>122.0</td>\n",
       "      <td>0</td>\n",
       "      <td>noise</td>\n",
       "    </tr>\n",
       "    <tr>\n",
       "      <th>75</th>\n",
       "      <td>414</td>\n",
       "      <td>7</td>\n",
       "      <td>446</td>\n",
       "      <td>35</td>\n",
       "      <td>16</td>\n",
       "      <td>16</td>\n",
       "      <td>0.333333</td>\n",
       "      <td>-0.333333</td>\n",
       "      <td>256</td>\n",
       "      <td>[[[127, 127, 127, 127, 127, 127, 127, 127, 127...</td>\n",
       "      <td>0.430501</td>\n",
       "      <td>-0.192070</td>\n",
       "      <td>fish</td>\n",
       "      <td>40.155328</td>\n",
       "      <td>122.0</td>\n",
       "      <td>0</td>\n",
       "      <td>noise</td>\n",
       "    </tr>\n",
       "    <tr>\n",
       "      <th>76</th>\n",
       "      <td>415</td>\n",
       "      <td>7</td>\n",
       "      <td>446</td>\n",
       "      <td>35</td>\n",
       "      <td>15</td>\n",
       "      <td>16</td>\n",
       "      <td>9.000000</td>\n",
       "      <td>9.000000</td>\n",
       "      <td>240</td>\n",
       "      <td>[[[127, 127, 127, 127, 127, 127, 127, 127, 127...</td>\n",
       "      <td>5.185885</td>\n",
       "      <td>11.623536</td>\n",
       "      <td>fish</td>\n",
       "      <td>40.155328</td>\n",
       "      <td>122.0</td>\n",
       "      <td>0</td>\n",
       "      <td>noise</td>\n",
       "    </tr>\n",
       "    <tr>\n",
       "      <th>...</th>\n",
       "      <td>...</td>\n",
       "      <td>...</td>\n",
       "      <td>...</td>\n",
       "      <td>...</td>\n",
       "      <td>...</td>\n",
       "      <td>...</td>\n",
       "      <td>...</td>\n",
       "      <td>...</td>\n",
       "      <td>...</td>\n",
       "      <td>...</td>\n",
       "      <td>...</td>\n",
       "      <td>...</td>\n",
       "      <td>...</td>\n",
       "      <td>...</td>\n",
       "      <td>...</td>\n",
       "      <td>...</td>\n",
       "      <td>...</td>\n",
       "    </tr>\n",
       "    <tr>\n",
       "      <th>58415</th>\n",
       "      <td>5977</td>\n",
       "      <td>10771</td>\n",
       "      <td>308</td>\n",
       "      <td>45</td>\n",
       "      <td>33</td>\n",
       "      <td>23</td>\n",
       "      <td>-0.500000</td>\n",
       "      <td>0.250000</td>\n",
       "      <td>759</td>\n",
       "      <td>[[[127, 127, 127, 127, 127, 127, 127, 127, 127...</td>\n",
       "      <td>-0.556340</td>\n",
       "      <td>0.054641</td>\n",
       "      <td>fish</td>\n",
       "      <td>68.526912</td>\n",
       "      <td>125.0</td>\n",
       "      <td>0</td>\n",
       "      <td>noise</td>\n",
       "    </tr>\n",
       "    <tr>\n",
       "      <th>58416</th>\n",
       "      <td>5978</td>\n",
       "      <td>10771</td>\n",
       "      <td>309</td>\n",
       "      <td>45</td>\n",
       "      <td>32</td>\n",
       "      <td>23</td>\n",
       "      <td>-0.400000</td>\n",
       "      <td>0.200000</td>\n",
       "      <td>736</td>\n",
       "      <td>[[[127, 127, 127, 127, 127, 127, 127, 127, 127...</td>\n",
       "      <td>-0.445072</td>\n",
       "      <td>0.043712</td>\n",
       "      <td>fish</td>\n",
       "      <td>68.526912</td>\n",
       "      <td>125.0</td>\n",
       "      <td>0</td>\n",
       "      <td>noise</td>\n",
       "    </tr>\n",
       "    <tr>\n",
       "      <th>58417</th>\n",
       "      <td>5979</td>\n",
       "      <td>10771</td>\n",
       "      <td>309</td>\n",
       "      <td>45</td>\n",
       "      <td>32</td>\n",
       "      <td>23</td>\n",
       "      <td>-0.333333</td>\n",
       "      <td>0.166667</td>\n",
       "      <td>736</td>\n",
       "      <td>[[[127, 127, 127, 127, 127, 127, 127, 127, 127...</td>\n",
       "      <td>-0.370893</td>\n",
       "      <td>0.036427</td>\n",
       "      <td>fish</td>\n",
       "      <td>68.526912</td>\n",
       "      <td>125.0</td>\n",
       "      <td>0</td>\n",
       "      <td>noise</td>\n",
       "    </tr>\n",
       "    <tr>\n",
       "      <th>58418</th>\n",
       "      <td>5980</td>\n",
       "      <td>10771</td>\n",
       "      <td>309</td>\n",
       "      <td>45</td>\n",
       "      <td>32</td>\n",
       "      <td>22</td>\n",
       "      <td>-0.142857</td>\n",
       "      <td>0.142857</td>\n",
       "      <td>704</td>\n",
       "      <td>[[[127, 127, 127, 127, 100, 127, 127, 127, 127...</td>\n",
       "      <td>-0.184501</td>\n",
       "      <td>0.082316</td>\n",
       "      <td>fish</td>\n",
       "      <td>68.526912</td>\n",
       "      <td>125.0</td>\n",
       "      <td>0</td>\n",
       "      <td>noise</td>\n",
       "    </tr>\n",
       "    <tr>\n",
       "      <th>58419</th>\n",
       "      <td>5981</td>\n",
       "      <td>10771</td>\n",
       "      <td>309</td>\n",
       "      <td>45</td>\n",
       "      <td>32</td>\n",
       "      <td>22</td>\n",
       "      <td>-0.125000</td>\n",
       "      <td>0.125000</td>\n",
       "      <td>704</td>\n",
       "      <td>[[[127, 127, 127, 127, 100, 127, 127, 127, 127...</td>\n",
       "      <td>-0.161438</td>\n",
       "      <td>0.072026</td>\n",
       "      <td>fish</td>\n",
       "      <td>68.526912</td>\n",
       "      <td>125.0</td>\n",
       "      <td>0</td>\n",
       "      <td>noise</td>\n",
       "    </tr>\n",
       "  </tbody>\n",
       "</table>\n",
       "<p>8324 rows × 17 columns</p>\n",
       "</div>"
      ],
      "text/plain": [
       "       frame     id    x   y   w   h       v_x       v_y  contour_area  \\\n",
       "72       411      7  445  36  16  16  0.000000 -1.000000           256   \n",
       "73       412      7  446  36  15  15  9.000000  9.000000           225   \n",
       "74       413      7  445  35  16  15  0.500000  0.000000           240   \n",
       "75       414      7  446  35  16  16  0.333333 -0.333333           256   \n",
       "76       415      7  446  35  15  16  9.000000  9.000000           240   \n",
       "...      ...    ...  ...  ..  ..  ..       ...       ...           ...   \n",
       "58415   5977  10771  308  45  33  23 -0.500000  0.250000           759   \n",
       "58416   5978  10771  309  45  32  23 -0.400000  0.200000           736   \n",
       "58417   5979  10771  309  45  32  23 -0.333333  0.166667           736   \n",
       "58418   5980  10771  309  45  32  22 -0.142857  0.142857           704   \n",
       "58419   5981  10771  309  45  32  22 -0.125000  0.125000           704   \n",
       "\n",
       "                                              image_tile      v_xr       v_yr  \\\n",
       "72     [[127, 127, 127, 127, 127, 127, 127, 127, 127,...  0.357647  -0.933857   \n",
       "73     [[[127, 127, 127, 127, 127, 127, 127, 127, 127...  5.185885  11.623536   \n",
       "74     [[[127, 127, 127, 127, 127, 127, 127, 127, 127...  0.466928   0.178824   \n",
       "75     [[[127, 127, 127, 127, 127, 127, 127, 127, 127...  0.430501  -0.192070   \n",
       "76     [[[127, 127, 127, 127, 127, 127, 127, 127, 127...  5.185885  11.623536   \n",
       "...                                                  ...       ...        ...   \n",
       "58415  [[[127, 127, 127, 127, 127, 127, 127, 127, 127... -0.556340   0.054641   \n",
       "58416  [[[127, 127, 127, 127, 127, 127, 127, 127, 127... -0.445072   0.043712   \n",
       "58417  [[[127, 127, 127, 127, 127, 127, 127, 127, 127... -0.370893   0.036427   \n",
       "58418  [[[127, 127, 127, 127, 100, 127, 127, 127, 127... -0.184501   0.082316   \n",
       "58419  [[[127, 127, 127, 127, 100, 127, 127, 127, 127... -0.161438   0.072026   \n",
       "\n",
       "      classification  traversed_distance  frame_diff  cluster gt_label  \n",
       "72              fish           40.155328       122.0        0    noise  \n",
       "73              fish           40.155328       122.0        0    noise  \n",
       "74              fish           40.155328       122.0        0    noise  \n",
       "75              fish           40.155328       122.0        0    noise  \n",
       "76              fish           40.155328       122.0        0    noise  \n",
       "...              ...                 ...         ...      ...      ...  \n",
       "58415           fish           68.526912       125.0        0    noise  \n",
       "58416           fish           68.526912       125.0        0    noise  \n",
       "58417           fish           68.526912       125.0        0    noise  \n",
       "58418           fish           68.526912       125.0        0    noise  \n",
       "58419           fish           68.526912       125.0        0    noise  \n",
       "\n",
       "[8324 rows x 17 columns]"
      ]
     },
     "execution_count": 63,
     "metadata": {},
     "output_type": "execute_result"
    }
   ],
   "source": [
    "gen.measurements[0]"
   ]
  },
  {
   "cell_type": "markdown",
   "metadata": {},
   "source": [
    "# Compare features and patches"
   ]
  },
  {
   "cell_type": "code",
   "execution_count": null,
   "metadata": {},
   "outputs": [],
   "source": [
    "# extract random samples of patches from trajectories and calculate features for them\n",
    "\n",
    "# logistic regression based on some features"
   ]
  },
  {
   "cell_type": "markdown",
   "metadata": {},
   "source": [
    "**PLOT PATHS**"
   ]
  },
  {
   "cell_type": "code",
   "execution_count": 43,
   "metadata": {
    "ExecuteTime": {
     "end_time": "2024-02-14T09:29:01.142402Z",
     "start_time": "2024-02-14T09:29:01.137019Z"
    },
    "collapsed": false
   },
   "outputs": [],
   "source": [
    "def plot_path(identifier, data, alpha, color):\n",
    "    ylim=[270, 0] \n",
    "    xlim=[0, 480]\n",
    "    plt.plot(data.loc[data.id == identifier, \"x\"], data.loc[data.id == identifier, \"y\"], alpha=alpha, color=color)\n",
    "    plt.xlim(xlim)\n",
    "    plt.ylim(ylim)"
   ]
  },
  {
   "cell_type": "code",
   "execution_count": 135,
   "metadata": {
    "ExecuteTime": {
     "end_time": "2024-02-14T09:29:02.685255Z",
     "start_time": "2024-02-14T09:29:02.676179Z"
    },
    "collapsed": false
   },
   "outputs": [],
   "source": [
    "identifier_counts = model_detections.id.value_counts()"
   ]
  },
  {
   "cell_type": "code",
   "execution_count": 136,
   "metadata": {
    "ExecuteTime": {
     "end_time": "2024-02-14T09:29:05.099993Z",
     "start_time": "2024-02-14T09:29:05.093743Z"
    },
    "collapsed": false
   },
   "outputs": [],
   "source": [
    "filtered_df = model_detections[model_detections['id'].isin(identifier_counts[identifier_counts >= 20].index)]"
   ]
  },
  {
   "cell_type": "code",
   "execution_count": 137,
   "metadata": {
    "ExecuteTime": {
     "end_time": "2024-02-14T09:29:05.635138Z",
     "start_time": "2024-02-14T09:29:05.628069Z"
    },
    "collapsed": false
   },
   "outputs": [],
   "source": [
    "filtered_twice = filtered_df\n",
    "#filtered_twice = filtered_df[filtered_df['id'].isin(identifier_counts[identifier_counts <= 360].index)]"
   ]
  },
  {
   "cell_type": "code",
   "execution_count": 138,
   "metadata": {
    "ExecuteTime": {
     "end_time": "2024-02-14T09:29:06.407918Z",
     "start_time": "2024-02-14T09:29:06.379222Z"
    },
    "collapsed": false
   },
   "outputs": [],
   "source": [
    "def get_path(identifier, data):\n",
    "    return data.loc[data.id == identifier, [\"x\", \"y\"]].to_numpy()\n",
    "\n",
    "paths = []\n",
    "paths_identifiers = []\n",
    "\n",
    "for identifier in filtered_twice[\"id\"].unique():\n",
    "    path = get_path(identifier, filtered_df)\n",
    "    paths.append(path)\n",
    "    paths_identifiers.append(identifier)\n"
   ]
  },
  {
   "cell_type": "code",
   "execution_count": 139,
   "metadata": {
    "ExecuteTime": {
     "end_time": "2024-02-14T09:29:07.617678Z",
     "start_time": "2024-02-14T09:29:07.611429Z"
    },
    "collapsed": false
   },
   "outputs": [
    {
     "data": {
      "text/plain": [
       "[483,\n",
       " 1619,\n",
       " 1683,\n",
       " 1970,\n",
       " 2427,\n",
       " 2688,\n",
       " 2693,\n",
       " 2760,\n",
       " 2871,\n",
       " 2875,\n",
       " 2984,\n",
       " 3062,\n",
       " 3064,\n",
       " 3229,\n",
       " 3242,\n",
       " 3514,\n",
       " 3674,\n",
       " 4042,\n",
       " 4474,\n",
       " 4760,\n",
       " 5231,\n",
       " 5640,\n",
       " 5768,\n",
       " 5799,\n",
       " 5904,\n",
       " 5936,\n",
       " 6110,\n",
       " 6326,\n",
       " 6735,\n",
       " 7011,\n",
       " 7082,\n",
       " 7312,\n",
       " 7602,\n",
       " 7950,\n",
       " 8572,\n",
       " 8807,\n",
       " 8988,\n",
       " 9362,\n",
       " 9389,\n",
       " 9420,\n",
       " 9500,\n",
       " 9612,\n",
       " 9619,\n",
       " 9689,\n",
       " 9692,\n",
       " 9712,\n",
       " 9747,\n",
       " 9765,\n",
       " 10193,\n",
       " 10281,\n",
       " 10588,\n",
       " 10695,\n",
       " 10760,\n",
       " 10780,\n",
       " 11263,\n",
       " 11579,\n",
       " 12307,\n",
       " 12394,\n",
       " 12484,\n",
       " 12931,\n",
       " 12943]"
      ]
     },
     "execution_count": 139,
     "metadata": {},
     "output_type": "execute_result"
    }
   ],
   "source": [
    "paths_identifiers"
   ]
  },
  {
   "cell_type": "code",
   "execution_count": 140,
   "metadata": {
    "ExecuteTime": {
     "end_time": "2024-02-14T09:29:08.234343Z",
     "start_time": "2024-02-14T09:29:08.226137Z"
    },
    "collapsed": false
   },
   "outputs": [],
   "source": [
    "def z_standardize(path):\n",
    "    mean = np.mean(path, axis=0)\n",
    "    std = np.std(path, axis=0)\n",
    "    return (path - mean) / std"
   ]
  },
  {
   "cell_type": "code",
   "execution_count": 141,
   "metadata": {
    "ExecuteTime": {
     "end_time": "2024-02-14T09:29:09.072005Z",
     "start_time": "2024-02-14T09:29:09.063373Z"
    },
    "collapsed": false
   },
   "outputs": [],
   "source": [
    "standardized_paths = [z_standardize(path) for path in paths]"
   ]
  },
  {
   "cell_type": "code",
   "execution_count": 142,
   "metadata": {
    "ExecuteTime": {
     "end_time": "2024-02-14T09:29:09.569214Z",
     "start_time": "2024-02-14T09:29:09.560984Z"
    },
    "collapsed": false
   },
   "outputs": [],
   "source": [
    "from dtaidistance import dtw_ndim\n",
    "\n",
    "from dtaidistance import dtw, clustering\n"
   ]
  },
  {
   "cell_type": "code",
   "execution_count": 143,
   "metadata": {
    "ExecuteTime": {
     "end_time": "2024-02-14T09:29:10.092276Z",
     "start_time": "2024-02-14T09:29:10.083894Z"
    },
    "collapsed": false
   },
   "outputs": [],
   "source": [
    "hier = clustering.Hierarchical(dtw_ndim.distance_matrix, dists_options={\"window\": 40})"
   ]
  },
  {
   "cell_type": "code",
   "execution_count": 144,
   "metadata": {
    "ExecuteTime": {
     "end_time": "2024-02-14T09:29:10.706182Z",
     "start_time": "2024-02-14T09:29:10.697745Z"
    },
    "collapsed": false
   },
   "outputs": [],
   "source": [
    "hier_tree = clustering.HierarchicalTree(hier)"
   ]
  },
  {
   "cell_type": "code",
   "execution_count": 145,
   "metadata": {
    "ExecuteTime": {
     "end_time": "2024-02-14T09:32:26.874076Z",
     "start_time": "2024-02-14T09:29:11.312233Z"
    },
    "collapsed": false
   },
   "outputs": [],
   "source": [
    "fitting_result = hier_tree.fit(standardized_paths)"
   ]
  },
  {
   "cell_type": "code",
   "execution_count": 73,
   "metadata": {
    "ExecuteTime": {
     "end_time": "2024-02-14T08:13:05.906606Z",
     "start_time": "2024-02-14T08:13:05.896728Z"
    },
    "collapsed": false
   },
   "outputs": [
    {
     "data": {
      "text/plain": [
       "{0: {0,\n",
       "  1,\n",
       "  2,\n",
       "  3,\n",
       "  4,\n",
       "  5,\n",
       "  6,\n",
       "  7,\n",
       "  8,\n",
       "  9,\n",
       "  10,\n",
       "  11,\n",
       "  12,\n",
       "  13,\n",
       "  14,\n",
       "  15,\n",
       "  16,\n",
       "  17,\n",
       "  18,\n",
       "  19,\n",
       "  20,\n",
       "  21,\n",
       "  22,\n",
       "  23,\n",
       "  24,\n",
       "  25,\n",
       "  26,\n",
       "  27,\n",
       "  28,\n",
       "  29,\n",
       "  30,\n",
       "  31,\n",
       "  32,\n",
       "  33,\n",
       "  34}}"
      ]
     },
     "execution_count": 73,
     "metadata": {},
     "output_type": "execute_result"
    }
   ],
   "source": [
    "fitting_result"
   ]
  },
  {
   "cell_type": "code",
   "execution_count": 146,
   "metadata": {
    "ExecuteTime": {
     "end_time": "2024-02-14T09:39:31.077748Z",
     "start_time": "2024-02-14T09:39:31.059608Z"
    },
    "collapsed": false
   },
   "outputs": [
    {
     "data": {
      "text/plain": [
       "[(42, 10, 0.3150674637738828, 0),\n",
       " (46, 11, 0.6224777187106855, 0),\n",
       " (62, 61, 0.8495667964397283, 0),\n",
       " (41, 32, 0.9018444363115276, 0),\n",
       " (64, 16, 1.1169773008345472, 0),\n",
       " (38, 63, 1.1286198477186027, 0),\n",
       " (37, 66, 1.6856513538155147, 0),\n",
       " (26, 67, 1.699918519638672, 0),\n",
       " (40, 27, 2.1913276109075808, 0),\n",
       " (31, 65, 2.730511469176569, 0),\n",
       " (45, 70, 2.816317687753955, 0),\n",
       " (69, 14, 3.0476147930312525, 0),\n",
       " (71, 15, 3.1299814858799375, 0),\n",
       " (56, 47, 3.4736388852440214, 0),\n",
       " (54, 36, 3.5094698909225843, 0),\n",
       " (74, 75, 4.6384418405936385, 0),\n",
       " (18, 68, 4.702891169570101, 0),\n",
       " (21, 73, 4.855332233773589, 0),\n",
       " (52, 23, 4.864974625935046, 0),\n",
       " (51, 12, 5.4944080994282745, 0),\n",
       " (39, 77, 5.69408741226771, 0),\n",
       " (22, 17, 5.8927746426858665, 0),\n",
       " (19, 4, 6.27770638156315, 0),\n",
       " (82, 72, 6.394890646631817, 0),\n",
       " (44, 78, 6.4139289040402865, 0),\n",
       " (53, 49, 6.627627740356647, 0),\n",
       " (30, 29, 6.756760771970712, 0),\n",
       " (59, 5, 7.720056640702918, 0),\n",
       " (60, 85, 7.834417408765528, 0),\n",
       " (88, 0, 7.907171780337212, 0),\n",
       " (81, 7, 8.082074408639397, 0),\n",
       " (84, 91, 8.17414024344696, 0),\n",
       " (92, 90, 8.513680907958769, 0),\n",
       " (86, 35, 8.584428382002924, 0),\n",
       " (76, 79, 8.865829191154726, 0),\n",
       " (24, 95, 9.26704503867737, 0),\n",
       " (89, 8, 9.558695164895138, 0),\n",
       " (58, 80, 9.90075632083427, 0),\n",
       " (34, 9, 10.514168500364992, 0),\n",
       " (28, 97, 10.610350341625784, 0),\n",
       " (100, 83, 11.170351615173363, 0),\n",
       " (57, 50, 11.493833736421408, 0),\n",
       " (25, 96, 11.54532619776852, 0),\n",
       " (98, 99, 11.566996416349975, 0),\n",
       " (103, 101, 11.760085612077662, 0),\n",
       " (102, 105, 12.039748474200394, 0),\n",
       " (87, 93, 12.411844441826549, 0),\n",
       " (104, 106, 13.269740175706529, 0),\n",
       " (55, 94, 14.949480462853902, 0),\n",
       " (13, 107, 16.06451117110825, 0),\n",
       " (109, 108, 16.12398694084804, 0),\n",
       " (111, 110, 17.455976086446608, 0),\n",
       " (48, 112, 18.434008833626823, 0),\n",
       " (33, 113, 19.3902850233528, 0),\n",
       " (3, 114, 19.643830696058913, 0),\n",
       " (6, 1, 21.723239852069494, 0),\n",
       " (116, 115, 23.289391232399176, 0),\n",
       " (2, 117, 34.90989424420677, 0),\n",
       " (43, 20, 39.65363759525806, 0),\n",
       " (119, 118, 48.32014516825971, 0)]"
      ]
     },
     "execution_count": 146,
     "metadata": {},
     "output_type": "execute_result"
    }
   ],
   "source": [
    "hier_tree.linkage"
   ]
  },
  {
   "cell_type": "code",
   "execution_count": 147,
   "metadata": {
    "ExecuteTime": {
     "end_time": "2024-02-14T09:39:34.168321Z",
     "start_time": "2024-02-14T09:39:34.161835Z"
    },
    "collapsed": false
   },
   "outputs": [],
   "source": [
    "from scipy.cluster.hierarchy import dendrogram"
   ]
  },
  {
   "cell_type": "code",
   "execution_count": 148,
   "metadata": {
    "ExecuteTime": {
     "end_time": "2024-02-14T09:39:34.639383Z",
     "start_time": "2024-02-14T09:39:34.631283Z"
    },
    "collapsed": false
   },
   "outputs": [
    {
     "data": {
      "text/plain": [
       "61"
      ]
     },
     "execution_count": 148,
     "metadata": {},
     "output_type": "execute_result"
    }
   ],
   "source": [
    "len(paths)"
   ]
  },
  {
   "cell_type": "code",
   "execution_count": 149,
   "metadata": {
    "ExecuteTime": {
     "end_time": "2024-02-14T09:39:35.314639Z",
     "start_time": "2024-02-14T09:39:35.310220Z"
    },
    "collapsed": false
   },
   "outputs": [
    {
     "data": {
      "text/plain": [
       "[(42, 10, 0.3150674637738828, 0),\n",
       " (46, 11, 0.6224777187106855, 0),\n",
       " (62, 61, 0.8495667964397283, 0),\n",
       " (41, 32, 0.9018444363115276, 0),\n",
       " (64, 16, 1.1169773008345472, 0),\n",
       " (38, 63, 1.1286198477186027, 0),\n",
       " (37, 66, 1.6856513538155147, 0),\n",
       " (26, 67, 1.699918519638672, 0),\n",
       " (40, 27, 2.1913276109075808, 0),\n",
       " (31, 65, 2.730511469176569, 0),\n",
       " (45, 70, 2.816317687753955, 0),\n",
       " (69, 14, 3.0476147930312525, 0),\n",
       " (71, 15, 3.1299814858799375, 0),\n",
       " (56, 47, 3.4736388852440214, 0),\n",
       " (54, 36, 3.5094698909225843, 0),\n",
       " (74, 75, 4.6384418405936385, 0),\n",
       " (18, 68, 4.702891169570101, 0),\n",
       " (21, 73, 4.855332233773589, 0),\n",
       " (52, 23, 4.864974625935046, 0),\n",
       " (51, 12, 5.4944080994282745, 0),\n",
       " (39, 77, 5.69408741226771, 0),\n",
       " (22, 17, 5.8927746426858665, 0),\n",
       " (19, 4, 6.27770638156315, 0),\n",
       " (82, 72, 6.394890646631817, 0),\n",
       " (44, 78, 6.4139289040402865, 0),\n",
       " (53, 49, 6.627627740356647, 0),\n",
       " (30, 29, 6.756760771970712, 0),\n",
       " (59, 5, 7.720056640702918, 0),\n",
       " (60, 85, 7.834417408765528, 0),\n",
       " (88, 0, 7.907171780337212, 0),\n",
       " (81, 7, 8.082074408639397, 0),\n",
       " (84, 91, 8.17414024344696, 0),\n",
       " (92, 90, 8.513680907958769, 0),\n",
       " (86, 35, 8.584428382002924, 0),\n",
       " (76, 79, 8.865829191154726, 0),\n",
       " (24, 95, 9.26704503867737, 0),\n",
       " (89, 8, 9.558695164895138, 0),\n",
       " (58, 80, 9.90075632083427, 0),\n",
       " (34, 9, 10.514168500364992, 0),\n",
       " (28, 97, 10.610350341625784, 0),\n",
       " (100, 83, 11.170351615173363, 0),\n",
       " (57, 50, 11.493833736421408, 0),\n",
       " (25, 96, 11.54532619776852, 0),\n",
       " (98, 99, 11.566996416349975, 0),\n",
       " (103, 101, 11.760085612077662, 0),\n",
       " (102, 105, 12.039748474200394, 0),\n",
       " (87, 93, 12.411844441826549, 0),\n",
       " (104, 106, 13.269740175706529, 0),\n",
       " (55, 94, 14.949480462853902, 0),\n",
       " (13, 107, 16.06451117110825, 0),\n",
       " (109, 108, 16.12398694084804, 0),\n",
       " (111, 110, 17.455976086446608, 0),\n",
       " (48, 112, 18.434008833626823, 0),\n",
       " (33, 113, 19.3902850233528, 0),\n",
       " (3, 114, 19.643830696058913, 0),\n",
       " (6, 1, 21.723239852069494, 0),\n",
       " (116, 115, 23.289391232399176, 0),\n",
       " (2, 117, 34.90989424420677, 0),\n",
       " (43, 20, 39.65363759525806, 0),\n",
       " (119, 118, 48.32014516825971, 0)]"
      ]
     },
     "execution_count": 149,
     "metadata": {},
     "output_type": "execute_result"
    }
   ],
   "source": [
    "hier_tree.linkage"
   ]
  },
  {
   "cell_type": "code",
   "execution_count": 2,
   "metadata": {
    "ExecuteTime": {
     "end_time": "2024-02-15T14:12:57.002878Z",
     "start_time": "2024-02-15T14:12:56.961714Z"
    },
    "collapsed": false
   },
   "outputs": [
    {
     "ename": "NameError",
     "evalue": "name 'plt' is not defined",
     "output_type": "error",
     "traceback": [
      "\u001B[0;31m---------------------------------------------------------------------------\u001B[0m",
      "\u001B[0;31mNameError\u001B[0m                                 Traceback (most recent call last)",
      "Cell \u001B[0;32mIn[2], line 1\u001B[0m\n\u001B[0;32m----> 1\u001B[0m \u001B[43mplt\u001B[49m\u001B[38;5;241m.\u001B[39mfigure(figsize\u001B[38;5;241m=\u001B[39m(\u001B[38;5;241m25\u001B[39m, \u001B[38;5;241m10\u001B[39m))\n\u001B[1;32m      3\u001B[0m dendrogram(hier_tree\u001B[38;5;241m.\u001B[39mlinkage, labels\u001B[38;5;241m=\u001B[39mfiltered_twice[\u001B[38;5;124m\"\u001B[39m\u001B[38;5;124mid\u001B[39m\u001B[38;5;124m\"\u001B[39m]\u001B[38;5;241m.\u001B[39munique(), truncate_mode\u001B[38;5;241m=\u001B[39m\u001B[38;5;124m'\u001B[39m\u001B[38;5;124mlastp\u001B[39m\u001B[38;5;124m'\u001B[39m,  \u001B[38;5;66;03m# show only the last p merged clusters\u001B[39;00m\n\u001B[1;32m      4\u001B[0m     p\u001B[38;5;241m=\u001B[39m\u001B[38;5;241m12\u001B[39m,  \u001B[38;5;66;03m# show only the last p merged clusters\u001B[39;00m\n\u001B[1;32m      5\u001B[0m     show_leaf_counts\u001B[38;5;241m=\u001B[39m\u001B[38;5;28;01mFalse\u001B[39;00m,  \u001B[38;5;66;03m# otherwise numbers in brackets are counts\u001B[39;00m\n\u001B[1;32m      6\u001B[0m     leaf_rotation\u001B[38;5;241m=\u001B[39m\u001B[38;5;241m90.\u001B[39m,\n\u001B[1;32m      7\u001B[0m     leaf_font_size\u001B[38;5;241m=\u001B[39m\u001B[38;5;241m12.\u001B[39m,\n\u001B[1;32m      8\u001B[0m     show_contracted\u001B[38;5;241m=\u001B[39m\u001B[38;5;28;01mTrue\u001B[39;00m, )\n\u001B[1;32m      9\u001B[0m plt\u001B[38;5;241m.\u001B[39msavefig(\u001B[38;5;124m'\u001B[39m\u001B[38;5;124mwat.png\u001B[39m\u001B[38;5;124m'\u001B[39m)\n",
      "\u001B[0;31mNameError\u001B[0m: name 'plt' is not defined"
     ]
    }
   ],
   "source": [
    "plt.figure(figsize=(25, 10))\n",
    "\n",
    "dendrogram(hier_tree.linkage, labels=filtered_twice[\"id\"].unique(), truncate_mode='lastp',  # show only the last p merged clusters\n",
    "    p=12,  # show only the last p merged clusters\n",
    "    show_leaf_counts=False,  # otherwise numbers in brackets are counts\n",
    "    leaf_rotation=90.,\n",
    "    leaf_font_size=12.,\n",
    "    show_contracted=True, )\n",
    "plt.savefig('wat.png')\n"
   ]
  },
  {
   "cell_type": "code",
   "execution_count": 79,
   "metadata": {
    "ExecuteTime": {
     "end_time": "2024-02-14T08:13:15.098725Z",
     "start_time": "2024-02-14T08:13:06.276429Z"
    },
    "collapsed": false
   },
   "outputs": [
    {
     "name": "stdout",
     "output_type": "stream",
     "text": [
      "{}\n",
      "14.874085979527512\n"
     ]
    }
   ],
   "source": [
    "wat = clustering.KMeans(k=2).fit(standardized_paths)"
   ]
  },
  {
   "cell_type": "code",
   "execution_count": 80,
   "metadata": {
    "ExecuteTime": {
     "end_time": "2024-02-14T08:13:15.101761Z",
     "start_time": "2024-02-14T08:13:15.095201Z"
    },
    "collapsed": false
   },
   "outputs": [
    {
     "data": {
      "text/plain": [
       "({0: {0,\n",
       "   2,\n",
       "   3,\n",
       "   4,\n",
       "   6,\n",
       "   7,\n",
       "   8,\n",
       "   10,\n",
       "   12,\n",
       "   13,\n",
       "   15,\n",
       "   16,\n",
       "   17,\n",
       "   20,\n",
       "   21,\n",
       "   23,\n",
       "   24,\n",
       "   26,\n",
       "   27,\n",
       "   28,\n",
       "   29,\n",
       "   31,\n",
       "   32,\n",
       "   33},\n",
       "  1: {1, 5, 9, 11, 14, 18, 19, 22, 25, 30, 34}},\n",
       " 3)"
      ]
     },
     "execution_count": 80,
     "metadata": {},
     "output_type": "execute_result"
    }
   ],
   "source": [
    "wat"
   ]
  },
  {
   "cell_type": "code",
   "execution_count": 151,
   "metadata": {
    "ExecuteTime": {
     "end_time": "2024-02-14T09:39:50.369701Z",
     "start_time": "2024-02-14T09:39:50.360107Z"
    },
    "collapsed": false
   },
   "outputs": [],
   "source": [
    "medoids = clustering.KMedoids(dtw_ndim.distance_matrix, dists_options={\"window\": 40}, k=2)"
   ]
  },
  {
   "cell_type": "code",
   "execution_count": 152,
   "metadata": {
    "ExecuteTime": {
     "end_time": "2024-02-14T09:43:09.250273Z",
     "start_time": "2024-02-14T09:39:51.722815Z"
    },
    "collapsed": false
   },
   "outputs": [],
   "source": [
    "med_result = medoids.fit(standardized_paths)"
   ]
  },
  {
   "cell_type": "code",
   "execution_count": 153,
   "metadata": {
    "ExecuteTime": {
     "end_time": "2024-02-14T09:46:05.498581Z",
     "start_time": "2024-02-14T09:46:05.481689Z"
    },
    "collapsed": false
   },
   "outputs": [
    {
     "data": {
      "text/plain": [
       "{10: {2,\n",
       "  3,\n",
       "  5,\n",
       "  7,\n",
       "  10,\n",
       "  11,\n",
       "  13,\n",
       "  14,\n",
       "  17,\n",
       "  18,\n",
       "  23,\n",
       "  24,\n",
       "  25,\n",
       "  26,\n",
       "  27,\n",
       "  29,\n",
       "  30,\n",
       "  33,\n",
       "  37,\n",
       "  38,\n",
       "  39,\n",
       "  42,\n",
       "  46,\n",
       "  47,\n",
       "  52,\n",
       "  56,\n",
       "  57,\n",
       "  59},\n",
       " 32: {0,\n",
       "  1,\n",
       "  4,\n",
       "  6,\n",
       "  8,\n",
       "  9,\n",
       "  12,\n",
       "  15,\n",
       "  16,\n",
       "  19,\n",
       "  20,\n",
       "  21,\n",
       "  22,\n",
       "  28,\n",
       "  31,\n",
       "  32,\n",
       "  34,\n",
       "  35,\n",
       "  36,\n",
       "  40,\n",
       "  41,\n",
       "  43,\n",
       "  44,\n",
       "  45,\n",
       "  48,\n",
       "  49,\n",
       "  50,\n",
       "  51,\n",
       "  53,\n",
       "  54,\n",
       "  55,\n",
       "  58,\n",
       "  60}}"
      ]
     },
     "execution_count": 153,
     "metadata": {},
     "output_type": "execute_result"
    }
   ],
   "source": [
    "med_result"
   ]
  },
  {
   "cell_type": "code",
   "execution_count": 154,
   "metadata": {
    "ExecuteTime": {
     "end_time": "2024-02-14T09:46:13.352804Z",
     "start_time": "2024-02-14T09:46:13.342613Z"
    },
    "collapsed": false
   },
   "outputs": [
    {
     "data": {
      "text/plain": [
       "dict_keys([10, 32])"
      ]
     },
     "execution_count": 154,
     "metadata": {},
     "output_type": "execute_result"
    }
   ],
   "source": [
    "med_result.keys()"
   ]
  },
  {
   "cell_type": "code",
   "execution_count": 84,
   "metadata": {
    "ExecuteTime": {
     "end_time": "2024-02-14T08:13:31.586994Z",
     "start_time": "2024-02-14T08:13:31.582680Z"
    },
    "collapsed": false
   },
   "outputs": [],
   "source": []
  },
  {
   "cell_type": "code",
   "execution_count": 155,
   "metadata": {
    "ExecuteTime": {
     "end_time": "2024-02-14T09:46:18.915226Z",
     "start_time": "2024-02-14T09:46:18.909497Z"
    },
    "collapsed": false
   },
   "outputs": [],
   "source": [
    "new_fish = []\n",
    "clusters = wat[0]\n",
    "for i, identifier in enumerate(paths_identifiers):\n",
    "    if i in clusters.get(1, []):\n",
    "        new_fish.append(identifier)"
   ]
  },
  {
   "cell_type": "code",
   "execution_count": 224,
   "metadata": {
    "ExecuteTime": {
     "end_time": "2024-02-14T14:33:24.181990Z",
     "start_time": "2024-02-14T14:33:24.144349Z"
    },
    "collapsed": false
   },
   "outputs": [],
   "source": [
    "def plot_path_numpy(data, alpha, color, text=\"\"):\n",
    "    ylim=[270, 0] \n",
    "    xlim=[0, 480]\n",
    "    plt.plot(data[:,0], data[:,1], alpha=alpha, color=color)\n",
    "    plt.text(x = data[0,0],y = data[0,1],s=text)\n",
    "    plt.xlim(xlim)\n",
    "    plt.ylim(ylim)"
   ]
  },
  {
   "cell_type": "code",
   "execution_count": 171,
   "metadata": {
    "ExecuteTime": {
     "end_time": "2024-02-14T09:58:30.742263Z",
     "start_time": "2024-02-14T09:58:30.610685Z"
    },
    "collapsed": false
   },
   "outputs": [],
   "source": [
    "%matplotlib widget\n"
   ]
  },
  {
   "cell_type": "code",
   "execution_count": 225,
   "metadata": {
    "ExecuteTime": {
     "end_time": "2024-02-14T14:33:27.422324Z",
     "start_time": "2024-02-14T14:33:27.412105Z"
    },
    "collapsed": false
   },
   "outputs": [],
   "source": [
    "plt.close()"
   ]
  },
  {
   "cell_type": "code",
   "execution_count": 226,
   "metadata": {
    "ExecuteTime": {
     "end_time": "2024-02-14T14:33:28.931117Z",
     "start_time": "2024-02-14T14:33:27.782296Z"
    },
    "collapsed": false
   },
   "outputs": [
    {
     "data": {
      "application/vnd.jupyter.widget-view+json": {
       "model_id": "5d4ea0ab4eec4050b2c46bedae1eed9b",
       "version_major": 2,
       "version_minor": 0
      },
      "image/png": "[encoded data removed]",
      "text/html": [
       "\n",
       "            <div style=\"display: inline-block;\">\n",
       "                <div class=\"jupyter-widgets widget-label\" style=\"text-align: center;\">\n",
       "                    Figure\n",
       "                </div>\n",
       "                <img src='data:image/png;base64,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' width=640.0/>\n",
       "            </div>\n",
       "        "
      ],
      "text/plain": [
       "Canvas(toolbar=Toolbar(toolitems=[('Home', 'Reset original view', 'home', 'home'), ('Back', 'Back to previous …"
      ]
     },
     "metadata": {},
     "output_type": "display_data"
    }
   ],
   "source": [
    "clusters = med_result\n",
    "#clusters = wat[0]\n",
    "for i in range(0, len(paths)):\n",
    "    if i in clusters.get(10):\n",
    "        color = \"red\"\n",
    "    if i in clusters.get(32):\n",
    "        color = \"blue\"\n",
    "    #if i in clusters.get(0, []):\n",
    "    #    color = \"red\"\n",
    "    #if i in clusters.get(1, []):\n",
    "    #    color = \"blue\"\n",
    "    #if i in clusters.get(2, []):\n",
    "    #    color = \"green\"\n",
    "    #if i in clusters.get(3, []):\n",
    "    #    color = \"yellow\"\n",
    "    distance = dtw_ndim.distance(standardized_paths[i], standardized_paths[10], window=40)  if i % 2== 0 else \"\"\n",
    "   # distance = \"\"\n",
    "\n",
    "    plot_path_numpy(paths[i], 1, color, distance)"
   ]
  },
  {
   "cell_type": "code",
   "execution_count": 174,
   "metadata": {
    "ExecuteTime": {
     "end_time": "2024-02-14T10:00:14.795191Z",
     "start_time": "2024-02-14T10:00:14.790353Z"
    },
    "collapsed": false
   },
   "outputs": [],
   "source": [
    "plot_path_numpy(paths[10], 1, \"yellow\")"
   ]
  },
  {
   "cell_type": "code",
   "execution_count": null,
   "metadata": {
    "ExecuteTime": {
     "start_time": "2024-02-14T08:13:31.619098Z"
    },
    "collapsed": false
   },
   "outputs": [],
   "source": [
    "plot_path_numpy(paths[53], 1, \"red\")"
   ]
  },
  {
   "cell_type": "code",
   "execution_count": null,
   "metadata": {
    "ExecuteTime": {
     "start_time": "2024-02-14T08:13:31.621268Z"
    },
    "collapsed": false
   },
   "outputs": [],
   "source": [
    "plot_path_numpy(paths[14], 0.2, \"blue\")"
   ]
  },
  {
   "cell_type": "code",
   "execution_count": null,
   "metadata": {
    "ExecuteTime": {
     "start_time": "2024-02-14T08:13:31.623387Z"
    },
    "collapsed": false
   },
   "outputs": [],
   "source": [
    "standardized_paths[14]"
   ]
  },
  {
   "cell_type": "code",
   "execution_count": null,
   "metadata": {
    "ExecuteTime": {
     "start_time": "2024-02-14T08:13:31.626035Z"
    },
    "collapsed": false
   },
   "outputs": [],
   "source": [
    "plt.plot(standardized_paths[14][:,0], standardized_paths[14][:,1], alpha=1, color=fish_color)\n"
   ]
  },
  {
   "cell_type": "code",
   "execution_count": null,
   "metadata": {
    "ExecuteTime": {
     "start_time": "2024-02-14T08:13:31.628074Z"
    },
    "collapsed": false
   },
   "outputs": [],
   "source": [
    "plt.plot(standardized_paths[15][:,0], standardized_paths[15][:,1], alpha=1, color=fish_color)\n"
   ]
  },
  {
   "cell_type": "code",
   "execution_count": null,
   "metadata": {
    "ExecuteTime": {
     "start_time": "2024-02-14T08:13:31.630193Z"
    },
    "collapsed": false
   },
   "outputs": [],
   "source": [
    "plt.plot(ground_truth[\"x\"], ground_truth[\"y\"], alpha=alpha, color=fish_color)\n"
   ]
  },
  {
   "cell_type": "code",
   "execution_count": null,
   "metadata": {
    "ExecuteTime": {
     "start_time": "2024-02-14T08:13:31.632399Z"
    },
    "collapsed": false
   },
   "outputs": [],
   "source": [
    "len(paths)"
   ]
  },
  {
   "cell_type": "code",
   "execution_count": null,
   "metadata": {
    "ExecuteTime": {
     "start_time": "2024-02-14T08:13:31.634783Z"
    },
    "collapsed": false
   },
   "outputs": [],
   "source": [
    "get_path(13410, model_detections)"
   ]
  },
  {
   "cell_type": "code",
   "execution_count": null,
   "metadata": {
    "ExecuteTime": {
     "start_time": "2024-02-14T08:13:31.637086Z"
    },
    "collapsed": false
   },
   "outputs": [],
   "source": [
    "path = model_detections[model_detections['id']==13410][[\"x\", \"y\"]].to_numpy()"
   ]
  },
  {
   "cell_type": "code",
   "execution_count": null,
   "metadata": {
    "ExecuteTime": {
     "start_time": "2024-02-14T08:13:31.639754Z"
    },
    "collapsed": false
   },
   "outputs": [],
   "source": [
    "another_path = model_detections[model_detections['id']==14868][[\"x\", \"y\"]].to_numpy()\n"
   ]
  },
  {
   "cell_type": "code",
   "execution_count": null,
   "metadata": {
    "ExecuteTime": {
     "start_time": "2024-02-14T08:13:31.642106Z"
    },
    "collapsed": false
   },
   "outputs": [],
   "source": [
    "another_path.shape"
   ]
  },
  {
   "cell_type": "code",
   "execution_count": null,
   "metadata": {
    "ExecuteTime": {
     "start_time": "2024-02-14T08:13:31.643854Z"
    },
    "collapsed": false
   },
   "outputs": [],
   "source": [
    "dtw_ndim.distance(path, another_path)"
   ]
  },
  {
   "cell_type": "code",
   "execution_count": null,
   "metadata": {
    "ExecuteTime": {
     "start_time": "2024-02-14T08:13:31.645634Z"
    },
    "collapsed": false
   },
   "outputs": [],
   "source": [
    "dtw_ndim.distance(path, path)\n"
   ]
  },
  {
   "cell_type": "code",
   "execution_count": null,
   "metadata": {
    "ExecuteTime": {
     "start_time": "2024-02-14T08:13:31.647847Z"
    },
    "collapsed": false
   },
   "outputs": [],
   "source": [
    "path.shape"
   ]
  },
  {
   "cell_type": "code",
   "execution_count": null,
   "metadata": {
    "ExecuteTime": {
     "start_time": "2024-02-14T08:13:31.649638Z"
    },
    "collapsed": false
   },
   "outputs": [],
   "source": [
    "import numpy as np"
   ]
  },
  {
   "cell_type": "code",
   "execution_count": null,
   "metadata": {
    "ExecuteTime": {
     "start_time": "2024-02-14T08:13:31.651060Z"
    },
    "collapsed": false
   },
   "outputs": [],
   "source": [
    "series1 = np.array([[0, 0],  # first point at t=0\n",
    "                    [0, 1],  # second point at t=1\n",
    "                    [2, 1],\n",
    "                    [0, 1],\n",
    "                    [0, 0]], dtype=np.double)\n"
   ]
  },
  {
   "cell_type": "code",
   "execution_count": null,
   "metadata": {
    "ExecuteTime": {
     "start_time": "2024-02-14T08:13:31.652380Z"
    },
    "collapsed": false
   },
   "outputs": [],
   "source": []
  },
  {
   "cell_type": "markdown",
   "metadata": {
    "collapsed": false
   },
   "source": [
    "## Tested until here with new code"
   ]
  },
  {
   "cell_type": "code",
   "execution_count": null,
   "metadata": {
    "ExecuteTime": {
     "start_time": "2024-02-14T08:13:31.653795Z"
    }
   },
   "outputs": [],
   "source": [
    "few_fish_night_csv = \"v2_output_02-23.csv\"\n",
    "many_fish_afternoon_csv = \"v2_output_16-46.csv\"\n",
    "few_fish = pd.read_csv(few_fish_night_csv, delimiter=\",\")\n",
    "many_fish = pd.read_csv(many_fish_afternoon_csv, delimiter=\",\")\n",
    "\n",
    "value_counts_few = pd.DataFrame(few_fish.ID.value_counts()).reset_index().rename(columns={\"index\": \"ID\", \"ID\": \"occurences\"})\n",
    "value_counts_many = pd.DataFrame(many_fish.ID.value_counts()).reset_index().rename(columns={\"index\": \"ID\", \"ID\": \"occurences\"})"
   ]
  },
  {
   "cell_type": "code",
   "execution_count": null,
   "metadata": {
    "ExecuteTime": {
     "start_time": "2024-02-14T08:13:31.655090Z"
    }
   },
   "outputs": [],
   "source": [
    "# value_counts_few.plot.bar(x='ID', y='occurences')\n",
    "value_counts_few.head(200)"
   ]
  },
  {
   "cell_type": "code",
   "execution_count": null,
   "metadata": {
    "ExecuteTime": {
     "start_time": "2024-02-14T08:13:31.656328Z"
    },
    "scrolled": false
   },
   "outputs": [],
   "source": [
    "amount = 100\n",
    "alpha = 0.3\n",
    "fish_color = \"red\"\n",
    "object_color = \"grey\"\n",
    "\n",
    "fig, [ax, ax1] = plt.subplots(nrows=2, ncols=1, sharex=True,  figsize=(10, 10))\n",
    "plt.gca().invert_yaxis()\n",
    "\n",
    "data = few_fish\n",
    "for object in value_counts_few.ID.tolist()[:amount]:\n",
    "    color = object_color\n",
    "    ax.plot(data.loc[data.ID == object, \"x\"], data.loc[data.ID == object, \"y\"], alpha=alpha, color=color)\n",
    "\n",
    "data = many_fish\n",
    "for object in value_counts_many.ID.tolist()[:amount]:\n",
    "    color = object_color\n",
    "    ax1.plot(data.loc[data.ID == object, \"x\"], data.loc[data.ID == object, \"y\"], alpha=alpha, color=color)\n",
    "\n",
    "\n",
    "ax.set(ylabel='y',\n",
    "       title=\"no fish \\n\" + few_fish_night_csv, ylim=[270, 0], xlim=[0, 480])\n",
    "ax1.set(xlabel='x', title=\"many fish \\n\" + many_fish_afternoon_csv, ylim=[270, 0], xlim=[0, 480])\n",
    "ax.set_aspect('equal', adjustable='box')\n",
    "ax1.set_aspect('equal', adjustable='box')\n",
    "fig.suptitle(f\"Paths of {amount} longest lasting objects\", fontsize=14)\n",
    "\n",
    "line1 = ax.plot([],[], color=fish_color, label='Fish')\n",
    "line2 = ax.plot([],[], color=object_color, label='Object')\n",
    "ax.legend()\n",
    "line1 = ax1.plot([],[], color=fish_color, label='Fish')\n",
    "line2 = ax1.plot([],[], color=object_color, label='Object')\n",
    "ax1.legend()\n",
    "\n",
    "plt.show()"
   ]
  },
  {
   "cell_type": "code",
   "execution_count": null,
   "metadata": {
    "ExecuteTime": {
     "start_time": "2024-02-14T08:13:31.657604Z"
    }
   },
   "outputs": [],
   "source": [
    "many_fish_min_50 = many_fish.loc[many_fish.ID.isin(value_counts_many.loc[value_counts_many[\"occurences\"]>50, \"ID\"])]"
   ]
  },
  {
   "cell_type": "code",
   "execution_count": null,
   "metadata": {
    "ExecuteTime": {
     "start_time": "2024-02-14T08:13:31.659071Z"
    }
   },
   "outputs": [],
   "source": [
    "many_fish_min_50.groupby(\"ID\").apply(lambda x: np.polyfit(x.x, x.y, deg=1)[0]).reset_index().sort_values(0).plot.hist(x=\"ID\", y=0, bins=50)"
   ]
  },
  {
   "cell_type": "code",
   "execution_count": null,
   "metadata": {
    "ExecuteTime": {
     "start_time": "2024-02-14T08:13:31.660581Z"
    }
   },
   "outputs": [],
   "source": []
  },
  {
   "cell_type": "code",
   "execution_count": null,
   "metadata": {
    "ExecuteTime": {
     "start_time": "2024-02-14T08:13:31.661957Z"
    }
   },
   "outputs": [],
   "source": [
    "few_fish_min_50 = few_fish.loc[few_fish.ID.isin(value_counts_few.loc[value_counts_few[\"occurences\"]>50, \"ID\"])]"
   ]
  },
  {
   "cell_type": "code",
   "execution_count": null,
   "metadata": {
    "ExecuteTime": {
     "start_time": "2024-02-14T08:13:31.663100Z"
    }
   },
   "outputs": [],
   "source": [
    "few_fish_min_50.groupby(\"ID\").apply(lambda x: np.polyfit(x.x, x.y, deg=1)[0]).reset_index().sort_values(0).plot.hist(x=\"ID\", y=0, bins=30)"
   ]
  },
  {
   "cell_type": "code",
   "execution_count": null,
   "metadata": {
    "ExecuteTime": {
     "start_time": "2024-02-14T08:13:31.664170Z"
    }
   },
   "outputs": [],
   "source": []
  }
 ],
 "metadata": {
  "kernelspec": {
   "display_name": "Python 3 (ipykernel)",
   "language": "python",
   "name": "python3"
  },
  "language_info": {
   "codemirror_mode": {
    "name": "ipython",
    "version": 3
   },
   "file_extension": ".py",
   "mimetype": "text/x-python",
   "name": "python",
   "nbconvert_exporter": "python",
   "pygments_lexer": "ipython3",
   "version": "3.10.10"
  }
 },
 "nbformat": 4,
 "nbformat_minor": 1
}
