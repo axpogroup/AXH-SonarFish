{
 "cells": [
  {
   "cell_type": "code",
   "execution_count": 26,
   "metadata": {
    "ExecuteTime": {
     "end_time": "2024-02-12T10:54:23.815546Z",
     "start_time": "2024-02-12T10:54:23.804586Z"
    }
   },
   "outputs": [],
   "source": [
    "import numpy as np\n",
    "import pandas as pd\n",
    "from matplotlib import pyplot as plt"
   ]
  },
  {
   "cell_type": "code",
   "execution_count": 27,
   "outputs": [],
   "source": [
    "from dtaidistance import dtw\n"
   ],
   "metadata": {
    "collapsed": false,
    "ExecuteTime": {
     "end_time": "2024-02-12T10:54:24.283119Z",
     "start_time": "2024-02-12T10:54:24.261785Z"
    }
   }
  },
  {
   "cell_type": "markdown",
   "metadata": {},
   "source": [
    "**Import Files**"
   ]
  },
  {
   "cell_type": "code",
   "execution_count": 30,
   "metadata": {
    "ExecuteTime": {
     "end_time": "2024-02-12T10:55:20.514680Z",
     "start_time": "2024-02-12T10:55:20.474022Z"
    }
   },
   "outputs": [],
   "source": [
    "model_output_csv_path = \"../../../data/model_output/2024-02-12T10-29+00-00_label/start_2023-06-27T04-09-06.935+00-00.csv\"\n",
    "\n",
    "model_detections = pd.read_csv(model_output_csv_path, delimiter=\",\")\n",
    "\n",
    "ground_truth_csv = \"../../../data/labels/start_2023-06-27T04-09-06.935+00-00_ground_truth.csv\"\n",
    "\n",
    "ground_truth = pd.read_csv(ground_truth_csv, delimiter=\",\")\n",
    "\n",
    "value_counts_model = pd.DataFrame(model_detections.id.value_counts()).reset_index().rename(columns={\"index\": \"id\", \"id\": \"occurences\"})\n",
    "\n",
    "value_counts_truth =  pd.DataFrame(ground_truth.id.value_counts()).reset_index().rename(columns={\"index\": \"id\", \"id\": \"occurences\"})"
   ]
  },
  {
   "cell_type": "code",
   "execution_count": 31,
   "outputs": [],
   "source": [
    "model_detections.to_csv(\"wat.csv\", index=False)"
   ],
   "metadata": {
    "collapsed": false,
    "ExecuteTime": {
     "end_time": "2024-02-12T10:55:21.902202Z",
     "start_time": "2024-02-12T10:55:21.836880Z"
    }
   }
  },
  {
   "cell_type": "code",
   "execution_count": 32,
   "outputs": [
    {
     "data": {
      "text/plain": "      id  occurences\n0   4370        1856\n1   1700         546\n2   8457         406\n3   9591         351\n4   1656         339\n..   ...         ...\n62  3101          34\n63  5103          33\n64  2729          33\n65  8524          33\n66  7444          31\n\n[67 rows x 2 columns]",
      "text/html": "<div>\n<style scoped>\n    .dataframe tbody tr th:only-of-type {\n        vertical-align: middle;\n    }\n\n    .dataframe tbody tr th {\n        vertical-align: top;\n    }\n\n    .dataframe thead th {\n        text-align: right;\n    }\n</style>\n<table border=\"1\" class=\"dataframe\">\n  <thead>\n    <tr style=\"text-align: right;\">\n      <th></th>\n      <th>id</th>\n      <th>occurences</th>\n    </tr>\n  </thead>\n  <tbody>\n    <tr>\n      <th>0</th>\n      <td>4370</td>\n      <td>1856</td>\n    </tr>\n    <tr>\n      <th>1</th>\n      <td>1700</td>\n      <td>546</td>\n    </tr>\n    <tr>\n      <th>2</th>\n      <td>8457</td>\n      <td>406</td>\n    </tr>\n    <tr>\n      <th>3</th>\n      <td>9591</td>\n      <td>351</td>\n    </tr>\n    <tr>\n      <th>4</th>\n      <td>1656</td>\n      <td>339</td>\n    </tr>\n    <tr>\n      <th>...</th>\n      <td>...</td>\n      <td>...</td>\n    </tr>\n    <tr>\n      <th>62</th>\n      <td>3101</td>\n      <td>34</td>\n    </tr>\n    <tr>\n      <th>63</th>\n      <td>5103</td>\n      <td>33</td>\n    </tr>\n    <tr>\n      <th>64</th>\n      <td>2729</td>\n      <td>33</td>\n    </tr>\n    <tr>\n      <th>65</th>\n      <td>8524</td>\n      <td>33</td>\n    </tr>\n    <tr>\n      <th>66</th>\n      <td>7444</td>\n      <td>31</td>\n    </tr>\n  </tbody>\n</table>\n<p>67 rows × 2 columns</p>\n</div>"
     },
     "execution_count": 32,
     "metadata": {},
     "output_type": "execute_result"
    }
   ],
   "source": [
    "value_counts_model"
   ],
   "metadata": {
    "collapsed": false,
    "ExecuteTime": {
     "end_time": "2024-02-12T10:55:22.796055Z",
     "start_time": "2024-02-12T10:55:22.764546Z"
    }
   }
  },
  {
   "cell_type": "markdown",
   "metadata": {},
   "source": [
    "**PLOT PATHS**"
   ]
  },
  {
   "cell_type": "code",
   "execution_count": 33,
   "metadata": {
    "ExecuteTime": {
     "end_time": "2024-02-12T10:55:25.066893Z",
     "start_time": "2024-02-12T10:55:25.064323Z"
    }
   },
   "outputs": [
    {
     "data": {
      "text/plain": "      id  occurences\n0   4370        1856\n1   1700         546\n2   8457         406\n3   9591         351\n4   1656         339\n..   ...         ...\n62  3101          34\n63  5103          33\n64  2729          33\n65  8524          33\n66  7444          31\n\n[67 rows x 2 columns]",
      "text/html": "<div>\n<style scoped>\n    .dataframe tbody tr th:only-of-type {\n        vertical-align: middle;\n    }\n\n    .dataframe tbody tr th {\n        vertical-align: top;\n    }\n\n    .dataframe thead th {\n        text-align: right;\n    }\n</style>\n<table border=\"1\" class=\"dataframe\">\n  <thead>\n    <tr style=\"text-align: right;\">\n      <th></th>\n      <th>id</th>\n      <th>occurences</th>\n    </tr>\n  </thead>\n  <tbody>\n    <tr>\n      <th>0</th>\n      <td>4370</td>\n      <td>1856</td>\n    </tr>\n    <tr>\n      <th>1</th>\n      <td>1700</td>\n      <td>546</td>\n    </tr>\n    <tr>\n      <th>2</th>\n      <td>8457</td>\n      <td>406</td>\n    </tr>\n    <tr>\n      <th>3</th>\n      <td>9591</td>\n      <td>351</td>\n    </tr>\n    <tr>\n      <th>4</th>\n      <td>1656</td>\n      <td>339</td>\n    </tr>\n    <tr>\n      <th>...</th>\n      <td>...</td>\n      <td>...</td>\n    </tr>\n    <tr>\n      <th>62</th>\n      <td>3101</td>\n      <td>34</td>\n    </tr>\n    <tr>\n      <th>63</th>\n      <td>5103</td>\n      <td>33</td>\n    </tr>\n    <tr>\n      <th>64</th>\n      <td>2729</td>\n      <td>33</td>\n    </tr>\n    <tr>\n      <th>65</th>\n      <td>8524</td>\n      <td>33</td>\n    </tr>\n    <tr>\n      <th>66</th>\n      <td>7444</td>\n      <td>31</td>\n    </tr>\n  </tbody>\n</table>\n<p>67 rows × 2 columns</p>\n</div>"
     },
     "execution_count": 33,
     "metadata": {},
     "output_type": "execute_result"
    }
   ],
   "source": [
    "value_counts_model.head(100)"
   ]
  },
  {
   "cell_type": "code",
   "execution_count": 85,
   "metadata": {
    "ExecuteTime": {
     "end_time": "2024-02-12T14:09:51.284783Z",
     "start_time": "2024-02-12T14:09:51.008770Z"
    }
   },
   "outputs": [
    {
     "data": {
      "text/plain": "<Figure size 1000x1000 with 2 Axes>",
      "image/png": "[encoded data removed]"
     },
     "metadata": {},
     "output_type": "display_data"
    }
   ],
   "source": [
    "amount = 1000\n",
    "alpha = 1\n",
    "fish_color = \"red\"\n",
    "object_color = \"grey\"\n",
    "\n",
    "fig, [ax, ax1] = plt.subplots(nrows=2, ncols=1, sharex=True,  figsize=(10, 10))\n",
    "plt.gca().invert_yaxis()\n",
    "\n",
    "for object in value_counts_model.id.tolist()[:amount]:\n",
    "    #if model_detections.loc[model_detections.id == object, \"classification\"].value_counts().idxmax() == \"fish\":\n",
    "    #    color = fish_color\n",
    "    if object in new_fish:\n",
    "        color = fish_color\n",
    "    else:\n",
    "        color = object_color\n",
    "        alpha = 0.3\n",
    "    ax.plot(model_detections.loc[model_detections.id == object, \"x\"], model_detections.loc[model_detections.id == object, \"y\"], alpha=alpha, color=color)\n",
    "\n",
    "for object in value_counts_truth.id.tolist():\n",
    "    ax1.plot(ground_truth.loc[ground_truth.id == object, \"x\"], ground_truth.loc[ground_truth.id == object, \"y\"], alpha=alpha, color=fish_color)\n",
    "\n",
    "ax.set(ylabel='y',\n",
    "       title=\"model detections\", ylim=[270, 0], xlim=[0, 480])\n",
    "ax1.set(xlabel='x', title=\"ground truth\", ylim=[270, 0], xlim=[0, 480])\n",
    "ax.set_aspect('equal', adjustable='box')\n",
    "ax1.set_aspect('equal', adjustable='box')\n",
    "fig.suptitle(f\"Paths of {amount} longest lasting objects\", fontsize=14)\n",
    "\n",
    "line1 = ax.plot([],[], color=fish_color, label='Fish')\n",
    "line2 = ax.plot([],[], color=object_color, label='Object')\n",
    "ax.legend()\n",
    "line1 = ax1.plot([],[], color=fish_color, label='Fish')\n",
    "line2 = ax1.plot([],[], color=object_color, label='Object')\n",
    "ax1.legend()\n",
    "\n",
    "plt.show()"
   ]
  },
  {
   "cell_type": "code",
   "execution_count": 36,
   "outputs": [],
   "source": [
    "def plot_path(identifier, data, alpha, color):\n",
    "    ylim=[270, 0] \n",
    "    xlim=[0, 480]\n",
    "    plt.plot(data.loc[data.id == identifier, \"x\"], data.loc[data.id == identifier, \"y\"], alpha=alpha, color=color)\n",
    "    plt.xlim(xlim)\n",
    "    plt.ylim(ylim)"
   ],
   "metadata": {
    "collapsed": false,
    "ExecuteTime": {
     "end_time": "2024-02-12T10:55:57.258436Z",
     "start_time": "2024-02-12T10:55:57.249984Z"
    }
   }
  },
  {
   "cell_type": "code",
   "execution_count": 37,
   "outputs": [
    {
     "data": {
      "text/plain": "<Figure size 640x480 with 1 Axes>",
      "image/png": "[encoded data removed]"
     },
     "metadata": {},
     "output_type": "display_data"
    }
   ],
   "source": [
    "plot_path(13410, model_detections, 0.2, \"red\")\n"
   ],
   "metadata": {
    "collapsed": false,
    "ExecuteTime": {
     "end_time": "2024-02-12T10:55:57.930929Z",
     "start_time": "2024-02-12T10:55:57.873202Z"
    }
   }
  },
  {
   "cell_type": "code",
   "execution_count": 38,
   "outputs": [],
   "source": [
    "identifier_counts = model_detections.id.value_counts()"
   ],
   "metadata": {
    "collapsed": false,
    "ExecuteTime": {
     "end_time": "2024-02-12T10:56:00.036426Z",
     "start_time": "2024-02-12T10:56:00.027787Z"
    }
   }
  },
  {
   "cell_type": "markdown",
   "source": [],
   "metadata": {
    "collapsed": false
   }
  },
  {
   "cell_type": "code",
   "execution_count": 39,
   "outputs": [],
   "source": [
    "filtered_df = model_detections[model_detections['id'].isin(identifier_counts[identifier_counts >= 20].index)]"
   ],
   "metadata": {
    "collapsed": false,
    "ExecuteTime": {
     "end_time": "2024-02-12T10:56:02.332058Z",
     "start_time": "2024-02-12T10:56:02.325366Z"
    }
   }
  },
  {
   "cell_type": "code",
   "execution_count": 40,
   "outputs": [],
   "source": [
    "filtered_twice = filtered_df\n",
    "#filtered_twice = filtered_df[filtered_df['id'].isin(identifier_counts[identifier_counts <= 360].index)]"
   ],
   "metadata": {
    "collapsed": false,
    "ExecuteTime": {
     "end_time": "2024-02-12T10:56:02.839588Z",
     "start_time": "2024-02-12T10:56:02.829809Z"
    }
   }
  },
  {
   "cell_type": "code",
   "execution_count": 41,
   "outputs": [],
   "source": [
    "def get_path(identifier, data):\n",
    "    return data.loc[data.id == identifier, [\"x\", \"y\"]].to_numpy()\n",
    "\n",
    "paths = []\n",
    "paths_identifiers = []\n",
    "\n",
    "for identifier in filtered_twice[\"id\"].unique():\n",
    "    path = get_path(identifier, filtered_df)\n",
    "    paths.append(path)\n",
    "    paths_identifiers.append(identifier)\n"
   ],
   "metadata": {
    "collapsed": false,
    "ExecuteTime": {
     "end_time": "2024-02-12T10:56:03.445753Z",
     "start_time": "2024-02-12T10:56:03.403703Z"
    }
   }
  },
  {
   "cell_type": "code",
   "execution_count": 42,
   "outputs": [
    {
     "data": {
      "text/plain": "[140,\n 272,\n 397,\n 1360,\n 1563,\n 1656,\n 1700,\n 2058,\n 2246,\n 2256,\n 2322,\n 2379,\n 2416,\n 2572,\n 2574,\n 2729,\n 2962,\n 3101,\n 3319,\n 3556,\n 3762,\n 3817,\n 3985,\n 4188,\n 4370,\n 4487,\n 4818,\n 4843,\n 4941,\n 4970,\n 5103,\n 5633,\n 5854,\n 5903,\n 6074,\n 6301,\n 6309,\n 6582,\n 7107,\n 7307,\n 7444,\n 7750,\n 7752,\n 7793,\n 7866,\n 7969,\n 7974,\n 8033,\n 8041,\n 8048,\n 8087,\n 8296,\n 8457,\n 8524,\n 8527,\n 8622,\n 8774,\n 8932,\n 8937,\n 9325,\n 9591,\n 10174,\n 10290,\n 10342,\n 10499,\n 10656,\n 10708]"
     },
     "execution_count": 42,
     "metadata": {},
     "output_type": "execute_result"
    }
   ],
   "source": [
    "paths_identifiers"
   ],
   "metadata": {
    "collapsed": false,
    "ExecuteTime": {
     "end_time": "2024-02-12T10:56:04.775360Z",
     "start_time": "2024-02-12T10:56:04.768211Z"
    }
   }
  },
  {
   "cell_type": "code",
   "execution_count": 43,
   "outputs": [],
   "source": [
    "def z_standardize(path):\n",
    "    mean = np.mean(path, axis=0)\n",
    "    std = np.std(path, axis=0)\n",
    "    return (path - mean) / std"
   ],
   "metadata": {
    "collapsed": false,
    "ExecuteTime": {
     "end_time": "2024-02-12T10:56:09.705968Z",
     "start_time": "2024-02-12T10:56:09.697638Z"
    }
   }
  },
  {
   "cell_type": "code",
   "execution_count": 44,
   "outputs": [],
   "source": [
    "standardized_paths = [z_standardize(path) for path in paths]"
   ],
   "metadata": {
    "collapsed": false,
    "ExecuteTime": {
     "end_time": "2024-02-12T10:56:10.815517Z",
     "start_time": "2024-02-12T10:56:10.809943Z"
    }
   }
  },
  {
   "cell_type": "code",
   "execution_count": 45,
   "outputs": [],
   "source": [
    "from dtaidistance import dtw_ndim\n",
    "\n",
    "from dtaidistance import dtw, clustering\n"
   ],
   "metadata": {
    "collapsed": false,
    "ExecuteTime": {
     "end_time": "2024-02-12T10:56:11.883706Z",
     "start_time": "2024-02-12T10:56:11.876794Z"
    }
   }
  },
  {
   "cell_type": "code",
   "execution_count": 46,
   "outputs": [],
   "source": [
    "hier = clustering.Hierarchical(dtw_ndim.distance_matrix, dists_options={\"window\": 40})"
   ],
   "metadata": {
    "collapsed": false,
    "ExecuteTime": {
     "end_time": "2024-02-12T10:56:13.480814Z",
     "start_time": "2024-02-12T10:56:13.475134Z"
    }
   }
  },
  {
   "cell_type": "code",
   "execution_count": 47,
   "outputs": [],
   "source": [
    "hier_tree = clustering.HierarchicalTree(hier)"
   ],
   "metadata": {
    "collapsed": false,
    "ExecuteTime": {
     "end_time": "2024-02-12T10:56:15.238826Z",
     "start_time": "2024-02-12T10:56:15.234940Z"
    }
   }
  },
  {
   "cell_type": "code",
   "execution_count": 48,
   "outputs": [],
   "source": [
    "fitting_result = hier_tree.fit(standardized_paths)"
   ],
   "metadata": {
    "collapsed": false,
    "ExecuteTime": {
     "end_time": "2024-02-12T10:59:14.640Z",
     "start_time": "2024-02-12T10:56:16.516286Z"
    }
   }
  },
  {
   "cell_type": "code",
   "execution_count": 49,
   "outputs": [
    {
     "data": {
      "text/plain": "{0: {0,\n  1,\n  2,\n  3,\n  4,\n  5,\n  6,\n  7,\n  8,\n  9,\n  10,\n  11,\n  12,\n  13,\n  14,\n  15,\n  16,\n  17,\n  18,\n  19,\n  20,\n  21,\n  22,\n  23,\n  24,\n  25,\n  26,\n  27,\n  28,\n  29,\n  30,\n  31,\n  32,\n  33,\n  34,\n  35,\n  36,\n  37,\n  38,\n  39,\n  40,\n  41,\n  42,\n  43,\n  44,\n  45,\n  46,\n  47,\n  48,\n  49,\n  50,\n  51,\n  52,\n  53,\n  54,\n  55,\n  56,\n  57,\n  58,\n  59,\n  60,\n  61,\n  62,\n  63,\n  64,\n  65,\n  66}}"
     },
     "execution_count": 49,
     "metadata": {},
     "output_type": "execute_result"
    }
   ],
   "source": [
    "fitting_result"
   ],
   "metadata": {
    "collapsed": false,
    "ExecuteTime": {
     "end_time": "2024-02-12T11:42:45.570233Z",
     "start_time": "2024-02-12T11:42:45.560860Z"
    }
   }
  },
  {
   "cell_type": "code",
   "execution_count": 50,
   "outputs": [
    {
     "data": {
      "text/plain": "[(43, 13, 0.4050658756156382, 0),\n (61, 25, 0.4606086385698827, 0),\n (68, 0, 0.4892899635479532, 0),\n (49, 40, 0.5021046848652428, 0),\n (67, 69, 0.585701951271805, 0),\n (35, 71, 0.6428266186172957, 0),\n (45, 70, 0.7007754370333996, 0),\n (48, 72, 0.7660513962407614, 0),\n (51, 36, 0.87038953998603, 0),\n (53, 74, 0.9140179109636232, 0),\n (75, 17, 0.9766888979259734, 0),\n (73, 77, 0.9835831129188941, 0),\n (21, 76, 1.163005543037717, 0),\n (3, 79, 1.4884233170986993, 0),\n (30, 80, 1.6301678684677439, 0),\n (46, 42, 1.926520482340715, 0),\n (19, 81, 2.226175950651055, 0),\n (34, 18, 2.3096443298532163, 0),\n (84, 78, 2.4315487665208835, 0),\n (63, 85, 2.8692031445948034, 0),\n (82, 83, 3.108643938099764, 0),\n (26, 86, 3.397410152040661, 0),\n (44, 15, 3.4782441958715022, 0),\n (58, 88, 3.6069803991119813, 0),\n (90, 16, 3.6208837260942945, 0),\n (10, 7, 3.6759473943809873, 0),\n (65, 87, 4.3742434743766045, 0),\n (20, 93, 4.668498373960667, 0),\n (59, 50, 4.817065826286193, 0),\n (57, 32, 5.024872685184867, 0),\n (47, 91, 5.93623954283611, 0),\n (4, 94, 5.976609153312776, 0),\n (66, 33, 6.410193335257169, 0),\n (95, 23, 6.634355438975866, 0),\n (89, 92, 6.644069881253988, 0),\n (64, 99, 7.150130045732612, 0),\n (8, 101, 7.231020557254355, 0),\n (97, 11, 7.661448795136754, 0),\n (96, 27, 7.690372986286941, 0),\n (14, 9, 7.841705750768252, 0),\n (2, 1, 8.606127819345334, 0),\n (102, 31, 8.860642882430877, 0),\n (54, 39, 9.275054582911135, 0),\n (41, 98, 9.440125862152907, 0),\n (108, 22, 9.672093293393516, 0),\n (28, 105, 9.792628861951673, 0),\n (62, 56, 10.055081488007394, 0),\n (103, 110, 10.325571915436973, 0),\n (29, 100, 10.514842946715707, 0),\n (115, 111, 11.473193615566325, 0),\n (116, 12, 11.514956524635132, 0),\n (37, 117, 11.597575106775455, 0),\n (38, 118, 11.679071189132413, 0),\n (112, 114, 11.892947354735051, 0),\n (119, 107, 13.266445685152291, 0),\n (109, 104, 13.555145668277387, 0),\n (113, 122, 14.63992553174226, 0),\n (106, 121, 14.786588528788336, 0),\n (124, 120, 16.449136729004245, 0),\n (55, 52, 18.269887153775013, 0),\n (60, 126, 18.560503480509745, 0),\n (123, 125, 23.861513302592385, 0),\n (5, 128, 26.8538609763895, 0),\n (6, 129, 30.989130399721, 0),\n (127, 130, 31.03206751140538, 0),\n (24, 131, 62.21100452751723, 0)]"
     },
     "execution_count": 50,
     "metadata": {},
     "output_type": "execute_result"
    }
   ],
   "source": [
    "hier_tree.linkage"
   ],
   "metadata": {
    "collapsed": false,
    "ExecuteTime": {
     "end_time": "2024-02-12T11:42:49.802322Z",
     "start_time": "2024-02-12T11:42:49.796745Z"
    }
   }
  },
  {
   "cell_type": "code",
   "execution_count": 52,
   "outputs": [],
   "source": [
    "from scipy.cluster.hierarchy import dendrogram"
   ],
   "metadata": {
    "collapsed": false,
    "ExecuteTime": {
     "end_time": "2024-02-12T11:43:04.895896Z",
     "start_time": "2024-02-12T11:43:04.262107Z"
    }
   }
  },
  {
   "cell_type": "code",
   "execution_count": 79,
   "outputs": [
    {
     "data": {
      "text/plain": "67"
     },
     "execution_count": 79,
     "metadata": {},
     "output_type": "execute_result"
    }
   ],
   "source": [
    "len(paths)"
   ],
   "metadata": {
    "collapsed": false,
    "ExecuteTime": {
     "end_time": "2024-02-12T14:05:29.699606Z",
     "start_time": "2024-02-12T14:05:29.691821Z"
    }
   }
  },
  {
   "cell_type": "code",
   "execution_count": 78,
   "outputs": [
    {
     "data": {
      "text/plain": "[(43, 13, 0.4050658756156382, 0),\n (61, 25, 0.4606086385698827, 0),\n (68, 0, 0.4892899635479532, 0),\n (49, 40, 0.5021046848652428, 0),\n (67, 69, 0.585701951271805, 0),\n (35, 71, 0.6428266186172957, 0),\n (45, 70, 0.7007754370333996, 0),\n (48, 72, 0.7660513962407614, 0),\n (51, 36, 0.87038953998603, 0),\n (53, 74, 0.9140179109636232, 0),\n (75, 17, 0.9766888979259734, 0),\n (73, 77, 0.9835831129188941, 0),\n (21, 76, 1.163005543037717, 0),\n (3, 79, 1.4884233170986993, 0),\n (30, 80, 1.6301678684677439, 0),\n (46, 42, 1.926520482340715, 0),\n (19, 81, 2.226175950651055, 0),\n (34, 18, 2.3096443298532163, 0),\n (84, 78, 2.4315487665208835, 0),\n (63, 85, 2.8692031445948034, 0),\n (82, 83, 3.108643938099764, 0),\n (26, 86, 3.397410152040661, 0),\n (44, 15, 3.4782441958715022, 0),\n (58, 88, 3.6069803991119813, 0),\n (90, 16, 3.6208837260942945, 0),\n (10, 7, 3.6759473943809873, 0),\n (65, 87, 4.3742434743766045, 0),\n (20, 93, 4.668498373960667, 0),\n (59, 50, 4.817065826286193, 0),\n (57, 32, 5.024872685184867, 0),\n (47, 91, 5.93623954283611, 0),\n (4, 94, 5.976609153312776, 0),\n (66, 33, 6.410193335257169, 0),\n (95, 23, 6.634355438975866, 0),\n (89, 92, 6.644069881253988, 0),\n (64, 99, 7.150130045732612, 0),\n (8, 101, 7.231020557254355, 0),\n (97, 11, 7.661448795136754, 0),\n (96, 27, 7.690372986286941, 0),\n (14, 9, 7.841705750768252, 0),\n (2, 1, 8.606127819345334, 0),\n (102, 31, 8.860642882430877, 0),\n (54, 39, 9.275054582911135, 0),\n (41, 98, 9.440125862152907, 0),\n (108, 22, 9.672093293393516, 0),\n (28, 105, 9.792628861951673, 0),\n (62, 56, 10.055081488007394, 0),\n (103, 110, 10.325571915436973, 0),\n (29, 100, 10.514842946715707, 0),\n (115, 111, 11.473193615566325, 0),\n (116, 12, 11.514956524635132, 0),\n (37, 117, 11.597575106775455, 0),\n (38, 118, 11.679071189132413, 0),\n (112, 114, 11.892947354735051, 0),\n (119, 107, 13.266445685152291, 0),\n (109, 104, 13.555145668277387, 0),\n (113, 122, 14.63992553174226, 0),\n (106, 121, 14.786588528788336, 0),\n (124, 120, 16.449136729004245, 0),\n (55, 52, 18.269887153775013, 0),\n (60, 126, 18.560503480509745, 0),\n (123, 125, 23.861513302592385, 0),\n (5, 128, 26.8538609763895, 0),\n (6, 129, 30.989130399721, 0),\n (127, 130, 31.03206751140538, 0),\n (24, 131, 62.21100452751723, 0)]"
     },
     "execution_count": 78,
     "metadata": {},
     "output_type": "execute_result"
    }
   ],
   "source": [
    "hier_tree.linkage"
   ],
   "metadata": {
    "collapsed": false,
    "ExecuteTime": {
     "end_time": "2024-02-12T14:04:53.044523Z",
     "start_time": "2024-02-12T14:04:53.041812Z"
    }
   }
  },
  {
   "cell_type": "code",
   "execution_count": 53,
   "outputs": [
    {
     "data": {
      "text/plain": "<Figure size 2500x1000 with 1 Axes>",
      "image/png": "[encoded data removed]"
     },
     "metadata": {},
     "output_type": "display_data"
    }
   ],
   "source": [
    "plt.figure(figsize=(25, 10))\n",
    "\n",
    "dendrogram(hier_tree.linkage, labels=filtered_twice[\"id\"].unique(), truncate_mode='lastp',  # show only the last p merged clusters\n",
    "    p=12,  # show only the last p merged clusters\n",
    "    show_leaf_counts=False,  # otherwise numbers in brackets are counts\n",
    "    leaf_rotation=90.,\n",
    "    leaf_font_size=12.,\n",
    "    show_contracted=True, )\n",
    "plt.savefig('wat.png')\n"
   ],
   "metadata": {
    "collapsed": false,
    "ExecuteTime": {
     "end_time": "2024-02-12T11:43:06.351753Z",
     "start_time": "2024-02-12T11:43:05.932262Z"
    }
   }
  },
  {
   "cell_type": "code",
   "execution_count": 54,
   "outputs": [
    {
     "name": "stdout",
     "output_type": "stream",
     "text": [
      "{}\n",
      "26.8538609763895\n"
     ]
    }
   ],
   "source": [
    "wat = clustering.KMeans(k=2).fit(standardized_paths)"
   ],
   "metadata": {
    "collapsed": false,
    "ExecuteTime": {
     "end_time": "2024-02-12T11:45:59.013310Z",
     "start_time": "2024-02-12T11:43:55.736249Z"
    }
   }
  },
  {
   "cell_type": "code",
   "execution_count": 69,
   "outputs": [
    {
     "data": {
      "text/plain": "({0: {0,\n   3,\n   4,\n   13,\n   19,\n   20,\n   21,\n   23,\n   25,\n   27,\n   28,\n   29,\n   30,\n   32,\n   33,\n   35,\n   39,\n   41,\n   42,\n   43,\n   46,\n   48,\n   50,\n   53,\n   57,\n   59,\n   61,\n   64,\n   65},\n  1: {1,\n   2,\n   5,\n   6,\n   7,\n   8,\n   9,\n   10,\n   11,\n   12,\n   14,\n   15,\n   16,\n   17,\n   18,\n   22,\n   24,\n   26,\n   31,\n   34,\n   36,\n   37,\n   38,\n   40,\n   44,\n   45,\n   47,\n   49,\n   51,\n   52,\n   54,\n   55,\n   56,\n   58,\n   60,\n   62,\n   63,\n   66}},\n 8)"
     },
     "execution_count": 69,
     "metadata": {},
     "output_type": "execute_result"
    }
   ],
   "source": [
    "wat"
   ],
   "metadata": {
    "collapsed": false,
    "ExecuteTime": {
     "end_time": "2024-02-12T14:00:39.401220Z",
     "start_time": "2024-02-12T14:00:39.395640Z"
    }
   }
  },
  {
   "cell_type": "code",
   "execution_count": 56,
   "outputs": [],
   "source": [
    "medoids = clustering.KMedoids(dtw_ndim.distance_matrix, dists_options={\"window\": 40}, k=2)"
   ],
   "metadata": {
    "collapsed": false,
    "ExecuteTime": {
     "end_time": "2024-02-12T11:59:03.086320Z",
     "start_time": "2024-02-12T11:59:03.081564Z"
    }
   }
  },
  {
   "cell_type": "code",
   "execution_count": 57,
   "outputs": [],
   "source": [
    "med_result = medoids.fit(standardized_paths)"
   ],
   "metadata": {
    "collapsed": false,
    "ExecuteTime": {
     "end_time": "2024-02-12T12:02:04.963217Z",
     "start_time": "2024-02-12T11:59:04.357114Z"
    }
   }
  },
  {
   "cell_type": "code",
   "execution_count": 58,
   "outputs": [
    {
     "data": {
      "text/plain": "{40: {1,\n  2,\n  9,\n  11,\n  12,\n  14,\n  15,\n  16,\n  17,\n  18,\n  22,\n  23,\n  24,\n  26,\n  31,\n  34,\n  36,\n  37,\n  38,\n  39,\n  40,\n  44,\n  45,\n  47,\n  49,\n  51,\n  52,\n  54,\n  55,\n  56,\n  58,\n  59,\n  60,\n  62,\n  63,\n  66},\n 53: {0,\n  3,\n  4,\n  5,\n  6,\n  7,\n  8,\n  10,\n  13,\n  19,\n  20,\n  21,\n  25,\n  27,\n  28,\n  29,\n  30,\n  32,\n  33,\n  35,\n  41,\n  42,\n  43,\n  46,\n  48,\n  50,\n  53,\n  57,\n  61,\n  64,\n  65}}"
     },
     "execution_count": 58,
     "metadata": {},
     "output_type": "execute_result"
    }
   ],
   "source": [
    "med_result"
   ],
   "metadata": {
    "collapsed": false,
    "ExecuteTime": {
     "end_time": "2024-02-12T13:42:19.557631Z",
     "start_time": "2024-02-12T13:42:19.552049Z"
    }
   }
  },
  {
   "cell_type": "code",
   "execution_count": 59,
   "outputs": [
    {
     "data": {
      "text/plain": "dict_keys([40, 53])"
     },
     "execution_count": 59,
     "metadata": {},
     "output_type": "execute_result"
    }
   ],
   "source": [
    "med_result.keys()"
   ],
   "metadata": {
    "collapsed": false,
    "ExecuteTime": {
     "end_time": "2024-02-12T13:42:36.692497Z",
     "start_time": "2024-02-12T13:42:36.688043Z"
    }
   }
  },
  {
   "cell_type": "code",
   "execution_count": 74,
   "outputs": [
    {
     "data": {
      "text/plain": "{0: {0,\n  3,\n  4,\n  13,\n  19,\n  20,\n  21,\n  23,\n  25,\n  27,\n  28,\n  29,\n  30,\n  32,\n  33,\n  35,\n  39,\n  41,\n  42,\n  43,\n  46,\n  48,\n  50,\n  53,\n  57,\n  59,\n  61,\n  64,\n  65},\n 1: {1,\n  2,\n  5,\n  6,\n  7,\n  8,\n  9,\n  10,\n  11,\n  12,\n  14,\n  15,\n  16,\n  17,\n  18,\n  22,\n  24,\n  26,\n  31,\n  34,\n  36,\n  37,\n  38,\n  40,\n  44,\n  45,\n  47,\n  49,\n  51,\n  52,\n  54,\n  55,\n  56,\n  58,\n  60,\n  62,\n  63,\n  66}}"
     },
     "execution_count": 74,
     "metadata": {},
     "output_type": "execute_result"
    }
   ],
   "source": [],
   "metadata": {
    "collapsed": false,
    "ExecuteTime": {
     "end_time": "2024-02-12T14:01:27.669941Z",
     "start_time": "2024-02-12T14:01:27.664502Z"
    }
   }
  },
  {
   "cell_type": "code",
   "execution_count": 82,
   "outputs": [],
   "source": [
    "new_fish = []\n",
    "clusters = wat[0]\n",
    "for i, identifier in enumerate(paths_identifiers):\n",
    "    if i in clusters.get(1, []):\n",
    "        new_fish.append(identifier)"
   ],
   "metadata": {
    "collapsed": false,
    "ExecuteTime": {
     "end_time": "2024-02-12T14:09:25.237511Z",
     "start_time": "2024-02-12T14:09:25.231859Z"
    }
   }
  },
  {
   "cell_type": "code",
   "execution_count": 76,
   "outputs": [
    {
     "data": {
      "text/plain": "<Figure size 640x480 with 1 Axes>",
      "image/png": "[encoded data removed]"
     },
     "metadata": {},
     "output_type": "display_data"
    }
   ],
   "source": [
    "clusters = med_result\n",
    "clusters = wat[0]\n",
    "for i in range(0, len(paths)):\n",
    "    if i in clusters.get(0):\n",
    "        color = \"red\"\n",
    "    if i in clusters.get(1):\n",
    "        color = \"blue\"\n",
    "    #if i in clusters.get(0, []):\n",
    "    #    color = \"red\"\n",
    "    #if i in clusters.get(1, []):\n",
    "    #    color = \"blue\"\n",
    "    #if i in clusters.get(2, []):\n",
    "    #    color = \"green\"\n",
    "    #if i in clusters.get(3, []):\n",
    "    #    color = \"yellow\"\n",
    "    plot_path_numpy(paths[i], 1, color)"
   ],
   "metadata": {
    "collapsed": false,
    "ExecuteTime": {
     "end_time": "2024-02-12T14:02:04.123318Z",
     "start_time": "2024-02-12T14:02:04.006651Z"
    }
   }
  },
  {
   "cell_type": "code",
   "execution_count": 62,
   "outputs": [
    {
     "ename": "NameError",
     "evalue": "name 'plot_path_numpy' is not defined",
     "output_type": "error",
     "traceback": [
      "\u001B[0;31m---------------------------------------------------------------------------\u001B[0m",
      "\u001B[0;31mNameError\u001B[0m                                 Traceback (most recent call last)",
      "Cell \u001B[0;32mIn[62], line 1\u001B[0m\n\u001B[0;32m----> 1\u001B[0m \u001B[43mplot_path_numpy\u001B[49m(paths[\u001B[38;5;241m74\u001B[39m], \u001B[38;5;241m1\u001B[39m, \u001B[38;5;124m\"\u001B[39m\u001B[38;5;124myellow\u001B[39m\u001B[38;5;124m\"\u001B[39m)\n",
      "\u001B[0;31mNameError\u001B[0m: name 'plot_path_numpy' is not defined"
     ]
    }
   ],
   "source": [
    "plot_path_numpy(paths[74], 1, \"yellow\")"
   ],
   "metadata": {
    "collapsed": false,
    "ExecuteTime": {
     "end_time": "2024-02-12T13:42:47.387416Z",
     "start_time": "2024-02-12T13:42:47.378484Z"
    }
   }
  },
  {
   "cell_type": "code",
   "execution_count": 63,
   "outputs": [],
   "source": [
    "def plot_path_numpy(data, alpha, color):\n",
    "    ylim=[270, 0] \n",
    "    xlim=[0, 480]\n",
    "    plt.plot(data[:,0], data[:,1], alpha=alpha, color=color)\n",
    "    plt.xlim(xlim)\n",
    "    plt.ylim(ylim)"
   ],
   "metadata": {
    "collapsed": false,
    "ExecuteTime": {
     "end_time": "2024-02-12T13:42:49.148707Z",
     "start_time": "2024-02-12T13:42:49.142738Z"
    }
   }
  },
  {
   "cell_type": "code",
   "execution_count": 68,
   "outputs": [
    {
     "data": {
      "text/plain": "<Figure size 640x480 with 1 Axes>",
      "image/png": "[encoded data removed]"
     },
     "metadata": {},
     "output_type": "display_data"
    }
   ],
   "source": [
    "plot_path_numpy(paths[53], 1, \"red\")"
   ],
   "metadata": {
    "collapsed": false,
    "ExecuteTime": {
     "end_time": "2024-02-12T13:45:26.165421Z",
     "start_time": "2024-02-12T13:45:26.100457Z"
    }
   }
  },
  {
   "cell_type": "code",
   "execution_count": null,
   "outputs": [],
   "source": [
    "plot_path_numpy(paths[14], 0.2, \"blue\")"
   ],
   "metadata": {
    "collapsed": false,
    "ExecuteTime": {
     "start_time": "2024-02-09T09:36:53.243437Z"
    }
   }
  },
  {
   "cell_type": "code",
   "execution_count": null,
   "outputs": [],
   "source": [
    "standardized_paths[14]"
   ],
   "metadata": {
    "collapsed": false,
    "ExecuteTime": {
     "start_time": "2024-02-09T09:36:53.245660Z"
    }
   }
  },
  {
   "cell_type": "code",
   "execution_count": null,
   "outputs": [],
   "source": [
    "plt.plot(standardized_paths[14][:,0], standardized_paths[14][:,1], alpha=1, color=fish_color)\n"
   ],
   "metadata": {
    "collapsed": false,
    "ExecuteTime": {
     "start_time": "2024-02-09T09:36:53.248007Z"
    }
   }
  },
  {
   "cell_type": "code",
   "execution_count": null,
   "outputs": [],
   "source": [
    "plt.plot(standardized_paths[15][:,0], standardized_paths[15][:,1], alpha=1, color=fish_color)\n"
   ],
   "metadata": {
    "collapsed": false,
    "ExecuteTime": {
     "start_time": "2024-02-09T09:36:53.249813Z"
    }
   }
  },
  {
   "cell_type": "code",
   "execution_count": null,
   "outputs": [],
   "source": [
    "plt.plot(ground_truth[\"x\"], ground_truth[\"y\"], alpha=alpha, color=fish_color)\n"
   ],
   "metadata": {
    "collapsed": false,
    "ExecuteTime": {
     "start_time": "2024-02-09T09:36:53.251989Z"
    }
   }
  },
  {
   "cell_type": "code",
   "execution_count": null,
   "outputs": [],
   "source": [
    "len(paths)"
   ],
   "metadata": {
    "collapsed": false,
    "ExecuteTime": {
     "start_time": "2024-02-09T09:36:53.254093Z"
    }
   }
  },
  {
   "cell_type": "code",
   "execution_count": null,
   "outputs": [],
   "source": [
    "get_path(13410, model_detections)"
   ],
   "metadata": {
    "collapsed": false,
    "ExecuteTime": {
     "start_time": "2024-02-09T09:36:53.256077Z"
    }
   }
  },
  {
   "cell_type": "code",
   "execution_count": null,
   "outputs": [],
   "source": [
    "path = model_detections[model_detections['id']==13410][[\"x\", \"y\"]].to_numpy()"
   ],
   "metadata": {
    "collapsed": false,
    "ExecuteTime": {
     "start_time": "2024-02-09T09:36:53.258312Z"
    }
   }
  },
  {
   "cell_type": "code",
   "execution_count": null,
   "outputs": [],
   "source": [
    "another_path = model_detections[model_detections['id']==14868][[\"x\", \"y\"]].to_numpy()\n"
   ],
   "metadata": {
    "collapsed": false,
    "ExecuteTime": {
     "start_time": "2024-02-09T09:36:53.260609Z"
    }
   }
  },
  {
   "cell_type": "code",
   "execution_count": null,
   "outputs": [],
   "source": [
    "another_path.shape"
   ],
   "metadata": {
    "collapsed": false,
    "ExecuteTime": {
     "start_time": "2024-02-09T09:36:53.263177Z"
    }
   }
  },
  {
   "cell_type": "code",
   "execution_count": null,
   "outputs": [],
   "source": [
    "dtw_ndim.distance(path, another_path)"
   ],
   "metadata": {
    "collapsed": false,
    "ExecuteTime": {
     "start_time": "2024-02-09T09:36:53.264900Z"
    }
   }
  },
  {
   "cell_type": "code",
   "execution_count": null,
   "outputs": [],
   "source": [
    "dtw_ndim.distance(path, path)\n"
   ],
   "metadata": {
    "collapsed": false,
    "ExecuteTime": {
     "start_time": "2024-02-09T09:36:53.266847Z"
    }
   }
  },
  {
   "cell_type": "code",
   "execution_count": null,
   "outputs": [],
   "source": [
    "path.shape"
   ],
   "metadata": {
    "collapsed": false,
    "ExecuteTime": {
     "start_time": "2024-02-09T09:36:53.268672Z"
    }
   }
  },
  {
   "cell_type": "code",
   "execution_count": null,
   "outputs": [],
   "source": [
    "import numpy as np"
   ],
   "metadata": {
    "collapsed": false,
    "ExecuteTime": {
     "start_time": "2024-02-09T09:36:53.270104Z"
    }
   }
  },
  {
   "cell_type": "code",
   "execution_count": null,
   "outputs": [],
   "source": [
    "series1 = np.array([[0, 0],  # first point at t=0\n",
    "                    [0, 1],  # second point at t=1\n",
    "                    [2, 1],\n",
    "                    [0, 1],\n",
    "                    [0, 0]], dtype=np.double)\n"
   ],
   "metadata": {
    "collapsed": false,
    "ExecuteTime": {
     "start_time": "2024-02-09T09:36:53.271244Z"
    }
   }
  },
  {
   "cell_type": "code",
   "execution_count": null,
   "outputs": [],
   "source": [],
   "metadata": {
    "collapsed": false,
    "ExecuteTime": {
     "start_time": "2024-02-09T09:36:53.272449Z"
    }
   }
  },
  {
   "cell_type": "markdown",
   "source": [
    "## Tested until here with new code"
   ],
   "metadata": {
    "collapsed": false
   }
  },
  {
   "cell_type": "code",
   "execution_count": null,
   "metadata": {
    "ExecuteTime": {
     "start_time": "2024-02-09T09:36:53.273558Z"
    }
   },
   "outputs": [],
   "source": [
    "few_fish_night_csv = \"v2_output_02-23.csv\"\n",
    "many_fish_afternoon_csv = \"v2_output_16-46.csv\"\n",
    "few_fish = pd.read_csv(few_fish_night_csv, delimiter=\",\")\n",
    "many_fish = pd.read_csv(many_fish_afternoon_csv, delimiter=\",\")\n",
    "\n",
    "value_counts_few = pd.DataFrame(few_fish.ID.value_counts()).reset_index().rename(columns={\"index\": \"ID\", \"ID\": \"occurences\"})\n",
    "value_counts_many = pd.DataFrame(many_fish.ID.value_counts()).reset_index().rename(columns={\"index\": \"ID\", \"ID\": \"occurences\"})"
   ]
  },
  {
   "cell_type": "code",
   "execution_count": null,
   "metadata": {
    "ExecuteTime": {
     "start_time": "2024-02-09T09:36:53.274665Z"
    }
   },
   "outputs": [],
   "source": [
    "# value_counts_few.plot.bar(x='ID', y='occurences')\n",
    "value_counts_few.head(200)"
   ]
  },
  {
   "cell_type": "code",
   "execution_count": null,
   "metadata": {
    "scrolled": false,
    "ExecuteTime": {
     "start_time": "2024-02-09T09:36:53.275758Z"
    }
   },
   "outputs": [],
   "source": [
    "amount = 100\n",
    "alpha = 0.3\n",
    "fish_color = \"red\"\n",
    "object_color = \"grey\"\n",
    "\n",
    "fig, [ax, ax1] = plt.subplots(nrows=2, ncols=1, sharex=True,  figsize=(10, 10))\n",
    "plt.gca().invert_yaxis()\n",
    "\n",
    "data = few_fish\n",
    "for object in value_counts_few.ID.tolist()[:amount]:\n",
    "    color = object_color\n",
    "    ax.plot(data.loc[data.ID == object, \"x\"], data.loc[data.ID == object, \"y\"], alpha=alpha, color=color)\n",
    "\n",
    "data = many_fish\n",
    "for object in value_counts_many.ID.tolist()[:amount]:\n",
    "    color = object_color\n",
    "    ax1.plot(data.loc[data.ID == object, \"x\"], data.loc[data.ID == object, \"y\"], alpha=alpha, color=color)\n",
    "\n",
    "\n",
    "ax.set(ylabel='y',\n",
    "       title=\"no fish \\n\" + few_fish_night_csv, ylim=[270, 0], xlim=[0, 480])\n",
    "ax1.set(xlabel='x', title=\"many fish \\n\" + many_fish_afternoon_csv, ylim=[270, 0], xlim=[0, 480])\n",
    "ax.set_aspect('equal', adjustable='box')\n",
    "ax1.set_aspect('equal', adjustable='box')\n",
    "fig.suptitle(f\"Paths of {amount} longest lasting objects\", fontsize=14)\n",
    "\n",
    "line1 = ax.plot([],[], color=fish_color, label='Fish')\n",
    "line2 = ax.plot([],[], color=object_color, label='Object')\n",
    "ax.legend()\n",
    "line1 = ax1.plot([],[], color=fish_color, label='Fish')\n",
    "line2 = ax1.plot([],[], color=object_color, label='Object')\n",
    "ax1.legend()\n",
    "\n",
    "plt.show()"
   ]
  },
  {
   "cell_type": "code",
   "execution_count": null,
   "metadata": {
    "ExecuteTime": {
     "start_time": "2024-02-09T09:36:53.276948Z"
    }
   },
   "outputs": [],
   "source": [
    "many_fish_min_50 = many_fish.loc[many_fish.ID.isin(value_counts_many.loc[value_counts_many[\"occurences\"]>50, \"ID\"])]"
   ]
  },
  {
   "cell_type": "code",
   "execution_count": null,
   "metadata": {
    "ExecuteTime": {
     "end_time": "2024-02-09T09:36:53.310292Z",
     "start_time": "2024-02-09T09:36:53.278492Z"
    }
   },
   "outputs": [],
   "source": [
    "many_fish_min_50.groupby(\"ID\").apply(lambda x: np.polyfit(x.x, x.y, deg=1)[0]).reset_index().sort_values(0).plot.hist(x=\"ID\", y=0, bins=50)"
   ]
  },
  {
   "cell_type": "code",
   "execution_count": null,
   "metadata": {
    "ExecuteTime": {
     "start_time": "2024-02-09T09:36:53.279608Z"
    }
   },
   "outputs": [],
   "source": []
  },
  {
   "cell_type": "code",
   "execution_count": null,
   "metadata": {
    "ExecuteTime": {
     "start_time": "2024-02-09T09:36:53.280797Z"
    }
   },
   "outputs": [],
   "source": [
    "few_fish_min_50 = few_fish.loc[few_fish.ID.isin(value_counts_few.loc[value_counts_few[\"occurences\"]>50, \"ID\"])]"
   ]
  },
  {
   "cell_type": "code",
   "execution_count": null,
   "metadata": {
    "ExecuteTime": {
     "start_time": "2024-02-09T09:36:53.281928Z"
    }
   },
   "outputs": [],
   "source": [
    "few_fish_min_50.groupby(\"ID\").apply(lambda x: np.polyfit(x.x, x.y, deg=1)[0]).reset_index().sort_values(0).plot.hist(x=\"ID\", y=0, bins=30)"
   ]
  },
  {
   "cell_type": "code",
   "execution_count": null,
   "metadata": {
    "ExecuteTime": {
     "start_time": "2024-02-09T09:36:53.283034Z"
    }
   },
   "outputs": [],
   "source": []
  }
 ],
 "metadata": {
  "kernelspec": {
   "display_name": "Python 3 (ipykernel)",
   "language": "python",
   "name": "python3"
  },
  "language_info": {
   "codemirror_mode": {
    "name": "ipython",
    "version": 3
   },
   "file_extension": ".py",
   "mimetype": "text/x-python",
   "name": "python",
   "nbconvert_exporter": "python",
   "pygments_lexer": "ipython3",
   "version": "3.10.7"
  }
 },
 "nbformat": 4,
 "nbformat_minor": 1
}
